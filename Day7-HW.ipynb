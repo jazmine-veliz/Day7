{
 "cells": [
  {
   "cell_type": "markdown",
   "id": "a9215f5c-525b-4508-8b0d-700f55cbd252",
   "metadata": {},
   "source": [
    "## Introduction to Data Science\n",
    "\n",
    "#### University of Redlands - DATA 101\n",
    "#### Prof: Joanna Bieri [joanna_bieri@redlands.edu](mailto:joanna_bieri@redlands.edu)\n",
    "#### [Class Website: data101.joannabieri.com](https://joannabieri.com/data101.html)\n",
    "\n",
    "---------------------------------------\n",
    "# Homework Day 7\n",
    "---------------------------------------\n",
    "\n",
    "GOALS:\n",
    "\n",
    "1. Answer all the questions from the lecture - we will use the scientists data and the grocery data.\n",
    "2. Analyze data about College majors - your first EDA! (Think of this as a practice exam.)\n",
    "\n",
    "----------------------------------------------------------\n",
    "\n",
    "This homework has **9 Questions** and **A Practice Exam**\n",
    "\n",
    "NOTE:\n",
    "The practice exam is intended to give you an idea of what an exam in this class might feel like. Remember you will be expected to work on the exam **independently** and submit your work before we get together to work on the exam in class. **15\\% of your Exam grade will come from what you can do independently** so start practicing now and get help if you need it!."
   ]
  },
  {
   "cell_type": "code",
   "execution_count": 1,
   "id": "049c24b6-a6c1-4ccc-b2de-5ea0366d09f8",
   "metadata": {},
   "outputs": [],
   "source": [
    "import numpy as np\n",
    "import pandas as pd\n",
    "\n",
    "import matplotlib.pyplot as plt\n",
    "import plotly.express as px\n",
    "from plotly.subplots import make_subplots\n",
    "import plotly.io as pio\n",
    "pio.renderers.defaule = 'colab'\n",
    "\n",
    "from itables import show"
   ]
  },
  {
   "cell_type": "markdown",
   "id": "23773272-c059-4148-a5a8-91e9da594c46",
   "metadata": {},
   "source": [
    "## Lecture Questions\n",
    "\n",
    "First we will import the data about female scientists."
   ]
  },
  {
   "cell_type": "code",
   "execution_count": 3,
   "id": "e90fdd5f-bd17-4c94-b3f4-7ddc998bd001",
   "metadata": {},
   "outputs": [
    {
     "data": {
      "text/html": [
       "<table id=\"itables_a1f71507_508b_4ea1_8b45_cf61600688ea\" class=\"display nowrap\" data-quarto-disable-processing=\"true\" style=\"table-layout:auto;width:auto;margin:auto;caption-side:bottom\">\n",
       "<thead>\n",
       "    <tr style=\"text-align: right;\">\n",
       "      \n",
       "      <th>name</th>\n",
       "      <th>birth_year</th>\n",
       "      <th>death_year</th>\n",
       "    </tr>\n",
       "  </thead><tbody><tr>\n",
       "<td style=\"vertical-align:middle; text-align:left\">\n",
       "<div style=\"float:left; margin-right: 10px;\">\n",
       "<a href=https://mwouts.github.io/itables/><svg class=\"main-svg\" xmlns=\"http://www.w3.org/2000/svg\" xmlns:xlink=\"http://www.w3.org/1999/xlink\"\n",
       "width=\"64\" viewBox=\"0 0 500 400\" style=\"font-family: 'Droid Sans', sans-serif;\">\n",
       "    <g style=\"fill:#d9d7fc\">\n",
       "        <path d=\"M100,400H500V357H100Z\" />\n",
       "        <path d=\"M100,300H400V257H100Z\" />\n",
       "        <path d=\"M0,200H400V157H0Z\" />\n",
       "        <path d=\"M100,100H500V57H100Z\" />\n",
       "        <path d=\"M100,350H500V307H100Z\" />\n",
       "        <path d=\"M100,250H400V207H100Z\" />\n",
       "        <path d=\"M0,150H400V107H0Z\" />\n",
       "        <path d=\"M100,50H500V7H100Z\" />\n",
       "    </g>\n",
       "    <g style=\"fill:#1a1366;stroke:#1a1366;\">\n",
       "   <rect x=\"100\" y=\"7\" width=\"400\" height=\"43\">\n",
       "    <animate\n",
       "      attributeName=\"width\"\n",
       "      values=\"0;400;0\"\n",
       "      dur=\"5s\"\n",
       "      repeatCount=\"indefinite\" />\n",
       "      <animate\n",
       "      attributeName=\"x\"\n",
       "      values=\"100;100;500\"\n",
       "      dur=\"5s\"\n",
       "      repeatCount=\"indefinite\" />\n",
       "  </rect>\n",
       "        <rect x=\"0\" y=\"107\" width=\"400\" height=\"43\">\n",
       "    <animate\n",
       "      attributeName=\"width\"\n",
       "      values=\"0;400;0\"\n",
       "      dur=\"3.5s\"\n",
       "      repeatCount=\"indefinite\" />\n",
       "    <animate\n",
       "      attributeName=\"x\"\n",
       "      values=\"0;0;400\"\n",
       "      dur=\"3.5s\"\n",
       "      repeatCount=\"indefinite\" />\n",
       "  </rect>\n",
       "        <rect x=\"100\" y=\"207\" width=\"300\" height=\"43\">\n",
       "    <animate\n",
       "      attributeName=\"width\"\n",
       "      values=\"0;300;0\"\n",
       "      dur=\"3s\"\n",
       "      repeatCount=\"indefinite\" />\n",
       "    <animate\n",
       "      attributeName=\"x\"\n",
       "      values=\"100;100;400\"\n",
       "      dur=\"3s\"\n",
       "      repeatCount=\"indefinite\" />\n",
       "  </rect>\n",
       "        <rect x=\"100\" y=\"307\" width=\"400\" height=\"43\">\n",
       "    <animate\n",
       "      attributeName=\"width\"\n",
       "      values=\"0;400;0\"\n",
       "      dur=\"4s\"\n",
       "      repeatCount=\"indefinite\" />\n",
       "      <animate\n",
       "      attributeName=\"x\"\n",
       "      values=\"100;100;500\"\n",
       "      dur=\"4s\"\n",
       "      repeatCount=\"indefinite\" />\n",
       "  </rect>\n",
       "        <g style=\"fill:transparent;stroke-width:8; stroke-linejoin:round\" rx=\"5\">\n",
       "            <g transform=\"translate(45 50) rotate(-45)\">\n",
       "                <circle r=\"33\" cx=\"0\" cy=\"0\" />\n",
       "                <rect x=\"-8\" y=\"32\" width=\"16\" height=\"30\" />\n",
       "            </g>\n",
       "\n",
       "            <g transform=\"translate(450 152)\">\n",
       "                <polyline points=\"-15,-20 -35,-20 -35,40 25,40 25,20\" />\n",
       "                <rect x=\"-15\" y=\"-40\" width=\"60\" height=\"60\" />\n",
       "            </g>\n",
       "\n",
       "            <g transform=\"translate(50 352)\">\n",
       "                <polygon points=\"-35,-5 0,-40 35,-5\" />\n",
       "                <polygon points=\"-35,10 0,45 35,10\" />\n",
       "            </g>\n",
       "\n",
       "            <g transform=\"translate(75 250)\">\n",
       "                <polyline points=\"-30,30 -60,0 -30,-30\" />\n",
       "                <polyline points=\"0,30 -30,0 0,-30\" />\n",
       "            </g>\n",
       "\n",
       "            <g transform=\"translate(425 250) rotate(180)\">\n",
       "                <polyline points=\"-30,30 -60,0 -30,-30\" />\n",
       "                <polyline points=\"0,30 -30,0 0,-30\" />\n",
       "            </g>\n",
       "        </g>\n",
       "    </g>\n",
       "</svg>\n",
       "</a>\n",
       "</div>\n",
       "<div>\n",
       "Loading ITables v2.1.4 from the internet...\n",
       "(need <a href=https://mwouts.github.io/itables/troubleshooting.html>help</a>?)</td>\n",
       "</div>\n",
       "</tr></tbody>\n",
       "\n",
       "</table>\n",
       "<link href=\"https://www.unpkg.com/dt_for_itables@2.0.11/dt_bundle.css\" rel=\"stylesheet\">\n",
       "<script type=\"module\">\n",
       "    import {DataTable, jQuery as $} from 'https://www.unpkg.com/dt_for_itables@2.0.11/dt_bundle.js';\n",
       "\n",
       "    document.querySelectorAll(\"#itables_a1f71507_508b_4ea1_8b45_cf61600688ea:not(.dataTable)\").forEach(table => {\n",
       "        // Define the table data\n",
       "        const data = [[\"Janaki Ammal\", 1897, 1984.0], [\"Chien-Shiung Wu\", 1912, 1997.0], [\"Katherine Johnson\", 1918, 2020.0], [\"Rosalind Franklin\", 1920, 1958.0], [\"Vera Rubin\", 1928, 2016.0], [\"Gladys West\", 1930, NaN], [\"Flossie Wong-Staal\", 1947, NaN], [\"Jennifer Doudna\", 1964, NaN]];\n",
       "\n",
       "        // Define the dt_args\n",
       "        let dt_args = {\"layout\": {\"topStart\": null, \"topEnd\": null, \"bottomStart\": null, \"bottomEnd\": null}, \"order\": []};\n",
       "        dt_args[\"data\"] = data;\n",
       "\n",
       "        \n",
       "        new DataTable(table, dt_args);\n",
       "    });\n",
       "</script>\n"
      ],
      "text/plain": [
       "<IPython.core.display.HTML object>"
      ]
     },
     "metadata": {},
     "output_type": "display_data"
    },
    {
     "data": {
      "text/html": [
       "<table id=\"itables_54aec188_739c_4c52_a8cb_19f1e1b2beab\" class=\"display nowrap\" data-quarto-disable-processing=\"true\" style=\"table-layout:auto;width:auto;margin:auto;caption-side:bottom\">\n",
       "<thead>\n",
       "    <tr style=\"text-align: right;\">\n",
       "      \n",
       "      <th>name</th>\n",
       "      <th>profession</th>\n",
       "    </tr>\n",
       "  </thead><tbody><tr>\n",
       "<td style=\"vertical-align:middle; text-align:left\">\n",
       "<div style=\"float:left; margin-right: 10px;\">\n",
       "<a href=https://mwouts.github.io/itables/><svg class=\"main-svg\" xmlns=\"http://www.w3.org/2000/svg\" xmlns:xlink=\"http://www.w3.org/1999/xlink\"\n",
       "width=\"64\" viewBox=\"0 0 500 400\" style=\"font-family: 'Droid Sans', sans-serif;\">\n",
       "    <g style=\"fill:#d9d7fc\">\n",
       "        <path d=\"M100,400H500V357H100Z\" />\n",
       "        <path d=\"M100,300H400V257H100Z\" />\n",
       "        <path d=\"M0,200H400V157H0Z\" />\n",
       "        <path d=\"M100,100H500V57H100Z\" />\n",
       "        <path d=\"M100,350H500V307H100Z\" />\n",
       "        <path d=\"M100,250H400V207H100Z\" />\n",
       "        <path d=\"M0,150H400V107H0Z\" />\n",
       "        <path d=\"M100,50H500V7H100Z\" />\n",
       "    </g>\n",
       "    <g style=\"fill:#1a1366;stroke:#1a1366;\">\n",
       "   <rect x=\"100\" y=\"7\" width=\"400\" height=\"43\">\n",
       "    <animate\n",
       "      attributeName=\"width\"\n",
       "      values=\"0;400;0\"\n",
       "      dur=\"5s\"\n",
       "      repeatCount=\"indefinite\" />\n",
       "      <animate\n",
       "      attributeName=\"x\"\n",
       "      values=\"100;100;500\"\n",
       "      dur=\"5s\"\n",
       "      repeatCount=\"indefinite\" />\n",
       "  </rect>\n",
       "        <rect x=\"0\" y=\"107\" width=\"400\" height=\"43\">\n",
       "    <animate\n",
       "      attributeName=\"width\"\n",
       "      values=\"0;400;0\"\n",
       "      dur=\"3.5s\"\n",
       "      repeatCount=\"indefinite\" />\n",
       "    <animate\n",
       "      attributeName=\"x\"\n",
       "      values=\"0;0;400\"\n",
       "      dur=\"3.5s\"\n",
       "      repeatCount=\"indefinite\" />\n",
       "  </rect>\n",
       "        <rect x=\"100\" y=\"207\" width=\"300\" height=\"43\">\n",
       "    <animate\n",
       "      attributeName=\"width\"\n",
       "      values=\"0;300;0\"\n",
       "      dur=\"3s\"\n",
       "      repeatCount=\"indefinite\" />\n",
       "    <animate\n",
       "      attributeName=\"x\"\n",
       "      values=\"100;100;400\"\n",
       "      dur=\"3s\"\n",
       "      repeatCount=\"indefinite\" />\n",
       "  </rect>\n",
       "        <rect x=\"100\" y=\"307\" width=\"400\" height=\"43\">\n",
       "    <animate\n",
       "      attributeName=\"width\"\n",
       "      values=\"0;400;0\"\n",
       "      dur=\"4s\"\n",
       "      repeatCount=\"indefinite\" />\n",
       "      <animate\n",
       "      attributeName=\"x\"\n",
       "      values=\"100;100;500\"\n",
       "      dur=\"4s\"\n",
       "      repeatCount=\"indefinite\" />\n",
       "  </rect>\n",
       "        <g style=\"fill:transparent;stroke-width:8; stroke-linejoin:round\" rx=\"5\">\n",
       "            <g transform=\"translate(45 50) rotate(-45)\">\n",
       "                <circle r=\"33\" cx=\"0\" cy=\"0\" />\n",
       "                <rect x=\"-8\" y=\"32\" width=\"16\" height=\"30\" />\n",
       "            </g>\n",
       "\n",
       "            <g transform=\"translate(450 152)\">\n",
       "                <polyline points=\"-15,-20 -35,-20 -35,40 25,40 25,20\" />\n",
       "                <rect x=\"-15\" y=\"-40\" width=\"60\" height=\"60\" />\n",
       "            </g>\n",
       "\n",
       "            <g transform=\"translate(50 352)\">\n",
       "                <polygon points=\"-35,-5 0,-40 35,-5\" />\n",
       "                <polygon points=\"-35,10 0,45 35,10\" />\n",
       "            </g>\n",
       "\n",
       "            <g transform=\"translate(75 250)\">\n",
       "                <polyline points=\"-30,30 -60,0 -30,-30\" />\n",
       "                <polyline points=\"0,30 -30,0 0,-30\" />\n",
       "            </g>\n",
       "\n",
       "            <g transform=\"translate(425 250) rotate(180)\">\n",
       "                <polyline points=\"-30,30 -60,0 -30,-30\" />\n",
       "                <polyline points=\"0,30 -30,0 0,-30\" />\n",
       "            </g>\n",
       "        </g>\n",
       "    </g>\n",
       "</svg>\n",
       "</a>\n",
       "</div>\n",
       "<div>\n",
       "Loading ITables v2.1.4 from the internet...\n",
       "(need <a href=https://mwouts.github.io/itables/troubleshooting.html>help</a>?)</td>\n",
       "</div>\n",
       "</tr></tbody>\n",
       "\n",
       "</table>\n",
       "<link href=\"https://www.unpkg.com/dt_for_itables@2.0.11/dt_bundle.css\" rel=\"stylesheet\">\n",
       "<script type=\"module\">\n",
       "    import {DataTable, jQuery as $} from 'https://www.unpkg.com/dt_for_itables@2.0.11/dt_bundle.js';\n",
       "\n",
       "    document.querySelectorAll(\"#itables_54aec188_739c_4c52_a8cb_19f1e1b2beab:not(.dataTable)\").forEach(table => {\n",
       "        // Define the table data\n",
       "        const data = [[\"Ada Lovelace\", \"Mathematician\"], [\"Marie Curie\", \"Physicist and Chemist\"], [\"Janaki Ammal\", \"Botanist\"], [\"Chien-Shiung Wu\", \"Physicist\"], [\"Katherine Johnson\", \"Mathematician\"], [\"Rosalind Franklin\", \"Chemist\"], [\"Vera Rubin\", \"Astronomer\"], [\"Gladys West\", \"Mathematician\"], [\"Flossie Wong-Staal\", \"Virologist and Molecular Biologist\"], [\"Jennifer Doudna\", \"Biochemist\"]];\n",
       "\n",
       "        // Define the dt_args\n",
       "        let dt_args = {\"layout\": {\"topStart\": null, \"topEnd\": null, \"bottomStart\": null, \"bottomEnd\": null}, \"order\": []};\n",
       "        dt_args[\"data\"] = data;\n",
       "\n",
       "        \n",
       "        new DataTable(table, dt_args);\n",
       "    });\n",
       "</script>\n"
      ],
      "text/plain": [
       "<IPython.core.display.HTML object>"
      ]
     },
     "metadata": {},
     "output_type": "display_data"
    },
    {
     "data": {
      "text/html": [
       "<table id=\"itables_17cae181_3758_42bb_9569_dfd724f1e13b\" class=\"display nowrap\" data-quarto-disable-processing=\"true\" style=\"table-layout:auto;width:auto;margin:auto;caption-side:bottom\">\n",
       "<thead>\n",
       "    <tr style=\"text-align: right;\">\n",
       "      \n",
       "      <th>name</th>\n",
       "      <th>known_for</th>\n",
       "    </tr>\n",
       "  </thead><tbody><tr>\n",
       "<td style=\"vertical-align:middle; text-align:left\">\n",
       "<div style=\"float:left; margin-right: 10px;\">\n",
       "<a href=https://mwouts.github.io/itables/><svg class=\"main-svg\" xmlns=\"http://www.w3.org/2000/svg\" xmlns:xlink=\"http://www.w3.org/1999/xlink\"\n",
       "width=\"64\" viewBox=\"0 0 500 400\" style=\"font-family: 'Droid Sans', sans-serif;\">\n",
       "    <g style=\"fill:#d9d7fc\">\n",
       "        <path d=\"M100,400H500V357H100Z\" />\n",
       "        <path d=\"M100,300H400V257H100Z\" />\n",
       "        <path d=\"M0,200H400V157H0Z\" />\n",
       "        <path d=\"M100,100H500V57H100Z\" />\n",
       "        <path d=\"M100,350H500V307H100Z\" />\n",
       "        <path d=\"M100,250H400V207H100Z\" />\n",
       "        <path d=\"M0,150H400V107H0Z\" />\n",
       "        <path d=\"M100,50H500V7H100Z\" />\n",
       "    </g>\n",
       "    <g style=\"fill:#1a1366;stroke:#1a1366;\">\n",
       "   <rect x=\"100\" y=\"7\" width=\"400\" height=\"43\">\n",
       "    <animate\n",
       "      attributeName=\"width\"\n",
       "      values=\"0;400;0\"\n",
       "      dur=\"5s\"\n",
       "      repeatCount=\"indefinite\" />\n",
       "      <animate\n",
       "      attributeName=\"x\"\n",
       "      values=\"100;100;500\"\n",
       "      dur=\"5s\"\n",
       "      repeatCount=\"indefinite\" />\n",
       "  </rect>\n",
       "        <rect x=\"0\" y=\"107\" width=\"400\" height=\"43\">\n",
       "    <animate\n",
       "      attributeName=\"width\"\n",
       "      values=\"0;400;0\"\n",
       "      dur=\"3.5s\"\n",
       "      repeatCount=\"indefinite\" />\n",
       "    <animate\n",
       "      attributeName=\"x\"\n",
       "      values=\"0;0;400\"\n",
       "      dur=\"3.5s\"\n",
       "      repeatCount=\"indefinite\" />\n",
       "  </rect>\n",
       "        <rect x=\"100\" y=\"207\" width=\"300\" height=\"43\">\n",
       "    <animate\n",
       "      attributeName=\"width\"\n",
       "      values=\"0;300;0\"\n",
       "      dur=\"3s\"\n",
       "      repeatCount=\"indefinite\" />\n",
       "    <animate\n",
       "      attributeName=\"x\"\n",
       "      values=\"100;100;400\"\n",
       "      dur=\"3s\"\n",
       "      repeatCount=\"indefinite\" />\n",
       "  </rect>\n",
       "        <rect x=\"100\" y=\"307\" width=\"400\" height=\"43\">\n",
       "    <animate\n",
       "      attributeName=\"width\"\n",
       "      values=\"0;400;0\"\n",
       "      dur=\"4s\"\n",
       "      repeatCount=\"indefinite\" />\n",
       "      <animate\n",
       "      attributeName=\"x\"\n",
       "      values=\"100;100;500\"\n",
       "      dur=\"4s\"\n",
       "      repeatCount=\"indefinite\" />\n",
       "  </rect>\n",
       "        <g style=\"fill:transparent;stroke-width:8; stroke-linejoin:round\" rx=\"5\">\n",
       "            <g transform=\"translate(45 50) rotate(-45)\">\n",
       "                <circle r=\"33\" cx=\"0\" cy=\"0\" />\n",
       "                <rect x=\"-8\" y=\"32\" width=\"16\" height=\"30\" />\n",
       "            </g>\n",
       "\n",
       "            <g transform=\"translate(450 152)\">\n",
       "                <polyline points=\"-15,-20 -35,-20 -35,40 25,40 25,20\" />\n",
       "                <rect x=\"-15\" y=\"-40\" width=\"60\" height=\"60\" />\n",
       "            </g>\n",
       "\n",
       "            <g transform=\"translate(50 352)\">\n",
       "                <polygon points=\"-35,-5 0,-40 35,-5\" />\n",
       "                <polygon points=\"-35,10 0,45 35,10\" />\n",
       "            </g>\n",
       "\n",
       "            <g transform=\"translate(75 250)\">\n",
       "                <polyline points=\"-30,30 -60,0 -30,-30\" />\n",
       "                <polyline points=\"0,30 -30,0 0,-30\" />\n",
       "            </g>\n",
       "\n",
       "            <g transform=\"translate(425 250) rotate(180)\">\n",
       "                <polyline points=\"-30,30 -60,0 -30,-30\" />\n",
       "                <polyline points=\"0,30 -30,0 0,-30\" />\n",
       "            </g>\n",
       "        </g>\n",
       "    </g>\n",
       "</svg>\n",
       "</a>\n",
       "</div>\n",
       "<div>\n",
       "Loading ITables v2.1.4 from the internet...\n",
       "(need <a href=https://mwouts.github.io/itables/troubleshooting.html>help</a>?)</td>\n",
       "</div>\n",
       "</tr></tbody>\n",
       "\n",
       "</table>\n",
       "<link href=\"https://www.unpkg.com/dt_for_itables@2.0.11/dt_bundle.css\" rel=\"stylesheet\">\n",
       "<script type=\"module\">\n",
       "    import {DataTable, jQuery as $} from 'https://www.unpkg.com/dt_for_itables@2.0.11/dt_bundle.js';\n",
       "\n",
       "    document.querySelectorAll(\"#itables_17cae181_3758_42bb_9569_dfd724f1e13b:not(.dataTable)\").forEach(table => {\n",
       "        // Define the table data\n",
       "        const data = [[\"Ada Lovelace\", \"first computer algorithm\"], [\"Marie Curie\", \"theory of radioactivity,  discovery of elements polonium and radium, first woman to win a Nobel Prize\"], [\"Janaki Ammal\", \"hybrid species, biodiversity protection\"], [\"Chien-Shiung Wu\", \"confim and refine theory of radioactive beta decy, Wu experiment overturning theory of parity\"], [\"Katherine Johnson\", \"calculations of orbital mechanics critical to sending the first Americans into space\"], [\"Vera Rubin\", \"existence of dark matter\"], [\"Gladys West\", \"mathematical modeling of the shape of the Earth which served as the foundation of GPS technology\"], [\"Flossie Wong-Staal\", \"first scientist to clone HIV and create a map of its genes which led to a test for the virus\"], [\"Jennifer Doudna\", \"one of the primary developers of CRISPR, a ground-breaking technology for editing genomes\"]];\n",
       "\n",
       "        // Define the dt_args\n",
       "        let dt_args = {\"layout\": {\"topStart\": null, \"topEnd\": null, \"bottomStart\": null, \"bottomEnd\": null}, \"order\": []};\n",
       "        dt_args[\"data\"] = data;\n",
       "\n",
       "        \n",
       "        new DataTable(table, dt_args);\n",
       "    });\n",
       "</script>\n"
      ],
      "text/plain": [
       "<IPython.core.display.HTML object>"
      ]
     },
     "metadata": {},
     "output_type": "display_data"
    }
   ],
   "source": [
    "file1 = 'https://joannabieri.com/introdatascience/data/dates.csv'\n",
    "DF_dates = pd.read_csv(file1)\n",
    "file2 = 'https://joannabieri.com/introdatascience/data/professions.csv'\n",
    "DF_professions = pd.read_csv(file2)\n",
    "file3 = 'https://joannabieri.com/introdatascience/data/works.csv'\n",
    "DF_works = pd.read_csv(file3)\n",
    "show(DF_dates)\n",
    "show(DF_professions)\n",
    "show(DF_works)"
   ]
  },
  {
   "cell_type": "markdown",
   "id": "941e4499-edd1-4210-b3ff-292dd2eb4df7",
   "metadata": {},
   "source": [
    "**Q1** Are each of these data sets Tidy?\n",
    "\n",
    "**Q2** Do they all contain the same number of observations?\n",
    "\n",
    "**Q3** What are the five variables?\n",
    "\n",
    "**Q4** What variable do they have in common - what can we join **on**"
   ]
  },
  {
   "cell_type": "markdown",
   "id": "0e1f769b-d87d-429a-9de8-c35af020525d",
   "metadata": {},
   "source": [
    "Q1 The three data sets are tidy because every variable has specific categorical data.\n",
    "\n",
    "Q2 The three data sets don't all contain the same number of observations. The first data set has 8 observations, the second data set has 10 observations, and the third data set has 9 observations.\n",
    "\n",
    "Q3 The five variables in all three of these data sets are 'name', 'birth_year', 'death_year', 'profession', and 'known_for'.\n",
    "\n",
    "Q4 The one variable that all three data sets have in common (the only thing we can join on) is 'name'."
   ]
  },
  {
   "cell_type": "markdown",
   "id": "fa09683e-ac6a-4cb5-a47d-6cbf580524d2",
   "metadata": {},
   "source": [
    "## Combining Three Data Sets\n",
    "\n",
    "You need to think about the order and whether or not you want to keep the maximum number of names or only keep names that are in all the data frames.\n",
    "\n",
    "In this case we will try to keep the maximal amount of data - the maximum number of names.\n",
    "\n",
    "1. Combine the professions and works data\n",
    "2. Then add the dates data"
   ]
  },
  {
   "cell_type": "code",
   "execution_count": 5,
   "id": "1e06d293-4d62-49f6-86c5-568b22cee865",
   "metadata": {},
   "outputs": [
    {
     "data": {
      "text/html": [
       "<div>\n",
       "<style scoped>\n",
       "    .dataframe tbody tr th:only-of-type {\n",
       "        vertical-align: middle;\n",
       "    }\n",
       "\n",
       "    .dataframe tbody tr th {\n",
       "        vertical-align: top;\n",
       "    }\n",
       "\n",
       "    .dataframe thead th {\n",
       "        text-align: right;\n",
       "    }\n",
       "</style>\n",
       "<table border=\"1\" class=\"dataframe\">\n",
       "  <thead>\n",
       "    <tr style=\"text-align: right;\">\n",
       "      <th></th>\n",
       "      <th>name</th>\n",
       "      <th>profession</th>\n",
       "      <th>known_for</th>\n",
       "      <th>birth_year</th>\n",
       "      <th>death_year</th>\n",
       "    </tr>\n",
       "  </thead>\n",
       "  <tbody>\n",
       "    <tr>\n",
       "      <th>0</th>\n",
       "      <td>Ada Lovelace</td>\n",
       "      <td>Mathematician</td>\n",
       "      <td>first computer algorithm</td>\n",
       "      <td>NaN</td>\n",
       "      <td>NaN</td>\n",
       "    </tr>\n",
       "    <tr>\n",
       "      <th>1</th>\n",
       "      <td>Marie Curie</td>\n",
       "      <td>Physicist and Chemist</td>\n",
       "      <td>theory of radioactivity,  discovery of element...</td>\n",
       "      <td>NaN</td>\n",
       "      <td>NaN</td>\n",
       "    </tr>\n",
       "    <tr>\n",
       "      <th>2</th>\n",
       "      <td>Janaki Ammal</td>\n",
       "      <td>Botanist</td>\n",
       "      <td>hybrid species, biodiversity protection</td>\n",
       "      <td>1897.0</td>\n",
       "      <td>1984.0</td>\n",
       "    </tr>\n",
       "    <tr>\n",
       "      <th>3</th>\n",
       "      <td>Chien-Shiung Wu</td>\n",
       "      <td>Physicist</td>\n",
       "      <td>confim and refine theory of radioactive beta d...</td>\n",
       "      <td>1912.0</td>\n",
       "      <td>1997.0</td>\n",
       "    </tr>\n",
       "    <tr>\n",
       "      <th>4</th>\n",
       "      <td>Katherine Johnson</td>\n",
       "      <td>Mathematician</td>\n",
       "      <td>calculations of orbital mechanics critical to ...</td>\n",
       "      <td>1918.0</td>\n",
       "      <td>2020.0</td>\n",
       "    </tr>\n",
       "    <tr>\n",
       "      <th>5</th>\n",
       "      <td>Rosalind Franklin</td>\n",
       "      <td>Chemist</td>\n",
       "      <td>NaN</td>\n",
       "      <td>1920.0</td>\n",
       "      <td>1958.0</td>\n",
       "    </tr>\n",
       "    <tr>\n",
       "      <th>6</th>\n",
       "      <td>Vera Rubin</td>\n",
       "      <td>Astronomer</td>\n",
       "      <td>existence of dark matter</td>\n",
       "      <td>1928.0</td>\n",
       "      <td>2016.0</td>\n",
       "    </tr>\n",
       "    <tr>\n",
       "      <th>7</th>\n",
       "      <td>Gladys West</td>\n",
       "      <td>Mathematician</td>\n",
       "      <td>mathematical modeling of the shape of the Eart...</td>\n",
       "      <td>1930.0</td>\n",
       "      <td>NaN</td>\n",
       "    </tr>\n",
       "    <tr>\n",
       "      <th>8</th>\n",
       "      <td>Flossie Wong-Staal</td>\n",
       "      <td>Virologist and Molecular Biologist</td>\n",
       "      <td>first scientist to clone HIV and create a map ...</td>\n",
       "      <td>1947.0</td>\n",
       "      <td>NaN</td>\n",
       "    </tr>\n",
       "    <tr>\n",
       "      <th>9</th>\n",
       "      <td>Jennifer Doudna</td>\n",
       "      <td>Biochemist</td>\n",
       "      <td>one of the primary developers of CRISPR, a gro...</td>\n",
       "      <td>1964.0</td>\n",
       "      <td>NaN</td>\n",
       "    </tr>\n",
       "  </tbody>\n",
       "</table>\n",
       "</div>"
      ],
      "text/plain": [
       "                 name                          profession  \\\n",
       "0        Ada Lovelace                       Mathematician   \n",
       "1         Marie Curie               Physicist and Chemist   \n",
       "2        Janaki Ammal                            Botanist   \n",
       "3     Chien-Shiung Wu                           Physicist   \n",
       "4   Katherine Johnson                       Mathematician   \n",
       "5   Rosalind Franklin                             Chemist   \n",
       "6          Vera Rubin                          Astronomer   \n",
       "7         Gladys West                       Mathematician   \n",
       "8  Flossie Wong-Staal  Virologist and Molecular Biologist   \n",
       "9     Jennifer Doudna                          Biochemist   \n",
       "\n",
       "                                           known_for  birth_year  death_year  \n",
       "0                           first computer algorithm         NaN         NaN  \n",
       "1  theory of radioactivity,  discovery of element...         NaN         NaN  \n",
       "2            hybrid species, biodiversity protection      1897.0      1984.0  \n",
       "3  confim and refine theory of radioactive beta d...      1912.0      1997.0  \n",
       "4  calculations of orbital mechanics critical to ...      1918.0      2020.0  \n",
       "5                                                NaN      1920.0      1958.0  \n",
       "6                           existence of dark matter      1928.0      2016.0  \n",
       "7  mathematical modeling of the shape of the Eart...      1930.0         NaN  \n",
       "8  first scientist to clone HIV and create a map ...      1947.0         NaN  \n",
       "9  one of the primary developers of CRISPR, a gro...      1964.0         NaN  "
      ]
     },
     "execution_count": 5,
     "metadata": {},
     "output_type": "execute_result"
    }
   ],
   "source": [
    "# 1. Combine the professions and works data\n",
    "DF_scientists = pd.merge(DF_professions,DF_works,on='name',how='left')\n",
    "DF_scientists\n",
    "# 2. Then add the dates data\n",
    "DF_scientists = pd.merge(DF_scientists,DF_dates,on='name',how='left')\n",
    "DF_scientists"
   ]
  },
  {
   "cell_type": "markdown",
   "id": "e2bbc33c-6c0e-4ca8-ad72-de5018bddce8",
   "metadata": {},
   "source": [
    "**Q5** What, if anything, would change if you switched to how='right'?"
   ]
  },
  {
   "cell_type": "code",
   "execution_count": 7,
   "id": "1bef3fdf-94f0-49f3-8dc2-80ed0e637b04",
   "metadata": {},
   "outputs": [
    {
     "data": {
      "text/html": [
       "<div>\n",
       "<style scoped>\n",
       "    .dataframe tbody tr th:only-of-type {\n",
       "        vertical-align: middle;\n",
       "    }\n",
       "\n",
       "    .dataframe tbody tr th {\n",
       "        vertical-align: top;\n",
       "    }\n",
       "\n",
       "    .dataframe thead th {\n",
       "        text-align: right;\n",
       "    }\n",
       "</style>\n",
       "<table border=\"1\" class=\"dataframe\">\n",
       "  <thead>\n",
       "    <tr style=\"text-align: right;\">\n",
       "      <th></th>\n",
       "      <th>name</th>\n",
       "      <th>profession</th>\n",
       "      <th>known_for</th>\n",
       "      <th>birth_year</th>\n",
       "      <th>death_year</th>\n",
       "    </tr>\n",
       "  </thead>\n",
       "  <tbody>\n",
       "    <tr>\n",
       "      <th>0</th>\n",
       "      <td>Janaki Ammal</td>\n",
       "      <td>Botanist</td>\n",
       "      <td>hybrid species, biodiversity protection</td>\n",
       "      <td>1897</td>\n",
       "      <td>1984.0</td>\n",
       "    </tr>\n",
       "    <tr>\n",
       "      <th>1</th>\n",
       "      <td>Chien-Shiung Wu</td>\n",
       "      <td>Physicist</td>\n",
       "      <td>confim and refine theory of radioactive beta d...</td>\n",
       "      <td>1912</td>\n",
       "      <td>1997.0</td>\n",
       "    </tr>\n",
       "    <tr>\n",
       "      <th>2</th>\n",
       "      <td>Katherine Johnson</td>\n",
       "      <td>Mathematician</td>\n",
       "      <td>calculations of orbital mechanics critical to ...</td>\n",
       "      <td>1918</td>\n",
       "      <td>2020.0</td>\n",
       "    </tr>\n",
       "    <tr>\n",
       "      <th>3</th>\n",
       "      <td>Rosalind Franklin</td>\n",
       "      <td>NaN</td>\n",
       "      <td>NaN</td>\n",
       "      <td>1920</td>\n",
       "      <td>1958.0</td>\n",
       "    </tr>\n",
       "    <tr>\n",
       "      <th>4</th>\n",
       "      <td>Vera Rubin</td>\n",
       "      <td>Astronomer</td>\n",
       "      <td>existence of dark matter</td>\n",
       "      <td>1928</td>\n",
       "      <td>2016.0</td>\n",
       "    </tr>\n",
       "    <tr>\n",
       "      <th>5</th>\n",
       "      <td>Gladys West</td>\n",
       "      <td>Mathematician</td>\n",
       "      <td>mathematical modeling of the shape of the Eart...</td>\n",
       "      <td>1930</td>\n",
       "      <td>NaN</td>\n",
       "    </tr>\n",
       "    <tr>\n",
       "      <th>6</th>\n",
       "      <td>Flossie Wong-Staal</td>\n",
       "      <td>Virologist and Molecular Biologist</td>\n",
       "      <td>first scientist to clone HIV and create a map ...</td>\n",
       "      <td>1947</td>\n",
       "      <td>NaN</td>\n",
       "    </tr>\n",
       "    <tr>\n",
       "      <th>7</th>\n",
       "      <td>Jennifer Doudna</td>\n",
       "      <td>Biochemist</td>\n",
       "      <td>one of the primary developers of CRISPR, a gro...</td>\n",
       "      <td>1964</td>\n",
       "      <td>NaN</td>\n",
       "    </tr>\n",
       "  </tbody>\n",
       "</table>\n",
       "</div>"
      ],
      "text/plain": [
       "                 name                          profession  \\\n",
       "0        Janaki Ammal                            Botanist   \n",
       "1     Chien-Shiung Wu                           Physicist   \n",
       "2   Katherine Johnson                       Mathematician   \n",
       "3   Rosalind Franklin                                 NaN   \n",
       "4          Vera Rubin                          Astronomer   \n",
       "5         Gladys West                       Mathematician   \n",
       "6  Flossie Wong-Staal  Virologist and Molecular Biologist   \n",
       "7     Jennifer Doudna                          Biochemist   \n",
       "\n",
       "                                           known_for  birth_year  death_year  \n",
       "0            hybrid species, biodiversity protection        1897      1984.0  \n",
       "1  confim and refine theory of radioactive beta d...        1912      1997.0  \n",
       "2  calculations of orbital mechanics critical to ...        1918      2020.0  \n",
       "3                                                NaN        1920      1958.0  \n",
       "4                           existence of dark matter        1928      2016.0  \n",
       "5  mathematical modeling of the shape of the Eart...        1930         NaN  \n",
       "6  first scientist to clone HIV and create a map ...        1947         NaN  \n",
       "7  one of the primary developers of CRISPR, a gro...        1964         NaN  "
      ]
     },
     "execution_count": 7,
     "metadata": {},
     "output_type": "execute_result"
    }
   ],
   "source": [
    "# 1. Combine the professions and works data\n",
    "DF_scientists = pd.merge(DF_professions,DF_works,on='name',how='right')\n",
    "DF_scientists\n",
    "# 2. Then add the dates data\n",
    "DF_scientists = pd.merge(DF_scientists,DF_dates,on='name',how='right')\n",
    "DF_scientists"
   ]
  },
  {
   "cell_type": "markdown",
   "id": "63c8a86f-6a7f-4509-9d2f-a2e8a3b65b5f",
   "metadata": {},
   "source": [
    "When I switched the how='right' from how='left' the first two names, Ada Lovelace and Marie Curie, were earased. This would be because it only counted the data that was on the right side of the set."
   ]
  },
  {
   "cell_type": "markdown",
   "id": "26a9dee0-e533-4439-8972-f2e69b544ec9",
   "metadata": {},
   "source": [
    "## Combining Two Data Sets - You Try\n",
    "\n",
    "**Q6** Write code that would combine the professions data and the dates data, but drop any names that don't appear in both."
   ]
  },
  {
   "cell_type": "code",
   "execution_count": 9,
   "id": "18d09352-c2dc-4c21-887d-7e54387c55a9",
   "metadata": {},
   "outputs": [
    {
     "data": {
      "text/html": [
       "<div>\n",
       "<style scoped>\n",
       "    .dataframe tbody tr th:only-of-type {\n",
       "        vertical-align: middle;\n",
       "    }\n",
       "\n",
       "    .dataframe tbody tr th {\n",
       "        vertical-align: top;\n",
       "    }\n",
       "\n",
       "    .dataframe thead th {\n",
       "        text-align: right;\n",
       "    }\n",
       "</style>\n",
       "<table border=\"1\" class=\"dataframe\">\n",
       "  <thead>\n",
       "    <tr style=\"text-align: right;\">\n",
       "      <th></th>\n",
       "      <th>name</th>\n",
       "      <th>profession</th>\n",
       "      <th>birth_year</th>\n",
       "      <th>death_year</th>\n",
       "    </tr>\n",
       "  </thead>\n",
       "  <tbody>\n",
       "    <tr>\n",
       "      <th>0</th>\n",
       "      <td>Janaki Ammal</td>\n",
       "      <td>Botanist</td>\n",
       "      <td>1897</td>\n",
       "      <td>1984.0</td>\n",
       "    </tr>\n",
       "    <tr>\n",
       "      <th>1</th>\n",
       "      <td>Chien-Shiung Wu</td>\n",
       "      <td>Physicist</td>\n",
       "      <td>1912</td>\n",
       "      <td>1997.0</td>\n",
       "    </tr>\n",
       "    <tr>\n",
       "      <th>2</th>\n",
       "      <td>Katherine Johnson</td>\n",
       "      <td>Mathematician</td>\n",
       "      <td>1918</td>\n",
       "      <td>2020.0</td>\n",
       "    </tr>\n",
       "    <tr>\n",
       "      <th>3</th>\n",
       "      <td>Rosalind Franklin</td>\n",
       "      <td>Chemist</td>\n",
       "      <td>1920</td>\n",
       "      <td>1958.0</td>\n",
       "    </tr>\n",
       "    <tr>\n",
       "      <th>4</th>\n",
       "      <td>Vera Rubin</td>\n",
       "      <td>Astronomer</td>\n",
       "      <td>1928</td>\n",
       "      <td>2016.0</td>\n",
       "    </tr>\n",
       "    <tr>\n",
       "      <th>5</th>\n",
       "      <td>Gladys West</td>\n",
       "      <td>Mathematician</td>\n",
       "      <td>1930</td>\n",
       "      <td>NaN</td>\n",
       "    </tr>\n",
       "    <tr>\n",
       "      <th>6</th>\n",
       "      <td>Flossie Wong-Staal</td>\n",
       "      <td>Virologist and Molecular Biologist</td>\n",
       "      <td>1947</td>\n",
       "      <td>NaN</td>\n",
       "    </tr>\n",
       "    <tr>\n",
       "      <th>7</th>\n",
       "      <td>Jennifer Doudna</td>\n",
       "      <td>Biochemist</td>\n",
       "      <td>1964</td>\n",
       "      <td>NaN</td>\n",
       "    </tr>\n",
       "  </tbody>\n",
       "</table>\n",
       "</div>"
      ],
      "text/plain": [
       "                 name                          profession  birth_year  \\\n",
       "0        Janaki Ammal                            Botanist        1897   \n",
       "1     Chien-Shiung Wu                           Physicist        1912   \n",
       "2   Katherine Johnson                       Mathematician        1918   \n",
       "3   Rosalind Franklin                             Chemist        1920   \n",
       "4          Vera Rubin                          Astronomer        1928   \n",
       "5         Gladys West                       Mathematician        1930   \n",
       "6  Flossie Wong-Staal  Virologist and Molecular Biologist        1947   \n",
       "7     Jennifer Doudna                          Biochemist        1964   \n",
       "\n",
       "   death_year  \n",
       "0      1984.0  \n",
       "1      1997.0  \n",
       "2      2020.0  \n",
       "3      1958.0  \n",
       "4      2016.0  \n",
       "5         NaN  \n",
       "6         NaN  \n",
       "7         NaN  "
      ]
     },
     "execution_count": 9,
     "metadata": {},
     "output_type": "execute_result"
    }
   ],
   "source": [
    "DF_6 = pd.merge(DF_professions,DF_dates,on='name',how='inner')\n",
    "DF_6"
   ]
  },
  {
   "cell_type": "markdown",
   "id": "81aaba84-81ab-4fc7-95cb-e6df13157e2c",
   "metadata": {},
   "source": [
    "## Combining Three Data Sets - You Try\n",
    "\n",
    "**Q7** Try to combine the three data sets together (professions, works, and dates) but instead of doing what we did above, see if you can keep only the names that appeared in all three data sets."
   ]
  },
  {
   "cell_type": "code",
   "execution_count": 11,
   "id": "c2766e8b-f125-4bd6-9937-13cd92c8ba62",
   "metadata": {},
   "outputs": [
    {
     "data": {
      "text/html": [
       "<div>\n",
       "<style scoped>\n",
       "    .dataframe tbody tr th:only-of-type {\n",
       "        vertical-align: middle;\n",
       "    }\n",
       "\n",
       "    .dataframe tbody tr th {\n",
       "        vertical-align: top;\n",
       "    }\n",
       "\n",
       "    .dataframe thead th {\n",
       "        text-align: right;\n",
       "    }\n",
       "</style>\n",
       "<table border=\"1\" class=\"dataframe\">\n",
       "  <thead>\n",
       "    <tr style=\"text-align: right;\">\n",
       "      <th></th>\n",
       "      <th>name</th>\n",
       "      <th>profession</th>\n",
       "      <th>known_for</th>\n",
       "      <th>birth_year_x</th>\n",
       "      <th>death_year_x</th>\n",
       "      <th>birth_year_y</th>\n",
       "      <th>death_year_y</th>\n",
       "      <th>_merge</th>\n",
       "    </tr>\n",
       "  </thead>\n",
       "  <tbody>\n",
       "    <tr>\n",
       "      <th>0</th>\n",
       "      <td>Janaki Ammal</td>\n",
       "      <td>Botanist</td>\n",
       "      <td>hybrid species, biodiversity protection</td>\n",
       "      <td>1897</td>\n",
       "      <td>1984.0</td>\n",
       "      <td>1897</td>\n",
       "      <td>1984.0</td>\n",
       "      <td>both</td>\n",
       "    </tr>\n",
       "    <tr>\n",
       "      <th>1</th>\n",
       "      <td>Chien-Shiung Wu</td>\n",
       "      <td>Physicist</td>\n",
       "      <td>confim and refine theory of radioactive beta d...</td>\n",
       "      <td>1912</td>\n",
       "      <td>1997.0</td>\n",
       "      <td>1912</td>\n",
       "      <td>1997.0</td>\n",
       "      <td>both</td>\n",
       "    </tr>\n",
       "    <tr>\n",
       "      <th>2</th>\n",
       "      <td>Katherine Johnson</td>\n",
       "      <td>Mathematician</td>\n",
       "      <td>calculations of orbital mechanics critical to ...</td>\n",
       "      <td>1918</td>\n",
       "      <td>2020.0</td>\n",
       "      <td>1918</td>\n",
       "      <td>2020.0</td>\n",
       "      <td>both</td>\n",
       "    </tr>\n",
       "    <tr>\n",
       "      <th>3</th>\n",
       "      <td>Rosalind Franklin</td>\n",
       "      <td>NaN</td>\n",
       "      <td>NaN</td>\n",
       "      <td>1920</td>\n",
       "      <td>1958.0</td>\n",
       "      <td>1920</td>\n",
       "      <td>1958.0</td>\n",
       "      <td>both</td>\n",
       "    </tr>\n",
       "    <tr>\n",
       "      <th>4</th>\n",
       "      <td>Vera Rubin</td>\n",
       "      <td>Astronomer</td>\n",
       "      <td>existence of dark matter</td>\n",
       "      <td>1928</td>\n",
       "      <td>2016.0</td>\n",
       "      <td>1928</td>\n",
       "      <td>2016.0</td>\n",
       "      <td>both</td>\n",
       "    </tr>\n",
       "    <tr>\n",
       "      <th>5</th>\n",
       "      <td>Gladys West</td>\n",
       "      <td>Mathematician</td>\n",
       "      <td>mathematical modeling of the shape of the Eart...</td>\n",
       "      <td>1930</td>\n",
       "      <td>NaN</td>\n",
       "      <td>1930</td>\n",
       "      <td>NaN</td>\n",
       "      <td>both</td>\n",
       "    </tr>\n",
       "    <tr>\n",
       "      <th>6</th>\n",
       "      <td>Flossie Wong-Staal</td>\n",
       "      <td>Virologist and Molecular Biologist</td>\n",
       "      <td>first scientist to clone HIV and create a map ...</td>\n",
       "      <td>1947</td>\n",
       "      <td>NaN</td>\n",
       "      <td>1947</td>\n",
       "      <td>NaN</td>\n",
       "      <td>both</td>\n",
       "    </tr>\n",
       "    <tr>\n",
       "      <th>7</th>\n",
       "      <td>Jennifer Doudna</td>\n",
       "      <td>Biochemist</td>\n",
       "      <td>one of the primary developers of CRISPR, a gro...</td>\n",
       "      <td>1964</td>\n",
       "      <td>NaN</td>\n",
       "      <td>1964</td>\n",
       "      <td>NaN</td>\n",
       "      <td>both</td>\n",
       "    </tr>\n",
       "  </tbody>\n",
       "</table>\n",
       "</div>"
      ],
      "text/plain": [
       "                 name                          profession  \\\n",
       "0        Janaki Ammal                            Botanist   \n",
       "1     Chien-Shiung Wu                           Physicist   \n",
       "2   Katherine Johnson                       Mathematician   \n",
       "3   Rosalind Franklin                                 NaN   \n",
       "4          Vera Rubin                          Astronomer   \n",
       "5         Gladys West                       Mathematician   \n",
       "6  Flossie Wong-Staal  Virologist and Molecular Biologist   \n",
       "7     Jennifer Doudna                          Biochemist   \n",
       "\n",
       "                                           known_for  birth_year_x  \\\n",
       "0            hybrid species, biodiversity protection          1897   \n",
       "1  confim and refine theory of radioactive beta d...          1912   \n",
       "2  calculations of orbital mechanics critical to ...          1918   \n",
       "3                                                NaN          1920   \n",
       "4                           existence of dark matter          1928   \n",
       "5  mathematical modeling of the shape of the Eart...          1930   \n",
       "6  first scientist to clone HIV and create a map ...          1947   \n",
       "7  one of the primary developers of CRISPR, a gro...          1964   \n",
       "\n",
       "   death_year_x  birth_year_y  death_year_y _merge  \n",
       "0        1984.0          1897        1984.0   both  \n",
       "1        1997.0          1912        1997.0   both  \n",
       "2        2020.0          1918        2020.0   both  \n",
       "3        1958.0          1920        1958.0   both  \n",
       "4        2016.0          1928        2016.0   both  \n",
       "5           NaN          1930           NaN   both  \n",
       "6           NaN          1947           NaN   both  \n",
       "7           NaN          1964           NaN   both  "
      ]
     },
     "execution_count": 11,
     "metadata": {},
     "output_type": "execute_result"
    }
   ],
   "source": [
    "# only the professions and works are merged\n",
    "DF_7 = pd.merge(DF_professions,DF_works,on='name',how='right')\n",
    "DF_7\n",
    "# merge with dates\n",
    "DF_7 = pd.merge(DF_scientists,DF_dates,on='name',how='right',indicator=True)\n",
    "DF_7\n",
    "# mask to only keep rows where _merge is set to ‘both’ (I'm lost on the '_merge' part\n",
    "mask = DF_7['_merge']=='both'\n",
    "DF_7 = DF_7[mask]\n",
    "DF_7"
   ]
  },
  {
   "cell_type": "markdown",
   "id": "e2a3bd38-8875-4133-9fb5-2080542349b6",
   "metadata": {},
   "source": [
    "## Case study - Grocery Sales\n",
    "\n",
    "Below you will load some data about grocery sales and see how joining or merging data can help us answer questions."
   ]
  },
  {
   "cell_type": "code",
   "execution_count": 13,
   "id": "e73afe67-db9b-49da-b8db-fe0e8d7b4bde",
   "metadata": {},
   "outputs": [
    {
     "data": {
      "text/html": [
       "<table id=\"itables_1c65f91c_b728_4b64_854a_ec2601da4ef4\" class=\"display nowrap\" data-quarto-disable-processing=\"true\" style=\"table-layout:auto;width:auto;margin:auto;caption-side:bottom\">\n",
       "<thead>\n",
       "    <tr style=\"text-align: right;\">\n",
       "      \n",
       "      <th>customer_id</th>\n",
       "      <th>item</th>\n",
       "    </tr>\n",
       "  </thead><tbody><tr>\n",
       "<td style=\"vertical-align:middle; text-align:left\">\n",
       "<div style=\"float:left; margin-right: 10px;\">\n",
       "<a href=https://mwouts.github.io/itables/><svg class=\"main-svg\" xmlns=\"http://www.w3.org/2000/svg\" xmlns:xlink=\"http://www.w3.org/1999/xlink\"\n",
       "width=\"64\" viewBox=\"0 0 500 400\" style=\"font-family: 'Droid Sans', sans-serif;\">\n",
       "    <g style=\"fill:#d9d7fc\">\n",
       "        <path d=\"M100,400H500V357H100Z\" />\n",
       "        <path d=\"M100,300H400V257H100Z\" />\n",
       "        <path d=\"M0,200H400V157H0Z\" />\n",
       "        <path d=\"M100,100H500V57H100Z\" />\n",
       "        <path d=\"M100,350H500V307H100Z\" />\n",
       "        <path d=\"M100,250H400V207H100Z\" />\n",
       "        <path d=\"M0,150H400V107H0Z\" />\n",
       "        <path d=\"M100,50H500V7H100Z\" />\n",
       "    </g>\n",
       "    <g style=\"fill:#1a1366;stroke:#1a1366;\">\n",
       "   <rect x=\"100\" y=\"7\" width=\"400\" height=\"43\">\n",
       "    <animate\n",
       "      attributeName=\"width\"\n",
       "      values=\"0;400;0\"\n",
       "      dur=\"5s\"\n",
       "      repeatCount=\"indefinite\" />\n",
       "      <animate\n",
       "      attributeName=\"x\"\n",
       "      values=\"100;100;500\"\n",
       "      dur=\"5s\"\n",
       "      repeatCount=\"indefinite\" />\n",
       "  </rect>\n",
       "        <rect x=\"0\" y=\"107\" width=\"400\" height=\"43\">\n",
       "    <animate\n",
       "      attributeName=\"width\"\n",
       "      values=\"0;400;0\"\n",
       "      dur=\"3.5s\"\n",
       "      repeatCount=\"indefinite\" />\n",
       "    <animate\n",
       "      attributeName=\"x\"\n",
       "      values=\"0;0;400\"\n",
       "      dur=\"3.5s\"\n",
       "      repeatCount=\"indefinite\" />\n",
       "  </rect>\n",
       "        <rect x=\"100\" y=\"207\" width=\"300\" height=\"43\">\n",
       "    <animate\n",
       "      attributeName=\"width\"\n",
       "      values=\"0;300;0\"\n",
       "      dur=\"3s\"\n",
       "      repeatCount=\"indefinite\" />\n",
       "    <animate\n",
       "      attributeName=\"x\"\n",
       "      values=\"100;100;400\"\n",
       "      dur=\"3s\"\n",
       "      repeatCount=\"indefinite\" />\n",
       "  </rect>\n",
       "        <rect x=\"100\" y=\"307\" width=\"400\" height=\"43\">\n",
       "    <animate\n",
       "      attributeName=\"width\"\n",
       "      values=\"0;400;0\"\n",
       "      dur=\"4s\"\n",
       "      repeatCount=\"indefinite\" />\n",
       "      <animate\n",
       "      attributeName=\"x\"\n",
       "      values=\"100;100;500\"\n",
       "      dur=\"4s\"\n",
       "      repeatCount=\"indefinite\" />\n",
       "  </rect>\n",
       "        <g style=\"fill:transparent;stroke-width:8; stroke-linejoin:round\" rx=\"5\">\n",
       "            <g transform=\"translate(45 50) rotate(-45)\">\n",
       "                <circle r=\"33\" cx=\"0\" cy=\"0\" />\n",
       "                <rect x=\"-8\" y=\"32\" width=\"16\" height=\"30\" />\n",
       "            </g>\n",
       "\n",
       "            <g transform=\"translate(450 152)\">\n",
       "                <polyline points=\"-15,-20 -35,-20 -35,40 25,40 25,20\" />\n",
       "                <rect x=\"-15\" y=\"-40\" width=\"60\" height=\"60\" />\n",
       "            </g>\n",
       "\n",
       "            <g transform=\"translate(50 352)\">\n",
       "                <polygon points=\"-35,-5 0,-40 35,-5\" />\n",
       "                <polygon points=\"-35,10 0,45 35,10\" />\n",
       "            </g>\n",
       "\n",
       "            <g transform=\"translate(75 250)\">\n",
       "                <polyline points=\"-30,30 -60,0 -30,-30\" />\n",
       "                <polyline points=\"0,30 -30,0 0,-30\" />\n",
       "            </g>\n",
       "\n",
       "            <g transform=\"translate(425 250) rotate(180)\">\n",
       "                <polyline points=\"-30,30 -60,0 -30,-30\" />\n",
       "                <polyline points=\"0,30 -30,0 0,-30\" />\n",
       "            </g>\n",
       "        </g>\n",
       "    </g>\n",
       "</svg>\n",
       "</a>\n",
       "</div>\n",
       "<div>\n",
       "Loading ITables v2.1.4 from the internet...\n",
       "(need <a href=https://mwouts.github.io/itables/troubleshooting.html>help</a>?)</td>\n",
       "</div>\n",
       "</tr></tbody>\n",
       "\n",
       "</table>\n",
       "<link href=\"https://www.unpkg.com/dt_for_itables@2.0.11/dt_bundle.css\" rel=\"stylesheet\">\n",
       "<script type=\"module\">\n",
       "    import {DataTable, jQuery as $} from 'https://www.unpkg.com/dt_for_itables@2.0.11/dt_bundle.js';\n",
       "\n",
       "    document.querySelectorAll(\"#itables_1c65f91c_b728_4b64_854a_ec2601da4ef4:not(.dataTable)\").forEach(table => {\n",
       "        // Define the table data\n",
       "        const data = [[1, \"bread\"], [1, \"milk\"], [1, \"banana\"], [2, \"milk\"], [2, \"toilet paper\"]];\n",
       "\n",
       "        // Define the dt_args\n",
       "        let dt_args = {\"layout\": {\"topStart\": null, \"topEnd\": null, \"bottomStart\": null, \"bottomEnd\": null}, \"order\": []};\n",
       "        dt_args[\"data\"] = data;\n",
       "\n",
       "        \n",
       "        new DataTable(table, dt_args);\n",
       "    });\n",
       "</script>\n"
      ],
      "text/plain": [
       "<IPython.core.display.HTML object>"
      ]
     },
     "metadata": {},
     "output_type": "display_data"
    },
    {
     "data": {
      "text/html": [
       "<table id=\"itables_98699b1a_52c2_4e82_838d_f2e97677705d\" class=\"display nowrap\" data-quarto-disable-processing=\"true\" style=\"table-layout:auto;width:auto;margin:auto;caption-side:bottom\">\n",
       "<thead>\n",
       "    <tr style=\"text-align: right;\">\n",
       "      \n",
       "      <th>item</th>\n",
       "      <th>price</th>\n",
       "    </tr>\n",
       "  </thead><tbody><tr>\n",
       "<td style=\"vertical-align:middle; text-align:left\">\n",
       "<div style=\"float:left; margin-right: 10px;\">\n",
       "<a href=https://mwouts.github.io/itables/><svg class=\"main-svg\" xmlns=\"http://www.w3.org/2000/svg\" xmlns:xlink=\"http://www.w3.org/1999/xlink\"\n",
       "width=\"64\" viewBox=\"0 0 500 400\" style=\"font-family: 'Droid Sans', sans-serif;\">\n",
       "    <g style=\"fill:#d9d7fc\">\n",
       "        <path d=\"M100,400H500V357H100Z\" />\n",
       "        <path d=\"M100,300H400V257H100Z\" />\n",
       "        <path d=\"M0,200H400V157H0Z\" />\n",
       "        <path d=\"M100,100H500V57H100Z\" />\n",
       "        <path d=\"M100,350H500V307H100Z\" />\n",
       "        <path d=\"M100,250H400V207H100Z\" />\n",
       "        <path d=\"M0,150H400V107H0Z\" />\n",
       "        <path d=\"M100,50H500V7H100Z\" />\n",
       "    </g>\n",
       "    <g style=\"fill:#1a1366;stroke:#1a1366;\">\n",
       "   <rect x=\"100\" y=\"7\" width=\"400\" height=\"43\">\n",
       "    <animate\n",
       "      attributeName=\"width\"\n",
       "      values=\"0;400;0\"\n",
       "      dur=\"5s\"\n",
       "      repeatCount=\"indefinite\" />\n",
       "      <animate\n",
       "      attributeName=\"x\"\n",
       "      values=\"100;100;500\"\n",
       "      dur=\"5s\"\n",
       "      repeatCount=\"indefinite\" />\n",
       "  </rect>\n",
       "        <rect x=\"0\" y=\"107\" width=\"400\" height=\"43\">\n",
       "    <animate\n",
       "      attributeName=\"width\"\n",
       "      values=\"0;400;0\"\n",
       "      dur=\"3.5s\"\n",
       "      repeatCount=\"indefinite\" />\n",
       "    <animate\n",
       "      attributeName=\"x\"\n",
       "      values=\"0;0;400\"\n",
       "      dur=\"3.5s\"\n",
       "      repeatCount=\"indefinite\" />\n",
       "  </rect>\n",
       "        <rect x=\"100\" y=\"207\" width=\"300\" height=\"43\">\n",
       "    <animate\n",
       "      attributeName=\"width\"\n",
       "      values=\"0;300;0\"\n",
       "      dur=\"3s\"\n",
       "      repeatCount=\"indefinite\" />\n",
       "    <animate\n",
       "      attributeName=\"x\"\n",
       "      values=\"100;100;400\"\n",
       "      dur=\"3s\"\n",
       "      repeatCount=\"indefinite\" />\n",
       "  </rect>\n",
       "        <rect x=\"100\" y=\"307\" width=\"400\" height=\"43\">\n",
       "    <animate\n",
       "      attributeName=\"width\"\n",
       "      values=\"0;400;0\"\n",
       "      dur=\"4s\"\n",
       "      repeatCount=\"indefinite\" />\n",
       "      <animate\n",
       "      attributeName=\"x\"\n",
       "      values=\"100;100;500\"\n",
       "      dur=\"4s\"\n",
       "      repeatCount=\"indefinite\" />\n",
       "  </rect>\n",
       "        <g style=\"fill:transparent;stroke-width:8; stroke-linejoin:round\" rx=\"5\">\n",
       "            <g transform=\"translate(45 50) rotate(-45)\">\n",
       "                <circle r=\"33\" cx=\"0\" cy=\"0\" />\n",
       "                <rect x=\"-8\" y=\"32\" width=\"16\" height=\"30\" />\n",
       "            </g>\n",
       "\n",
       "            <g transform=\"translate(450 152)\">\n",
       "                <polyline points=\"-15,-20 -35,-20 -35,40 25,40 25,20\" />\n",
       "                <rect x=\"-15\" y=\"-40\" width=\"60\" height=\"60\" />\n",
       "            </g>\n",
       "\n",
       "            <g transform=\"translate(50 352)\">\n",
       "                <polygon points=\"-35,-5 0,-40 35,-5\" />\n",
       "                <polygon points=\"-35,10 0,45 35,10\" />\n",
       "            </g>\n",
       "\n",
       "            <g transform=\"translate(75 250)\">\n",
       "                <polyline points=\"-30,30 -60,0 -30,-30\" />\n",
       "                <polyline points=\"0,30 -30,0 0,-30\" />\n",
       "            </g>\n",
       "\n",
       "            <g transform=\"translate(425 250) rotate(180)\">\n",
       "                <polyline points=\"-30,30 -60,0 -30,-30\" />\n",
       "                <polyline points=\"0,30 -30,0 0,-30\" />\n",
       "            </g>\n",
       "        </g>\n",
       "    </g>\n",
       "</svg>\n",
       "</a>\n",
       "</div>\n",
       "<div>\n",
       "Loading ITables v2.1.4 from the internet...\n",
       "(need <a href=https://mwouts.github.io/itables/troubleshooting.html>help</a>?)</td>\n",
       "</div>\n",
       "</tr></tbody>\n",
       "\n",
       "</table>\n",
       "<link href=\"https://www.unpkg.com/dt_for_itables@2.0.11/dt_bundle.css\" rel=\"stylesheet\">\n",
       "<script type=\"module\">\n",
       "    import {DataTable, jQuery as $} from 'https://www.unpkg.com/dt_for_itables@2.0.11/dt_bundle.js';\n",
       "\n",
       "    document.querySelectorAll(\"#itables_98699b1a_52c2_4e82_838d_f2e97677705d:not(.dataTable)\").forEach(table => {\n",
       "        // Define the table data\n",
       "        const data = [[\"avocado\", 0.5], [\"banana\", 0.15], [\"bread\", 1.0], [\"milk\", 0.8], [\"toilet paper\", 3.0]];\n",
       "\n",
       "        // Define the dt_args\n",
       "        let dt_args = {\"layout\": {\"topStart\": null, \"topEnd\": null, \"bottomStart\": null, \"bottomEnd\": null}, \"order\": []};\n",
       "        dt_args[\"data\"] = data;\n",
       "\n",
       "        \n",
       "        new DataTable(table, dt_args);\n",
       "    });\n",
       "</script>\n"
      ],
      "text/plain": [
       "<IPython.core.display.HTML object>"
      ]
     },
     "metadata": {},
     "output_type": "display_data"
    }
   ],
   "source": [
    "file1 = 'https://joannabieri.com/introdatascience/data/purchases.csv'\n",
    "DF_purchases = pd.read_csv(file1)\n",
    "file2 = 'https://joannabieri.com/introdatascience/data/prices.csv'\n",
    "DF_prices = pd.read_csv(file2)\n",
    "show(DF_purchases)\n",
    "show(DF_prices)"
   ]
  },
  {
   "cell_type": "markdown",
   "id": "59cc40ab-4b37-4c68-8da7-fdb713a184e5",
   "metadata": {},
   "source": [
    "## Calculate the total revenue\n",
    "\n",
    "**Q8** Given the data above find the total revenue.\n",
    "\n",
    "We will have to join the data frames so that we can see the price of what was sold. So first we look for a common column. In this case both data frames have **item** as a column.\n",
    "\n",
    "Now, think about how to calculate revenue... we need to add up the total money we made, so we need to know the price of each thing sold.\n",
    "\n",
    "**PAUSE - see if you can write some of the code for this before looking at the cells below**"
   ]
  },
  {
   "cell_type": "code",
   "execution_count": 27,
   "id": "0e354cf0-ce17-492c-b23f-129f01826d3f",
   "metadata": {},
   "outputs": [
    {
     "data": {
      "text/html": [
       "<div>\n",
       "<style scoped>\n",
       "    .dataframe tbody tr th:only-of-type {\n",
       "        vertical-align: middle;\n",
       "    }\n",
       "\n",
       "    .dataframe tbody tr th {\n",
       "        vertical-align: top;\n",
       "    }\n",
       "\n",
       "    .dataframe thead th {\n",
       "        text-align: right;\n",
       "    }\n",
       "</style>\n",
       "<table border=\"1\" class=\"dataframe\">\n",
       "  <thead>\n",
       "    <tr style=\"text-align: right;\">\n",
       "      <th></th>\n",
       "      <th>customer_id</th>\n",
       "      <th>item</th>\n",
       "      <th>price</th>\n",
       "    </tr>\n",
       "  </thead>\n",
       "  <tbody>\n",
       "    <tr>\n",
       "      <th>0</th>\n",
       "      <td>NaN</td>\n",
       "      <td>avocado</td>\n",
       "      <td>0.50</td>\n",
       "    </tr>\n",
       "    <tr>\n",
       "      <th>1</th>\n",
       "      <td>1.0</td>\n",
       "      <td>banana</td>\n",
       "      <td>0.15</td>\n",
       "    </tr>\n",
       "    <tr>\n",
       "      <th>2</th>\n",
       "      <td>1.0</td>\n",
       "      <td>bread</td>\n",
       "      <td>1.00</td>\n",
       "    </tr>\n",
       "    <tr>\n",
       "      <th>3</th>\n",
       "      <td>1.0</td>\n",
       "      <td>milk</td>\n",
       "      <td>0.80</td>\n",
       "    </tr>\n",
       "    <tr>\n",
       "      <th>4</th>\n",
       "      <td>2.0</td>\n",
       "      <td>milk</td>\n",
       "      <td>0.80</td>\n",
       "    </tr>\n",
       "    <tr>\n",
       "      <th>5</th>\n",
       "      <td>2.0</td>\n",
       "      <td>toilet paper</td>\n",
       "      <td>3.00</td>\n",
       "    </tr>\n",
       "  </tbody>\n",
       "</table>\n",
       "</div>"
      ],
      "text/plain": [
       "   customer_id          item  price\n",
       "0          NaN       avocado   0.50\n",
       "1          1.0        banana   0.15\n",
       "2          1.0         bread   1.00\n",
       "3          1.0          milk   0.80\n",
       "4          2.0          milk   0.80\n",
       "5          2.0  toilet paper   3.00"
      ]
     },
     "execution_count": 27,
     "metadata": {},
     "output_type": "execute_result"
    }
   ],
   "source": [
    "# \"how=outer\"\n",
    "DF_total = pd.merge(DF_purchases, DF_prices,on='item',how='outer')\n",
    "DF_total"
   ]
  },
  {
   "cell_type": "code",
   "execution_count": 65,
   "id": "d83267c8-fe75-4a94-85b8-e9e8e52fccc5",
   "metadata": {},
   "outputs": [
    {
     "data": {
      "text/html": [
       "<div>\n",
       "<style scoped>\n",
       "    .dataframe tbody tr th:only-of-type {\n",
       "        vertical-align: middle;\n",
       "    }\n",
       "\n",
       "    .dataframe tbody tr th {\n",
       "        vertical-align: top;\n",
       "    }\n",
       "\n",
       "    .dataframe thead th {\n",
       "        text-align: right;\n",
       "    }\n",
       "</style>\n",
       "<table border=\"1\" class=\"dataframe\">\n",
       "  <thead>\n",
       "    <tr style=\"text-align: right;\">\n",
       "      <th></th>\n",
       "      <th>customer_id</th>\n",
       "      <th>item</th>\n",
       "      <th>price</th>\n",
       "    </tr>\n",
       "  </thead>\n",
       "  <tbody>\n",
       "    <tr>\n",
       "      <th>0</th>\n",
       "      <td>1</td>\n",
       "      <td>bread</td>\n",
       "      <td>1.00</td>\n",
       "    </tr>\n",
       "    <tr>\n",
       "      <th>1</th>\n",
       "      <td>1</td>\n",
       "      <td>milk</td>\n",
       "      <td>0.80</td>\n",
       "    </tr>\n",
       "    <tr>\n",
       "      <th>2</th>\n",
       "      <td>1</td>\n",
       "      <td>banana</td>\n",
       "      <td>0.15</td>\n",
       "    </tr>\n",
       "    <tr>\n",
       "      <th>3</th>\n",
       "      <td>2</td>\n",
       "      <td>milk</td>\n",
       "      <td>0.80</td>\n",
       "    </tr>\n",
       "    <tr>\n",
       "      <th>4</th>\n",
       "      <td>2</td>\n",
       "      <td>toilet paper</td>\n",
       "      <td>3.00</td>\n",
       "    </tr>\n",
       "  </tbody>\n",
       "</table>\n",
       "</div>"
      ],
      "text/plain": [
       "   customer_id          item  price\n",
       "0            1         bread   1.00\n",
       "1            1          milk   0.80\n",
       "2            1        banana   0.15\n",
       "3            2          milk   0.80\n",
       "4            2  toilet paper   3.00"
      ]
     },
     "execution_count": 65,
     "metadata": {},
     "output_type": "execute_result"
    }
   ],
   "source": [
    "# \"how=inner\"/customer id together\n",
    "DF_some = pd.merge(DF_purchases,DF_prices,on='item',how='inner')\n",
    "DF_some"
   ]
  },
  {
   "cell_type": "code",
   "execution_count": 39,
   "id": "a6e9ef48-206c-45fd-96c4-751cba05b9b5",
   "metadata": {},
   "outputs": [
    {
     "data": {
      "text/html": [
       "<div>\n",
       "<style scoped>\n",
       "    .dataframe tbody tr th:only-of-type {\n",
       "        vertical-align: middle;\n",
       "    }\n",
       "\n",
       "    .dataframe tbody tr th {\n",
       "        vertical-align: top;\n",
       "    }\n",
       "\n",
       "    .dataframe thead th {\n",
       "        text-align: right;\n",
       "    }\n",
       "</style>\n",
       "<table border=\"1\" class=\"dataframe\">\n",
       "  <thead>\n",
       "    <tr style=\"text-align: right;\">\n",
       "      <th></th>\n",
       "      <th>customer_id</th>\n",
       "      <th>item</th>\n",
       "      <th>price</th>\n",
       "    </tr>\n",
       "  </thead>\n",
       "  <tbody>\n",
       "    <tr>\n",
       "      <th>0</th>\n",
       "      <td>NaN</td>\n",
       "      <td>avocado</td>\n",
       "      <td>0.50</td>\n",
       "    </tr>\n",
       "    <tr>\n",
       "      <th>1</th>\n",
       "      <td>1.0</td>\n",
       "      <td>banana</td>\n",
       "      <td>0.15</td>\n",
       "    </tr>\n",
       "    <tr>\n",
       "      <th>2</th>\n",
       "      <td>1.0</td>\n",
       "      <td>bread</td>\n",
       "      <td>1.00</td>\n",
       "    </tr>\n",
       "    <tr>\n",
       "      <th>3</th>\n",
       "      <td>1.0</td>\n",
       "      <td>milk</td>\n",
       "      <td>0.80</td>\n",
       "    </tr>\n",
       "    <tr>\n",
       "      <th>4</th>\n",
       "      <td>2.0</td>\n",
       "      <td>milk</td>\n",
       "      <td>0.80</td>\n",
       "    </tr>\n",
       "    <tr>\n",
       "      <th>5</th>\n",
       "      <td>2.0</td>\n",
       "      <td>toilet paper</td>\n",
       "      <td>3.00</td>\n",
       "    </tr>\n",
       "  </tbody>\n",
       "</table>\n",
       "</div>"
      ],
      "text/plain": [
       "   customer_id          item  price\n",
       "0          NaN       avocado   0.50\n",
       "1          1.0        banana   0.15\n",
       "2          1.0         bread   1.00\n",
       "3          1.0          milk   0.80\n",
       "4          2.0          milk   0.80\n",
       "5          2.0  toilet paper   3.00"
      ]
     },
     "execution_count": 39,
     "metadata": {},
     "output_type": "execute_result"
    }
   ],
   "source": [
    "# \"how=right\"/total\n",
    "DF_right = pd.merge(DF_purchases,DF_prices,on='item',how='right')\n",
    "DF_right"
   ]
  },
  {
   "cell_type": "code",
   "execution_count": 63,
   "id": "c42954be-51ba-48ba-a6de-e91b12964874",
   "metadata": {},
   "outputs": [
    {
     "data": {
      "text/html": [
       "<div>\n",
       "<style scoped>\n",
       "    .dataframe tbody tr th:only-of-type {\n",
       "        vertical-align: middle;\n",
       "    }\n",
       "\n",
       "    .dataframe tbody tr th {\n",
       "        vertical-align: top;\n",
       "    }\n",
       "\n",
       "    .dataframe thead th {\n",
       "        text-align: right;\n",
       "    }\n",
       "</style>\n",
       "<table border=\"1\" class=\"dataframe\">\n",
       "  <thead>\n",
       "    <tr style=\"text-align: right;\">\n",
       "      <th></th>\n",
       "      <th>customer_id</th>\n",
       "      <th>item</th>\n",
       "      <th>price</th>\n",
       "    </tr>\n",
       "  </thead>\n",
       "  <tbody>\n",
       "    <tr>\n",
       "      <th>0</th>\n",
       "      <td>1</td>\n",
       "      <td>bread</td>\n",
       "      <td>1.00</td>\n",
       "    </tr>\n",
       "    <tr>\n",
       "      <th>1</th>\n",
       "      <td>1</td>\n",
       "      <td>milk</td>\n",
       "      <td>0.80</td>\n",
       "    </tr>\n",
       "    <tr>\n",
       "      <th>2</th>\n",
       "      <td>1</td>\n",
       "      <td>banana</td>\n",
       "      <td>0.15</td>\n",
       "    </tr>\n",
       "    <tr>\n",
       "      <th>3</th>\n",
       "      <td>2</td>\n",
       "      <td>milk</td>\n",
       "      <td>0.80</td>\n",
       "    </tr>\n",
       "    <tr>\n",
       "      <th>4</th>\n",
       "      <td>2</td>\n",
       "      <td>toilet paper</td>\n",
       "      <td>3.00</td>\n",
       "    </tr>\n",
       "  </tbody>\n",
       "</table>\n",
       "</div>"
      ],
      "text/plain": [
       "   customer_id          item  price\n",
       "0            1         bread   1.00\n",
       "1            1          milk   0.80\n",
       "2            1        banana   0.15\n",
       "3            2          milk   0.80\n",
       "4            2  toilet paper   3.00"
      ]
     },
     "execution_count": 63,
     "metadata": {},
     "output_type": "execute_result"
    }
   ],
   "source": [
    "# \"how=left\"/customer id together\n",
    "DF_left = pd.merge(DF_purchases,DF_prices,on='item',how='left')\n",
    "DF_left"
   ]
  },
  {
   "cell_type": "code",
   "execution_count": 59,
   "id": "66231fd5-7ab2-4a9f-ba6f-ddd099516e24",
   "metadata": {},
   "outputs": [
    {
     "data": {
      "text/plain": [
       "6.25"
      ]
     },
     "execution_count": 59,
     "metadata": {},
     "output_type": "execute_result"
    }
   ],
   "source": [
    "# total revenue (price)\n",
    "DF_total['price'].sum()"
   ]
  },
  {
   "cell_type": "markdown",
   "id": "e437831b-9e27-40c1-b7e1-893785439543",
   "metadata": {},
   "source": [
    "**See the lecture notes if you need heelp figuring this out!**\n",
    "\n",
    "**Q9** Calculate the revenue per customer? Hint - group by the customer id and then apply the sum()."
   ]
  },
  {
   "cell_type": "code",
   "execution_count": 61,
   "id": "0863ba4f-65d0-4465-bd70-4557c581a15d",
   "metadata": {},
   "outputs": [
    {
     "data": {
      "text/plain": [
       "7.0"
      ]
     },
     "execution_count": 61,
     "metadata": {},
     "output_type": "execute_result"
    }
   ],
   "source": [
    "# Your code here\n",
    "DF_total['customer_id'].sum()"
   ]
  },
  {
   "cell_type": "markdown",
   "id": "0b3b6bfe-df90-4521-9d96-404916911e2b",
   "metadata": {},
   "source": [
    "# Practice Exam - EDA - College Majors\n",
    "\n",
    "Your solutions should include code written to answer the questions AND words describing the results. For each problem:\n",
    "\n",
    "1. Write code to get the answers. It is okay to copy and paste from our lecture notes or your homework assignments.\n",
    "2. Describe what the code output is telling you.\n",
    "3. Explain any interesting aspects of your results.\n",
    "\n",
    "------------------------\n",
    "-------------------------"
   ]
  },
  {
   "cell_type": "markdown",
   "id": "1c634098-c93e-41c2-bc4a-523f4c27a333",
   "metadata": {},
   "source": [
    "The first step in the process of turning information into knowledge process is to summarize and describe the raw information - the data.\n",
    "In this assignment we explore data on college majors and earnings, specifically the data begin the FiveThirtyEight story [\"The Economic Guide To Picking A College Major\"](https://fivethirtyeight.com/features/the-economic-guide-to-picking-a-college-major/).\n",
    "\n",
    "These data originally come from the American Community Survey (ACS) 2010-2012 Public Use Microdata Series.\n",
    "While this is outside the scope of this assignment, if you are curious about how raw data from the ACS were cleaned and prepared, see [the code](https://github.com/fivethirtyeight/data/blob/master/college-majors/college-majors-rscript.R) FiveThirtyEight authors used.\n",
    "\n",
    "We should also note that there are many considerations that go into picking a major.\n",
    "Earnings potential and employment prospects are two of them, and they are important, but they don't tell the whole story.\n",
    "Keep this in mind as you analyze the data."
   ]
  },
  {
   "cell_type": "code",
   "execution_count": 368,
   "id": "20e25679-7c2a-4244-be1b-dc01e35f8126",
   "metadata": {},
   "outputs": [],
   "source": [
    "file_location = 'https://joannabieri.com/introdatascience/data/recent-grads.csv'\n",
    "DF_raw = pd.read_csv(file_location)"
   ]
  },
  {
   "cell_type": "code",
   "execution_count": 370,
   "id": "763b02f4-00ce-4b9a-ac1d-792c794109f1",
   "metadata": {},
   "outputs": [
    {
     "data": {
      "text/html": [
       "<div>\n",
       "<style scoped>\n",
       "    .dataframe tbody tr th:only-of-type {\n",
       "        vertical-align: middle;\n",
       "    }\n",
       "\n",
       "    .dataframe tbody tr th {\n",
       "        vertical-align: top;\n",
       "    }\n",
       "\n",
       "    .dataframe thead th {\n",
       "        text-align: right;\n",
       "    }\n",
       "</style>\n",
       "<table border=\"1\" class=\"dataframe\">\n",
       "  <thead>\n",
       "    <tr style=\"text-align: right;\">\n",
       "      <th></th>\n",
       "      <th>Rank</th>\n",
       "      <th>Major_code</th>\n",
       "      <th>Major</th>\n",
       "      <th>Total</th>\n",
       "      <th>Men</th>\n",
       "      <th>Women</th>\n",
       "      <th>Major_category</th>\n",
       "      <th>ShareWomen</th>\n",
       "      <th>Sample_size</th>\n",
       "      <th>Employed</th>\n",
       "      <th>...</th>\n",
       "      <th>Part_time</th>\n",
       "      <th>Full_time_year_round</th>\n",
       "      <th>Unemployed</th>\n",
       "      <th>Unemployment_rate</th>\n",
       "      <th>Median</th>\n",
       "      <th>P25th</th>\n",
       "      <th>P75th</th>\n",
       "      <th>College_jobs</th>\n",
       "      <th>Non_college_jobs</th>\n",
       "      <th>Low_wage_jobs</th>\n",
       "    </tr>\n",
       "  </thead>\n",
       "  <tbody>\n",
       "    <tr>\n",
       "      <th>0</th>\n",
       "      <td>1</td>\n",
       "      <td>2419</td>\n",
       "      <td>PETROLEUM ENGINEERING</td>\n",
       "      <td>2339.0</td>\n",
       "      <td>2057.0</td>\n",
       "      <td>282.0</td>\n",
       "      <td>Engineering</td>\n",
       "      <td>0.120564</td>\n",
       "      <td>36</td>\n",
       "      <td>1976</td>\n",
       "      <td>...</td>\n",
       "      <td>270</td>\n",
       "      <td>1207</td>\n",
       "      <td>37</td>\n",
       "      <td>0.018381</td>\n",
       "      <td>110000</td>\n",
       "      <td>95000</td>\n",
       "      <td>125000</td>\n",
       "      <td>1534</td>\n",
       "      <td>364</td>\n",
       "      <td>193</td>\n",
       "    </tr>\n",
       "    <tr>\n",
       "      <th>1</th>\n",
       "      <td>2</td>\n",
       "      <td>2416</td>\n",
       "      <td>MINING AND MINERAL ENGINEERING</td>\n",
       "      <td>756.0</td>\n",
       "      <td>679.0</td>\n",
       "      <td>77.0</td>\n",
       "      <td>Engineering</td>\n",
       "      <td>0.101852</td>\n",
       "      <td>7</td>\n",
       "      <td>640</td>\n",
       "      <td>...</td>\n",
       "      <td>170</td>\n",
       "      <td>388</td>\n",
       "      <td>85</td>\n",
       "      <td>0.117241</td>\n",
       "      <td>75000</td>\n",
       "      <td>55000</td>\n",
       "      <td>90000</td>\n",
       "      <td>350</td>\n",
       "      <td>257</td>\n",
       "      <td>50</td>\n",
       "    </tr>\n",
       "    <tr>\n",
       "      <th>2</th>\n",
       "      <td>3</td>\n",
       "      <td>2415</td>\n",
       "      <td>METALLURGICAL ENGINEERING</td>\n",
       "      <td>856.0</td>\n",
       "      <td>725.0</td>\n",
       "      <td>131.0</td>\n",
       "      <td>Engineering</td>\n",
       "      <td>0.153037</td>\n",
       "      <td>3</td>\n",
       "      <td>648</td>\n",
       "      <td>...</td>\n",
       "      <td>133</td>\n",
       "      <td>340</td>\n",
       "      <td>16</td>\n",
       "      <td>0.024096</td>\n",
       "      <td>73000</td>\n",
       "      <td>50000</td>\n",
       "      <td>105000</td>\n",
       "      <td>456</td>\n",
       "      <td>176</td>\n",
       "      <td>0</td>\n",
       "    </tr>\n",
       "    <tr>\n",
       "      <th>3</th>\n",
       "      <td>4</td>\n",
       "      <td>2417</td>\n",
       "      <td>NAVAL ARCHITECTURE AND MARINE ENGINEERING</td>\n",
       "      <td>1258.0</td>\n",
       "      <td>1123.0</td>\n",
       "      <td>135.0</td>\n",
       "      <td>Engineering</td>\n",
       "      <td>0.107313</td>\n",
       "      <td>16</td>\n",
       "      <td>758</td>\n",
       "      <td>...</td>\n",
       "      <td>150</td>\n",
       "      <td>692</td>\n",
       "      <td>40</td>\n",
       "      <td>0.050125</td>\n",
       "      <td>70000</td>\n",
       "      <td>43000</td>\n",
       "      <td>80000</td>\n",
       "      <td>529</td>\n",
       "      <td>102</td>\n",
       "      <td>0</td>\n",
       "    </tr>\n",
       "    <tr>\n",
       "      <th>4</th>\n",
       "      <td>5</td>\n",
       "      <td>2405</td>\n",
       "      <td>CHEMICAL ENGINEERING</td>\n",
       "      <td>32260.0</td>\n",
       "      <td>21239.0</td>\n",
       "      <td>11021.0</td>\n",
       "      <td>Engineering</td>\n",
       "      <td>0.341631</td>\n",
       "      <td>289</td>\n",
       "      <td>25694</td>\n",
       "      <td>...</td>\n",
       "      <td>5180</td>\n",
       "      <td>16697</td>\n",
       "      <td>1672</td>\n",
       "      <td>0.061098</td>\n",
       "      <td>65000</td>\n",
       "      <td>50000</td>\n",
       "      <td>75000</td>\n",
       "      <td>18314</td>\n",
       "      <td>4440</td>\n",
       "      <td>972</td>\n",
       "    </tr>\n",
       "    <tr>\n",
       "      <th>...</th>\n",
       "      <td>...</td>\n",
       "      <td>...</td>\n",
       "      <td>...</td>\n",
       "      <td>...</td>\n",
       "      <td>...</td>\n",
       "      <td>...</td>\n",
       "      <td>...</td>\n",
       "      <td>...</td>\n",
       "      <td>...</td>\n",
       "      <td>...</td>\n",
       "      <td>...</td>\n",
       "      <td>...</td>\n",
       "      <td>...</td>\n",
       "      <td>...</td>\n",
       "      <td>...</td>\n",
       "      <td>...</td>\n",
       "      <td>...</td>\n",
       "      <td>...</td>\n",
       "      <td>...</td>\n",
       "      <td>...</td>\n",
       "      <td>...</td>\n",
       "    </tr>\n",
       "    <tr>\n",
       "      <th>168</th>\n",
       "      <td>169</td>\n",
       "      <td>3609</td>\n",
       "      <td>ZOOLOGY</td>\n",
       "      <td>8409.0</td>\n",
       "      <td>3050.0</td>\n",
       "      <td>5359.0</td>\n",
       "      <td>Biology &amp; Life Science</td>\n",
       "      <td>0.637293</td>\n",
       "      <td>47</td>\n",
       "      <td>6259</td>\n",
       "      <td>...</td>\n",
       "      <td>2190</td>\n",
       "      <td>3602</td>\n",
       "      <td>304</td>\n",
       "      <td>0.046320</td>\n",
       "      <td>26000</td>\n",
       "      <td>20000</td>\n",
       "      <td>39000</td>\n",
       "      <td>2771</td>\n",
       "      <td>2947</td>\n",
       "      <td>743</td>\n",
       "    </tr>\n",
       "    <tr>\n",
       "      <th>169</th>\n",
       "      <td>170</td>\n",
       "      <td>5201</td>\n",
       "      <td>EDUCATIONAL PSYCHOLOGY</td>\n",
       "      <td>2854.0</td>\n",
       "      <td>522.0</td>\n",
       "      <td>2332.0</td>\n",
       "      <td>Psychology &amp; Social Work</td>\n",
       "      <td>0.817099</td>\n",
       "      <td>7</td>\n",
       "      <td>2125</td>\n",
       "      <td>...</td>\n",
       "      <td>572</td>\n",
       "      <td>1211</td>\n",
       "      <td>148</td>\n",
       "      <td>0.065112</td>\n",
       "      <td>25000</td>\n",
       "      <td>24000</td>\n",
       "      <td>34000</td>\n",
       "      <td>1488</td>\n",
       "      <td>615</td>\n",
       "      <td>82</td>\n",
       "    </tr>\n",
       "    <tr>\n",
       "      <th>170</th>\n",
       "      <td>171</td>\n",
       "      <td>5202</td>\n",
       "      <td>CLINICAL PSYCHOLOGY</td>\n",
       "      <td>2838.0</td>\n",
       "      <td>568.0</td>\n",
       "      <td>2270.0</td>\n",
       "      <td>Psychology &amp; Social Work</td>\n",
       "      <td>0.799859</td>\n",
       "      <td>13</td>\n",
       "      <td>2101</td>\n",
       "      <td>...</td>\n",
       "      <td>648</td>\n",
       "      <td>1293</td>\n",
       "      <td>368</td>\n",
       "      <td>0.149048</td>\n",
       "      <td>25000</td>\n",
       "      <td>25000</td>\n",
       "      <td>40000</td>\n",
       "      <td>986</td>\n",
       "      <td>870</td>\n",
       "      <td>622</td>\n",
       "    </tr>\n",
       "    <tr>\n",
       "      <th>171</th>\n",
       "      <td>172</td>\n",
       "      <td>5203</td>\n",
       "      <td>COUNSELING PSYCHOLOGY</td>\n",
       "      <td>4626.0</td>\n",
       "      <td>931.0</td>\n",
       "      <td>3695.0</td>\n",
       "      <td>Psychology &amp; Social Work</td>\n",
       "      <td>0.798746</td>\n",
       "      <td>21</td>\n",
       "      <td>3777</td>\n",
       "      <td>...</td>\n",
       "      <td>965</td>\n",
       "      <td>2738</td>\n",
       "      <td>214</td>\n",
       "      <td>0.053621</td>\n",
       "      <td>23400</td>\n",
       "      <td>19200</td>\n",
       "      <td>26000</td>\n",
       "      <td>2403</td>\n",
       "      <td>1245</td>\n",
       "      <td>308</td>\n",
       "    </tr>\n",
       "    <tr>\n",
       "      <th>172</th>\n",
       "      <td>173</td>\n",
       "      <td>3501</td>\n",
       "      <td>LIBRARY SCIENCE</td>\n",
       "      <td>1098.0</td>\n",
       "      <td>134.0</td>\n",
       "      <td>964.0</td>\n",
       "      <td>Education</td>\n",
       "      <td>0.877960</td>\n",
       "      <td>2</td>\n",
       "      <td>742</td>\n",
       "      <td>...</td>\n",
       "      <td>237</td>\n",
       "      <td>410</td>\n",
       "      <td>87</td>\n",
       "      <td>0.104946</td>\n",
       "      <td>22000</td>\n",
       "      <td>20000</td>\n",
       "      <td>22000</td>\n",
       "      <td>288</td>\n",
       "      <td>338</td>\n",
       "      <td>192</td>\n",
       "    </tr>\n",
       "  </tbody>\n",
       "</table>\n",
       "<p>173 rows × 21 columns</p>\n",
       "</div>"
      ],
      "text/plain": [
       "     Rank  Major_code                                      Major    Total  \\\n",
       "0       1        2419                      PETROLEUM ENGINEERING   2339.0   \n",
       "1       2        2416             MINING AND MINERAL ENGINEERING    756.0   \n",
       "2       3        2415                  METALLURGICAL ENGINEERING    856.0   \n",
       "3       4        2417  NAVAL ARCHITECTURE AND MARINE ENGINEERING   1258.0   \n",
       "4       5        2405                       CHEMICAL ENGINEERING  32260.0   \n",
       "..    ...         ...                                        ...      ...   \n",
       "168   169        3609                                    ZOOLOGY   8409.0   \n",
       "169   170        5201                     EDUCATIONAL PSYCHOLOGY   2854.0   \n",
       "170   171        5202                        CLINICAL PSYCHOLOGY   2838.0   \n",
       "171   172        5203                      COUNSELING PSYCHOLOGY   4626.0   \n",
       "172   173        3501                            LIBRARY SCIENCE   1098.0   \n",
       "\n",
       "         Men    Women            Major_category  ShareWomen  Sample_size  \\\n",
       "0     2057.0    282.0               Engineering    0.120564           36   \n",
       "1      679.0     77.0               Engineering    0.101852            7   \n",
       "2      725.0    131.0               Engineering    0.153037            3   \n",
       "3     1123.0    135.0               Engineering    0.107313           16   \n",
       "4    21239.0  11021.0               Engineering    0.341631          289   \n",
       "..       ...      ...                       ...         ...          ...   \n",
       "168   3050.0   5359.0    Biology & Life Science    0.637293           47   \n",
       "169    522.0   2332.0  Psychology & Social Work    0.817099            7   \n",
       "170    568.0   2270.0  Psychology & Social Work    0.799859           13   \n",
       "171    931.0   3695.0  Psychology & Social Work    0.798746           21   \n",
       "172    134.0    964.0                 Education    0.877960            2   \n",
       "\n",
       "     Employed  ...  Part_time  Full_time_year_round  Unemployed  \\\n",
       "0        1976  ...        270                  1207          37   \n",
       "1         640  ...        170                   388          85   \n",
       "2         648  ...        133                   340          16   \n",
       "3         758  ...        150                   692          40   \n",
       "4       25694  ...       5180                 16697        1672   \n",
       "..        ...  ...        ...                   ...         ...   \n",
       "168      6259  ...       2190                  3602         304   \n",
       "169      2125  ...        572                  1211         148   \n",
       "170      2101  ...        648                  1293         368   \n",
       "171      3777  ...        965                  2738         214   \n",
       "172       742  ...        237                   410          87   \n",
       "\n",
       "     Unemployment_rate  Median  P25th   P75th  College_jobs  Non_college_jobs  \\\n",
       "0             0.018381  110000  95000  125000          1534               364   \n",
       "1             0.117241   75000  55000   90000           350               257   \n",
       "2             0.024096   73000  50000  105000           456               176   \n",
       "3             0.050125   70000  43000   80000           529               102   \n",
       "4             0.061098   65000  50000   75000         18314              4440   \n",
       "..                 ...     ...    ...     ...           ...               ...   \n",
       "168           0.046320   26000  20000   39000          2771              2947   \n",
       "169           0.065112   25000  24000   34000          1488               615   \n",
       "170           0.149048   25000  25000   40000           986               870   \n",
       "171           0.053621   23400  19200   26000          2403              1245   \n",
       "172           0.104946   22000  20000   22000           288               338   \n",
       "\n",
       "     Low_wage_jobs  \n",
       "0              193  \n",
       "1               50  \n",
       "2                0  \n",
       "3                0  \n",
       "4              972  \n",
       "..             ...  \n",
       "168            743  \n",
       "169             82  \n",
       "170            622  \n",
       "171            308  \n",
       "172            192  \n",
       "\n",
       "[173 rows x 21 columns]"
      ]
     },
     "execution_count": 370,
     "metadata": {},
     "output_type": "execute_result"
    }
   ],
   "source": [
    "DF_raw"
   ]
  },
  {
   "cell_type": "markdown",
   "id": "d2c98753-1b02-4889-81b3-d97627d70824",
   "metadata": {},
   "source": [
    "### 1. Describe the data that you see here.\n",
    "\n",
    "* How many variables?\n",
    "* How man observations?\n",
    "* Are the variables categorical or numerical?\n",
    "* Are there any variables that you don't know what they mean? If so [CLICK HERE - to see the Git Repo for the data where the variables are defined](https://github.com/fivethirtyeight/data/tree/master/college-majors)\n"
   ]
  },
  {
   "cell_type": "code",
   "execution_count": 372,
   "id": "0011fbe4-e81b-446f-8277-a249f36c3880",
   "metadata": {},
   "outputs": [
    {
     "name": "stdout",
     "output_type": "stream",
     "text": [
      "21\n"
     ]
    }
   ],
   "source": [
    "#variable\n",
    "print(len(DF_raw.columns))"
   ]
  },
  {
   "cell_type": "code",
   "execution_count": 374,
   "id": "b09fe27b-bcac-46c2-af97-6ca873f5e81d",
   "metadata": {},
   "outputs": [
    {
     "name": "stdout",
     "output_type": "stream",
     "text": [
      "173\n"
     ]
    }
   ],
   "source": [
    "#observation\n",
    "print(len(DF_raw))"
   ]
  },
  {
   "cell_type": "markdown",
   "id": "53ad59f1-407a-4c95-88cd-24fd10955ef4",
   "metadata": {},
   "source": [
    "The variables are both numerical and categorical since some of the data are numbers while others are not numbers."
   ]
  },
  {
   "cell_type": "markdown",
   "id": "13005d11-f03f-40dd-a53c-9ff76f5dbfe1",
   "metadata": {},
   "source": [
    "This data set has 21 variables (columns) and 173 observations (rows) with numerical and categorical data alike."
   ]
  },
  {
   "cell_type": "code",
   "execution_count": 376,
   "id": "1609a2d2-a099-47e1-a94d-17c56bfbdda7",
   "metadata": {},
   "outputs": [
    {
     "data": {
      "text/plain": [
       "Index(['Rank', 'Major_code', 'Major', 'Total', 'Men', 'Women',\n",
       "       'Major_category', 'ShareWomen', 'Sample_size', 'Employed', 'Full_time',\n",
       "       'Part_time', 'Full_time_year_round', 'Unemployed', 'Unemployment_rate',\n",
       "       'Median', 'P25th', 'P75th', 'College_jobs', 'Non_college_jobs',\n",
       "       'Low_wage_jobs'],\n",
       "      dtype='object')"
      ]
     },
     "execution_count": 376,
     "metadata": {},
     "output_type": "execute_result"
    }
   ],
   "source": [
    "DF_raw.keys()"
   ]
  },
  {
   "cell_type": "markdown",
   "id": "e6081090-f75b-43f2-aaee-e9e90afbb058",
   "metadata": {},
   "source": [
    "### 2. Answer some questions about the data\n",
    "\n",
    "* Which major has the lowest unemployment rate? Show a data frame that answers this question, but only show columns that are useful to the answer.\n",
    "* Which major has the highest percentage of women? Show a data frame that answers this question, but only show columns that are useful to the answer.\n",
    "* How do the distributions of median income compare across major categories?\n",
    "    * First get a value count on what major categories are in the data. What categories are most or least represented?\n",
    "    * Do some summary statistics using the .group_by() command to see the statistics for each major category.\n",
    "    * Make a histogram that explores median income for each of the major categories (facet_col). How did you choose your number of bins?\n",
    "    * Why do we often choose the median, rather than the mean, to describe the typical income of a group of people? Look this up online if you don't know the answer!\n",
    "    * Answer the question: Which major category has the highest typical (you'll need to decide what this means) median income?"
   ]
  },
  {
   "cell_type": "code",
   "execution_count": 218,
   "id": "65955115-72c3-445f-be32-af352ececa93",
   "metadata": {},
   "outputs": [
    {
     "data": {
      "text/html": [
       "<table id=\"itables_20aad94d_792f_421c_b522_7ac009099e0d\" class=\"display nowrap\" data-quarto-disable-processing=\"true\" style=\"table-layout:auto;width:auto;margin:auto;caption-side:bottom\">\n",
       "<thead>\n",
       "    <tr style=\"text-align: right;\">\n",
       "      \n",
       "      <th>Major</th>\n",
       "      <th>Unemployment_rate</th>\n",
       "      <th>Total</th>\n",
       "      <th>Major_category</th>\n",
       "    </tr>\n",
       "  </thead><tbody><tr>\n",
       "<td style=\"vertical-align:middle; text-align:left\">\n",
       "<div style=\"float:left; margin-right: 10px;\">\n",
       "<a href=https://mwouts.github.io/itables/><svg class=\"main-svg\" xmlns=\"http://www.w3.org/2000/svg\" xmlns:xlink=\"http://www.w3.org/1999/xlink\"\n",
       "width=\"64\" viewBox=\"0 0 500 400\" style=\"font-family: 'Droid Sans', sans-serif;\">\n",
       "    <g style=\"fill:#d9d7fc\">\n",
       "        <path d=\"M100,400H500V357H100Z\" />\n",
       "        <path d=\"M100,300H400V257H100Z\" />\n",
       "        <path d=\"M0,200H400V157H0Z\" />\n",
       "        <path d=\"M100,100H500V57H100Z\" />\n",
       "        <path d=\"M100,350H500V307H100Z\" />\n",
       "        <path d=\"M100,250H400V207H100Z\" />\n",
       "        <path d=\"M0,150H400V107H0Z\" />\n",
       "        <path d=\"M100,50H500V7H100Z\" />\n",
       "    </g>\n",
       "    <g style=\"fill:#1a1366;stroke:#1a1366;\">\n",
       "   <rect x=\"100\" y=\"7\" width=\"400\" height=\"43\">\n",
       "    <animate\n",
       "      attributeName=\"width\"\n",
       "      values=\"0;400;0\"\n",
       "      dur=\"5s\"\n",
       "      repeatCount=\"indefinite\" />\n",
       "      <animate\n",
       "      attributeName=\"x\"\n",
       "      values=\"100;100;500\"\n",
       "      dur=\"5s\"\n",
       "      repeatCount=\"indefinite\" />\n",
       "  </rect>\n",
       "        <rect x=\"0\" y=\"107\" width=\"400\" height=\"43\">\n",
       "    <animate\n",
       "      attributeName=\"width\"\n",
       "      values=\"0;400;0\"\n",
       "      dur=\"3.5s\"\n",
       "      repeatCount=\"indefinite\" />\n",
       "    <animate\n",
       "      attributeName=\"x\"\n",
       "      values=\"0;0;400\"\n",
       "      dur=\"3.5s\"\n",
       "      repeatCount=\"indefinite\" />\n",
       "  </rect>\n",
       "        <rect x=\"100\" y=\"207\" width=\"300\" height=\"43\">\n",
       "    <animate\n",
       "      attributeName=\"width\"\n",
       "      values=\"0;300;0\"\n",
       "      dur=\"3s\"\n",
       "      repeatCount=\"indefinite\" />\n",
       "    <animate\n",
       "      attributeName=\"x\"\n",
       "      values=\"100;100;400\"\n",
       "      dur=\"3s\"\n",
       "      repeatCount=\"indefinite\" />\n",
       "  </rect>\n",
       "        <rect x=\"100\" y=\"307\" width=\"400\" height=\"43\">\n",
       "    <animate\n",
       "      attributeName=\"width\"\n",
       "      values=\"0;400;0\"\n",
       "      dur=\"4s\"\n",
       "      repeatCount=\"indefinite\" />\n",
       "      <animate\n",
       "      attributeName=\"x\"\n",
       "      values=\"100;100;500\"\n",
       "      dur=\"4s\"\n",
       "      repeatCount=\"indefinite\" />\n",
       "  </rect>\n",
       "        <g style=\"fill:transparent;stroke-width:8; stroke-linejoin:round\" rx=\"5\">\n",
       "            <g transform=\"translate(45 50) rotate(-45)\">\n",
       "                <circle r=\"33\" cx=\"0\" cy=\"0\" />\n",
       "                <rect x=\"-8\" y=\"32\" width=\"16\" height=\"30\" />\n",
       "            </g>\n",
       "\n",
       "            <g transform=\"translate(450 152)\">\n",
       "                <polyline points=\"-15,-20 -35,-20 -35,40 25,40 25,20\" />\n",
       "                <rect x=\"-15\" y=\"-40\" width=\"60\" height=\"60\" />\n",
       "            </g>\n",
       "\n",
       "            <g transform=\"translate(50 352)\">\n",
       "                <polygon points=\"-35,-5 0,-40 35,-5\" />\n",
       "                <polygon points=\"-35,10 0,45 35,10\" />\n",
       "            </g>\n",
       "\n",
       "            <g transform=\"translate(75 250)\">\n",
       "                <polyline points=\"-30,30 -60,0 -30,-30\" />\n",
       "                <polyline points=\"0,30 -30,0 0,-30\" />\n",
       "            </g>\n",
       "\n",
       "            <g transform=\"translate(425 250) rotate(180)\">\n",
       "                <polyline points=\"-30,30 -60,0 -30,-30\" />\n",
       "                <polyline points=\"0,30 -30,0 0,-30\" />\n",
       "            </g>\n",
       "        </g>\n",
       "    </g>\n",
       "</svg>\n",
       "</a>\n",
       "</div>\n",
       "<div>\n",
       "Loading ITables v2.1.4 from the internet...\n",
       "(need <a href=https://mwouts.github.io/itables/troubleshooting.html>help</a>?)</td>\n",
       "</div>\n",
       "</tr></tbody>\n",
       "\n",
       "</table>\n",
       "<link href=\"https://www.unpkg.com/dt_for_itables@2.0.11/dt_bundle.css\" rel=\"stylesheet\">\n",
       "<script type=\"module\">\n",
       "    import {DataTable, jQuery as $} from 'https://www.unpkg.com/dt_for_itables@2.0.11/dt_bundle.js';\n",
       "\n",
       "    document.querySelectorAll(\"#itables_20aad94d_792f_421c_b522_7ac009099e0d:not(.dataTable)\").forEach(table => {\n",
       "        // Define the table data\n",
       "        const data = [[\"PETROLEUM ENGINEERING\", 0.018381, 2339.0, \"Engineering\"], [\"MINING AND MINERAL ENGINEERING\", 0.117241, 756.0, \"Engineering\"], [\"METALLURGICAL ENGINEERING\", 0.024096, 856.0, \"Engineering\"], [\"NAVAL ARCHITECTURE AND MARINE ENGINEERING\", 0.050125, 1258.0, \"Engineering\"], [\"CHEMICAL ENGINEERING\", 0.061098, 32260.0, \"Engineering\"], [\"NUCLEAR ENGINEERING\", 0.177226, 2573.0, \"Engineering\"], [\"ACTUARIAL SCIENCE\", 0.095652, 3777.0, \"Business\"], [\"ASTRONOMY AND ASTROPHYSICS\", 0.021167, 1792.0, \"Physical Sciences\"], [\"MECHANICAL ENGINEERING\", 0.057342, 91227.0, \"Engineering\"], [\"ELECTRICAL ENGINEERING\", 0.059174, 81527.0, \"Engineering\"], [\"COMPUTER ENGINEERING\", 0.065409, 41542.0, \"Engineering\"], [\"AEROSPACE ENGINEERING\", 0.065162, 15058.0, \"Engineering\"], [\"BIOMEDICAL ENGINEERING\", 0.092084, 14955.0, \"Engineering\"], [\"MATERIALS SCIENCE\", 0.023043, 4279.0, \"Engineering\"], [\"ENGINEERING MECHANICS PHYSICS AND SCIENCE\", 0.006334, 4321.0, \"Engineering\"], [\"BIOLOGICAL ENGINEERING\", 0.087143, 8925.0, \"Engineering\"], [\"INDUSTRIAL AND MANUFACTURING ENGINEERING\", 0.042876, 18968.0, \"Engineering\"], [\"GENERAL ENGINEERING\", 0.059824, 61152.0, \"Engineering\"], [\"ARCHITECTURAL ENGINEERING\", 0.061931, 2825.0, \"Engineering\"], [\"COURT REPORTING\", 0.01169, 1148.0, \"Law & Public Policy\"], [\"COMPUTER SCIENCE\", 0.063173, 128319.0, \"Computers & Mathematics\"], [\"FOOD SCIENCE\", 0.096931, NaN, \"Agriculture & Natural Resources\"], [\"ELECTRICAL ENGINEERING TECHNOLOGY\", 0.087557, 11565.0, \"Engineering\"], [\"MATERIALS ENGINEERING AND MATERIALS SCIENCE\", 0.027789, 2993.0, \"Engineering\"], [\"MANAGEMENT INFORMATION SYSTEMS AND STATISTICS\", 0.05824, 18713.0, \"Business\"], [\"CIVIL ENGINEERING\", 0.07061, 53153.0, \"Engineering\"], [\"CONSTRUCTION SERVICES\", 0.060023, 18498.0, \"Industrial Arts & Consumer Services\"], [\"OPERATIONS LOGISTICS AND E-COMMERCE\", 0.047859, 11732.0, \"Business\"], [\"MISCELLANEOUS ENGINEERING\", 0.074393, 9133.0, \"Engineering\"], [\"PUBLIC POLICY\", 0.128426, 5978.0, \"Law & Public Policy\"], [\"ENVIRONMENTAL ENGINEERING\", 0.093589, 4047.0, \"Engineering\"], [\"ENGINEERING TECHNOLOGIES\", 0.05503, 3600.0, \"Engineering\"], [\"MISCELLANEOUS FINE ARTS\", 0.089375, 3340.0, \"Arts\"], [\"GEOLOGICAL AND GEOPHYSICAL ENGINEERING\", 0.075038, 720.0, \"Engineering\"], [\"NURSING\", 0.044863, 209394.0, \"Health\"], [\"FINANCE\", 0.060686, 174506.0, \"Business\"], [\"ECONOMICS\", 0.099092, 139247.0, \"Social Science\"], [\"BUSINESS ECONOMICS\", 0.096448, 13302.0, \"Business\"], [\"INDUSTRIAL PRODUCTION TECHNOLOGIES\", 0.028308, 4631.0, \"Engineering\"], [\"NUCLEAR, INDUSTRIAL RADIOLOGY, AND BIOLOGICAL TECHNOLOGIES\", 0.07154, 2116.0, \"Physical Sciences\"], [\"ACCOUNTING\", 0.069749, 198633.0, \"Business\"], [\"MATHEMATICS\", 0.047277, 72397.0, \"Computers & Mathematics\"], [\"COMPUTER AND INFORMATION SYSTEMS\", 0.09346, 36698.0, \"Computers & Mathematics\"], [\"PHYSICS\", 0.048224, 32142.0, \"Physical Sciences\"], [\"MEDICAL TECHNOLOGIES TECHNICIANS\", 0.036983, 15914.0, \"Health\"], [\"INFORMATION SCIENCES\", 0.060741, 11913.0, \"Computers & Mathematics\"], [\"STATISTICS AND DECISION SCIENCE\", 0.086274, 6251.0, \"Computers & Mathematics\"], [\"APPLIED MATHEMATICS\", 0.090823, 4939.0, \"Computers & Mathematics\"], [\"PHARMACOLOGY\", 0.085532, 1762.0, \"Biology & Life Science\"], [\"OCEANOGRAPHY\", 0.056995, 2418.0, \"Physical Sciences\"], [\"ENGINEERING AND INDUSTRIAL MANAGEMENT\", 0.033652, 2906.0, \"Engineering\"], [\"MEDICAL ASSISTING SERVICES\", 0.042507, 11123.0, \"Health\"], [\"MATHEMATICS AND COMPUTER SCIENCE\", 0.0, 609.0, \"Computers & Mathematics\"], [\"COMPUTER PROGRAMMING AND DATA PROCESSING\", 0.113983, 4168.0, \"Computers & Mathematics\"], [\"COGNITIVE SCIENCE AND BIOPSYCHOLOGY\", 0.075236, 3831.0, \"Biology & Life Science\"], [\"SCHOOL STUDENT COUNSELING\", 0.107579, 818.0, \"Education\"], [\"INTERNATIONAL RELATIONS\", 0.096799, 28187.0, \"Social Science\"], [\"GENERAL BUSINESS\", 0.072861, 234590.0, \"Business\"], [\"ARCHITECTURE\", 0.113332, 46420.0, \"Engineering\"], [\"INTERNATIONAL BUSINESS\", 0.096175, 25894.0, \"Business\"], [\"PHARMACY PHARMACEUTICAL SCIENCES AND ADMINISTRATION\", 0.055521, 23551.0, \"Health\"], [\"MOLECULAR BIOLOGY\", 0.084361, 18300.0, \"Biology & Life Science\"], [\"MISCELLANEOUS BUSINESS & MEDICAL ADMINISTRATION\", 0.071983, 17947.0, \"Business\"], [\"AGRICULTURE PRODUCTION AND MANAGEMENT\", 0.050031, 14240.0, \"Agriculture & Natural Resources\"], [\"GENERAL AGRICULTURE\", 0.019642, 10399.0, \"Agriculture & Natural Resources\"], [\"MISCELLANEOUS ENGINEERING TECHNOLOGIES\", 0.052539, 8804.0, \"Engineering\"], [\"MECHANICAL ENGINEERING RELATED TECHNOLOGIES\", 0.056357, 4790.0, \"Engineering\"], [\"GENETICS\", 0.034118, 3635.0, \"Biology & Life Science\"], [\"MISCELLANEOUS SOCIAL SCIENCES\", 0.07308, 3283.0, \"Social Science\"], [\"UNITED STATES HISTORY\", 0.047179, 3079.0, \"Humanities & Liberal Arts\"], [\"INDUSTRIAL AND ORGANIZATIONAL PSYCHOLOGY\", 0.108787, 3014.0, \"Psychology & Social Work\"], [\"AGRICULTURAL ECONOMICS\", 0.07725, 2439.0, \"Agriculture & Natural Resources\"], [\"PHYSICAL SCIENCES\", 0.035354, 1436.0, \"Physical Sciences\"], [\"MILITARY TECHNOLOGIES\", 0.0, 124.0, \"Industrial Arts & Consumer Services\"], [\"CHEMISTRY\", 0.053972, 66530.0, \"Physical Sciences\"], [\"ELECTRICAL, MECHANICAL, AND PRECISION TECHNOLOGIES AND PRODUCTION\", 0.02948, 2435.0, \"Industrial Arts & Consumer Services\"], [\"BUSINESS MANAGEMENT AND ADMINISTRATION\", 0.072218, 329927.0, \"Business\"], [\"MARKETING AND MARKETING RESEARCH\", 0.061215, 205211.0, \"Business\"], [\"POLITICAL SCIENCE AND GOVERNMENT\", 0.101175, 182621.0, \"Social Science\"], [\"GEOGRAPHY\", 0.113459, 18480.0, \"Social Science\"], [\"MICROBIOLOGY\", 0.066776, 15232.0, \"Biology & Life Science\"], [\"COMPUTER ADMINISTRATION MANAGEMENT AND SECURITY\", 0.099723, 8066.0, \"Computers & Mathematics\"], [\"BIOCHEMICAL SCIENCES\", 0.080531, 39107.0, \"Biology & Life Science\"], [\"BOTANY\", 0.0, 1329.0, \"Biology & Life Science\"], [\"COMPUTER NETWORKING AND TELECOMMUNICATIONS\", 0.15185, 7613.0, \"Computers & Mathematics\"], [\"GEOLOGY AND EARTH SCIENCE\", 0.075449, 10972.0, \"Physical Sciences\"], [\"HUMAN RESOURCES AND PERSONNEL MANAGEMENT\", 0.05957, 24497.0, \"Business\"], [\"PRE-LAW AND LEGAL STUDIES\", 0.071965, 13528.0, \"Law & Public Policy\"], [\"MISCELLANEOUS HEALTH MEDICAL PROFESSIONS\", 0.081411, 13386.0, \"Health\"], [\"PUBLIC ADMINISTRATION\", 0.159491, 5629.0, \"Law & Public Policy\"], [\"GEOSCIENCES\", 0.024374, 1978.0, \"Physical Sciences\"], [\"SOCIAL PSYCHOLOGY\", 0.02965, 1386.0, \"Psychology & Social Work\"], [\"ENVIRONMENTAL SCIENCE\", 0.078585, 25965.0, \"Biology & Life Science\"], [\"COMMUNICATIONS\", 0.075177, 213996.0, \"Communications & Journalism\"], [\"CRIMINAL JUSTICE AND FIRE PROTECTION\", 0.082452, 152824.0, \"Law & Public Policy\"], [\"COMMERCIAL ART AND GRAPHIC DESIGN\", 0.096798, 103480.0, \"Arts\"], [\"JOURNALISM\", 0.069176, 72619.0, \"Communications & Journalism\"], [\"MULTI-DISCIPLINARY OR GENERAL SCIENCE\", 0.055807, 62052.0, \"Physical Sciences\"], [\"ADVERTISING AND PUBLIC RELATIONS\", 0.067961, 53162.0, \"Communications & Journalism\"], [\"AREA ETHNIC AND CIVILIZATION STUDIES\", 0.063429, 31195.0, \"Humanities & Liberal Arts\"], [\"SPECIAL NEEDS EDUCATION\", 0.041508, 28739.0, \"Education\"], [\"PHYSIOLOGY\", 0.069163, 22060.0, \"Biology & Life Science\"], [\"CRIMINOLOGY\", 0.097244, 19879.0, \"Social Science\"], [\"NUTRITION SCIENCES\", 0.068701, 18909.0, \"Health\"], [\"HEALTH AND MEDICAL ADMINISTRATIVE SERVICES\", 0.089626, 18109.0, \"Health\"], [\"COMMUNICATION TECHNOLOGIES\", 0.119511, 18035.0, \"Computers & Mathematics\"], [\"TRANSPORTATION SCIENCES AND TECHNOLOGIES\", 0.072725, 15150.0, \"Industrial Arts & Consumer Services\"], [\"NATURAL RESOURCES MANAGEMENT\", 0.066619, 13773.0, \"Agriculture & Natural Resources\"], [\"NEUROSCIENCE\", 0.048482, 13663.0, \"Biology & Life Science\"], [\"MULTI/INTERDISCIPLINARY STUDIES\", 0.070861, 12296.0, \"Interdisciplinary\"], [\"ATMOSPHERIC SCIENCES AND METEOROLOGY\", 0.022229, 4043.0, \"Physical Sciences\"], [\"FORESTRY\", 0.096726, 3607.0, \"Agriculture & Natural Resources\"], [\"SOIL SCIENCE\", 0.0, 685.0, \"Agriculture & Natural Resources\"], [\"GENERAL EDUCATION\", 0.05736, 143718.0, \"Education\"], [\"HISTORY\", 0.095667, 141951.0, \"Humanities & Liberal Arts\"], [\"FRENCH GERMAN LATIN AND OTHER COMMON FOREIGN LANGUAGE STUDIES\", 0.075566, 48246.0, \"Humanities & Liberal Arts\"], [\"INTERCULTURAL AND INTERNATIONAL STUDIES\", 0.083634, 24650.0, \"Humanities & Liberal Arts\"], [\"SOCIAL SCIENCE OR HISTORY TEACHER EDUCATION\", 0.054083, 20198.0, \"Education\"], [\"COMMUNITY AND PUBLIC HEALTH\", 0.112144, 19735.0, \"Health\"], [\"MATHEMATICS TEACHER EDUCATION\", 0.016203, 14237.0, \"Education\"], [\"EDUCATIONAL ADMINISTRATION AND SUPERVISION\", 0.0, 804.0, \"Education\"], [\"HEALTH AND MEDICAL PREPARATORY PROGRAMS\", 0.06978, 12740.0, \"Health\"], [\"MISCELLANEOUS BIOLOGY\", 0.058545, 10706.0, \"Biology & Life Science\"], [\"BIOLOGY\", 0.070725, 280709.0, \"Biology & Life Science\"], [\"SOCIOLOGY\", 0.084951, 115433.0, \"Social Science\"], [\"MASS MEDIA\", 0.089837, 52824.0, \"Communications & Journalism\"], [\"TREATMENT THERAPY PROFESSIONS\", 0.059821, 48491.0, \"Health\"], [\"HOSPITALITY MANAGEMENT\", 0.061169, 43647.0, \"Business\"], [\"LANGUAGE AND DRAMA EDUCATION\", 0.050306, 30471.0, \"Education\"], [\"LINGUISTICS AND COMPARATIVE LANGUAGE AND LITERATURE\", 0.104436, 16601.0, \"Humanities & Liberal Arts\"], [\"MISCELLANEOUS EDUCATION\", 0.059212, 10150.0, \"Education\"], [\"INTERDISCIPLINARY SOCIAL SCIENCES\", 0.092306, 9916.0, \"Social Science\"], [\"ECOLOGY\", 0.054475, 9154.0, \"Biology & Life Science\"], [\"SECONDARY TEACHER EDUCATION\", 0.052229, 17125.0, \"Education\"], [\"GENERAL MEDICAL AND HEALTH SERVICES\", 0.082102, 33599.0, \"Health\"], [\"PHILOSOPHY AND RELIGIOUS STUDIES\", 0.096052, 54814.0, \"Humanities & Liberal Arts\"], [\"ART AND MUSIC EDUCATION\", 0.038638, 34181.0, \"Education\"], [\"ENGLISH LANGUAGE AND LITERATURE\", 0.087724, 194673.0, \"Humanities & Liberal Arts\"], [\"ELEMENTARY EDUCATION\", 0.046586, 170862.0, \"Education\"], [\"PHYSICAL FITNESS PARKS RECREATION AND LEISURE\", 0.051467, 125074.0, \"Industrial Arts & Consumer Services\"], [\"LIBERAL ARTS\", 0.078268, 71369.0, \"Humanities & Liberal Arts\"], [\"FILM VIDEO AND PHOTOGRAPHIC ARTS\", 0.105772, 38761.0, \"Arts\"], [\"GENERAL SOCIAL SCIENCES\", 0.103455, 12920.0, \"Social Science\"], [\"PLANT SCIENCE AND AGRONOMY\", 0.045455, 7416.0, \"Agriculture & Natural Resources\"], [\"SCIENCE AND COMPUTER TEACHER EDUCATION\", 0.047264, 6483.0, \"Education\"], [\"PSYCHOLOGY\", 0.083811, 393735.0, \"Psychology & Social Work\"], [\"MUSIC\", 0.07596, 60633.0, \"Arts\"], [\"PHYSICAL AND HEALTH EDUCATION TEACHING\", 0.074667, 28213.0, \"Education\"], [\"ART HISTORY AND CRITICISM\", 0.060298, 21030.0, \"Humanities & Liberal Arts\"], [\"FINE ARTS\", 0.084186, 74440.0, \"Arts\"], [\"FAMILY AND CONSUMER SCIENCES\", 0.067128, 58001.0, \"Industrial Arts & Consumer Services\"], [\"SOCIAL WORK\", 0.068828, 53552.0, \"Psychology & Social Work\"], [\"ANIMAL SCIENCES\", 0.050862, 21573.0, \"Agriculture & Natural Resources\"], [\"VISUAL AND PERFORMING ARTS\", 0.102197, 16250.0, \"Arts\"], [\"TEACHER EDUCATION: MULTIPLE LEVELS\", 0.036546, 14443.0, \"Education\"], [\"MISCELLANEOUS PSYCHOLOGY\", 0.051908, 9628.0, \"Psychology & Social Work\"], [\"HUMAN SERVICES AND COMMUNITY ORGANIZATION\", 0.037819, 9374.0, \"Psychology & Social Work\"], [\"HUMANITIES\", 0.068584, 6652.0, \"Humanities & Liberal Arts\"], [\"THEOLOGY AND RELIGIOUS VOCATIONS\", 0.062628, 30207.0, \"Humanities & Liberal Arts\"], [\"STUDIO ARTS\", 0.089552, 16977.0, \"Arts\"], [\"COSMETOLOGY SERVICES AND CULINARY ARTS\", 0.055677, 10510.0, \"Industrial Arts & Consumer Services\"], [\"MISCELLANEOUS AGRICULTURE\", 0.059767, 1488.0, \"Agriculture & Natural Resources\"], [\"ANTHROPOLOGY AND ARCHEOLOGY\", 0.102792, 38844.0, \"Humanities & Liberal Arts\"], [\"COMMUNICATION DISORDERS SCIENCES AND SERVICES\", 0.047584, 38279.0, \"Health\"], [\"EARLY CHILDHOOD EDUCATION\", 0.040105, 37589.0, \"Education\"], [\"OTHER FOREIGN LANGUAGES\", 0.107116, 11204.0, \"Humanities & Liberal Arts\"], [\"DRAMA AND THEATER ARTS\", 0.077541, 43249.0, \"Arts\"], [\"COMPOSITION AND RHETORIC\", 0.081742, 18953.0, \"Humanities & Liberal Arts\"], [\"ZOOLOGY\", 0.04632, 8409.0, \"Biology & Life Science\"], [\"EDUCATIONAL PSYCHOLOGY\", 0.065112, 2854.0, \"Psychology & Social Work\"], [\"CLINICAL PSYCHOLOGY\", 0.149048, 2838.0, \"Psychology & Social Work\"], [\"COUNSELING PSYCHOLOGY\", 0.053621, 4626.0, \"Psychology & Social Work\"], [\"LIBRARY SCIENCE\", 0.104946, 1098.0, \"Education\"]];\n",
       "\n",
       "        // Define the dt_args\n",
       "        let dt_args = {\"layout\": {\"topStart\": \"pageLength\", \"topEnd\": \"search\", \"bottomStart\": \"info\", \"bottomEnd\": \"paging\"}, \"order\": []};\n",
       "        dt_args[\"data\"] = data;\n",
       "\n",
       "        \n",
       "        new DataTable(table, dt_args);\n",
       "    });\n",
       "</script>\n"
      ],
      "text/plain": [
       "<IPython.core.display.HTML object>"
      ]
     },
     "metadata": {},
     "output_type": "display_data"
    }
   ],
   "source": [
    "# major with the lowest unemployment rate\n",
    "my_variables = ['Major','Unemployment_rate','Total','Major_category']\n",
    "DF_raw = DF_raw[my_variables]\n",
    "show(DF_raw)"
   ]
  },
  {
   "cell_type": "code",
   "execution_count": 220,
   "id": "8b12bd53-36e0-47b4-9ef5-3cbf6fc065a4",
   "metadata": {
    "scrolled": true
   },
   "outputs": [
    {
     "data": {
      "text/html": [
       "<table id=\"itables_e317145a_3022_4ae5_a466_f36d21165e02\" class=\"display nowrap\" data-quarto-disable-processing=\"true\" style=\"table-layout:auto;width:auto;margin:auto;caption-side:bottom\">\n",
       "<thead>\n",
       "    <tr style=\"text-align: right;\">\n",
       "      \n",
       "      <th>Major</th>\n",
       "      <th>Major_category</th>\n",
       "    </tr>\n",
       "  </thead><tbody><tr>\n",
       "<td style=\"vertical-align:middle; text-align:left\">\n",
       "<div style=\"float:left; margin-right: 10px;\">\n",
       "<a href=https://mwouts.github.io/itables/><svg class=\"main-svg\" xmlns=\"http://www.w3.org/2000/svg\" xmlns:xlink=\"http://www.w3.org/1999/xlink\"\n",
       "width=\"64\" viewBox=\"0 0 500 400\" style=\"font-family: 'Droid Sans', sans-serif;\">\n",
       "    <g style=\"fill:#d9d7fc\">\n",
       "        <path d=\"M100,400H500V357H100Z\" />\n",
       "        <path d=\"M100,300H400V257H100Z\" />\n",
       "        <path d=\"M0,200H400V157H0Z\" />\n",
       "        <path d=\"M100,100H500V57H100Z\" />\n",
       "        <path d=\"M100,350H500V307H100Z\" />\n",
       "        <path d=\"M100,250H400V207H100Z\" />\n",
       "        <path d=\"M0,150H400V107H0Z\" />\n",
       "        <path d=\"M100,50H500V7H100Z\" />\n",
       "    </g>\n",
       "    <g style=\"fill:#1a1366;stroke:#1a1366;\">\n",
       "   <rect x=\"100\" y=\"7\" width=\"400\" height=\"43\">\n",
       "    <animate\n",
       "      attributeName=\"width\"\n",
       "      values=\"0;400;0\"\n",
       "      dur=\"5s\"\n",
       "      repeatCount=\"indefinite\" />\n",
       "      <animate\n",
       "      attributeName=\"x\"\n",
       "      values=\"100;100;500\"\n",
       "      dur=\"5s\"\n",
       "      repeatCount=\"indefinite\" />\n",
       "  </rect>\n",
       "        <rect x=\"0\" y=\"107\" width=\"400\" height=\"43\">\n",
       "    <animate\n",
       "      attributeName=\"width\"\n",
       "      values=\"0;400;0\"\n",
       "      dur=\"3.5s\"\n",
       "      repeatCount=\"indefinite\" />\n",
       "    <animate\n",
       "      attributeName=\"x\"\n",
       "      values=\"0;0;400\"\n",
       "      dur=\"3.5s\"\n",
       "      repeatCount=\"indefinite\" />\n",
       "  </rect>\n",
       "        <rect x=\"100\" y=\"207\" width=\"300\" height=\"43\">\n",
       "    <animate\n",
       "      attributeName=\"width\"\n",
       "      values=\"0;300;0\"\n",
       "      dur=\"3s\"\n",
       "      repeatCount=\"indefinite\" />\n",
       "    <animate\n",
       "      attributeName=\"x\"\n",
       "      values=\"100;100;400\"\n",
       "      dur=\"3s\"\n",
       "      repeatCount=\"indefinite\" />\n",
       "  </rect>\n",
       "        <rect x=\"100\" y=\"307\" width=\"400\" height=\"43\">\n",
       "    <animate\n",
       "      attributeName=\"width\"\n",
       "      values=\"0;400;0\"\n",
       "      dur=\"4s\"\n",
       "      repeatCount=\"indefinite\" />\n",
       "      <animate\n",
       "      attributeName=\"x\"\n",
       "      values=\"100;100;500\"\n",
       "      dur=\"4s\"\n",
       "      repeatCount=\"indefinite\" />\n",
       "  </rect>\n",
       "        <g style=\"fill:transparent;stroke-width:8; stroke-linejoin:round\" rx=\"5\">\n",
       "            <g transform=\"translate(45 50) rotate(-45)\">\n",
       "                <circle r=\"33\" cx=\"0\" cy=\"0\" />\n",
       "                <rect x=\"-8\" y=\"32\" width=\"16\" height=\"30\" />\n",
       "            </g>\n",
       "\n",
       "            <g transform=\"translate(450 152)\">\n",
       "                <polyline points=\"-15,-20 -35,-20 -35,40 25,40 25,20\" />\n",
       "                <rect x=\"-15\" y=\"-40\" width=\"60\" height=\"60\" />\n",
       "            </g>\n",
       "\n",
       "            <g transform=\"translate(50 352)\">\n",
       "                <polygon points=\"-35,-5 0,-40 35,-5\" />\n",
       "                <polygon points=\"-35,10 0,45 35,10\" />\n",
       "            </g>\n",
       "\n",
       "            <g transform=\"translate(75 250)\">\n",
       "                <polyline points=\"-30,30 -60,0 -30,-30\" />\n",
       "                <polyline points=\"0,30 -30,0 0,-30\" />\n",
       "            </g>\n",
       "\n",
       "            <g transform=\"translate(425 250) rotate(180)\">\n",
       "                <polyline points=\"-30,30 -60,0 -30,-30\" />\n",
       "                <polyline points=\"0,30 -30,0 0,-30\" />\n",
       "            </g>\n",
       "        </g>\n",
       "    </g>\n",
       "</svg>\n",
       "</a>\n",
       "</div>\n",
       "<div>\n",
       "Loading ITables v2.1.4 from the internet...\n",
       "(need <a href=https://mwouts.github.io/itables/troubleshooting.html>help</a>?)</td>\n",
       "</div>\n",
       "</tr></tbody>\n",
       "\n",
       "</table>\n",
       "<link href=\"https://www.unpkg.com/dt_for_itables@2.0.11/dt_bundle.css\" rel=\"stylesheet\">\n",
       "<script type=\"module\">\n",
       "    import {DataTable, jQuery as $} from 'https://www.unpkg.com/dt_for_itables@2.0.11/dt_bundle.js';\n",
       "\n",
       "    document.querySelectorAll(\"#itables_e317145a_3022_4ae5_a466_f36d21165e02:not(.dataTable)\").forEach(table => {\n",
       "        // Define the table data\n",
       "        const data = [[\"PETROLEUM ENGINEERING\", \"Engineering\"], [\"MINING AND MINERAL ENGINEERING\", \"Engineering\"], [\"METALLURGICAL ENGINEERING\", \"Engineering\"], [\"NAVAL ARCHITECTURE AND MARINE ENGINEERING\", \"Engineering\"], [\"CHEMICAL ENGINEERING\", \"Engineering\"], [\"NUCLEAR ENGINEERING\", \"Engineering\"], [\"ACTUARIAL SCIENCE\", \"Business\"], [\"ASTRONOMY AND ASTROPHYSICS\", \"Physical Sciences\"], [\"MECHANICAL ENGINEERING\", \"Engineering\"], [\"ELECTRICAL ENGINEERING\", \"Engineering\"], [\"COMPUTER ENGINEERING\", \"Engineering\"], [\"AEROSPACE ENGINEERING\", \"Engineering\"], [\"BIOMEDICAL ENGINEERING\", \"Engineering\"], [\"MATERIALS SCIENCE\", \"Engineering\"], [\"ENGINEERING MECHANICS PHYSICS AND SCIENCE\", \"Engineering\"], [\"BIOLOGICAL ENGINEERING\", \"Engineering\"], [\"INDUSTRIAL AND MANUFACTURING ENGINEERING\", \"Engineering\"], [\"GENERAL ENGINEERING\", \"Engineering\"], [\"ARCHITECTURAL ENGINEERING\", \"Engineering\"], [\"COURT REPORTING\", \"Law & Public Policy\"], [\"COMPUTER SCIENCE\", \"Computers & Mathematics\"], [\"FOOD SCIENCE\", \"Agriculture & Natural Resources\"], [\"ELECTRICAL ENGINEERING TECHNOLOGY\", \"Engineering\"], [\"MATERIALS ENGINEERING AND MATERIALS SCIENCE\", \"Engineering\"], [\"MANAGEMENT INFORMATION SYSTEMS AND STATISTICS\", \"Business\"], [\"CIVIL ENGINEERING\", \"Engineering\"], [\"CONSTRUCTION SERVICES\", \"Industrial Arts & Consumer Services\"], [\"OPERATIONS LOGISTICS AND E-COMMERCE\", \"Business\"], [\"MISCELLANEOUS ENGINEERING\", \"Engineering\"], [\"PUBLIC POLICY\", \"Law & Public Policy\"], [\"ENVIRONMENTAL ENGINEERING\", \"Engineering\"], [\"ENGINEERING TECHNOLOGIES\", \"Engineering\"], [\"MISCELLANEOUS FINE ARTS\", \"Arts\"], [\"GEOLOGICAL AND GEOPHYSICAL ENGINEERING\", \"Engineering\"], [\"NURSING\", \"Health\"], [\"FINANCE\", \"Business\"], [\"ECONOMICS\", \"Social Science\"], [\"BUSINESS ECONOMICS\", \"Business\"], [\"INDUSTRIAL PRODUCTION TECHNOLOGIES\", \"Engineering\"], [\"NUCLEAR, INDUSTRIAL RADIOLOGY, AND BIOLOGICAL TECHNOLOGIES\", \"Physical Sciences\"], [\"ACCOUNTING\", \"Business\"], [\"MATHEMATICS\", \"Computers & Mathematics\"], [\"COMPUTER AND INFORMATION SYSTEMS\", \"Computers & Mathematics\"], [\"PHYSICS\", \"Physical Sciences\"], [\"MEDICAL TECHNOLOGIES TECHNICIANS\", \"Health\"], [\"INFORMATION SCIENCES\", \"Computers & Mathematics\"], [\"STATISTICS AND DECISION SCIENCE\", \"Computers & Mathematics\"], [\"APPLIED MATHEMATICS\", \"Computers & Mathematics\"], [\"PHARMACOLOGY\", \"Biology & Life Science\"], [\"OCEANOGRAPHY\", \"Physical Sciences\"], [\"ENGINEERING AND INDUSTRIAL MANAGEMENT\", \"Engineering\"], [\"MEDICAL ASSISTING SERVICES\", \"Health\"], [\"MATHEMATICS AND COMPUTER SCIENCE\", \"Computers & Mathematics\"], [\"COMPUTER PROGRAMMING AND DATA PROCESSING\", \"Computers & Mathematics\"], [\"COGNITIVE SCIENCE AND BIOPSYCHOLOGY\", \"Biology & Life Science\"], [\"SCHOOL STUDENT COUNSELING\", \"Education\"], [\"INTERNATIONAL RELATIONS\", \"Social Science\"], [\"GENERAL BUSINESS\", \"Business\"], [\"ARCHITECTURE\", \"Engineering\"], [\"INTERNATIONAL BUSINESS\", \"Business\"], [\"PHARMACY PHARMACEUTICAL SCIENCES AND ADMINISTRATION\", \"Health\"], [\"MOLECULAR BIOLOGY\", \"Biology & Life Science\"], [\"MISCELLANEOUS BUSINESS & MEDICAL ADMINISTRATION\", \"Business\"], [\"AGRICULTURE PRODUCTION AND MANAGEMENT\", \"Agriculture & Natural Resources\"], [\"GENERAL AGRICULTURE\", \"Agriculture & Natural Resources\"], [\"MISCELLANEOUS ENGINEERING TECHNOLOGIES\", \"Engineering\"], [\"MECHANICAL ENGINEERING RELATED TECHNOLOGIES\", \"Engineering\"], [\"GENETICS\", \"Biology & Life Science\"], [\"MISCELLANEOUS SOCIAL SCIENCES\", \"Social Science\"], [\"UNITED STATES HISTORY\", \"Humanities & Liberal Arts\"], [\"INDUSTRIAL AND ORGANIZATIONAL PSYCHOLOGY\", \"Psychology & Social Work\"], [\"AGRICULTURAL ECONOMICS\", \"Agriculture & Natural Resources\"], [\"PHYSICAL SCIENCES\", \"Physical Sciences\"], [\"MILITARY TECHNOLOGIES\", \"Industrial Arts & Consumer Services\"], [\"CHEMISTRY\", \"Physical Sciences\"], [\"ELECTRICAL, MECHANICAL, AND PRECISION TECHNOLOGIES AND PRODUCTION\", \"Industrial Arts & Consumer Services\"], [\"BUSINESS MANAGEMENT AND ADMINISTRATION\", \"Business\"], [\"MARKETING AND MARKETING RESEARCH\", \"Business\"], [\"POLITICAL SCIENCE AND GOVERNMENT\", \"Social Science\"], [\"GEOGRAPHY\", \"Social Science\"], [\"MICROBIOLOGY\", \"Biology & Life Science\"], [\"COMPUTER ADMINISTRATION MANAGEMENT AND SECURITY\", \"Computers & Mathematics\"], [\"BIOCHEMICAL SCIENCES\", \"Biology & Life Science\"], [\"BOTANY\", \"Biology & Life Science\"], [\"COMPUTER NETWORKING AND TELECOMMUNICATIONS\", \"Computers & Mathematics\"], [\"GEOLOGY AND EARTH SCIENCE\", \"Physical Sciences\"], [\"HUMAN RESOURCES AND PERSONNEL MANAGEMENT\", \"Business\"], [\"PRE-LAW AND LEGAL STUDIES\", \"Law & Public Policy\"], [\"MISCELLANEOUS HEALTH MEDICAL PROFESSIONS\", \"Health\"], [\"PUBLIC ADMINISTRATION\", \"Law & Public Policy\"], [\"GEOSCIENCES\", \"Physical Sciences\"], [\"SOCIAL PSYCHOLOGY\", \"Psychology & Social Work\"], [\"ENVIRONMENTAL SCIENCE\", \"Biology & Life Science\"], [\"COMMUNICATIONS\", \"Communications & Journalism\"], [\"CRIMINAL JUSTICE AND FIRE PROTECTION\", \"Law & Public Policy\"], [\"COMMERCIAL ART AND GRAPHIC DESIGN\", \"Arts\"], [\"JOURNALISM\", \"Communications & Journalism\"], [\"MULTI-DISCIPLINARY OR GENERAL SCIENCE\", \"Physical Sciences\"], [\"ADVERTISING AND PUBLIC RELATIONS\", \"Communications & Journalism\"], [\"AREA ETHNIC AND CIVILIZATION STUDIES\", \"Humanities & Liberal Arts\"], [\"SPECIAL NEEDS EDUCATION\", \"Education\"], [\"PHYSIOLOGY\", \"Biology & Life Science\"], [\"CRIMINOLOGY\", \"Social Science\"], [\"NUTRITION SCIENCES\", \"Health\"], [\"HEALTH AND MEDICAL ADMINISTRATIVE SERVICES\", \"Health\"], [\"COMMUNICATION TECHNOLOGIES\", \"Computers & Mathematics\"], [\"TRANSPORTATION SCIENCES AND TECHNOLOGIES\", \"Industrial Arts & Consumer Services\"], [\"NATURAL RESOURCES MANAGEMENT\", \"Agriculture & Natural Resources\"], [\"NEUROSCIENCE\", \"Biology & Life Science\"], [\"MULTI/INTERDISCIPLINARY STUDIES\", \"Interdisciplinary\"], [\"ATMOSPHERIC SCIENCES AND METEOROLOGY\", \"Physical Sciences\"], [\"FORESTRY\", \"Agriculture & Natural Resources\"], [\"SOIL SCIENCE\", \"Agriculture & Natural Resources\"], [\"GENERAL EDUCATION\", \"Education\"], [\"HISTORY\", \"Humanities & Liberal Arts\"], [\"FRENCH GERMAN LATIN AND OTHER COMMON FOREIGN LANGUAGE STUDIES\", \"Humanities & Liberal Arts\"], [\"INTERCULTURAL AND INTERNATIONAL STUDIES\", \"Humanities & Liberal Arts\"], [\"SOCIAL SCIENCE OR HISTORY TEACHER EDUCATION\", \"Education\"], [\"COMMUNITY AND PUBLIC HEALTH\", \"Health\"], [\"MATHEMATICS TEACHER EDUCATION\", \"Education\"], [\"EDUCATIONAL ADMINISTRATION AND SUPERVISION\", \"Education\"], [\"HEALTH AND MEDICAL PREPARATORY PROGRAMS\", \"Health\"], [\"MISCELLANEOUS BIOLOGY\", \"Biology & Life Science\"], [\"BIOLOGY\", \"Biology & Life Science\"], [\"SOCIOLOGY\", \"Social Science\"], [\"MASS MEDIA\", \"Communications & Journalism\"], [\"TREATMENT THERAPY PROFESSIONS\", \"Health\"], [\"HOSPITALITY MANAGEMENT\", \"Business\"], [\"LANGUAGE AND DRAMA EDUCATION\", \"Education\"], [\"LINGUISTICS AND COMPARATIVE LANGUAGE AND LITERATURE\", \"Humanities & Liberal Arts\"], [\"MISCELLANEOUS EDUCATION\", \"Education\"], [\"INTERDISCIPLINARY SOCIAL SCIENCES\", \"Social Science\"], [\"ECOLOGY\", \"Biology & Life Science\"], [\"SECONDARY TEACHER EDUCATION\", \"Education\"], [\"GENERAL MEDICAL AND HEALTH SERVICES\", \"Health\"], [\"PHILOSOPHY AND RELIGIOUS STUDIES\", \"Humanities & Liberal Arts\"], [\"ART AND MUSIC EDUCATION\", \"Education\"], [\"ENGLISH LANGUAGE AND LITERATURE\", \"Humanities & Liberal Arts\"], [\"ELEMENTARY EDUCATION\", \"Education\"], [\"PHYSICAL FITNESS PARKS RECREATION AND LEISURE\", \"Industrial Arts & Consumer Services\"], [\"LIBERAL ARTS\", \"Humanities & Liberal Arts\"], [\"FILM VIDEO AND PHOTOGRAPHIC ARTS\", \"Arts\"], [\"GENERAL SOCIAL SCIENCES\", \"Social Science\"], [\"PLANT SCIENCE AND AGRONOMY\", \"Agriculture & Natural Resources\"], [\"SCIENCE AND COMPUTER TEACHER EDUCATION\", \"Education\"], [\"PSYCHOLOGY\", \"Psychology & Social Work\"], [\"MUSIC\", \"Arts\"], [\"PHYSICAL AND HEALTH EDUCATION TEACHING\", \"Education\"], [\"ART HISTORY AND CRITICISM\", \"Humanities & Liberal Arts\"], [\"FINE ARTS\", \"Arts\"], [\"FAMILY AND CONSUMER SCIENCES\", \"Industrial Arts & Consumer Services\"], [\"SOCIAL WORK\", \"Psychology & Social Work\"], [\"ANIMAL SCIENCES\", \"Agriculture & Natural Resources\"], [\"VISUAL AND PERFORMING ARTS\", \"Arts\"], [\"TEACHER EDUCATION: MULTIPLE LEVELS\", \"Education\"], [\"MISCELLANEOUS PSYCHOLOGY\", \"Psychology & Social Work\"], [\"HUMAN SERVICES AND COMMUNITY ORGANIZATION\", \"Psychology & Social Work\"], [\"HUMANITIES\", \"Humanities & Liberal Arts\"], [\"THEOLOGY AND RELIGIOUS VOCATIONS\", \"Humanities & Liberal Arts\"], [\"STUDIO ARTS\", \"Arts\"], [\"COSMETOLOGY SERVICES AND CULINARY ARTS\", \"Industrial Arts & Consumer Services\"], [\"MISCELLANEOUS AGRICULTURE\", \"Agriculture & Natural Resources\"], [\"ANTHROPOLOGY AND ARCHEOLOGY\", \"Humanities & Liberal Arts\"], [\"COMMUNICATION DISORDERS SCIENCES AND SERVICES\", \"Health\"], [\"EARLY CHILDHOOD EDUCATION\", \"Education\"], [\"OTHER FOREIGN LANGUAGES\", \"Humanities & Liberal Arts\"], [\"DRAMA AND THEATER ARTS\", \"Arts\"], [\"COMPOSITION AND RHETORIC\", \"Humanities & Liberal Arts\"], [\"ZOOLOGY\", \"Biology & Life Science\"], [\"EDUCATIONAL PSYCHOLOGY\", \"Psychology & Social Work\"], [\"CLINICAL PSYCHOLOGY\", \"Psychology & Social Work\"], [\"COUNSELING PSYCHOLOGY\", \"Psychology & Social Work\"], [\"LIBRARY SCIENCE\", \"Education\"]];\n",
       "\n",
       "        // Define the dt_args\n",
       "        let dt_args = {\"layout\": {\"topStart\": \"pageLength\", \"topEnd\": \"search\", \"bottomStart\": \"info\", \"bottomEnd\": \"paging\"}, \"order\": []};\n",
       "        dt_args[\"data\"] = data;\n",
       "\n",
       "        \n",
       "        new DataTable(table, dt_args);\n",
       "    });\n",
       "</script>\n"
      ],
      "text/plain": [
       "<IPython.core.display.HTML object>"
      ]
     },
     "metadata": {},
     "output_type": "display_data"
    }
   ],
   "source": [
    "# major with the highest percentage of women\n",
    "my_columns = ['Major',\n",
    "              #'Women',\n",
    "              'Major_category']\n",
    "              #'ShareWomen','Employed']\n",
    "DF_raw = DF_raw[my_columns]\n",
    "show(DF_raw)\n",
    "# IDK why those three variables aren't working"
   ]
  },
  {
   "cell_type": "code",
   "execution_count": 320,
   "id": "a4c3bd3b-091e-455f-a635-520627634fbd",
   "metadata": {},
   "outputs": [
    {
     "data": {
      "text/html": [
       "<table id=\"itables_a13267c0_e55d_400f_bb7c_6ccd5cc01cc9\" class=\"display nowrap\" data-quarto-disable-processing=\"true\" style=\"table-layout:auto;width:auto;margin:auto;caption-side:bottom\">\n",
       "<thead>\n",
       "    <tr style=\"text-align: right;\">\n",
       "      \n",
       "      <th>Major_category</th>\n",
       "      <th>Major</th>\n",
       "    </tr>\n",
       "  </thead><tbody><tr>\n",
       "<td style=\"vertical-align:middle; text-align:left\">\n",
       "<div style=\"float:left; margin-right: 10px;\">\n",
       "<a href=https://mwouts.github.io/itables/><svg class=\"main-svg\" xmlns=\"http://www.w3.org/2000/svg\" xmlns:xlink=\"http://www.w3.org/1999/xlink\"\n",
       "width=\"64\" viewBox=\"0 0 500 400\" style=\"font-family: 'Droid Sans', sans-serif;\">\n",
       "    <g style=\"fill:#d9d7fc\">\n",
       "        <path d=\"M100,400H500V357H100Z\" />\n",
       "        <path d=\"M100,300H400V257H100Z\" />\n",
       "        <path d=\"M0,200H400V157H0Z\" />\n",
       "        <path d=\"M100,100H500V57H100Z\" />\n",
       "        <path d=\"M100,350H500V307H100Z\" />\n",
       "        <path d=\"M100,250H400V207H100Z\" />\n",
       "        <path d=\"M0,150H400V107H0Z\" />\n",
       "        <path d=\"M100,50H500V7H100Z\" />\n",
       "    </g>\n",
       "    <g style=\"fill:#1a1366;stroke:#1a1366;\">\n",
       "   <rect x=\"100\" y=\"7\" width=\"400\" height=\"43\">\n",
       "    <animate\n",
       "      attributeName=\"width\"\n",
       "      values=\"0;400;0\"\n",
       "      dur=\"5s\"\n",
       "      repeatCount=\"indefinite\" />\n",
       "      <animate\n",
       "      attributeName=\"x\"\n",
       "      values=\"100;100;500\"\n",
       "      dur=\"5s\"\n",
       "      repeatCount=\"indefinite\" />\n",
       "  </rect>\n",
       "        <rect x=\"0\" y=\"107\" width=\"400\" height=\"43\">\n",
       "    <animate\n",
       "      attributeName=\"width\"\n",
       "      values=\"0;400;0\"\n",
       "      dur=\"3.5s\"\n",
       "      repeatCount=\"indefinite\" />\n",
       "    <animate\n",
       "      attributeName=\"x\"\n",
       "      values=\"0;0;400\"\n",
       "      dur=\"3.5s\"\n",
       "      repeatCount=\"indefinite\" />\n",
       "  </rect>\n",
       "        <rect x=\"100\" y=\"207\" width=\"300\" height=\"43\">\n",
       "    <animate\n",
       "      attributeName=\"width\"\n",
       "      values=\"0;300;0\"\n",
       "      dur=\"3s\"\n",
       "      repeatCount=\"indefinite\" />\n",
       "    <animate\n",
       "      attributeName=\"x\"\n",
       "      values=\"100;100;400\"\n",
       "      dur=\"3s\"\n",
       "      repeatCount=\"indefinite\" />\n",
       "  </rect>\n",
       "        <rect x=\"100\" y=\"307\" width=\"400\" height=\"43\">\n",
       "    <animate\n",
       "      attributeName=\"width\"\n",
       "      values=\"0;400;0\"\n",
       "      dur=\"4s\"\n",
       "      repeatCount=\"indefinite\" />\n",
       "      <animate\n",
       "      attributeName=\"x\"\n",
       "      values=\"100;100;500\"\n",
       "      dur=\"4s\"\n",
       "      repeatCount=\"indefinite\" />\n",
       "  </rect>\n",
       "        <g style=\"fill:transparent;stroke-width:8; stroke-linejoin:round\" rx=\"5\">\n",
       "            <g transform=\"translate(45 50) rotate(-45)\">\n",
       "                <circle r=\"33\" cx=\"0\" cy=\"0\" />\n",
       "                <rect x=\"-8\" y=\"32\" width=\"16\" height=\"30\" />\n",
       "            </g>\n",
       "\n",
       "            <g transform=\"translate(450 152)\">\n",
       "                <polyline points=\"-15,-20 -35,-20 -35,40 25,40 25,20\" />\n",
       "                <rect x=\"-15\" y=\"-40\" width=\"60\" height=\"60\" />\n",
       "            </g>\n",
       "\n",
       "            <g transform=\"translate(50 352)\">\n",
       "                <polygon points=\"-35,-5 0,-40 35,-5\" />\n",
       "                <polygon points=\"-35,10 0,45 35,10\" />\n",
       "            </g>\n",
       "\n",
       "            <g transform=\"translate(75 250)\">\n",
       "                <polyline points=\"-30,30 -60,0 -30,-30\" />\n",
       "                <polyline points=\"0,30 -30,0 0,-30\" />\n",
       "            </g>\n",
       "\n",
       "            <g transform=\"translate(425 250) rotate(180)\">\n",
       "                <polyline points=\"-30,30 -60,0 -30,-30\" />\n",
       "                <polyline points=\"0,30 -30,0 0,-30\" />\n",
       "            </g>\n",
       "        </g>\n",
       "    </g>\n",
       "</svg>\n",
       "</a>\n",
       "</div>\n",
       "<div>\n",
       "Loading ITables v2.1.4 from the internet...\n",
       "(need <a href=https://mwouts.github.io/itables/troubleshooting.html>help</a>?)</td>\n",
       "</div>\n",
       "</tr></tbody>\n",
       "\n",
       "</table>\n",
       "<link href=\"https://www.unpkg.com/dt_for_itables@2.0.11/dt_bundle.css\" rel=\"stylesheet\">\n",
       "<script type=\"module\">\n",
       "    import {DataTable, jQuery as $} from 'https://www.unpkg.com/dt_for_itables@2.0.11/dt_bundle.js';\n",
       "\n",
       "    document.querySelectorAll(\"#itables_a13267c0_e55d_400f_bb7c_6ccd5cc01cc9:not(.dataTable)\").forEach(table => {\n",
       "        // Define the table data\n",
       "        const data = [[\"Engineering\", \"PETROLEUM ENGINEERING\"], [\"Engineering\", \"MINING AND MINERAL ENGINEERING\"], [\"Engineering\", \"METALLURGICAL ENGINEERING\"], [\"Engineering\", \"NAVAL ARCHITECTURE AND MARINE ENGINEERING\"], [\"Engineering\", \"CHEMICAL ENGINEERING\"], [\"Engineering\", \"NUCLEAR ENGINEERING\"], [\"Business\", \"ACTUARIAL SCIENCE\"], [\"Physical Sciences\", \"ASTRONOMY AND ASTROPHYSICS\"], [\"Engineering\", \"MECHANICAL ENGINEERING\"], [\"Engineering\", \"ELECTRICAL ENGINEERING\"], [\"Engineering\", \"COMPUTER ENGINEERING\"], [\"Engineering\", \"AEROSPACE ENGINEERING\"], [\"Engineering\", \"BIOMEDICAL ENGINEERING\"], [\"Engineering\", \"MATERIALS SCIENCE\"], [\"Engineering\", \"ENGINEERING MECHANICS PHYSICS AND SCIENCE\"], [\"Engineering\", \"BIOLOGICAL ENGINEERING\"], [\"Engineering\", \"INDUSTRIAL AND MANUFACTURING ENGINEERING\"], [\"Engineering\", \"GENERAL ENGINEERING\"], [\"Engineering\", \"ARCHITECTURAL ENGINEERING\"], [\"Law & Public Policy\", \"COURT REPORTING\"], [\"Computers & Mathematics\", \"COMPUTER SCIENCE\"], [\"Agriculture & Natural Resources\", \"FOOD SCIENCE\"], [\"Engineering\", \"ELECTRICAL ENGINEERING TECHNOLOGY\"], [\"Engineering\", \"MATERIALS ENGINEERING AND MATERIALS SCIENCE\"], [\"Business\", \"MANAGEMENT INFORMATION SYSTEMS AND STATISTICS\"], [\"Engineering\", \"CIVIL ENGINEERING\"], [\"Industrial Arts & Consumer Services\", \"CONSTRUCTION SERVICES\"], [\"Business\", \"OPERATIONS LOGISTICS AND E-COMMERCE\"], [\"Engineering\", \"MISCELLANEOUS ENGINEERING\"], [\"Law & Public Policy\", \"PUBLIC POLICY\"], [\"Engineering\", \"ENVIRONMENTAL ENGINEERING\"], [\"Engineering\", \"ENGINEERING TECHNOLOGIES\"], [\"Arts\", \"MISCELLANEOUS FINE ARTS\"], [\"Engineering\", \"GEOLOGICAL AND GEOPHYSICAL ENGINEERING\"], [\"Health\", \"NURSING\"], [\"Business\", \"FINANCE\"], [\"Social Science\", \"ECONOMICS\"], [\"Business\", \"BUSINESS ECONOMICS\"], [\"Engineering\", \"INDUSTRIAL PRODUCTION TECHNOLOGIES\"], [\"Physical Sciences\", \"NUCLEAR, INDUSTRIAL RADIOLOGY, AND BIOLOGICAL TECHNOLOGIES\"], [\"Business\", \"ACCOUNTING\"], [\"Computers & Mathematics\", \"MATHEMATICS\"], [\"Computers & Mathematics\", \"COMPUTER AND INFORMATION SYSTEMS\"], [\"Physical Sciences\", \"PHYSICS\"], [\"Health\", \"MEDICAL TECHNOLOGIES TECHNICIANS\"], [\"Computers & Mathematics\", \"INFORMATION SCIENCES\"], [\"Computers & Mathematics\", \"STATISTICS AND DECISION SCIENCE\"], [\"Computers & Mathematics\", \"APPLIED MATHEMATICS\"], [\"Biology & Life Science\", \"PHARMACOLOGY\"], [\"Physical Sciences\", \"OCEANOGRAPHY\"], [\"Engineering\", \"ENGINEERING AND INDUSTRIAL MANAGEMENT\"], [\"Health\", \"MEDICAL ASSISTING SERVICES\"], [\"Computers & Mathematics\", \"MATHEMATICS AND COMPUTER SCIENCE\"], [\"Computers & Mathematics\", \"COMPUTER PROGRAMMING AND DATA PROCESSING\"], [\"Biology & Life Science\", \"COGNITIVE SCIENCE AND BIOPSYCHOLOGY\"], [\"Education\", \"SCHOOL STUDENT COUNSELING\"], [\"Social Science\", \"INTERNATIONAL RELATIONS\"], [\"Business\", \"GENERAL BUSINESS\"], [\"Engineering\", \"ARCHITECTURE\"], [\"Business\", \"INTERNATIONAL BUSINESS\"], [\"Health\", \"PHARMACY PHARMACEUTICAL SCIENCES AND ADMINISTRATION\"], [\"Biology & Life Science\", \"MOLECULAR BIOLOGY\"], [\"Business\", \"MISCELLANEOUS BUSINESS & MEDICAL ADMINISTRATION\"], [\"Agriculture & Natural Resources\", \"AGRICULTURE PRODUCTION AND MANAGEMENT\"], [\"Agriculture & Natural Resources\", \"GENERAL AGRICULTURE\"], [\"Engineering\", \"MISCELLANEOUS ENGINEERING TECHNOLOGIES\"], [\"Engineering\", \"MECHANICAL ENGINEERING RELATED TECHNOLOGIES\"], [\"Biology & Life Science\", \"GENETICS\"], [\"Social Science\", \"MISCELLANEOUS SOCIAL SCIENCES\"], [\"Humanities & Liberal Arts\", \"UNITED STATES HISTORY\"], [\"Psychology & Social Work\", \"INDUSTRIAL AND ORGANIZATIONAL PSYCHOLOGY\"], [\"Agriculture & Natural Resources\", \"AGRICULTURAL ECONOMICS\"], [\"Physical Sciences\", \"PHYSICAL SCIENCES\"], [\"Industrial Arts & Consumer Services\", \"MILITARY TECHNOLOGIES\"], [\"Physical Sciences\", \"CHEMISTRY\"], [\"Industrial Arts & Consumer Services\", \"ELECTRICAL, MECHANICAL, AND PRECISION TECHNOLOGIES AND PRODUCTION\"], [\"Business\", \"BUSINESS MANAGEMENT AND ADMINISTRATION\"], [\"Business\", \"MARKETING AND MARKETING RESEARCH\"], [\"Social Science\", \"POLITICAL SCIENCE AND GOVERNMENT\"], [\"Social Science\", \"GEOGRAPHY\"], [\"Biology & Life Science\", \"MICROBIOLOGY\"], [\"Computers & Mathematics\", \"COMPUTER ADMINISTRATION MANAGEMENT AND SECURITY\"], [\"Biology & Life Science\", \"BIOCHEMICAL SCIENCES\"], [\"Biology & Life Science\", \"BOTANY\"], [\"Computers & Mathematics\", \"COMPUTER NETWORKING AND TELECOMMUNICATIONS\"], [\"Physical Sciences\", \"GEOLOGY AND EARTH SCIENCE\"], [\"Business\", \"HUMAN RESOURCES AND PERSONNEL MANAGEMENT\"], [\"Law & Public Policy\", \"PRE-LAW AND LEGAL STUDIES\"], [\"Health\", \"MISCELLANEOUS HEALTH MEDICAL PROFESSIONS\"], [\"Law & Public Policy\", \"PUBLIC ADMINISTRATION\"], [\"Physical Sciences\", \"GEOSCIENCES\"], [\"Psychology & Social Work\", \"SOCIAL PSYCHOLOGY\"], [\"Biology & Life Science\", \"ENVIRONMENTAL SCIENCE\"], [\"Communications & Journalism\", \"COMMUNICATIONS\"], [\"Law & Public Policy\", \"CRIMINAL JUSTICE AND FIRE PROTECTION\"], [\"Arts\", \"COMMERCIAL ART AND GRAPHIC DESIGN\"], [\"Communications & Journalism\", \"JOURNALISM\"], [\"Physical Sciences\", \"MULTI-DISCIPLINARY OR GENERAL SCIENCE\"], [\"Communications & Journalism\", \"ADVERTISING AND PUBLIC RELATIONS\"], [\"Humanities & Liberal Arts\", \"AREA ETHNIC AND CIVILIZATION STUDIES\"], [\"Education\", \"SPECIAL NEEDS EDUCATION\"], [\"Biology & Life Science\", \"PHYSIOLOGY\"], [\"Social Science\", \"CRIMINOLOGY\"], [\"Health\", \"NUTRITION SCIENCES\"], [\"Health\", \"HEALTH AND MEDICAL ADMINISTRATIVE SERVICES\"], [\"Computers & Mathematics\", \"COMMUNICATION TECHNOLOGIES\"], [\"Industrial Arts & Consumer Services\", \"TRANSPORTATION SCIENCES AND TECHNOLOGIES\"], [\"Agriculture & Natural Resources\", \"NATURAL RESOURCES MANAGEMENT\"], [\"Biology & Life Science\", \"NEUROSCIENCE\"], [\"Interdisciplinary\", \"MULTI/INTERDISCIPLINARY STUDIES\"], [\"Physical Sciences\", \"ATMOSPHERIC SCIENCES AND METEOROLOGY\"], [\"Agriculture & Natural Resources\", \"FORESTRY\"], [\"Agriculture & Natural Resources\", \"SOIL SCIENCE\"], [\"Education\", \"GENERAL EDUCATION\"], [\"Humanities & Liberal Arts\", \"HISTORY\"], [\"Humanities & Liberal Arts\", \"FRENCH GERMAN LATIN AND OTHER COMMON FOREIGN LANGUAGE STUDIES\"], [\"Humanities & Liberal Arts\", \"INTERCULTURAL AND INTERNATIONAL STUDIES\"], [\"Education\", \"SOCIAL SCIENCE OR HISTORY TEACHER EDUCATION\"], [\"Health\", \"COMMUNITY AND PUBLIC HEALTH\"], [\"Education\", \"MATHEMATICS TEACHER EDUCATION\"], [\"Education\", \"EDUCATIONAL ADMINISTRATION AND SUPERVISION\"], [\"Health\", \"HEALTH AND MEDICAL PREPARATORY PROGRAMS\"], [\"Biology & Life Science\", \"MISCELLANEOUS BIOLOGY\"], [\"Biology & Life Science\", \"BIOLOGY\"], [\"Social Science\", \"SOCIOLOGY\"], [\"Communications & Journalism\", \"MASS MEDIA\"], [\"Health\", \"TREATMENT THERAPY PROFESSIONS\"], [\"Business\", \"HOSPITALITY MANAGEMENT\"], [\"Education\", \"LANGUAGE AND DRAMA EDUCATION\"], [\"Humanities & Liberal Arts\", \"LINGUISTICS AND COMPARATIVE LANGUAGE AND LITERATURE\"], [\"Education\", \"MISCELLANEOUS EDUCATION\"], [\"Social Science\", \"INTERDISCIPLINARY SOCIAL SCIENCES\"], [\"Biology & Life Science\", \"ECOLOGY\"], [\"Education\", \"SECONDARY TEACHER EDUCATION\"], [\"Health\", \"GENERAL MEDICAL AND HEALTH SERVICES\"], [\"Humanities & Liberal Arts\", \"PHILOSOPHY AND RELIGIOUS STUDIES\"], [\"Education\", \"ART AND MUSIC EDUCATION\"], [\"Humanities & Liberal Arts\", \"ENGLISH LANGUAGE AND LITERATURE\"], [\"Education\", \"ELEMENTARY EDUCATION\"], [\"Industrial Arts & Consumer Services\", \"PHYSICAL FITNESS PARKS RECREATION AND LEISURE\"], [\"Humanities & Liberal Arts\", \"LIBERAL ARTS\"], [\"Arts\", \"FILM VIDEO AND PHOTOGRAPHIC ARTS\"], [\"Social Science\", \"GENERAL SOCIAL SCIENCES\"], [\"Agriculture & Natural Resources\", \"PLANT SCIENCE AND AGRONOMY\"], [\"Education\", \"SCIENCE AND COMPUTER TEACHER EDUCATION\"], [\"Psychology & Social Work\", \"PSYCHOLOGY\"], [\"Arts\", \"MUSIC\"], [\"Education\", \"PHYSICAL AND HEALTH EDUCATION TEACHING\"], [\"Humanities & Liberal Arts\", \"ART HISTORY AND CRITICISM\"], [\"Arts\", \"FINE ARTS\"], [\"Industrial Arts & Consumer Services\", \"FAMILY AND CONSUMER SCIENCES\"], [\"Psychology & Social Work\", \"SOCIAL WORK\"], [\"Agriculture & Natural Resources\", \"ANIMAL SCIENCES\"], [\"Arts\", \"VISUAL AND PERFORMING ARTS\"], [\"Education\", \"TEACHER EDUCATION: MULTIPLE LEVELS\"], [\"Psychology & Social Work\", \"MISCELLANEOUS PSYCHOLOGY\"], [\"Psychology & Social Work\", \"HUMAN SERVICES AND COMMUNITY ORGANIZATION\"], [\"Humanities & Liberal Arts\", \"HUMANITIES\"], [\"Humanities & Liberal Arts\", \"THEOLOGY AND RELIGIOUS VOCATIONS\"], [\"Arts\", \"STUDIO ARTS\"], [\"Industrial Arts & Consumer Services\", \"COSMETOLOGY SERVICES AND CULINARY ARTS\"], [\"Agriculture & Natural Resources\", \"MISCELLANEOUS AGRICULTURE\"], [\"Humanities & Liberal Arts\", \"ANTHROPOLOGY AND ARCHEOLOGY\"], [\"Health\", \"COMMUNICATION DISORDERS SCIENCES AND SERVICES\"], [\"Education\", \"EARLY CHILDHOOD EDUCATION\"], [\"Humanities & Liberal Arts\", \"OTHER FOREIGN LANGUAGES\"], [\"Arts\", \"DRAMA AND THEATER ARTS\"], [\"Humanities & Liberal Arts\", \"COMPOSITION AND RHETORIC\"], [\"Biology & Life Science\", \"ZOOLOGY\"], [\"Psychology & Social Work\", \"EDUCATIONAL PSYCHOLOGY\"], [\"Psychology & Social Work\", \"CLINICAL PSYCHOLOGY\"], [\"Psychology & Social Work\", \"COUNSELING PSYCHOLOGY\"], [\"Education\", \"LIBRARY SCIENCE\"]];\n",
       "\n",
       "        // Define the dt_args\n",
       "        let dt_args = {\"layout\": {\"topStart\": \"pageLength\", \"topEnd\": \"search\", \"bottomStart\": \"info\", \"bottomEnd\": \"paging\"}, \"order\": []};\n",
       "        dt_args[\"data\"] = data;\n",
       "\n",
       "        \n",
       "        new DataTable(table, dt_args);\n",
       "    });\n",
       "</script>\n"
      ],
      "text/plain": [
       "<IPython.core.display.HTML object>"
      ]
     },
     "metadata": {},
     "output_type": "display_data"
    }
   ],
   "source": [
    "variables = ['Major_category',\n",
    "             #'Median',\n",
    "             'Major']\n",
    "             #'Total']\n",
    "DF_raw = DF_raw[variables]\n",
    "show(DF_raw)\n",
    "#IDK why the \"median\" variable didn't work"
   ]
  },
  {
   "cell_type": "code",
   "execution_count": 257,
   "id": "a595e3c3-8b12-4917-905a-486a305b6baa",
   "metadata": {},
   "outputs": [
    {
     "data": {
      "text/plain": [
       "Major_category\n",
       "Engineering                            29\n",
       "Education                              16\n",
       "Humanities & Liberal Arts              15\n",
       "Biology & Life Science                 14\n",
       "Business                               13\n",
       "Health                                 12\n",
       "Computers & Mathematics                11\n",
       "Physical Sciences                      10\n",
       "Agriculture & Natural Resources        10\n",
       "Social Science                          9\n",
       "Psychology & Social Work                9\n",
       "Arts                                    8\n",
       "Industrial Arts & Consumer Services     7\n",
       "Law & Public Policy                     5\n",
       "Communications & Journalism             4\n",
       "Interdisciplinary                       1\n",
       "Name: count, dtype: int64"
      ]
     },
     "execution_count": 257,
     "metadata": {},
     "output_type": "execute_result"
    }
   ],
   "source": [
    "# Distributions of medican income compare across major categories\n",
    "#value count on what major categories are in the data, what categories are most or least represented\n",
    "DF_raw['Major_category'].value_counts()\n"
   ]
  },
  {
   "cell_type": "code",
   "execution_count": 298,
   "id": "2ec0cce1-2c3a-4f12-b9b4-21319153af74",
   "metadata": {},
   "outputs": [
    {
     "data": {
      "text/html": [
       "<table id=\"itables_edbf44e8_80a6_4414_8b4a_9b793209c51e\" class=\"display nowrap\" data-quarto-disable-processing=\"true\" style=\"table-layout:auto;width:auto;margin:auto;caption-side:bottom\">\n",
       "<thead>\n",
       "    <tr style=\"text-align: right;\">\n",
       "      <th></th>\n",
       "      <th>count</th>\n",
       "    </tr>\n",
       "    <tr>\n",
       "      <th>Major_category</th>\n",
       "      <th></th>\n",
       "    </tr>\n",
       "  </thead><tbody><tr>\n",
       "<td style=\"vertical-align:middle; text-align:left\">\n",
       "<div style=\"float:left; margin-right: 10px;\">\n",
       "<a href=https://mwouts.github.io/itables/><svg class=\"main-svg\" xmlns=\"http://www.w3.org/2000/svg\" xmlns:xlink=\"http://www.w3.org/1999/xlink\"\n",
       "width=\"64\" viewBox=\"0 0 500 400\" style=\"font-family: 'Droid Sans', sans-serif;\">\n",
       "    <g style=\"fill:#d9d7fc\">\n",
       "        <path d=\"M100,400H500V357H100Z\" />\n",
       "        <path d=\"M100,300H400V257H100Z\" />\n",
       "        <path d=\"M0,200H400V157H0Z\" />\n",
       "        <path d=\"M100,100H500V57H100Z\" />\n",
       "        <path d=\"M100,350H500V307H100Z\" />\n",
       "        <path d=\"M100,250H400V207H100Z\" />\n",
       "        <path d=\"M0,150H400V107H0Z\" />\n",
       "        <path d=\"M100,50H500V7H100Z\" />\n",
       "    </g>\n",
       "    <g style=\"fill:#1a1366;stroke:#1a1366;\">\n",
       "   <rect x=\"100\" y=\"7\" width=\"400\" height=\"43\">\n",
       "    <animate\n",
       "      attributeName=\"width\"\n",
       "      values=\"0;400;0\"\n",
       "      dur=\"5s\"\n",
       "      repeatCount=\"indefinite\" />\n",
       "      <animate\n",
       "      attributeName=\"x\"\n",
       "      values=\"100;100;500\"\n",
       "      dur=\"5s\"\n",
       "      repeatCount=\"indefinite\" />\n",
       "  </rect>\n",
       "        <rect x=\"0\" y=\"107\" width=\"400\" height=\"43\">\n",
       "    <animate\n",
       "      attributeName=\"width\"\n",
       "      values=\"0;400;0\"\n",
       "      dur=\"3.5s\"\n",
       "      repeatCount=\"indefinite\" />\n",
       "    <animate\n",
       "      attributeName=\"x\"\n",
       "      values=\"0;0;400\"\n",
       "      dur=\"3.5s\"\n",
       "      repeatCount=\"indefinite\" />\n",
       "  </rect>\n",
       "        <rect x=\"100\" y=\"207\" width=\"300\" height=\"43\">\n",
       "    <animate\n",
       "      attributeName=\"width\"\n",
       "      values=\"0;300;0\"\n",
       "      dur=\"3s\"\n",
       "      repeatCount=\"indefinite\" />\n",
       "    <animate\n",
       "      attributeName=\"x\"\n",
       "      values=\"100;100;400\"\n",
       "      dur=\"3s\"\n",
       "      repeatCount=\"indefinite\" />\n",
       "  </rect>\n",
       "        <rect x=\"100\" y=\"307\" width=\"400\" height=\"43\">\n",
       "    <animate\n",
       "      attributeName=\"width\"\n",
       "      values=\"0;400;0\"\n",
       "      dur=\"4s\"\n",
       "      repeatCount=\"indefinite\" />\n",
       "      <animate\n",
       "      attributeName=\"x\"\n",
       "      values=\"100;100;500\"\n",
       "      dur=\"4s\"\n",
       "      repeatCount=\"indefinite\" />\n",
       "  </rect>\n",
       "        <g style=\"fill:transparent;stroke-width:8; stroke-linejoin:round\" rx=\"5\">\n",
       "            <g transform=\"translate(45 50) rotate(-45)\">\n",
       "                <circle r=\"33\" cx=\"0\" cy=\"0\" />\n",
       "                <rect x=\"-8\" y=\"32\" width=\"16\" height=\"30\" />\n",
       "            </g>\n",
       "\n",
       "            <g transform=\"translate(450 152)\">\n",
       "                <polyline points=\"-15,-20 -35,-20 -35,40 25,40 25,20\" />\n",
       "                <rect x=\"-15\" y=\"-40\" width=\"60\" height=\"60\" />\n",
       "            </g>\n",
       "\n",
       "            <g transform=\"translate(50 352)\">\n",
       "                <polygon points=\"-35,-5 0,-40 35,-5\" />\n",
       "                <polygon points=\"-35,10 0,45 35,10\" />\n",
       "            </g>\n",
       "\n",
       "            <g transform=\"translate(75 250)\">\n",
       "                <polyline points=\"-30,30 -60,0 -30,-30\" />\n",
       "                <polyline points=\"0,30 -30,0 0,-30\" />\n",
       "            </g>\n",
       "\n",
       "            <g transform=\"translate(425 250) rotate(180)\">\n",
       "                <polyline points=\"-30,30 -60,0 -30,-30\" />\n",
       "                <polyline points=\"0,30 -30,0 0,-30\" />\n",
       "            </g>\n",
       "        </g>\n",
       "    </g>\n",
       "</svg>\n",
       "</a>\n",
       "</div>\n",
       "<div>\n",
       "Loading ITables v2.1.4 from the internet...\n",
       "(need <a href=https://mwouts.github.io/itables/troubleshooting.html>help</a>?)</td>\n",
       "</div>\n",
       "</tr></tbody>\n",
       "\n",
       "</table>\n",
       "<link href=\"https://www.unpkg.com/dt_for_itables@2.0.11/dt_bundle.css\" rel=\"stylesheet\">\n",
       "<script type=\"module\">\n",
       "    import {DataTable, jQuery as $} from 'https://www.unpkg.com/dt_for_itables@2.0.11/dt_bundle.js';\n",
       "\n",
       "    document.querySelectorAll(\"#itables_edbf44e8_80a6_4414_8b4a_9b793209c51e:not(.dataTable)\").forEach(table => {\n",
       "        // Define the table data\n",
       "        const data = [[\"Engineering\", 29], [\"Education\", 16], [\"Humanities & Liberal Arts\", 15], [\"Biology & Life Science\", 14], [\"Business\", 13], [\"Health\", 12], [\"Computers & Mathematics\", 11], [\"Physical Sciences\", 10], [\"Agriculture & Natural Resources\", 10], [\"Social Science\", 9], [\"Psychology & Social Work\", 9], [\"Arts\", 8], [\"Industrial Arts & Consumer Services\", 7], [\"Law & Public Policy\", 5], [\"Communications & Journalism\", 4], [\"Interdisciplinary\", 1]];\n",
       "\n",
       "        // Define the dt_args\n",
       "        let dt_args = {\"layout\": {\"topStart\": \"pageLength\", \"topEnd\": \"search\", \"bottomStart\": \"info\", \"bottomEnd\": \"paging\"}, \"order\": []};\n",
       "        dt_args[\"data\"] = data;\n",
       "\n",
       "        \n",
       "        new DataTable(table, dt_args);\n",
       "    });\n",
       "</script>\n"
      ],
      "text/plain": [
       "<IPython.core.display.HTML object>"
      ]
     },
     "metadata": {},
     "output_type": "display_data"
    }
   ],
   "source": [
    "# DF_raw['Median'].value_counts() WHY DOES IT NOT WORK\n",
    "counts = DF_raw['Major_category'].value_counts()\n",
    "show(counts)"
   ]
  },
  {
   "cell_type": "code",
   "execution_count": 303,
   "id": "521ff6c2-51d5-4556-821d-2e8db644e53c",
   "metadata": {},
   "outputs": [
    {
     "data": {
      "text/html": [
       "<div>\n",
       "<style scoped>\n",
       "    .dataframe tbody tr th:only-of-type {\n",
       "        vertical-align: middle;\n",
       "    }\n",
       "\n",
       "    .dataframe tbody tr th {\n",
       "        vertical-align: top;\n",
       "    }\n",
       "\n",
       "    .dataframe thead tr th {\n",
       "        text-align: left;\n",
       "    }\n",
       "\n",
       "    .dataframe thead tr:last-of-type th {\n",
       "        text-align: right;\n",
       "    }\n",
       "</style>\n",
       "<table border=\"1\" class=\"dataframe\">\n",
       "  <thead>\n",
       "    <tr>\n",
       "      <th></th>\n",
       "      <th colspan=\"4\" halign=\"left\">Major</th>\n",
       "    </tr>\n",
       "    <tr>\n",
       "      <th></th>\n",
       "      <th>count</th>\n",
       "      <th>unique</th>\n",
       "      <th>top</th>\n",
       "      <th>freq</th>\n",
       "    </tr>\n",
       "    <tr>\n",
       "      <th>Major_category</th>\n",
       "      <th></th>\n",
       "      <th></th>\n",
       "      <th></th>\n",
       "      <th></th>\n",
       "    </tr>\n",
       "  </thead>\n",
       "  <tbody>\n",
       "    <tr>\n",
       "      <th>Agriculture &amp; Natural Resources</th>\n",
       "      <td>10</td>\n",
       "      <td>10</td>\n",
       "      <td>FOOD SCIENCE</td>\n",
       "      <td>1</td>\n",
       "    </tr>\n",
       "    <tr>\n",
       "      <th>Arts</th>\n",
       "      <td>8</td>\n",
       "      <td>8</td>\n",
       "      <td>MISCELLANEOUS FINE ARTS</td>\n",
       "      <td>1</td>\n",
       "    </tr>\n",
       "    <tr>\n",
       "      <th>Biology &amp; Life Science</th>\n",
       "      <td>14</td>\n",
       "      <td>14</td>\n",
       "      <td>PHARMACOLOGY</td>\n",
       "      <td>1</td>\n",
       "    </tr>\n",
       "    <tr>\n",
       "      <th>Business</th>\n",
       "      <td>13</td>\n",
       "      <td>13</td>\n",
       "      <td>ACTUARIAL SCIENCE</td>\n",
       "      <td>1</td>\n",
       "    </tr>\n",
       "    <tr>\n",
       "      <th>Communications &amp; Journalism</th>\n",
       "      <td>4</td>\n",
       "      <td>4</td>\n",
       "      <td>COMMUNICATIONS</td>\n",
       "      <td>1</td>\n",
       "    </tr>\n",
       "    <tr>\n",
       "      <th>Computers &amp; Mathematics</th>\n",
       "      <td>11</td>\n",
       "      <td>11</td>\n",
       "      <td>COMPUTER SCIENCE</td>\n",
       "      <td>1</td>\n",
       "    </tr>\n",
       "    <tr>\n",
       "      <th>Education</th>\n",
       "      <td>16</td>\n",
       "      <td>16</td>\n",
       "      <td>SCHOOL STUDENT COUNSELING</td>\n",
       "      <td>1</td>\n",
       "    </tr>\n",
       "    <tr>\n",
       "      <th>Engineering</th>\n",
       "      <td>29</td>\n",
       "      <td>29</td>\n",
       "      <td>PETROLEUM ENGINEERING</td>\n",
       "      <td>1</td>\n",
       "    </tr>\n",
       "    <tr>\n",
       "      <th>Health</th>\n",
       "      <td>12</td>\n",
       "      <td>12</td>\n",
       "      <td>NURSING</td>\n",
       "      <td>1</td>\n",
       "    </tr>\n",
       "    <tr>\n",
       "      <th>Humanities &amp; Liberal Arts</th>\n",
       "      <td>15</td>\n",
       "      <td>15</td>\n",
       "      <td>UNITED STATES HISTORY</td>\n",
       "      <td>1</td>\n",
       "    </tr>\n",
       "    <tr>\n",
       "      <th>Industrial Arts &amp; Consumer Services</th>\n",
       "      <td>7</td>\n",
       "      <td>7</td>\n",
       "      <td>CONSTRUCTION SERVICES</td>\n",
       "      <td>1</td>\n",
       "    </tr>\n",
       "    <tr>\n",
       "      <th>Interdisciplinary</th>\n",
       "      <td>1</td>\n",
       "      <td>1</td>\n",
       "      <td>MULTI/INTERDISCIPLINARY STUDIES</td>\n",
       "      <td>1</td>\n",
       "    </tr>\n",
       "    <tr>\n",
       "      <th>Law &amp; Public Policy</th>\n",
       "      <td>5</td>\n",
       "      <td>5</td>\n",
       "      <td>COURT REPORTING</td>\n",
       "      <td>1</td>\n",
       "    </tr>\n",
       "    <tr>\n",
       "      <th>Physical Sciences</th>\n",
       "      <td>10</td>\n",
       "      <td>10</td>\n",
       "      <td>ASTRONOMY AND ASTROPHYSICS</td>\n",
       "      <td>1</td>\n",
       "    </tr>\n",
       "    <tr>\n",
       "      <th>Psychology &amp; Social Work</th>\n",
       "      <td>9</td>\n",
       "      <td>9</td>\n",
       "      <td>INDUSTRIAL AND ORGANIZATIONAL PSYCHOLOGY</td>\n",
       "      <td>1</td>\n",
       "    </tr>\n",
       "    <tr>\n",
       "      <th>Social Science</th>\n",
       "      <td>9</td>\n",
       "      <td>9</td>\n",
       "      <td>ECONOMICS</td>\n",
       "      <td>1</td>\n",
       "    </tr>\n",
       "  </tbody>\n",
       "</table>\n",
       "</div>"
      ],
      "text/plain": [
       "                                    Major         \\\n",
       "                                    count unique   \n",
       "Major_category                                     \n",
       "Agriculture & Natural Resources        10     10   \n",
       "Arts                                    8      8   \n",
       "Biology & Life Science                 14     14   \n",
       "Business                               13     13   \n",
       "Communications & Journalism             4      4   \n",
       "Computers & Mathematics                11     11   \n",
       "Education                              16     16   \n",
       "Engineering                            29     29   \n",
       "Health                                 12     12   \n",
       "Humanities & Liberal Arts              15     15   \n",
       "Industrial Arts & Consumer Services     7      7   \n",
       "Interdisciplinary                       1      1   \n",
       "Law & Public Policy                     5      5   \n",
       "Physical Sciences                      10     10   \n",
       "Psychology & Social Work                9      9   \n",
       "Social Science                          9      9   \n",
       "\n",
       "                                                                               \\\n",
       "                                                                          top   \n",
       "Major_category                                                                  \n",
       "Agriculture & Natural Resources                                  FOOD SCIENCE   \n",
       "Arts                                                  MISCELLANEOUS FINE ARTS   \n",
       "Biology & Life Science                                           PHARMACOLOGY   \n",
       "Business                                                    ACTUARIAL SCIENCE   \n",
       "Communications & Journalism                                    COMMUNICATIONS   \n",
       "Computers & Mathematics                                      COMPUTER SCIENCE   \n",
       "Education                                           SCHOOL STUDENT COUNSELING   \n",
       "Engineering                                             PETROLEUM ENGINEERING   \n",
       "Health                                                                NURSING   \n",
       "Humanities & Liberal Arts                               UNITED STATES HISTORY   \n",
       "Industrial Arts & Consumer Services                     CONSTRUCTION SERVICES   \n",
       "Interdisciplinary                             MULTI/INTERDISCIPLINARY STUDIES   \n",
       "Law & Public Policy                                           COURT REPORTING   \n",
       "Physical Sciences                                  ASTRONOMY AND ASTROPHYSICS   \n",
       "Psychology & Social Work             INDUSTRIAL AND ORGANIZATIONAL PSYCHOLOGY   \n",
       "Social Science                                                      ECONOMICS   \n",
       "\n",
       "                                          \n",
       "                                    freq  \n",
       "Major_category                            \n",
       "Agriculture & Natural Resources        1  \n",
       "Arts                                   1  \n",
       "Biology & Life Science                 1  \n",
       "Business                               1  \n",
       "Communications & Journalism            1  \n",
       "Computers & Mathematics                1  \n",
       "Education                              1  \n",
       "Engineering                            1  \n",
       "Health                                 1  \n",
       "Humanities & Liberal Arts              1  \n",
       "Industrial Arts & Consumer Services    1  \n",
       "Interdisciplinary                      1  \n",
       "Law & Public Policy                    1  \n",
       "Physical Sciences                      1  \n",
       "Psychology & Social Work               1  \n",
       "Social Science                         1  "
      ]
     },
     "execution_count": 303,
     "metadata": {},
     "output_type": "execute_result"
    }
   ],
   "source": [
    "#summary statistics using the .group_by() command to see the statistics for each major category\n",
    "DF_raw.groupby(by=['Major_category']).describe()"
   ]
  },
  {
   "cell_type": "code",
   "execution_count": 326,
   "id": "d568aa99-27a2-4112-ad52-530fedde5ca9",
   "metadata": {},
   "outputs": [
    {
     "data": {
      "application/vnd.plotly.v1+json": {
       "config": {
        "plotlyServerURL": "https://plot.ly"
       },
       "data": [
        {
         "alignmentgroup": "True",
         "bingroup": "x",
         "hovertemplate": "Major_category=%{x}<br>count=%{y}<extra></extra>",
         "legendgroup": "",
         "marker": {
          "color": "teal",
          "pattern": {
           "shape": ""
          }
         },
         "name": "",
         "nbinsx": 16,
         "offsetgroup": "",
         "orientation": "v",
         "showlegend": false,
         "type": "histogram",
         "x": [
          "Engineering",
          "Engineering",
          "Engineering",
          "Engineering",
          "Engineering",
          "Engineering",
          "Business",
          "Physical Sciences",
          "Engineering",
          "Engineering",
          "Engineering",
          "Engineering",
          "Engineering",
          "Engineering",
          "Engineering",
          "Engineering",
          "Engineering",
          "Engineering",
          "Engineering",
          "Law & Public Policy",
          "Computers & Mathematics",
          "Agriculture & Natural Resources",
          "Engineering",
          "Engineering",
          "Business",
          "Engineering",
          "Industrial Arts & Consumer Services",
          "Business",
          "Engineering",
          "Law & Public Policy",
          "Engineering",
          "Engineering",
          "Arts",
          "Engineering",
          "Health",
          "Business",
          "Social Science",
          "Business",
          "Engineering",
          "Physical Sciences",
          "Business",
          "Computers & Mathematics",
          "Computers & Mathematics",
          "Physical Sciences",
          "Health",
          "Computers & Mathematics",
          "Computers & Mathematics",
          "Computers & Mathematics",
          "Biology & Life Science",
          "Physical Sciences",
          "Engineering",
          "Health",
          "Computers & Mathematics",
          "Computers & Mathematics",
          "Biology & Life Science",
          "Education",
          "Social Science",
          "Business",
          "Engineering",
          "Business",
          "Health",
          "Biology & Life Science",
          "Business",
          "Agriculture & Natural Resources",
          "Agriculture & Natural Resources",
          "Engineering",
          "Engineering",
          "Biology & Life Science",
          "Social Science",
          "Humanities & Liberal Arts",
          "Psychology & Social Work",
          "Agriculture & Natural Resources",
          "Physical Sciences",
          "Industrial Arts & Consumer Services",
          "Physical Sciences",
          "Industrial Arts & Consumer Services",
          "Business",
          "Business",
          "Social Science",
          "Social Science",
          "Biology & Life Science",
          "Computers & Mathematics",
          "Biology & Life Science",
          "Biology & Life Science",
          "Computers & Mathematics",
          "Physical Sciences",
          "Business",
          "Law & Public Policy",
          "Health",
          "Law & Public Policy",
          "Physical Sciences",
          "Psychology & Social Work",
          "Biology & Life Science",
          "Communications & Journalism",
          "Law & Public Policy",
          "Arts",
          "Communications & Journalism",
          "Physical Sciences",
          "Communications & Journalism",
          "Humanities & Liberal Arts",
          "Education",
          "Biology & Life Science",
          "Social Science",
          "Health",
          "Health",
          "Computers & Mathematics",
          "Industrial Arts & Consumer Services",
          "Agriculture & Natural Resources",
          "Biology & Life Science",
          "Interdisciplinary",
          "Physical Sciences",
          "Agriculture & Natural Resources",
          "Agriculture & Natural Resources",
          "Education",
          "Humanities & Liberal Arts",
          "Humanities & Liberal Arts",
          "Humanities & Liberal Arts",
          "Education",
          "Health",
          "Education",
          "Education",
          "Health",
          "Biology & Life Science",
          "Biology & Life Science",
          "Social Science",
          "Communications & Journalism",
          "Health",
          "Business",
          "Education",
          "Humanities & Liberal Arts",
          "Education",
          "Social Science",
          "Biology & Life Science",
          "Education",
          "Health",
          "Humanities & Liberal Arts",
          "Education",
          "Humanities & Liberal Arts",
          "Education",
          "Industrial Arts & Consumer Services",
          "Humanities & Liberal Arts",
          "Arts",
          "Social Science",
          "Agriculture & Natural Resources",
          "Education",
          "Psychology & Social Work",
          "Arts",
          "Education",
          "Humanities & Liberal Arts",
          "Arts",
          "Industrial Arts & Consumer Services",
          "Psychology & Social Work",
          "Agriculture & Natural Resources",
          "Arts",
          "Education",
          "Psychology & Social Work",
          "Psychology & Social Work",
          "Humanities & Liberal Arts",
          "Humanities & Liberal Arts",
          "Arts",
          "Industrial Arts & Consumer Services",
          "Agriculture & Natural Resources",
          "Humanities & Liberal Arts",
          "Health",
          "Education",
          "Humanities & Liberal Arts",
          "Arts",
          "Humanities & Liberal Arts",
          "Biology & Life Science",
          "Psychology & Social Work",
          "Psychology & Social Work",
          "Psychology & Social Work",
          "Education"
         ],
         "xaxis": "x",
         "yaxis": "y"
        }
       ],
       "layout": {
        "autosize": true,
        "bargap": 0.1,
        "barmode": "relative",
        "legend": {
         "tracegroupgap": 0
        },
        "margin": {
         "t": 60
        },
        "template": {
         "data": {
          "bar": [
           {
            "error_x": {
             "color": "#2a3f5f"
            },
            "error_y": {
             "color": "#2a3f5f"
            },
            "marker": {
             "line": {
              "color": "#E5ECF6",
              "width": 0.5
             },
             "pattern": {
              "fillmode": "overlay",
              "size": 10,
              "solidity": 0.2
             }
            },
            "type": "bar"
           }
          ],
          "barpolar": [
           {
            "marker": {
             "line": {
              "color": "#E5ECF6",
              "width": 0.5
             },
             "pattern": {
              "fillmode": "overlay",
              "size": 10,
              "solidity": 0.2
             }
            },
            "type": "barpolar"
           }
          ],
          "carpet": [
           {
            "aaxis": {
             "endlinecolor": "#2a3f5f",
             "gridcolor": "white",
             "linecolor": "white",
             "minorgridcolor": "white",
             "startlinecolor": "#2a3f5f"
            },
            "baxis": {
             "endlinecolor": "#2a3f5f",
             "gridcolor": "white",
             "linecolor": "white",
             "minorgridcolor": "white",
             "startlinecolor": "#2a3f5f"
            },
            "type": "carpet"
           }
          ],
          "choropleth": [
           {
            "colorbar": {
             "outlinewidth": 0,
             "ticks": ""
            },
            "type": "choropleth"
           }
          ],
          "contour": [
           {
            "colorbar": {
             "outlinewidth": 0,
             "ticks": ""
            },
            "colorscale": [
             [
              0,
              "#0d0887"
             ],
             [
              0.1111111111111111,
              "#46039f"
             ],
             [
              0.2222222222222222,
              "#7201a8"
             ],
             [
              0.3333333333333333,
              "#9c179e"
             ],
             [
              0.4444444444444444,
              "#bd3786"
             ],
             [
              0.5555555555555556,
              "#d8576b"
             ],
             [
              0.6666666666666666,
              "#ed7953"
             ],
             [
              0.7777777777777778,
              "#fb9f3a"
             ],
             [
              0.8888888888888888,
              "#fdca26"
             ],
             [
              1,
              "#f0f921"
             ]
            ],
            "type": "contour"
           }
          ],
          "contourcarpet": [
           {
            "colorbar": {
             "outlinewidth": 0,
             "ticks": ""
            },
            "type": "contourcarpet"
           }
          ],
          "heatmap": [
           {
            "colorbar": {
             "outlinewidth": 0,
             "ticks": ""
            },
            "colorscale": [
             [
              0,
              "#0d0887"
             ],
             [
              0.1111111111111111,
              "#46039f"
             ],
             [
              0.2222222222222222,
              "#7201a8"
             ],
             [
              0.3333333333333333,
              "#9c179e"
             ],
             [
              0.4444444444444444,
              "#bd3786"
             ],
             [
              0.5555555555555556,
              "#d8576b"
             ],
             [
              0.6666666666666666,
              "#ed7953"
             ],
             [
              0.7777777777777778,
              "#fb9f3a"
             ],
             [
              0.8888888888888888,
              "#fdca26"
             ],
             [
              1,
              "#f0f921"
             ]
            ],
            "type": "heatmap"
           }
          ],
          "heatmapgl": [
           {
            "colorbar": {
             "outlinewidth": 0,
             "ticks": ""
            },
            "colorscale": [
             [
              0,
              "#0d0887"
             ],
             [
              0.1111111111111111,
              "#46039f"
             ],
             [
              0.2222222222222222,
              "#7201a8"
             ],
             [
              0.3333333333333333,
              "#9c179e"
             ],
             [
              0.4444444444444444,
              "#bd3786"
             ],
             [
              0.5555555555555556,
              "#d8576b"
             ],
             [
              0.6666666666666666,
              "#ed7953"
             ],
             [
              0.7777777777777778,
              "#fb9f3a"
             ],
             [
              0.8888888888888888,
              "#fdca26"
             ],
             [
              1,
              "#f0f921"
             ]
            ],
            "type": "heatmapgl"
           }
          ],
          "histogram": [
           {
            "marker": {
             "pattern": {
              "fillmode": "overlay",
              "size": 10,
              "solidity": 0.2
             }
            },
            "type": "histogram"
           }
          ],
          "histogram2d": [
           {
            "colorbar": {
             "outlinewidth": 0,
             "ticks": ""
            },
            "colorscale": [
             [
              0,
              "#0d0887"
             ],
             [
              0.1111111111111111,
              "#46039f"
             ],
             [
              0.2222222222222222,
              "#7201a8"
             ],
             [
              0.3333333333333333,
              "#9c179e"
             ],
             [
              0.4444444444444444,
              "#bd3786"
             ],
             [
              0.5555555555555556,
              "#d8576b"
             ],
             [
              0.6666666666666666,
              "#ed7953"
             ],
             [
              0.7777777777777778,
              "#fb9f3a"
             ],
             [
              0.8888888888888888,
              "#fdca26"
             ],
             [
              1,
              "#f0f921"
             ]
            ],
            "type": "histogram2d"
           }
          ],
          "histogram2dcontour": [
           {
            "colorbar": {
             "outlinewidth": 0,
             "ticks": ""
            },
            "colorscale": [
             [
              0,
              "#0d0887"
             ],
             [
              0.1111111111111111,
              "#46039f"
             ],
             [
              0.2222222222222222,
              "#7201a8"
             ],
             [
              0.3333333333333333,
              "#9c179e"
             ],
             [
              0.4444444444444444,
              "#bd3786"
             ],
             [
              0.5555555555555556,
              "#d8576b"
             ],
             [
              0.6666666666666666,
              "#ed7953"
             ],
             [
              0.7777777777777778,
              "#fb9f3a"
             ],
             [
              0.8888888888888888,
              "#fdca26"
             ],
             [
              1,
              "#f0f921"
             ]
            ],
            "type": "histogram2dcontour"
           }
          ],
          "mesh3d": [
           {
            "colorbar": {
             "outlinewidth": 0,
             "ticks": ""
            },
            "type": "mesh3d"
           }
          ],
          "parcoords": [
           {
            "line": {
             "colorbar": {
              "outlinewidth": 0,
              "ticks": ""
             }
            },
            "type": "parcoords"
           }
          ],
          "pie": [
           {
            "automargin": true,
            "type": "pie"
           }
          ],
          "scatter": [
           {
            "fillpattern": {
             "fillmode": "overlay",
             "size": 10,
             "solidity": 0.2
            },
            "type": "scatter"
           }
          ],
          "scatter3d": [
           {
            "line": {
             "colorbar": {
              "outlinewidth": 0,
              "ticks": ""
             }
            },
            "marker": {
             "colorbar": {
              "outlinewidth": 0,
              "ticks": ""
             }
            },
            "type": "scatter3d"
           }
          ],
          "scattercarpet": [
           {
            "marker": {
             "colorbar": {
              "outlinewidth": 0,
              "ticks": ""
             }
            },
            "type": "scattercarpet"
           }
          ],
          "scattergeo": [
           {
            "marker": {
             "colorbar": {
              "outlinewidth": 0,
              "ticks": ""
             }
            },
            "type": "scattergeo"
           }
          ],
          "scattergl": [
           {
            "marker": {
             "colorbar": {
              "outlinewidth": 0,
              "ticks": ""
             }
            },
            "type": "scattergl"
           }
          ],
          "scattermapbox": [
           {
            "marker": {
             "colorbar": {
              "outlinewidth": 0,
              "ticks": ""
             }
            },
            "type": "scattermapbox"
           }
          ],
          "scatterpolar": [
           {
            "marker": {
             "colorbar": {
              "outlinewidth": 0,
              "ticks": ""
             }
            },
            "type": "scatterpolar"
           }
          ],
          "scatterpolargl": [
           {
            "marker": {
             "colorbar": {
              "outlinewidth": 0,
              "ticks": ""
             }
            },
            "type": "scatterpolargl"
           }
          ],
          "scatterternary": [
           {
            "marker": {
             "colorbar": {
              "outlinewidth": 0,
              "ticks": ""
             }
            },
            "type": "scatterternary"
           }
          ],
          "surface": [
           {
            "colorbar": {
             "outlinewidth": 0,
             "ticks": ""
            },
            "colorscale": [
             [
              0,
              "#0d0887"
             ],
             [
              0.1111111111111111,
              "#46039f"
             ],
             [
              0.2222222222222222,
              "#7201a8"
             ],
             [
              0.3333333333333333,
              "#9c179e"
             ],
             [
              0.4444444444444444,
              "#bd3786"
             ],
             [
              0.5555555555555556,
              "#d8576b"
             ],
             [
              0.6666666666666666,
              "#ed7953"
             ],
             [
              0.7777777777777778,
              "#fb9f3a"
             ],
             [
              0.8888888888888888,
              "#fdca26"
             ],
             [
              1,
              "#f0f921"
             ]
            ],
            "type": "surface"
           }
          ],
          "table": [
           {
            "cells": {
             "fill": {
              "color": "#EBF0F8"
             },
             "line": {
              "color": "white"
             }
            },
            "header": {
             "fill": {
              "color": "#C8D4E3"
             },
             "line": {
              "color": "white"
             }
            },
            "type": "table"
           }
          ]
         },
         "layout": {
          "annotationdefaults": {
           "arrowcolor": "#2a3f5f",
           "arrowhead": 0,
           "arrowwidth": 1
          },
          "autotypenumbers": "strict",
          "coloraxis": {
           "colorbar": {
            "outlinewidth": 0,
            "ticks": ""
           }
          },
          "colorscale": {
           "diverging": [
            [
             0,
             "#8e0152"
            ],
            [
             0.1,
             "#c51b7d"
            ],
            [
             0.2,
             "#de77ae"
            ],
            [
             0.3,
             "#f1b6da"
            ],
            [
             0.4,
             "#fde0ef"
            ],
            [
             0.5,
             "#f7f7f7"
            ],
            [
             0.6,
             "#e6f5d0"
            ],
            [
             0.7,
             "#b8e186"
            ],
            [
             0.8,
             "#7fbc41"
            ],
            [
             0.9,
             "#4d9221"
            ],
            [
             1,
             "#276419"
            ]
           ],
           "sequential": [
            [
             0,
             "#0d0887"
            ],
            [
             0.1111111111111111,
             "#46039f"
            ],
            [
             0.2222222222222222,
             "#7201a8"
            ],
            [
             0.3333333333333333,
             "#9c179e"
            ],
            [
             0.4444444444444444,
             "#bd3786"
            ],
            [
             0.5555555555555556,
             "#d8576b"
            ],
            [
             0.6666666666666666,
             "#ed7953"
            ],
            [
             0.7777777777777778,
             "#fb9f3a"
            ],
            [
             0.8888888888888888,
             "#fdca26"
            ],
            [
             1,
             "#f0f921"
            ]
           ],
           "sequentialminus": [
            [
             0,
             "#0d0887"
            ],
            [
             0.1111111111111111,
             "#46039f"
            ],
            [
             0.2222222222222222,
             "#7201a8"
            ],
            [
             0.3333333333333333,
             "#9c179e"
            ],
            [
             0.4444444444444444,
             "#bd3786"
            ],
            [
             0.5555555555555556,
             "#d8576b"
            ],
            [
             0.6666666666666666,
             "#ed7953"
            ],
            [
             0.7777777777777778,
             "#fb9f3a"
            ],
            [
             0.8888888888888888,
             "#fdca26"
            ],
            [
             1,
             "#f0f921"
            ]
           ]
          },
          "colorway": [
           "#636efa",
           "#EF553B",
           "#00cc96",
           "#ab63fa",
           "#FFA15A",
           "#19d3f3",
           "#FF6692",
           "#B6E880",
           "#FF97FF",
           "#FECB52"
          ],
          "font": {
           "color": "#2a3f5f"
          },
          "geo": {
           "bgcolor": "white",
           "lakecolor": "white",
           "landcolor": "#E5ECF6",
           "showlakes": true,
           "showland": true,
           "subunitcolor": "white"
          },
          "hoverlabel": {
           "align": "left"
          },
          "hovermode": "closest",
          "mapbox": {
           "style": "light"
          },
          "paper_bgcolor": "white",
          "plot_bgcolor": "#E5ECF6",
          "polar": {
           "angularaxis": {
            "gridcolor": "white",
            "linecolor": "white",
            "ticks": ""
           },
           "bgcolor": "#E5ECF6",
           "radialaxis": {
            "gridcolor": "white",
            "linecolor": "white",
            "ticks": ""
           }
          },
          "scene": {
           "xaxis": {
            "backgroundcolor": "#E5ECF6",
            "gridcolor": "white",
            "gridwidth": 2,
            "linecolor": "white",
            "showbackground": true,
            "ticks": "",
            "zerolinecolor": "white"
           },
           "yaxis": {
            "backgroundcolor": "#E5ECF6",
            "gridcolor": "white",
            "gridwidth": 2,
            "linecolor": "white",
            "showbackground": true,
            "ticks": "",
            "zerolinecolor": "white"
           },
           "zaxis": {
            "backgroundcolor": "#E5ECF6",
            "gridcolor": "white",
            "gridwidth": 2,
            "linecolor": "white",
            "showbackground": true,
            "ticks": "",
            "zerolinecolor": "white"
           }
          },
          "shapedefaults": {
           "line": {
            "color": "#2a3f5f"
           }
          },
          "ternary": {
           "aaxis": {
            "gridcolor": "white",
            "linecolor": "white",
            "ticks": ""
           },
           "baxis": {
            "gridcolor": "white",
            "linecolor": "white",
            "ticks": ""
           },
           "bgcolor": "#E5ECF6",
           "caxis": {
            "gridcolor": "white",
            "linecolor": "white",
            "ticks": ""
           }
          },
          "title": {
           "x": 0.05
          },
          "xaxis": {
           "automargin": true,
           "gridcolor": "white",
           "linecolor": "white",
           "ticks": "",
           "title": {
            "standoff": 15
           },
           "zerolinecolor": "white",
           "zerolinewidth": 2
          },
          "yaxis": {
           "automargin": true,
           "gridcolor": "white",
           "linecolor": "white",
           "ticks": "",
           "title": {
            "standoff": 15
           },
           "zerolinecolor": "white",
           "zerolinewidth": 2
          }
         }
        },
        "title": {
         "text": "Histogram of Majors.",
         "x": 0.5
        },
        "xaxis": {
         "anchor": "y",
         "autorange": true,
         "domain": [
          0,
          1
         ],
         "range": [
          -0.5,
          15.5
         ],
         "title": {
          "text": "Major_category"
         },
         "type": "category"
        },
        "yaxis": {
         "anchor": "x",
         "autorange": true,
         "domain": [
          0,
          1
         ],
         "range": [
          0,
          30.526315789473685
         ],
         "title": {
          "text": "count"
         }
        }
       }
      },
      "image/png": "[encoded data removed]",
      "text/html": [
       "<div>                            <div id=\"b8834399-9310-4a8f-8114-f4d996960678\" class=\"plotly-graph-div\" style=\"height:525px; width:100%;\"></div>            <script type=\"text/javascript\">                require([\"plotly\"], function(Plotly) {                    window.PLOTLYENV=window.PLOTLYENV || {};                                    if (document.getElementById(\"b8834399-9310-4a8f-8114-f4d996960678\")) {                    Plotly.newPlot(                        \"b8834399-9310-4a8f-8114-f4d996960678\",                        [{\"alignmentgroup\":\"True\",\"bingroup\":\"x\",\"hovertemplate\":\"Major_category=%{x}\\u003cbr\\u003ecount=%{y}\\u003cextra\\u003e\\u003c\\u002fextra\\u003e\",\"legendgroup\":\"\",\"marker\":{\"color\":\"teal\",\"pattern\":{\"shape\":\"\"}},\"name\":\"\",\"nbinsx\":16,\"offsetgroup\":\"\",\"orientation\":\"v\",\"showlegend\":false,\"x\":[\"Engineering\",\"Engineering\",\"Engineering\",\"Engineering\",\"Engineering\",\"Engineering\",\"Business\",\"Physical Sciences\",\"Engineering\",\"Engineering\",\"Engineering\",\"Engineering\",\"Engineering\",\"Engineering\",\"Engineering\",\"Engineering\",\"Engineering\",\"Engineering\",\"Engineering\",\"Law & Public Policy\",\"Computers & Mathematics\",\"Agriculture & Natural Resources\",\"Engineering\",\"Engineering\",\"Business\",\"Engineering\",\"Industrial Arts & Consumer Services\",\"Business\",\"Engineering\",\"Law & Public Policy\",\"Engineering\",\"Engineering\",\"Arts\",\"Engineering\",\"Health\",\"Business\",\"Social Science\",\"Business\",\"Engineering\",\"Physical Sciences\",\"Business\",\"Computers & Mathematics\",\"Computers & Mathematics\",\"Physical Sciences\",\"Health\",\"Computers & Mathematics\",\"Computers & Mathematics\",\"Computers & Mathematics\",\"Biology & Life Science\",\"Physical Sciences\",\"Engineering\",\"Health\",\"Computers & Mathematics\",\"Computers & Mathematics\",\"Biology & Life Science\",\"Education\",\"Social Science\",\"Business\",\"Engineering\",\"Business\",\"Health\",\"Biology & Life Science\",\"Business\",\"Agriculture & Natural Resources\",\"Agriculture & Natural Resources\",\"Engineering\",\"Engineering\",\"Biology & Life Science\",\"Social Science\",\"Humanities & Liberal Arts\",\"Psychology & Social Work\",\"Agriculture & Natural Resources\",\"Physical Sciences\",\"Industrial Arts & Consumer Services\",\"Physical Sciences\",\"Industrial Arts & Consumer Services\",\"Business\",\"Business\",\"Social Science\",\"Social Science\",\"Biology & Life Science\",\"Computers & Mathematics\",\"Biology & Life Science\",\"Biology & Life Science\",\"Computers & Mathematics\",\"Physical Sciences\",\"Business\",\"Law & Public Policy\",\"Health\",\"Law & Public Policy\",\"Physical Sciences\",\"Psychology & Social Work\",\"Biology & Life Science\",\"Communications & Journalism\",\"Law & Public Policy\",\"Arts\",\"Communications & Journalism\",\"Physical Sciences\",\"Communications & Journalism\",\"Humanities & Liberal Arts\",\"Education\",\"Biology & Life Science\",\"Social Science\",\"Health\",\"Health\",\"Computers & Mathematics\",\"Industrial Arts & Consumer Services\",\"Agriculture & Natural Resources\",\"Biology & Life Science\",\"Interdisciplinary\",\"Physical Sciences\",\"Agriculture & Natural Resources\",\"Agriculture & Natural Resources\",\"Education\",\"Humanities & Liberal Arts\",\"Humanities & Liberal Arts\",\"Humanities & Liberal Arts\",\"Education\",\"Health\",\"Education\",\"Education\",\"Health\",\"Biology & Life Science\",\"Biology & Life Science\",\"Social Science\",\"Communications & Journalism\",\"Health\",\"Business\",\"Education\",\"Humanities & Liberal Arts\",\"Education\",\"Social Science\",\"Biology & Life Science\",\"Education\",\"Health\",\"Humanities & Liberal Arts\",\"Education\",\"Humanities & Liberal Arts\",\"Education\",\"Industrial Arts & Consumer Services\",\"Humanities & Liberal Arts\",\"Arts\",\"Social Science\",\"Agriculture & Natural Resources\",\"Education\",\"Psychology & Social Work\",\"Arts\",\"Education\",\"Humanities & Liberal Arts\",\"Arts\",\"Industrial Arts & Consumer Services\",\"Psychology & Social Work\",\"Agriculture & Natural Resources\",\"Arts\",\"Education\",\"Psychology & Social Work\",\"Psychology & Social Work\",\"Humanities & Liberal Arts\",\"Humanities & Liberal Arts\",\"Arts\",\"Industrial Arts & Consumer Services\",\"Agriculture & Natural Resources\",\"Humanities & Liberal Arts\",\"Health\",\"Education\",\"Humanities & Liberal Arts\",\"Arts\",\"Humanities & Liberal Arts\",\"Biology & Life Science\",\"Psychology & Social Work\",\"Psychology & Social Work\",\"Psychology & Social Work\",\"Education\"],\"xaxis\":\"x\",\"yaxis\":\"y\",\"type\":\"histogram\"}],                        {\"template\":{\"data\":{\"histogram2dcontour\":[{\"type\":\"histogram2dcontour\",\"colorbar\":{\"outlinewidth\":0,\"ticks\":\"\"},\"colorscale\":[[0.0,\"#0d0887\"],[0.1111111111111111,\"#46039f\"],[0.2222222222222222,\"#7201a8\"],[0.3333333333333333,\"#9c179e\"],[0.4444444444444444,\"#bd3786\"],[0.5555555555555556,\"#d8576b\"],[0.6666666666666666,\"#ed7953\"],[0.7777777777777778,\"#fb9f3a\"],[0.8888888888888888,\"#fdca26\"],[1.0,\"#f0f921\"]]}],\"choropleth\":[{\"type\":\"choropleth\",\"colorbar\":{\"outlinewidth\":0,\"ticks\":\"\"}}],\"histogram2d\":[{\"type\":\"histogram2d\",\"colorbar\":{\"outlinewidth\":0,\"ticks\":\"\"},\"colorscale\":[[0.0,\"#0d0887\"],[0.1111111111111111,\"#46039f\"],[0.2222222222222222,\"#7201a8\"],[0.3333333333333333,\"#9c179e\"],[0.4444444444444444,\"#bd3786\"],[0.5555555555555556,\"#d8576b\"],[0.6666666666666666,\"#ed7953\"],[0.7777777777777778,\"#fb9f3a\"],[0.8888888888888888,\"#fdca26\"],[1.0,\"#f0f921\"]]}],\"heatmap\":[{\"type\":\"heatmap\",\"colorbar\":{\"outlinewidth\":0,\"ticks\":\"\"},\"colorscale\":[[0.0,\"#0d0887\"],[0.1111111111111111,\"#46039f\"],[0.2222222222222222,\"#7201a8\"],[0.3333333333333333,\"#9c179e\"],[0.4444444444444444,\"#bd3786\"],[0.5555555555555556,\"#d8576b\"],[0.6666666666666666,\"#ed7953\"],[0.7777777777777778,\"#fb9f3a\"],[0.8888888888888888,\"#fdca26\"],[1.0,\"#f0f921\"]]}],\"heatmapgl\":[{\"type\":\"heatmapgl\",\"colorbar\":{\"outlinewidth\":0,\"ticks\":\"\"},\"colorscale\":[[0.0,\"#0d0887\"],[0.1111111111111111,\"#46039f\"],[0.2222222222222222,\"#7201a8\"],[0.3333333333333333,\"#9c179e\"],[0.4444444444444444,\"#bd3786\"],[0.5555555555555556,\"#d8576b\"],[0.6666666666666666,\"#ed7953\"],[0.7777777777777778,\"#fb9f3a\"],[0.8888888888888888,\"#fdca26\"],[1.0,\"#f0f921\"]]}],\"contourcarpet\":[{\"type\":\"contourcarpet\",\"colorbar\":{\"outlinewidth\":0,\"ticks\":\"\"}}],\"contour\":[{\"type\":\"contour\",\"colorbar\":{\"outlinewidth\":0,\"ticks\":\"\"},\"colorscale\":[[0.0,\"#0d0887\"],[0.1111111111111111,\"#46039f\"],[0.2222222222222222,\"#7201a8\"],[0.3333333333333333,\"#9c179e\"],[0.4444444444444444,\"#bd3786\"],[0.5555555555555556,\"#d8576b\"],[0.6666666666666666,\"#ed7953\"],[0.7777777777777778,\"#fb9f3a\"],[0.8888888888888888,\"#fdca26\"],[1.0,\"#f0f921\"]]}],\"surface\":[{\"type\":\"surface\",\"colorbar\":{\"outlinewidth\":0,\"ticks\":\"\"},\"colorscale\":[[0.0,\"#0d0887\"],[0.1111111111111111,\"#46039f\"],[0.2222222222222222,\"#7201a8\"],[0.3333333333333333,\"#9c179e\"],[0.4444444444444444,\"#bd3786\"],[0.5555555555555556,\"#d8576b\"],[0.6666666666666666,\"#ed7953\"],[0.7777777777777778,\"#fb9f3a\"],[0.8888888888888888,\"#fdca26\"],[1.0,\"#f0f921\"]]}],\"mesh3d\":[{\"type\":\"mesh3d\",\"colorbar\":{\"outlinewidth\":0,\"ticks\":\"\"}}],\"scatter\":[{\"fillpattern\":{\"fillmode\":\"overlay\",\"size\":10,\"solidity\":0.2},\"type\":\"scatter\"}],\"parcoords\":[{\"type\":\"parcoords\",\"line\":{\"colorbar\":{\"outlinewidth\":0,\"ticks\":\"\"}}}],\"scatterpolargl\":[{\"type\":\"scatterpolargl\",\"marker\":{\"colorbar\":{\"outlinewidth\":0,\"ticks\":\"\"}}}],\"bar\":[{\"error_x\":{\"color\":\"#2a3f5f\"},\"error_y\":{\"color\":\"#2a3f5f\"},\"marker\":{\"line\":{\"color\":\"#E5ECF6\",\"width\":0.5},\"pattern\":{\"fillmode\":\"overlay\",\"size\":10,\"solidity\":0.2}},\"type\":\"bar\"}],\"scattergeo\":[{\"type\":\"scattergeo\",\"marker\":{\"colorbar\":{\"outlinewidth\":0,\"ticks\":\"\"}}}],\"scatterpolar\":[{\"type\":\"scatterpolar\",\"marker\":{\"colorbar\":{\"outlinewidth\":0,\"ticks\":\"\"}}}],\"histogram\":[{\"marker\":{\"pattern\":{\"fillmode\":\"overlay\",\"size\":10,\"solidity\":0.2}},\"type\":\"histogram\"}],\"scattergl\":[{\"type\":\"scattergl\",\"marker\":{\"colorbar\":{\"outlinewidth\":0,\"ticks\":\"\"}}}],\"scatter3d\":[{\"type\":\"scatter3d\",\"line\":{\"colorbar\":{\"outlinewidth\":0,\"ticks\":\"\"}},\"marker\":{\"colorbar\":{\"outlinewidth\":0,\"ticks\":\"\"}}}],\"scattermapbox\":[{\"type\":\"scattermapbox\",\"marker\":{\"colorbar\":{\"outlinewidth\":0,\"ticks\":\"\"}}}],\"scatterternary\":[{\"type\":\"scatterternary\",\"marker\":{\"colorbar\":{\"outlinewidth\":0,\"ticks\":\"\"}}}],\"scattercarpet\":[{\"type\":\"scattercarpet\",\"marker\":{\"colorbar\":{\"outlinewidth\":0,\"ticks\":\"\"}}}],\"carpet\":[{\"aaxis\":{\"endlinecolor\":\"#2a3f5f\",\"gridcolor\":\"white\",\"linecolor\":\"white\",\"minorgridcolor\":\"white\",\"startlinecolor\":\"#2a3f5f\"},\"baxis\":{\"endlinecolor\":\"#2a3f5f\",\"gridcolor\":\"white\",\"linecolor\":\"white\",\"minorgridcolor\":\"white\",\"startlinecolor\":\"#2a3f5f\"},\"type\":\"carpet\"}],\"table\":[{\"cells\":{\"fill\":{\"color\":\"#EBF0F8\"},\"line\":{\"color\":\"white\"}},\"header\":{\"fill\":{\"color\":\"#C8D4E3\"},\"line\":{\"color\":\"white\"}},\"type\":\"table\"}],\"barpolar\":[{\"marker\":{\"line\":{\"color\":\"#E5ECF6\",\"width\":0.5},\"pattern\":{\"fillmode\":\"overlay\",\"size\":10,\"solidity\":0.2}},\"type\":\"barpolar\"}],\"pie\":[{\"automargin\":true,\"type\":\"pie\"}]},\"layout\":{\"autotypenumbers\":\"strict\",\"colorway\":[\"#636efa\",\"#EF553B\",\"#00cc96\",\"#ab63fa\",\"#FFA15A\",\"#19d3f3\",\"#FF6692\",\"#B6E880\",\"#FF97FF\",\"#FECB52\"],\"font\":{\"color\":\"#2a3f5f\"},\"hovermode\":\"closest\",\"hoverlabel\":{\"align\":\"left\"},\"paper_bgcolor\":\"white\",\"plot_bgcolor\":\"#E5ECF6\",\"polar\":{\"bgcolor\":\"#E5ECF6\",\"angularaxis\":{\"gridcolor\":\"white\",\"linecolor\":\"white\",\"ticks\":\"\"},\"radialaxis\":{\"gridcolor\":\"white\",\"linecolor\":\"white\",\"ticks\":\"\"}},\"ternary\":{\"bgcolor\":\"#E5ECF6\",\"aaxis\":{\"gridcolor\":\"white\",\"linecolor\":\"white\",\"ticks\":\"\"},\"baxis\":{\"gridcolor\":\"white\",\"linecolor\":\"white\",\"ticks\":\"\"},\"caxis\":{\"gridcolor\":\"white\",\"linecolor\":\"white\",\"ticks\":\"\"}},\"coloraxis\":{\"colorbar\":{\"outlinewidth\":0,\"ticks\":\"\"}},\"colorscale\":{\"sequential\":[[0.0,\"#0d0887\"],[0.1111111111111111,\"#46039f\"],[0.2222222222222222,\"#7201a8\"],[0.3333333333333333,\"#9c179e\"],[0.4444444444444444,\"#bd3786\"],[0.5555555555555556,\"#d8576b\"],[0.6666666666666666,\"#ed7953\"],[0.7777777777777778,\"#fb9f3a\"],[0.8888888888888888,\"#fdca26\"],[1.0,\"#f0f921\"]],\"sequentialminus\":[[0.0,\"#0d0887\"],[0.1111111111111111,\"#46039f\"],[0.2222222222222222,\"#7201a8\"],[0.3333333333333333,\"#9c179e\"],[0.4444444444444444,\"#bd3786\"],[0.5555555555555556,\"#d8576b\"],[0.6666666666666666,\"#ed7953\"],[0.7777777777777778,\"#fb9f3a\"],[0.8888888888888888,\"#fdca26\"],[1.0,\"#f0f921\"]],\"diverging\":[[0,\"#8e0152\"],[0.1,\"#c51b7d\"],[0.2,\"#de77ae\"],[0.3,\"#f1b6da\"],[0.4,\"#fde0ef\"],[0.5,\"#f7f7f7\"],[0.6,\"#e6f5d0\"],[0.7,\"#b8e186\"],[0.8,\"#7fbc41\"],[0.9,\"#4d9221\"],[1,\"#276419\"]]},\"xaxis\":{\"gridcolor\":\"white\",\"linecolor\":\"white\",\"ticks\":\"\",\"title\":{\"standoff\":15},\"zerolinecolor\":\"white\",\"automargin\":true,\"zerolinewidth\":2},\"yaxis\":{\"gridcolor\":\"white\",\"linecolor\":\"white\",\"ticks\":\"\",\"title\":{\"standoff\":15},\"zerolinecolor\":\"white\",\"automargin\":true,\"zerolinewidth\":2},\"scene\":{\"xaxis\":{\"backgroundcolor\":\"#E5ECF6\",\"gridcolor\":\"white\",\"linecolor\":\"white\",\"showbackground\":true,\"ticks\":\"\",\"zerolinecolor\":\"white\",\"gridwidth\":2},\"yaxis\":{\"backgroundcolor\":\"#E5ECF6\",\"gridcolor\":\"white\",\"linecolor\":\"white\",\"showbackground\":true,\"ticks\":\"\",\"zerolinecolor\":\"white\",\"gridwidth\":2},\"zaxis\":{\"backgroundcolor\":\"#E5ECF6\",\"gridcolor\":\"white\",\"linecolor\":\"white\",\"showbackground\":true,\"ticks\":\"\",\"zerolinecolor\":\"white\",\"gridwidth\":2}},\"shapedefaults\":{\"line\":{\"color\":\"#2a3f5f\"}},\"annotationdefaults\":{\"arrowcolor\":\"#2a3f5f\",\"arrowhead\":0,\"arrowwidth\":1},\"geo\":{\"bgcolor\":\"white\",\"landcolor\":\"#E5ECF6\",\"subunitcolor\":\"white\",\"showland\":true,\"showlakes\":true,\"lakecolor\":\"white\"},\"title\":{\"x\":0.05},\"mapbox\":{\"style\":\"light\"}}},\"xaxis\":{\"anchor\":\"y\",\"domain\":[0.0,1.0],\"title\":{\"text\":\"Major_category\"}},\"yaxis\":{\"anchor\":\"x\",\"domain\":[0.0,1.0],\"title\":{\"text\":\"count\"}},\"legend\":{\"tracegroupgap\":0},\"margin\":{\"t\":60},\"barmode\":\"relative\",\"title\":{\"text\":\"Histogram of Majors.\",\"x\":0.5},\"bargap\":0.1},                        {\"responsive\": true}                    ).then(function(){\n",
       "                            \n",
       "var gd = document.getElementById('b8834399-9310-4a8f-8114-f4d996960678');\n",
       "var x = new MutationObserver(function (mutations, observer) {{\n",
       "        var display = window.getComputedStyle(gd).display;\n",
       "        if (!display || display === 'none') {{\n",
       "            console.log([gd, 'removed!']);\n",
       "            Plotly.purge(gd);\n",
       "            observer.disconnect();\n",
       "        }}\n",
       "}});\n",
       "\n",
       "// Listen for the removal of the full notebook cells\n",
       "var notebookContainer = gd.closest('#notebook-container');\n",
       "if (notebookContainer) {{\n",
       "    x.observe(notebookContainer, {childList: true});\n",
       "}}\n",
       "\n",
       "// Listen for the clearing of the current output cell\n",
       "var outputEl = gd.closest('.output');\n",
       "if (outputEl) {{\n",
       "    x.observe(outputEl, {childList: true});\n",
       "}}\n",
       "\n",
       "                        })                };                });            </script>        </div>"
      ]
     },
     "metadata": {},
     "output_type": "display_data"
    }
   ],
   "source": [
    "#Make a histogram that explores median income for each of the major categories (facet_col). How did you choose your number of bins?\n",
    "fig = px.histogram (DF_raw,\n",
    "                   nbins=16,\n",
    "                   x='Major_category',\n",
    "                   color_discrete_sequence=['teal'])\n",
    "\n",
    "fig.update_layout(bargap=0.1,\n",
    "                  title='Histogram of Majors.',\n",
    "                  title_x=0.5)\n",
    "fig.show()"
   ]
  },
  {
   "cell_type": "markdown",
   "id": "b56df4b9-4a2c-4f25-a7c2-78066d0a8249",
   "metadata": {},
   "source": [
    "fig = px.histogram(DF_raw,\n",
    "            x='Major_category',\n",
    "            color='Median')\n",
    "fig.update_traces(dict(marker_line_width=0))\n",
    "\n",
    "fig.update_layout(title='Median income for each Major',\n",
    "                  title_x=0.5,\n",
    "                  xaxis_title=\"Majors\",\n",
    "                  yaxis_title=\"Median Income\",\n",
    "                  autosize=False,)\n",
    "fig.show()\n",
    "#\"Median\" didn't work"
   ]
  },
  {
   "cell_type": "markdown",
   "id": "420d8a0b-be32-4ec4-a8dc-9a8ad5b7b026",
   "metadata": {},
   "source": [
    "We choose the median rather than the mean the descrive the typcial income of a group of people a possible outlier can ruin the data."
   ]
  },
  {
   "cell_type": "markdown",
   "id": "91782c48-bc5f-479f-91e2-a3ca50429fa4",
   "metadata": {},
   "source": [
    "Which major category has the highest typical (you'll need to decide what this means) median income?\n",
    "Answer - I don't know"
   ]
  },
  {
   "cell_type": "markdown",
   "id": "04306ea4-b398-411c-b91e-86a68d24a8d6",
   "metadata": {},
   "source": [
    "I can't explain because a lot of the variables that I tried to use weren't \"in the index\" so I got extremly confused."
   ]
  },
  {
   "cell_type": "markdown",
   "id": "39d4118e-26d8-4f81-8d65-569c4b6d97d1",
   "metadata": {},
   "source": [
    "### 3. More complicated questions\n",
    "\n",
    "* Are all STEM fields the same in terms job opportunities?\n",
    "    * Assume the following are STEM major categories\n",
    "    \n",
    "  ``` [\"Biology & Life Science\", \"Computers & Mathematics\", \"Engineering\",\"Physical Sciences\"]```\n",
    "  \n",
    "    * Create a DataFrame (using a mask) so you only look at STEM majors.\n",
    "    * Which STEM majors have median salaries equal to or less than the median for all majors' median earnings?\n",
    "* What types of majors do women tend to major in?\n",
    "    * Create a scatterplot of median income vs. proportion of women in that major, coloured by whether the major is in a STEM field or not."
   ]
  },
  {
   "cell_type": "code",
   "execution_count": 364,
   "id": "1639bd96-4f56-4ccb-b28c-51b09b961ae4",
   "metadata": {},
   "outputs": [],
   "source": [
    "#Create DataFrame\n"
   ]
  },
  {
   "cell_type": "code",
   "execution_count": 22,
   "id": "4e0a96d0-07ee-4693-8972-829ab3518125",
   "metadata": {},
   "outputs": [],
   "source": [
    "#"
   ]
  },
  {
   "cell_type": "code",
   "execution_count": 23,
   "id": "be654ff2-e684-4eda-8843-4ac9f07a74ae",
   "metadata": {},
   "outputs": [],
   "source": [
    "#"
   ]
  },
  {
   "cell_type": "markdown",
   "id": "b9f65c22-2c17-495a-be1e-66e1dd2e183a",
   "metadata": {},
   "source": [
    "**(Click Here to Explain your Results)**"
   ]
  },
  {
   "cell_type": "markdown",
   "id": "b3df8412-b946-4812-ba3b-873fb0eb8d7c",
   "metadata": {},
   "source": [
    "### 4. Ask a question of interest to you."
   ]
  },
  {
   "cell_type": "code",
   "execution_count": 24,
   "id": "25a08e99-946a-4003-a477-1dc941e4357e",
   "metadata": {},
   "outputs": [],
   "source": [
    "#"
   ]
  },
  {
   "cell_type": "markdown",
   "id": "0940ef30-6ee7-42c8-8747-80f4b2bb8e3f",
   "metadata": {},
   "source": [
    "**(Click Here to Explain your Results)**"
   ]
  },
  {
   "cell_type": "markdown",
   "id": "f3d04f7b-94a9-4a1e-bbaf-e26029bdfed1",
   "metadata": {},
   "source": []
  },
  {
   "cell_type": "code",
   "execution_count": null,
   "id": "8569acec-f8ab-4866-81f3-2313770daa96",
   "metadata": {},
   "outputs": [],
   "source": []
  }
 ],
 "metadata": {
  "kernelspec": {
   "display_name": "Python 3 (ipykernel)",
   "language": "python",
   "name": "python3"
  },
  "language_info": {
   "codemirror_mode": {
    "name": "ipython",
    "version": 3
   },
   "file_extension": ".py",
   "mimetype": "text/x-python",
   "name": "python",
   "nbconvert_exporter": "python",
   "pygments_lexer": "ipython3",
   "version": "3.12.2"
  }
 },
 "nbformat": 4,
 "nbformat_minor": 5
}
