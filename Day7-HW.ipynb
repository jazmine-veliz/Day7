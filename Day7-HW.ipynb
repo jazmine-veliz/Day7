{
 "cells": [
  {
   "cell_type": "markdown",
   "id": "a9215f5c-525b-4508-8b0d-700f55cbd252",
   "metadata": {},
   "source": [
    "## Introduction to Data Science\n",
    "\n",
    "#### University of Redlands - DATA 101\n",
    "#### Prof: Joanna Bieri [joanna_bieri@redlands.edu](mailto:joanna_bieri@redlands.edu)\n",
    "#### [Class Website: data101.joannabieri.com](https://joannabieri.com/data101.html)\n",
    "\n",
    "---------------------------------------\n",
    "# Homework Day 7\n",
    "---------------------------------------\n",
    "\n",
    "GOALS:\n",
    "\n",
    "1. Answer all the questions from the lecture - we will use the scientists data and the grocery data.\n",
    "2. Analyze data about College majors - your first EDA! (Think of this as a practice exam.)\n",
    "\n",
    "----------------------------------------------------------\n",
    "\n",
    "This homework has **9 Questions** and **A Practice Exam**\n",
    "\n",
    "NOTE:\n",
    "The practice exam is intended to give you an idea of what an exam in this class might feel like. Remember you will be expected to work on the exam **independently** and submit your work before we get together to work on the exam in class. **15\\% of your Exam grade will come from what you can do independently** so start practicing now and get help if you need it!."
   ]
  },
  {
   "cell_type": "code",
   "execution_count": 1276,
   "id": "049c24b6-a6c1-4ccc-b2de-5ea0366d09f8",
   "metadata": {},
   "outputs": [],
   "source": [
    "import numpy as np\n",
    "import pandas as pd\n",
    "\n",
    "import matplotlib.pyplot as plt\n",
    "import plotly.express as px\n",
    "from plotly.subplots import make_subplots\n",
    "import plotly.io as pio\n",
    "pio.renderers.defaule = 'colab'\n",
    "\n",
    "from itables import show"
   ]
  },
  {
   "cell_type": "markdown",
   "id": "23773272-c059-4148-a5a8-91e9da594c46",
   "metadata": {},
   "source": [
    "## Lecture Questions\n",
    "\n",
    "First we will import the data about female scientists."
   ]
  },
  {
   "cell_type": "code",
   "execution_count": 1278,
   "id": "e90fdd5f-bd17-4c94-b3f4-7ddc998bd001",
   "metadata": {},
   "outputs": [
    {
     "data": {
      "text/html": [
       "<table id=\"itables_f73c9b92_ff24_49ef_9f6b_0374debe3266\" class=\"display nowrap\" data-quarto-disable-processing=\"true\" style=\"table-layout:auto;width:auto;margin:auto;caption-side:bottom\">\n",
       "<thead>\n",
       "    <tr style=\"text-align: right;\">\n",
       "      \n",
       "      <th>name</th>\n",
       "      <th>birth_year</th>\n",
       "      <th>death_year</th>\n",
       "    </tr>\n",
       "  </thead><tbody><tr>\n",
       "<td style=\"vertical-align:middle; text-align:left\">\n",
       "<div style=\"float:left; margin-right: 10px;\">\n",
       "<a href=https://mwouts.github.io/itables/><svg class=\"main-svg\" xmlns=\"http://www.w3.org/2000/svg\" xmlns:xlink=\"http://www.w3.org/1999/xlink\"\n",
       "width=\"64\" viewBox=\"0 0 500 400\" style=\"font-family: 'Droid Sans', sans-serif;\">\n",
       "    <g style=\"fill:#d9d7fc\">\n",
       "        <path d=\"M100,400H500V357H100Z\" />\n",
       "        <path d=\"M100,300H400V257H100Z\" />\n",
       "        <path d=\"M0,200H400V157H0Z\" />\n",
       "        <path d=\"M100,100H500V57H100Z\" />\n",
       "        <path d=\"M100,350H500V307H100Z\" />\n",
       "        <path d=\"M100,250H400V207H100Z\" />\n",
       "        <path d=\"M0,150H400V107H0Z\" />\n",
       "        <path d=\"M100,50H500V7H100Z\" />\n",
       "    </g>\n",
       "    <g style=\"fill:#1a1366;stroke:#1a1366;\">\n",
       "   <rect x=\"100\" y=\"7\" width=\"400\" height=\"43\">\n",
       "    <animate\n",
       "      attributeName=\"width\"\n",
       "      values=\"0;400;0\"\n",
       "      dur=\"5s\"\n",
       "      repeatCount=\"indefinite\" />\n",
       "      <animate\n",
       "      attributeName=\"x\"\n",
       "      values=\"100;100;500\"\n",
       "      dur=\"5s\"\n",
       "      repeatCount=\"indefinite\" />\n",
       "  </rect>\n",
       "        <rect x=\"0\" y=\"107\" width=\"400\" height=\"43\">\n",
       "    <animate\n",
       "      attributeName=\"width\"\n",
       "      values=\"0;400;0\"\n",
       "      dur=\"3.5s\"\n",
       "      repeatCount=\"indefinite\" />\n",
       "    <animate\n",
       "      attributeName=\"x\"\n",
       "      values=\"0;0;400\"\n",
       "      dur=\"3.5s\"\n",
       "      repeatCount=\"indefinite\" />\n",
       "  </rect>\n",
       "        <rect x=\"100\" y=\"207\" width=\"300\" height=\"43\">\n",
       "    <animate\n",
       "      attributeName=\"width\"\n",
       "      values=\"0;300;0\"\n",
       "      dur=\"3s\"\n",
       "      repeatCount=\"indefinite\" />\n",
       "    <animate\n",
       "      attributeName=\"x\"\n",
       "      values=\"100;100;400\"\n",
       "      dur=\"3s\"\n",
       "      repeatCount=\"indefinite\" />\n",
       "  </rect>\n",
       "        <rect x=\"100\" y=\"307\" width=\"400\" height=\"43\">\n",
       "    <animate\n",
       "      attributeName=\"width\"\n",
       "      values=\"0;400;0\"\n",
       "      dur=\"4s\"\n",
       "      repeatCount=\"indefinite\" />\n",
       "      <animate\n",
       "      attributeName=\"x\"\n",
       "      values=\"100;100;500\"\n",
       "      dur=\"4s\"\n",
       "      repeatCount=\"indefinite\" />\n",
       "  </rect>\n",
       "        <g style=\"fill:transparent;stroke-width:8; stroke-linejoin:round\" rx=\"5\">\n",
       "            <g transform=\"translate(45 50) rotate(-45)\">\n",
       "                <circle r=\"33\" cx=\"0\" cy=\"0\" />\n",
       "                <rect x=\"-8\" y=\"32\" width=\"16\" height=\"30\" />\n",
       "            </g>\n",
       "\n",
       "            <g transform=\"translate(450 152)\">\n",
       "                <polyline points=\"-15,-20 -35,-20 -35,40 25,40 25,20\" />\n",
       "                <rect x=\"-15\" y=\"-40\" width=\"60\" height=\"60\" />\n",
       "            </g>\n",
       "\n",
       "            <g transform=\"translate(50 352)\">\n",
       "                <polygon points=\"-35,-5 0,-40 35,-5\" />\n",
       "                <polygon points=\"-35,10 0,45 35,10\" />\n",
       "            </g>\n",
       "\n",
       "            <g transform=\"translate(75 250)\">\n",
       "                <polyline points=\"-30,30 -60,0 -30,-30\" />\n",
       "                <polyline points=\"0,30 -30,0 0,-30\" />\n",
       "            </g>\n",
       "\n",
       "            <g transform=\"translate(425 250) rotate(180)\">\n",
       "                <polyline points=\"-30,30 -60,0 -30,-30\" />\n",
       "                <polyline points=\"0,30 -30,0 0,-30\" />\n",
       "            </g>\n",
       "        </g>\n",
       "    </g>\n",
       "</svg>\n",
       "</a>\n",
       "</div>\n",
       "<div>\n",
       "Loading ITables v2.1.4 from the internet...\n",
       "(need <a href=https://mwouts.github.io/itables/troubleshooting.html>help</a>?)</td>\n",
       "</div>\n",
       "</tr></tbody>\n",
       "\n",
       "</table>\n",
       "<link href=\"https://www.unpkg.com/dt_for_itables@2.0.11/dt_bundle.css\" rel=\"stylesheet\">\n",
       "<script type=\"module\">\n",
       "    import {DataTable, jQuery as $} from 'https://www.unpkg.com/dt_for_itables@2.0.11/dt_bundle.js';\n",
       "\n",
       "    document.querySelectorAll(\"#itables_f73c9b92_ff24_49ef_9f6b_0374debe3266:not(.dataTable)\").forEach(table => {\n",
       "        // Define the table data\n",
       "        const data = [[\"Janaki Ammal\", 1897, 1984.0], [\"Chien-Shiung Wu\", 1912, 1997.0], [\"Katherine Johnson\", 1918, 2020.0], [\"Rosalind Franklin\", 1920, 1958.0], [\"Vera Rubin\", 1928, 2016.0], [\"Gladys West\", 1930, NaN], [\"Flossie Wong-Staal\", 1947, NaN], [\"Jennifer Doudna\", 1964, NaN]];\n",
       "\n",
       "        // Define the dt_args\n",
       "        let dt_args = {\"layout\": {\"topStart\": null, \"topEnd\": null, \"bottomStart\": null, \"bottomEnd\": null}, \"order\": []};\n",
       "        dt_args[\"data\"] = data;\n",
       "\n",
       "        \n",
       "        new DataTable(table, dt_args);\n",
       "    });\n",
       "</script>\n"
      ],
      "text/plain": [
       "<IPython.core.display.HTML object>"
      ]
     },
     "metadata": {},
     "output_type": "display_data"
    },
    {
     "data": {
      "text/html": [
       "<table id=\"itables_ebb2eec5_4f9d_4bdb_994f_076c10daad5d\" class=\"display nowrap\" data-quarto-disable-processing=\"true\" style=\"table-layout:auto;width:auto;margin:auto;caption-side:bottom\">\n",
       "<thead>\n",
       "    <tr style=\"text-align: right;\">\n",
       "      \n",
       "      <th>name</th>\n",
       "      <th>profession</th>\n",
       "    </tr>\n",
       "  </thead><tbody><tr>\n",
       "<td style=\"vertical-align:middle; text-align:left\">\n",
       "<div style=\"float:left; margin-right: 10px;\">\n",
       "<a href=https://mwouts.github.io/itables/><svg class=\"main-svg\" xmlns=\"http://www.w3.org/2000/svg\" xmlns:xlink=\"http://www.w3.org/1999/xlink\"\n",
       "width=\"64\" viewBox=\"0 0 500 400\" style=\"font-family: 'Droid Sans', sans-serif;\">\n",
       "    <g style=\"fill:#d9d7fc\">\n",
       "        <path d=\"M100,400H500V357H100Z\" />\n",
       "        <path d=\"M100,300H400V257H100Z\" />\n",
       "        <path d=\"M0,200H400V157H0Z\" />\n",
       "        <path d=\"M100,100H500V57H100Z\" />\n",
       "        <path d=\"M100,350H500V307H100Z\" />\n",
       "        <path d=\"M100,250H400V207H100Z\" />\n",
       "        <path d=\"M0,150H400V107H0Z\" />\n",
       "        <path d=\"M100,50H500V7H100Z\" />\n",
       "    </g>\n",
       "    <g style=\"fill:#1a1366;stroke:#1a1366;\">\n",
       "   <rect x=\"100\" y=\"7\" width=\"400\" height=\"43\">\n",
       "    <animate\n",
       "      attributeName=\"width\"\n",
       "      values=\"0;400;0\"\n",
       "      dur=\"5s\"\n",
       "      repeatCount=\"indefinite\" />\n",
       "      <animate\n",
       "      attributeName=\"x\"\n",
       "      values=\"100;100;500\"\n",
       "      dur=\"5s\"\n",
       "      repeatCount=\"indefinite\" />\n",
       "  </rect>\n",
       "        <rect x=\"0\" y=\"107\" width=\"400\" height=\"43\">\n",
       "    <animate\n",
       "      attributeName=\"width\"\n",
       "      values=\"0;400;0\"\n",
       "      dur=\"3.5s\"\n",
       "      repeatCount=\"indefinite\" />\n",
       "    <animate\n",
       "      attributeName=\"x\"\n",
       "      values=\"0;0;400\"\n",
       "      dur=\"3.5s\"\n",
       "      repeatCount=\"indefinite\" />\n",
       "  </rect>\n",
       "        <rect x=\"100\" y=\"207\" width=\"300\" height=\"43\">\n",
       "    <animate\n",
       "      attributeName=\"width\"\n",
       "      values=\"0;300;0\"\n",
       "      dur=\"3s\"\n",
       "      repeatCount=\"indefinite\" />\n",
       "    <animate\n",
       "      attributeName=\"x\"\n",
       "      values=\"100;100;400\"\n",
       "      dur=\"3s\"\n",
       "      repeatCount=\"indefinite\" />\n",
       "  </rect>\n",
       "        <rect x=\"100\" y=\"307\" width=\"400\" height=\"43\">\n",
       "    <animate\n",
       "      attributeName=\"width\"\n",
       "      values=\"0;400;0\"\n",
       "      dur=\"4s\"\n",
       "      repeatCount=\"indefinite\" />\n",
       "      <animate\n",
       "      attributeName=\"x\"\n",
       "      values=\"100;100;500\"\n",
       "      dur=\"4s\"\n",
       "      repeatCount=\"indefinite\" />\n",
       "  </rect>\n",
       "        <g style=\"fill:transparent;stroke-width:8; stroke-linejoin:round\" rx=\"5\">\n",
       "            <g transform=\"translate(45 50) rotate(-45)\">\n",
       "                <circle r=\"33\" cx=\"0\" cy=\"0\" />\n",
       "                <rect x=\"-8\" y=\"32\" width=\"16\" height=\"30\" />\n",
       "            </g>\n",
       "\n",
       "            <g transform=\"translate(450 152)\">\n",
       "                <polyline points=\"-15,-20 -35,-20 -35,40 25,40 25,20\" />\n",
       "                <rect x=\"-15\" y=\"-40\" width=\"60\" height=\"60\" />\n",
       "            </g>\n",
       "\n",
       "            <g transform=\"translate(50 352)\">\n",
       "                <polygon points=\"-35,-5 0,-40 35,-5\" />\n",
       "                <polygon points=\"-35,10 0,45 35,10\" />\n",
       "            </g>\n",
       "\n",
       "            <g transform=\"translate(75 250)\">\n",
       "                <polyline points=\"-30,30 -60,0 -30,-30\" />\n",
       "                <polyline points=\"0,30 -30,0 0,-30\" />\n",
       "            </g>\n",
       "\n",
       "            <g transform=\"translate(425 250) rotate(180)\">\n",
       "                <polyline points=\"-30,30 -60,0 -30,-30\" />\n",
       "                <polyline points=\"0,30 -30,0 0,-30\" />\n",
       "            </g>\n",
       "        </g>\n",
       "    </g>\n",
       "</svg>\n",
       "</a>\n",
       "</div>\n",
       "<div>\n",
       "Loading ITables v2.1.4 from the internet...\n",
       "(need <a href=https://mwouts.github.io/itables/troubleshooting.html>help</a>?)</td>\n",
       "</div>\n",
       "</tr></tbody>\n",
       "\n",
       "</table>\n",
       "<link href=\"https://www.unpkg.com/dt_for_itables@2.0.11/dt_bundle.css\" rel=\"stylesheet\">\n",
       "<script type=\"module\">\n",
       "    import {DataTable, jQuery as $} from 'https://www.unpkg.com/dt_for_itables@2.0.11/dt_bundle.js';\n",
       "\n",
       "    document.querySelectorAll(\"#itables_ebb2eec5_4f9d_4bdb_994f_076c10daad5d:not(.dataTable)\").forEach(table => {\n",
       "        // Define the table data\n",
       "        const data = [[\"Ada Lovelace\", \"Mathematician\"], [\"Marie Curie\", \"Physicist and Chemist\"], [\"Janaki Ammal\", \"Botanist\"], [\"Chien-Shiung Wu\", \"Physicist\"], [\"Katherine Johnson\", \"Mathematician\"], [\"Rosalind Franklin\", \"Chemist\"], [\"Vera Rubin\", \"Astronomer\"], [\"Gladys West\", \"Mathematician\"], [\"Flossie Wong-Staal\", \"Virologist and Molecular Biologist\"], [\"Jennifer Doudna\", \"Biochemist\"]];\n",
       "\n",
       "        // Define the dt_args\n",
       "        let dt_args = {\"layout\": {\"topStart\": null, \"topEnd\": null, \"bottomStart\": null, \"bottomEnd\": null}, \"order\": []};\n",
       "        dt_args[\"data\"] = data;\n",
       "\n",
       "        \n",
       "        new DataTable(table, dt_args);\n",
       "    });\n",
       "</script>\n"
      ],
      "text/plain": [
       "<IPython.core.display.HTML object>"
      ]
     },
     "metadata": {},
     "output_type": "display_data"
    },
    {
     "data": {
      "text/html": [
       "<table id=\"itables_30028542_4c36_4ccb_80d2_c1a12ad706f8\" class=\"display nowrap\" data-quarto-disable-processing=\"true\" style=\"table-layout:auto;width:auto;margin:auto;caption-side:bottom\">\n",
       "<thead>\n",
       "    <tr style=\"text-align: right;\">\n",
       "      \n",
       "      <th>name</th>\n",
       "      <th>known_for</th>\n",
       "    </tr>\n",
       "  </thead><tbody><tr>\n",
       "<td style=\"vertical-align:middle; text-align:left\">\n",
       "<div style=\"float:left; margin-right: 10px;\">\n",
       "<a href=https://mwouts.github.io/itables/><svg class=\"main-svg\" xmlns=\"http://www.w3.org/2000/svg\" xmlns:xlink=\"http://www.w3.org/1999/xlink\"\n",
       "width=\"64\" viewBox=\"0 0 500 400\" style=\"font-family: 'Droid Sans', sans-serif;\">\n",
       "    <g style=\"fill:#d9d7fc\">\n",
       "        <path d=\"M100,400H500V357H100Z\" />\n",
       "        <path d=\"M100,300H400V257H100Z\" />\n",
       "        <path d=\"M0,200H400V157H0Z\" />\n",
       "        <path d=\"M100,100H500V57H100Z\" />\n",
       "        <path d=\"M100,350H500V307H100Z\" />\n",
       "        <path d=\"M100,250H400V207H100Z\" />\n",
       "        <path d=\"M0,150H400V107H0Z\" />\n",
       "        <path d=\"M100,50H500V7H100Z\" />\n",
       "    </g>\n",
       "    <g style=\"fill:#1a1366;stroke:#1a1366;\">\n",
       "   <rect x=\"100\" y=\"7\" width=\"400\" height=\"43\">\n",
       "    <animate\n",
       "      attributeName=\"width\"\n",
       "      values=\"0;400;0\"\n",
       "      dur=\"5s\"\n",
       "      repeatCount=\"indefinite\" />\n",
       "      <animate\n",
       "      attributeName=\"x\"\n",
       "      values=\"100;100;500\"\n",
       "      dur=\"5s\"\n",
       "      repeatCount=\"indefinite\" />\n",
       "  </rect>\n",
       "        <rect x=\"0\" y=\"107\" width=\"400\" height=\"43\">\n",
       "    <animate\n",
       "      attributeName=\"width\"\n",
       "      values=\"0;400;0\"\n",
       "      dur=\"3.5s\"\n",
       "      repeatCount=\"indefinite\" />\n",
       "    <animate\n",
       "      attributeName=\"x\"\n",
       "      values=\"0;0;400\"\n",
       "      dur=\"3.5s\"\n",
       "      repeatCount=\"indefinite\" />\n",
       "  </rect>\n",
       "        <rect x=\"100\" y=\"207\" width=\"300\" height=\"43\">\n",
       "    <animate\n",
       "      attributeName=\"width\"\n",
       "      values=\"0;300;0\"\n",
       "      dur=\"3s\"\n",
       "      repeatCount=\"indefinite\" />\n",
       "    <animate\n",
       "      attributeName=\"x\"\n",
       "      values=\"100;100;400\"\n",
       "      dur=\"3s\"\n",
       "      repeatCount=\"indefinite\" />\n",
       "  </rect>\n",
       "        <rect x=\"100\" y=\"307\" width=\"400\" height=\"43\">\n",
       "    <animate\n",
       "      attributeName=\"width\"\n",
       "      values=\"0;400;0\"\n",
       "      dur=\"4s\"\n",
       "      repeatCount=\"indefinite\" />\n",
       "      <animate\n",
       "      attributeName=\"x\"\n",
       "      values=\"100;100;500\"\n",
       "      dur=\"4s\"\n",
       "      repeatCount=\"indefinite\" />\n",
       "  </rect>\n",
       "        <g style=\"fill:transparent;stroke-width:8; stroke-linejoin:round\" rx=\"5\">\n",
       "            <g transform=\"translate(45 50) rotate(-45)\">\n",
       "                <circle r=\"33\" cx=\"0\" cy=\"0\" />\n",
       "                <rect x=\"-8\" y=\"32\" width=\"16\" height=\"30\" />\n",
       "            </g>\n",
       "\n",
       "            <g transform=\"translate(450 152)\">\n",
       "                <polyline points=\"-15,-20 -35,-20 -35,40 25,40 25,20\" />\n",
       "                <rect x=\"-15\" y=\"-40\" width=\"60\" height=\"60\" />\n",
       "            </g>\n",
       "\n",
       "            <g transform=\"translate(50 352)\">\n",
       "                <polygon points=\"-35,-5 0,-40 35,-5\" />\n",
       "                <polygon points=\"-35,10 0,45 35,10\" />\n",
       "            </g>\n",
       "\n",
       "            <g transform=\"translate(75 250)\">\n",
       "                <polyline points=\"-30,30 -60,0 -30,-30\" />\n",
       "                <polyline points=\"0,30 -30,0 0,-30\" />\n",
       "            </g>\n",
       "\n",
       "            <g transform=\"translate(425 250) rotate(180)\">\n",
       "                <polyline points=\"-30,30 -60,0 -30,-30\" />\n",
       "                <polyline points=\"0,30 -30,0 0,-30\" />\n",
       "            </g>\n",
       "        </g>\n",
       "    </g>\n",
       "</svg>\n",
       "</a>\n",
       "</div>\n",
       "<div>\n",
       "Loading ITables v2.1.4 from the internet...\n",
       "(need <a href=https://mwouts.github.io/itables/troubleshooting.html>help</a>?)</td>\n",
       "</div>\n",
       "</tr></tbody>\n",
       "\n",
       "</table>\n",
       "<link href=\"https://www.unpkg.com/dt_for_itables@2.0.11/dt_bundle.css\" rel=\"stylesheet\">\n",
       "<script type=\"module\">\n",
       "    import {DataTable, jQuery as $} from 'https://www.unpkg.com/dt_for_itables@2.0.11/dt_bundle.js';\n",
       "\n",
       "    document.querySelectorAll(\"#itables_30028542_4c36_4ccb_80d2_c1a12ad706f8:not(.dataTable)\").forEach(table => {\n",
       "        // Define the table data\n",
       "        const data = [[\"Ada Lovelace\", \"first computer algorithm\"], [\"Marie Curie\", \"theory of radioactivity,  discovery of elements polonium and radium, first woman to win a Nobel Prize\"], [\"Janaki Ammal\", \"hybrid species, biodiversity protection\"], [\"Chien-Shiung Wu\", \"confim and refine theory of radioactive beta decy, Wu experiment overturning theory of parity\"], [\"Katherine Johnson\", \"calculations of orbital mechanics critical to sending the first Americans into space\"], [\"Vera Rubin\", \"existence of dark matter\"], [\"Gladys West\", \"mathematical modeling of the shape of the Earth which served as the foundation of GPS technology\"], [\"Flossie Wong-Staal\", \"first scientist to clone HIV and create a map of its genes which led to a test for the virus\"], [\"Jennifer Doudna\", \"one of the primary developers of CRISPR, a ground-breaking technology for editing genomes\"]];\n",
       "\n",
       "        // Define the dt_args\n",
       "        let dt_args = {\"layout\": {\"topStart\": null, \"topEnd\": null, \"bottomStart\": null, \"bottomEnd\": null}, \"order\": []};\n",
       "        dt_args[\"data\"] = data;\n",
       "\n",
       "        \n",
       "        new DataTable(table, dt_args);\n",
       "    });\n",
       "</script>\n"
      ],
      "text/plain": [
       "<IPython.core.display.HTML object>"
      ]
     },
     "metadata": {},
     "output_type": "display_data"
    }
   ],
   "source": [
    "file1 = 'https://joannabieri.com/introdatascience/data/dates.csv'\n",
    "DF_dates = pd.read_csv(file1)\n",
    "file2 = 'https://joannabieri.com/introdatascience/data/professions.csv'\n",
    "DF_professions = pd.read_csv(file2)\n",
    "file3 = 'https://joannabieri.com/introdatascience/data/works.csv'\n",
    "DF_works = pd.read_csv(file3)\n",
    "show(DF_dates)\n",
    "show(DF_professions)\n",
    "show(DF_works)"
   ]
  },
  {
   "cell_type": "markdown",
   "id": "941e4499-edd1-4210-b3ff-292dd2eb4df7",
   "metadata": {},
   "source": [
    "**Q1** Are each of these data sets Tidy?\n",
    "\n",
    "**Q2** Do they all contain the same number of observations?\n",
    "\n",
    "**Q3** What are the five variables?\n",
    "\n",
    "**Q4** What variable do they have in common - what can we join **on**"
   ]
  },
  {
   "cell_type": "markdown",
   "id": "c4b7e54d-473a-438e-a46c-2766e2e8c7e1",
   "metadata": {},
   "source": [
    "#### Q1\n",
    "##### The three data sets are tidy because every variable has specific categorical data.\n",
    "#### Q2\n",
    "##### The three data sets don't all contain the same number of observations. The first data set has 8 observations, the second data set has 10 observations, and the third data set has 9 observations.\n",
    "#### Q3\n",
    "##### The five variables in all three of these data sets are 'name', 'birth_year', 'profession', and 'known_for'.\n",
    "#### Q4\n",
    "##### The one variable that all three data sets have in common (the only thing we can join on) is 'name'."
   ]
  },
  {
   "cell_type": "markdown",
   "id": "fa09683e-ac6a-4cb5-a47d-6cbf580524d2",
   "metadata": {},
   "source": [
    "## Combining Three Data Sets\n",
    "\n",
    "You need to think about the order and whether or not you want to keep the maximum number of names or only keep names that are in all the data frames.\n",
    "\n",
    "In this case we will try to keep the maximal amount of data - the maximum number of names.\n",
    "\n",
    "1. Combine the professions and works data\n",
    "2. Then add the dates data"
   ]
  },
  {
   "cell_type": "code",
   "execution_count": 1282,
   "id": "1e06d293-4d62-49f6-86c5-568b22cee865",
   "metadata": {},
   "outputs": [
    {
     "data": {
      "text/html": [
       "<div>\n",
       "<style scoped>\n",
       "    .dataframe tbody tr th:only-of-type {\n",
       "        vertical-align: middle;\n",
       "    }\n",
       "\n",
       "    .dataframe tbody tr th {\n",
       "        vertical-align: top;\n",
       "    }\n",
       "\n",
       "    .dataframe thead th {\n",
       "        text-align: right;\n",
       "    }\n",
       "</style>\n",
       "<table border=\"1\" class=\"dataframe\">\n",
       "  <thead>\n",
       "    <tr style=\"text-align: right;\">\n",
       "      <th></th>\n",
       "      <th>name</th>\n",
       "      <th>profession</th>\n",
       "      <th>known_for</th>\n",
       "      <th>birth_year</th>\n",
       "      <th>death_year</th>\n",
       "    </tr>\n",
       "  </thead>\n",
       "  <tbody>\n",
       "    <tr>\n",
       "      <th>0</th>\n",
       "      <td>Ada Lovelace</td>\n",
       "      <td>Mathematician</td>\n",
       "      <td>first computer algorithm</td>\n",
       "      <td>NaN</td>\n",
       "      <td>NaN</td>\n",
       "    </tr>\n",
       "    <tr>\n",
       "      <th>1</th>\n",
       "      <td>Marie Curie</td>\n",
       "      <td>Physicist and Chemist</td>\n",
       "      <td>theory of radioactivity,  discovery of element...</td>\n",
       "      <td>NaN</td>\n",
       "      <td>NaN</td>\n",
       "    </tr>\n",
       "    <tr>\n",
       "      <th>2</th>\n",
       "      <td>Janaki Ammal</td>\n",
       "      <td>Botanist</td>\n",
       "      <td>hybrid species, biodiversity protection</td>\n",
       "      <td>1897.0</td>\n",
       "      <td>1984.0</td>\n",
       "    </tr>\n",
       "    <tr>\n",
       "      <th>3</th>\n",
       "      <td>Chien-Shiung Wu</td>\n",
       "      <td>Physicist</td>\n",
       "      <td>confim and refine theory of radioactive beta d...</td>\n",
       "      <td>1912.0</td>\n",
       "      <td>1997.0</td>\n",
       "    </tr>\n",
       "    <tr>\n",
       "      <th>4</th>\n",
       "      <td>Katherine Johnson</td>\n",
       "      <td>Mathematician</td>\n",
       "      <td>calculations of orbital mechanics critical to ...</td>\n",
       "      <td>1918.0</td>\n",
       "      <td>2020.0</td>\n",
       "    </tr>\n",
       "    <tr>\n",
       "      <th>5</th>\n",
       "      <td>Rosalind Franklin</td>\n",
       "      <td>Chemist</td>\n",
       "      <td>NaN</td>\n",
       "      <td>1920.0</td>\n",
       "      <td>1958.0</td>\n",
       "    </tr>\n",
       "    <tr>\n",
       "      <th>6</th>\n",
       "      <td>Vera Rubin</td>\n",
       "      <td>Astronomer</td>\n",
       "      <td>existence of dark matter</td>\n",
       "      <td>1928.0</td>\n",
       "      <td>2016.0</td>\n",
       "    </tr>\n",
       "    <tr>\n",
       "      <th>7</th>\n",
       "      <td>Gladys West</td>\n",
       "      <td>Mathematician</td>\n",
       "      <td>mathematical modeling of the shape of the Eart...</td>\n",
       "      <td>1930.0</td>\n",
       "      <td>NaN</td>\n",
       "    </tr>\n",
       "    <tr>\n",
       "      <th>8</th>\n",
       "      <td>Flossie Wong-Staal</td>\n",
       "      <td>Virologist and Molecular Biologist</td>\n",
       "      <td>first scientist to clone HIV and create a map ...</td>\n",
       "      <td>1947.0</td>\n",
       "      <td>NaN</td>\n",
       "    </tr>\n",
       "    <tr>\n",
       "      <th>9</th>\n",
       "      <td>Jennifer Doudna</td>\n",
       "      <td>Biochemist</td>\n",
       "      <td>one of the primary developers of CRISPR, a gro...</td>\n",
       "      <td>1964.0</td>\n",
       "      <td>NaN</td>\n",
       "    </tr>\n",
       "  </tbody>\n",
       "</table>\n",
       "</div>"
      ],
      "text/plain": [
       "                 name                          profession  \\\n",
       "0        Ada Lovelace                       Mathematician   \n",
       "1         Marie Curie               Physicist and Chemist   \n",
       "2        Janaki Ammal                            Botanist   \n",
       "3     Chien-Shiung Wu                           Physicist   \n",
       "4   Katherine Johnson                       Mathematician   \n",
       "5   Rosalind Franklin                             Chemist   \n",
       "6          Vera Rubin                          Astronomer   \n",
       "7         Gladys West                       Mathematician   \n",
       "8  Flossie Wong-Staal  Virologist and Molecular Biologist   \n",
       "9     Jennifer Doudna                          Biochemist   \n",
       "\n",
       "                                           known_for  birth_year  death_year  \n",
       "0                           first computer algorithm         NaN         NaN  \n",
       "1  theory of radioactivity,  discovery of element...         NaN         NaN  \n",
       "2            hybrid species, biodiversity protection      1897.0      1984.0  \n",
       "3  confim and refine theory of radioactive beta d...      1912.0      1997.0  \n",
       "4  calculations of orbital mechanics critical to ...      1918.0      2020.0  \n",
       "5                                                NaN      1920.0      1958.0  \n",
       "6                           existence of dark matter      1928.0      2016.0  \n",
       "7  mathematical modeling of the shape of the Eart...      1930.0         NaN  \n",
       "8  first scientist to clone HIV and create a map ...      1947.0         NaN  \n",
       "9  one of the primary developers of CRISPR, a gro...      1964.0         NaN  "
      ]
     },
     "execution_count": 1282,
     "metadata": {},
     "output_type": "execute_result"
    }
   ],
   "source": [
    "# 1. Combine the professions and works data\n",
    "DF_scientists = pd.merge(DF_professions,DF_works,on='name',how='left')\n",
    "DF_scientists\n",
    "# 2. Then add the dates data\n",
    "DF_scientists = pd.merge(DF_scientists,DF_dates,on='name',how='left')\n",
    "DF_scientists"
   ]
  },
  {
   "cell_type": "markdown",
   "id": "e2bbc33c-6c0e-4ca8-ad72-de5018bddce8",
   "metadata": {},
   "source": [
    "**Q5** What, if anything, would change if you switched to how='right'?"
   ]
  },
  {
   "cell_type": "code",
   "execution_count": 1284,
   "id": "1bef3fdf-94f0-49f3-8dc2-80ed0e637b04",
   "metadata": {},
   "outputs": [
    {
     "data": {
      "text/html": [
       "<div>\n",
       "<style scoped>\n",
       "    .dataframe tbody tr th:only-of-type {\n",
       "        vertical-align: middle;\n",
       "    }\n",
       "\n",
       "    .dataframe tbody tr th {\n",
       "        vertical-align: top;\n",
       "    }\n",
       "\n",
       "    .dataframe thead th {\n",
       "        text-align: right;\n",
       "    }\n",
       "</style>\n",
       "<table border=\"1\" class=\"dataframe\">\n",
       "  <thead>\n",
       "    <tr style=\"text-align: right;\">\n",
       "      <th></th>\n",
       "      <th>name</th>\n",
       "      <th>profession</th>\n",
       "      <th>known_for</th>\n",
       "      <th>birth_year</th>\n",
       "      <th>death_year</th>\n",
       "    </tr>\n",
       "  </thead>\n",
       "  <tbody>\n",
       "    <tr>\n",
       "      <th>0</th>\n",
       "      <td>Janaki Ammal</td>\n",
       "      <td>Botanist</td>\n",
       "      <td>hybrid species, biodiversity protection</td>\n",
       "      <td>1897</td>\n",
       "      <td>1984.0</td>\n",
       "    </tr>\n",
       "    <tr>\n",
       "      <th>1</th>\n",
       "      <td>Chien-Shiung Wu</td>\n",
       "      <td>Physicist</td>\n",
       "      <td>confim and refine theory of radioactive beta d...</td>\n",
       "      <td>1912</td>\n",
       "      <td>1997.0</td>\n",
       "    </tr>\n",
       "    <tr>\n",
       "      <th>2</th>\n",
       "      <td>Katherine Johnson</td>\n",
       "      <td>Mathematician</td>\n",
       "      <td>calculations of orbital mechanics critical to ...</td>\n",
       "      <td>1918</td>\n",
       "      <td>2020.0</td>\n",
       "    </tr>\n",
       "    <tr>\n",
       "      <th>3</th>\n",
       "      <td>Rosalind Franklin</td>\n",
       "      <td>NaN</td>\n",
       "      <td>NaN</td>\n",
       "      <td>1920</td>\n",
       "      <td>1958.0</td>\n",
       "    </tr>\n",
       "    <tr>\n",
       "      <th>4</th>\n",
       "      <td>Vera Rubin</td>\n",
       "      <td>Astronomer</td>\n",
       "      <td>existence of dark matter</td>\n",
       "      <td>1928</td>\n",
       "      <td>2016.0</td>\n",
       "    </tr>\n",
       "    <tr>\n",
       "      <th>5</th>\n",
       "      <td>Gladys West</td>\n",
       "      <td>Mathematician</td>\n",
       "      <td>mathematical modeling of the shape of the Eart...</td>\n",
       "      <td>1930</td>\n",
       "      <td>NaN</td>\n",
       "    </tr>\n",
       "    <tr>\n",
       "      <th>6</th>\n",
       "      <td>Flossie Wong-Staal</td>\n",
       "      <td>Virologist and Molecular Biologist</td>\n",
       "      <td>first scientist to clone HIV and create a map ...</td>\n",
       "      <td>1947</td>\n",
       "      <td>NaN</td>\n",
       "    </tr>\n",
       "    <tr>\n",
       "      <th>7</th>\n",
       "      <td>Jennifer Doudna</td>\n",
       "      <td>Biochemist</td>\n",
       "      <td>one of the primary developers of CRISPR, a gro...</td>\n",
       "      <td>1964</td>\n",
       "      <td>NaN</td>\n",
       "    </tr>\n",
       "  </tbody>\n",
       "</table>\n",
       "</div>"
      ],
      "text/plain": [
       "                 name                          profession  \\\n",
       "0        Janaki Ammal                            Botanist   \n",
       "1     Chien-Shiung Wu                           Physicist   \n",
       "2   Katherine Johnson                       Mathematician   \n",
       "3   Rosalind Franklin                                 NaN   \n",
       "4          Vera Rubin                          Astronomer   \n",
       "5         Gladys West                       Mathematician   \n",
       "6  Flossie Wong-Staal  Virologist and Molecular Biologist   \n",
       "7     Jennifer Doudna                          Biochemist   \n",
       "\n",
       "                                           known_for  birth_year  death_year  \n",
       "0            hybrid species, biodiversity protection        1897      1984.0  \n",
       "1  confim and refine theory of radioactive beta d...        1912      1997.0  \n",
       "2  calculations of orbital mechanics critical to ...        1918      2020.0  \n",
       "3                                                NaN        1920      1958.0  \n",
       "4                           existence of dark matter        1928      2016.0  \n",
       "5  mathematical modeling of the shape of the Eart...        1930         NaN  \n",
       "6  first scientist to clone HIV and create a map ...        1947         NaN  \n",
       "7  one of the primary developers of CRISPR, a gro...        1964         NaN  "
      ]
     },
     "execution_count": 1284,
     "metadata": {},
     "output_type": "execute_result"
    }
   ],
   "source": [
    "# 1. Combine the professions and works data\n",
    "DF_scientists = pd.merge(DF_professions,DF_works,on='name',how='right')\n",
    "DF_scientists\n",
    "# 2. Then add the dates data\n",
    "DF_scientists = pd.merge(DF_scientists,DF_dates,on='name',how='right')\n",
    "DF_scientists"
   ]
  },
  {
   "cell_type": "markdown",
   "id": "63c8a86f-6a7f-4509-9d2f-a2e8a3b65b5f",
   "metadata": {},
   "source": [
    "#### Q5\n",
    "##### When I switched the how='right' from how='left' the first two names, Ada Lovelace and Marie Curie, were earased. This would be because it only counted the data that was on the right side of the set."
   ]
  },
  {
   "cell_type": "markdown",
   "id": "26a9dee0-e533-4439-8972-f2e69b544ec9",
   "metadata": {},
   "source": [
    "## Combining Two Data Sets - You Try\n",
    "\n",
    "**Q6** Write code that would combine the professions data and the dates data, but drop any names that don't appear in both."
   ]
  },
  {
   "cell_type": "code",
   "execution_count": 1287,
   "id": "18d09352-c2dc-4c21-887d-7e54387c55a9",
   "metadata": {},
   "outputs": [
    {
     "data": {
      "text/html": [
       "<div>\n",
       "<style scoped>\n",
       "    .dataframe tbody tr th:only-of-type {\n",
       "        vertical-align: middle;\n",
       "    }\n",
       "\n",
       "    .dataframe tbody tr th {\n",
       "        vertical-align: top;\n",
       "    }\n",
       "\n",
       "    .dataframe thead th {\n",
       "        text-align: right;\n",
       "    }\n",
       "</style>\n",
       "<table border=\"1\" class=\"dataframe\">\n",
       "  <thead>\n",
       "    <tr style=\"text-align: right;\">\n",
       "      <th></th>\n",
       "      <th>name</th>\n",
       "      <th>profession</th>\n",
       "      <th>birth_year</th>\n",
       "      <th>death_year</th>\n",
       "    </tr>\n",
       "  </thead>\n",
       "  <tbody>\n",
       "    <tr>\n",
       "      <th>0</th>\n",
       "      <td>Janaki Ammal</td>\n",
       "      <td>Botanist</td>\n",
       "      <td>1897</td>\n",
       "      <td>1984.0</td>\n",
       "    </tr>\n",
       "    <tr>\n",
       "      <th>1</th>\n",
       "      <td>Chien-Shiung Wu</td>\n",
       "      <td>Physicist</td>\n",
       "      <td>1912</td>\n",
       "      <td>1997.0</td>\n",
       "    </tr>\n",
       "    <tr>\n",
       "      <th>2</th>\n",
       "      <td>Katherine Johnson</td>\n",
       "      <td>Mathematician</td>\n",
       "      <td>1918</td>\n",
       "      <td>2020.0</td>\n",
       "    </tr>\n",
       "    <tr>\n",
       "      <th>3</th>\n",
       "      <td>Rosalind Franklin</td>\n",
       "      <td>Chemist</td>\n",
       "      <td>1920</td>\n",
       "      <td>1958.0</td>\n",
       "    </tr>\n",
       "    <tr>\n",
       "      <th>4</th>\n",
       "      <td>Vera Rubin</td>\n",
       "      <td>Astronomer</td>\n",
       "      <td>1928</td>\n",
       "      <td>2016.0</td>\n",
       "    </tr>\n",
       "    <tr>\n",
       "      <th>5</th>\n",
       "      <td>Gladys West</td>\n",
       "      <td>Mathematician</td>\n",
       "      <td>1930</td>\n",
       "      <td>NaN</td>\n",
       "    </tr>\n",
       "    <tr>\n",
       "      <th>6</th>\n",
       "      <td>Flossie Wong-Staal</td>\n",
       "      <td>Virologist and Molecular Biologist</td>\n",
       "      <td>1947</td>\n",
       "      <td>NaN</td>\n",
       "    </tr>\n",
       "    <tr>\n",
       "      <th>7</th>\n",
       "      <td>Jennifer Doudna</td>\n",
       "      <td>Biochemist</td>\n",
       "      <td>1964</td>\n",
       "      <td>NaN</td>\n",
       "    </tr>\n",
       "  </tbody>\n",
       "</table>\n",
       "</div>"
      ],
      "text/plain": [
       "                 name                          profession  birth_year  \\\n",
       "0        Janaki Ammal                            Botanist        1897   \n",
       "1     Chien-Shiung Wu                           Physicist        1912   \n",
       "2   Katherine Johnson                       Mathematician        1918   \n",
       "3   Rosalind Franklin                             Chemist        1920   \n",
       "4          Vera Rubin                          Astronomer        1928   \n",
       "5         Gladys West                       Mathematician        1930   \n",
       "6  Flossie Wong-Staal  Virologist and Molecular Biologist        1947   \n",
       "7     Jennifer Doudna                          Biochemist        1964   \n",
       "\n",
       "   death_year  \n",
       "0      1984.0  \n",
       "1      1997.0  \n",
       "2      2020.0  \n",
       "3      1958.0  \n",
       "4      2016.0  \n",
       "5         NaN  \n",
       "6         NaN  \n",
       "7         NaN  "
      ]
     },
     "execution_count": 1287,
     "metadata": {},
     "output_type": "execute_result"
    }
   ],
   "source": [
    "DF_6 = pd.merge(DF_professions,DF_dates,on='name',how='inner')\n",
    "DF_6"
   ]
  },
  {
   "cell_type": "markdown",
   "id": "ed446dda-a972-4d99-93d8-1ee037dbc76a",
   "metadata": {},
   "source": [
    "#### Q6\n",
    "##### In the code above I used the '.merge()' command to combine the \"professions\" and \"dates\" data frames. Additionally, I specifically marged these data frames by the 'name' column. However, I chose to merge the 'names' by 'inner' so only the names that we displayed in BOTH data frames could appear in the data frame above. "
   ]
  },
  {
   "cell_type": "markdown",
   "id": "81aaba84-81ab-4fc7-95cb-e6df13157e2c",
   "metadata": {},
   "source": [
    "## Combining Three Data Sets - You Try\n",
    "\n",
    "**Q7** Try to combine the three data sets together (professions, works, and dates) but instead of doing what we did above, see if you can keep only the names that appeared in all three data sets."
   ]
  },
  {
   "cell_type": "code",
   "execution_count": 1289,
   "id": "c2766e8b-f125-4bd6-9937-13cd92c8ba62",
   "metadata": {},
   "outputs": [
    {
     "data": {
      "text/html": [
       "<div>\n",
       "<style scoped>\n",
       "    .dataframe tbody tr th:only-of-type {\n",
       "        vertical-align: middle;\n",
       "    }\n",
       "\n",
       "    .dataframe tbody tr th {\n",
       "        vertical-align: top;\n",
       "    }\n",
       "\n",
       "    .dataframe thead th {\n",
       "        text-align: right;\n",
       "    }\n",
       "</style>\n",
       "<table border=\"1\" class=\"dataframe\">\n",
       "  <thead>\n",
       "    <tr style=\"text-align: right;\">\n",
       "      <th></th>\n",
       "      <th>name</th>\n",
       "      <th>profession</th>\n",
       "      <th>known_for</th>\n",
       "      <th>birth_year_x</th>\n",
       "      <th>death_year_x</th>\n",
       "      <th>birth_year_y</th>\n",
       "      <th>death_year_y</th>\n",
       "      <th>_merge</th>\n",
       "    </tr>\n",
       "  </thead>\n",
       "  <tbody>\n",
       "    <tr>\n",
       "      <th>0</th>\n",
       "      <td>Janaki Ammal</td>\n",
       "      <td>Botanist</td>\n",
       "      <td>hybrid species, biodiversity protection</td>\n",
       "      <td>1897</td>\n",
       "      <td>1984.0</td>\n",
       "      <td>1897</td>\n",
       "      <td>1984.0</td>\n",
       "      <td>both</td>\n",
       "    </tr>\n",
       "    <tr>\n",
       "      <th>1</th>\n",
       "      <td>Chien-Shiung Wu</td>\n",
       "      <td>Physicist</td>\n",
       "      <td>confim and refine theory of radioactive beta d...</td>\n",
       "      <td>1912</td>\n",
       "      <td>1997.0</td>\n",
       "      <td>1912</td>\n",
       "      <td>1997.0</td>\n",
       "      <td>both</td>\n",
       "    </tr>\n",
       "    <tr>\n",
       "      <th>2</th>\n",
       "      <td>Katherine Johnson</td>\n",
       "      <td>Mathematician</td>\n",
       "      <td>calculations of orbital mechanics critical to ...</td>\n",
       "      <td>1918</td>\n",
       "      <td>2020.0</td>\n",
       "      <td>1918</td>\n",
       "      <td>2020.0</td>\n",
       "      <td>both</td>\n",
       "    </tr>\n",
       "    <tr>\n",
       "      <th>3</th>\n",
       "      <td>Rosalind Franklin</td>\n",
       "      <td>NaN</td>\n",
       "      <td>NaN</td>\n",
       "      <td>1920</td>\n",
       "      <td>1958.0</td>\n",
       "      <td>1920</td>\n",
       "      <td>1958.0</td>\n",
       "      <td>both</td>\n",
       "    </tr>\n",
       "    <tr>\n",
       "      <th>4</th>\n",
       "      <td>Vera Rubin</td>\n",
       "      <td>Astronomer</td>\n",
       "      <td>existence of dark matter</td>\n",
       "      <td>1928</td>\n",
       "      <td>2016.0</td>\n",
       "      <td>1928</td>\n",
       "      <td>2016.0</td>\n",
       "      <td>both</td>\n",
       "    </tr>\n",
       "    <tr>\n",
       "      <th>5</th>\n",
       "      <td>Gladys West</td>\n",
       "      <td>Mathematician</td>\n",
       "      <td>mathematical modeling of the shape of the Eart...</td>\n",
       "      <td>1930</td>\n",
       "      <td>NaN</td>\n",
       "      <td>1930</td>\n",
       "      <td>NaN</td>\n",
       "      <td>both</td>\n",
       "    </tr>\n",
       "    <tr>\n",
       "      <th>6</th>\n",
       "      <td>Flossie Wong-Staal</td>\n",
       "      <td>Virologist and Molecular Biologist</td>\n",
       "      <td>first scientist to clone HIV and create a map ...</td>\n",
       "      <td>1947</td>\n",
       "      <td>NaN</td>\n",
       "      <td>1947</td>\n",
       "      <td>NaN</td>\n",
       "      <td>both</td>\n",
       "    </tr>\n",
       "    <tr>\n",
       "      <th>7</th>\n",
       "      <td>Jennifer Doudna</td>\n",
       "      <td>Biochemist</td>\n",
       "      <td>one of the primary developers of CRISPR, a gro...</td>\n",
       "      <td>1964</td>\n",
       "      <td>NaN</td>\n",
       "      <td>1964</td>\n",
       "      <td>NaN</td>\n",
       "      <td>both</td>\n",
       "    </tr>\n",
       "  </tbody>\n",
       "</table>\n",
       "</div>"
      ],
      "text/plain": [
       "                 name                          profession  \\\n",
       "0        Janaki Ammal                            Botanist   \n",
       "1     Chien-Shiung Wu                           Physicist   \n",
       "2   Katherine Johnson                       Mathematician   \n",
       "3   Rosalind Franklin                                 NaN   \n",
       "4          Vera Rubin                          Astronomer   \n",
       "5         Gladys West                       Mathematician   \n",
       "6  Flossie Wong-Staal  Virologist and Molecular Biologist   \n",
       "7     Jennifer Doudna                          Biochemist   \n",
       "\n",
       "                                           known_for  birth_year_x  \\\n",
       "0            hybrid species, biodiversity protection          1897   \n",
       "1  confim and refine theory of radioactive beta d...          1912   \n",
       "2  calculations of orbital mechanics critical to ...          1918   \n",
       "3                                                NaN          1920   \n",
       "4                           existence of dark matter          1928   \n",
       "5  mathematical modeling of the shape of the Eart...          1930   \n",
       "6  first scientist to clone HIV and create a map ...          1947   \n",
       "7  one of the primary developers of CRISPR, a gro...          1964   \n",
       "\n",
       "   death_year_x  birth_year_y  death_year_y _merge  \n",
       "0        1984.0          1897        1984.0   both  \n",
       "1        1997.0          1912        1997.0   both  \n",
       "2        2020.0          1918        2020.0   both  \n",
       "3        1958.0          1920        1958.0   both  \n",
       "4        2016.0          1928        2016.0   both  \n",
       "5           NaN          1930           NaN   both  \n",
       "6           NaN          1947           NaN   both  \n",
       "7           NaN          1964           NaN   both  "
      ]
     },
     "execution_count": 1289,
     "metadata": {},
     "output_type": "execute_result"
    }
   ],
   "source": [
    "# only the professions and works are merged\n",
    "DF_7 = pd.merge(DF_professions,DF_works,on='name',how='right')\n",
    "DF_7\n",
    "# merge with dates\n",
    "DF_7 = pd.merge(DF_scientists,DF_dates,on='name',how='right',indicator=True)\n",
    "DF_7\n",
    "# mask to only keep rows where _merge is set to ‘both’ (I'm lost on the '_merge' part\n",
    "mask = DF_7['_merge']=='both'\n",
    "DF_7 = DF_7[mask]\n",
    "DF_7"
   ]
  },
  {
   "cell_type": "markdown",
   "id": "01ea2549-cc53-4676-9566-e85b1e2a4758",
   "metadata": {},
   "source": [
    "#### Q7\n",
    "##### In the code above I used the '.merge()' command to combine the \"professions\" and \"works\" data frames. Additionally, I chose to merge these data frames by the 'name' column and created it into it's own data frame. Then, I used the '.merge()' command again to combine the data frame I recently created with the \"dates\" data frame using the 'name' column. Finally, I used the '_merge' command and set it to exactly equal 'both' so the new data frame would only keep the 'names' that appeared in all three data frames."
   ]
  },
  {
   "cell_type": "markdown",
   "id": "e2a3bd38-8875-4133-9fb5-2080542349b6",
   "metadata": {},
   "source": [
    "## Case study - Grocery Sales\n",
    "\n",
    "Below you will load some data about grocery sales and see how joining or merging data can help us answer questions."
   ]
  },
  {
   "cell_type": "code",
   "execution_count": 1291,
   "id": "e73afe67-db9b-49da-b8db-fe0e8d7b4bde",
   "metadata": {},
   "outputs": [
    {
     "data": {
      "text/html": [
       "<table id=\"itables_582be7b4_fbf5_43ec_928b_ba9fe5ecb472\" class=\"display nowrap\" data-quarto-disable-processing=\"true\" style=\"table-layout:auto;width:auto;margin:auto;caption-side:bottom\">\n",
       "<thead>\n",
       "    <tr style=\"text-align: right;\">\n",
       "      \n",
       "      <th>customer_id</th>\n",
       "      <th>item</th>\n",
       "    </tr>\n",
       "  </thead><tbody><tr>\n",
       "<td style=\"vertical-align:middle; text-align:left\">\n",
       "<div style=\"float:left; margin-right: 10px;\">\n",
       "<a href=https://mwouts.github.io/itables/><svg class=\"main-svg\" xmlns=\"http://www.w3.org/2000/svg\" xmlns:xlink=\"http://www.w3.org/1999/xlink\"\n",
       "width=\"64\" viewBox=\"0 0 500 400\" style=\"font-family: 'Droid Sans', sans-serif;\">\n",
       "    <g style=\"fill:#d9d7fc\">\n",
       "        <path d=\"M100,400H500V357H100Z\" />\n",
       "        <path d=\"M100,300H400V257H100Z\" />\n",
       "        <path d=\"M0,200H400V157H0Z\" />\n",
       "        <path d=\"M100,100H500V57H100Z\" />\n",
       "        <path d=\"M100,350H500V307H100Z\" />\n",
       "        <path d=\"M100,250H400V207H100Z\" />\n",
       "        <path d=\"M0,150H400V107H0Z\" />\n",
       "        <path d=\"M100,50H500V7H100Z\" />\n",
       "    </g>\n",
       "    <g style=\"fill:#1a1366;stroke:#1a1366;\">\n",
       "   <rect x=\"100\" y=\"7\" width=\"400\" height=\"43\">\n",
       "    <animate\n",
       "      attributeName=\"width\"\n",
       "      values=\"0;400;0\"\n",
       "      dur=\"5s\"\n",
       "      repeatCount=\"indefinite\" />\n",
       "      <animate\n",
       "      attributeName=\"x\"\n",
       "      values=\"100;100;500\"\n",
       "      dur=\"5s\"\n",
       "      repeatCount=\"indefinite\" />\n",
       "  </rect>\n",
       "        <rect x=\"0\" y=\"107\" width=\"400\" height=\"43\">\n",
       "    <animate\n",
       "      attributeName=\"width\"\n",
       "      values=\"0;400;0\"\n",
       "      dur=\"3.5s\"\n",
       "      repeatCount=\"indefinite\" />\n",
       "    <animate\n",
       "      attributeName=\"x\"\n",
       "      values=\"0;0;400\"\n",
       "      dur=\"3.5s\"\n",
       "      repeatCount=\"indefinite\" />\n",
       "  </rect>\n",
       "        <rect x=\"100\" y=\"207\" width=\"300\" height=\"43\">\n",
       "    <animate\n",
       "      attributeName=\"width\"\n",
       "      values=\"0;300;0\"\n",
       "      dur=\"3s\"\n",
       "      repeatCount=\"indefinite\" />\n",
       "    <animate\n",
       "      attributeName=\"x\"\n",
       "      values=\"100;100;400\"\n",
       "      dur=\"3s\"\n",
       "      repeatCount=\"indefinite\" />\n",
       "  </rect>\n",
       "        <rect x=\"100\" y=\"307\" width=\"400\" height=\"43\">\n",
       "    <animate\n",
       "      attributeName=\"width\"\n",
       "      values=\"0;400;0\"\n",
       "      dur=\"4s\"\n",
       "      repeatCount=\"indefinite\" />\n",
       "      <animate\n",
       "      attributeName=\"x\"\n",
       "      values=\"100;100;500\"\n",
       "      dur=\"4s\"\n",
       "      repeatCount=\"indefinite\" />\n",
       "  </rect>\n",
       "        <g style=\"fill:transparent;stroke-width:8; stroke-linejoin:round\" rx=\"5\">\n",
       "            <g transform=\"translate(45 50) rotate(-45)\">\n",
       "                <circle r=\"33\" cx=\"0\" cy=\"0\" />\n",
       "                <rect x=\"-8\" y=\"32\" width=\"16\" height=\"30\" />\n",
       "            </g>\n",
       "\n",
       "            <g transform=\"translate(450 152)\">\n",
       "                <polyline points=\"-15,-20 -35,-20 -35,40 25,40 25,20\" />\n",
       "                <rect x=\"-15\" y=\"-40\" width=\"60\" height=\"60\" />\n",
       "            </g>\n",
       "\n",
       "            <g transform=\"translate(50 352)\">\n",
       "                <polygon points=\"-35,-5 0,-40 35,-5\" />\n",
       "                <polygon points=\"-35,10 0,45 35,10\" />\n",
       "            </g>\n",
       "\n",
       "            <g transform=\"translate(75 250)\">\n",
       "                <polyline points=\"-30,30 -60,0 -30,-30\" />\n",
       "                <polyline points=\"0,30 -30,0 0,-30\" />\n",
       "            </g>\n",
       "\n",
       "            <g transform=\"translate(425 250) rotate(180)\">\n",
       "                <polyline points=\"-30,30 -60,0 -30,-30\" />\n",
       "                <polyline points=\"0,30 -30,0 0,-30\" />\n",
       "            </g>\n",
       "        </g>\n",
       "    </g>\n",
       "</svg>\n",
       "</a>\n",
       "</div>\n",
       "<div>\n",
       "Loading ITables v2.1.4 from the internet...\n",
       "(need <a href=https://mwouts.github.io/itables/troubleshooting.html>help</a>?)</td>\n",
       "</div>\n",
       "</tr></tbody>\n",
       "\n",
       "</table>\n",
       "<link href=\"https://www.unpkg.com/dt_for_itables@2.0.11/dt_bundle.css\" rel=\"stylesheet\">\n",
       "<script type=\"module\">\n",
       "    import {DataTable, jQuery as $} from 'https://www.unpkg.com/dt_for_itables@2.0.11/dt_bundle.js';\n",
       "\n",
       "    document.querySelectorAll(\"#itables_582be7b4_fbf5_43ec_928b_ba9fe5ecb472:not(.dataTable)\").forEach(table => {\n",
       "        // Define the table data\n",
       "        const data = [[1, \"bread\"], [1, \"milk\"], [1, \"banana\"], [2, \"milk\"], [2, \"toilet paper\"]];\n",
       "\n",
       "        // Define the dt_args\n",
       "        let dt_args = {\"layout\": {\"topStart\": null, \"topEnd\": null, \"bottomStart\": null, \"bottomEnd\": null}, \"order\": []};\n",
       "        dt_args[\"data\"] = data;\n",
       "\n",
       "        \n",
       "        new DataTable(table, dt_args);\n",
       "    });\n",
       "</script>\n"
      ],
      "text/plain": [
       "<IPython.core.display.HTML object>"
      ]
     },
     "metadata": {},
     "output_type": "display_data"
    },
    {
     "data": {
      "text/html": [
       "<table id=\"itables_bf575169_f084_4040_a59f_83bbf1196e6b\" class=\"display nowrap\" data-quarto-disable-processing=\"true\" style=\"table-layout:auto;width:auto;margin:auto;caption-side:bottom\">\n",
       "<thead>\n",
       "    <tr style=\"text-align: right;\">\n",
       "      \n",
       "      <th>item</th>\n",
       "      <th>price</th>\n",
       "    </tr>\n",
       "  </thead><tbody><tr>\n",
       "<td style=\"vertical-align:middle; text-align:left\">\n",
       "<div style=\"float:left; margin-right: 10px;\">\n",
       "<a href=https://mwouts.github.io/itables/><svg class=\"main-svg\" xmlns=\"http://www.w3.org/2000/svg\" xmlns:xlink=\"http://www.w3.org/1999/xlink\"\n",
       "width=\"64\" viewBox=\"0 0 500 400\" style=\"font-family: 'Droid Sans', sans-serif;\">\n",
       "    <g style=\"fill:#d9d7fc\">\n",
       "        <path d=\"M100,400H500V357H100Z\" />\n",
       "        <path d=\"M100,300H400V257H100Z\" />\n",
       "        <path d=\"M0,200H400V157H0Z\" />\n",
       "        <path d=\"M100,100H500V57H100Z\" />\n",
       "        <path d=\"M100,350H500V307H100Z\" />\n",
       "        <path d=\"M100,250H400V207H100Z\" />\n",
       "        <path d=\"M0,150H400V107H0Z\" />\n",
       "        <path d=\"M100,50H500V7H100Z\" />\n",
       "    </g>\n",
       "    <g style=\"fill:#1a1366;stroke:#1a1366;\">\n",
       "   <rect x=\"100\" y=\"7\" width=\"400\" height=\"43\">\n",
       "    <animate\n",
       "      attributeName=\"width\"\n",
       "      values=\"0;400;0\"\n",
       "      dur=\"5s\"\n",
       "      repeatCount=\"indefinite\" />\n",
       "      <animate\n",
       "      attributeName=\"x\"\n",
       "      values=\"100;100;500\"\n",
       "      dur=\"5s\"\n",
       "      repeatCount=\"indefinite\" />\n",
       "  </rect>\n",
       "        <rect x=\"0\" y=\"107\" width=\"400\" height=\"43\">\n",
       "    <animate\n",
       "      attributeName=\"width\"\n",
       "      values=\"0;400;0\"\n",
       "      dur=\"3.5s\"\n",
       "      repeatCount=\"indefinite\" />\n",
       "    <animate\n",
       "      attributeName=\"x\"\n",
       "      values=\"0;0;400\"\n",
       "      dur=\"3.5s\"\n",
       "      repeatCount=\"indefinite\" />\n",
       "  </rect>\n",
       "        <rect x=\"100\" y=\"207\" width=\"300\" height=\"43\">\n",
       "    <animate\n",
       "      attributeName=\"width\"\n",
       "      values=\"0;300;0\"\n",
       "      dur=\"3s\"\n",
       "      repeatCount=\"indefinite\" />\n",
       "    <animate\n",
       "      attributeName=\"x\"\n",
       "      values=\"100;100;400\"\n",
       "      dur=\"3s\"\n",
       "      repeatCount=\"indefinite\" />\n",
       "  </rect>\n",
       "        <rect x=\"100\" y=\"307\" width=\"400\" height=\"43\">\n",
       "    <animate\n",
       "      attributeName=\"width\"\n",
       "      values=\"0;400;0\"\n",
       "      dur=\"4s\"\n",
       "      repeatCount=\"indefinite\" />\n",
       "      <animate\n",
       "      attributeName=\"x\"\n",
       "      values=\"100;100;500\"\n",
       "      dur=\"4s\"\n",
       "      repeatCount=\"indefinite\" />\n",
       "  </rect>\n",
       "        <g style=\"fill:transparent;stroke-width:8; stroke-linejoin:round\" rx=\"5\">\n",
       "            <g transform=\"translate(45 50) rotate(-45)\">\n",
       "                <circle r=\"33\" cx=\"0\" cy=\"0\" />\n",
       "                <rect x=\"-8\" y=\"32\" width=\"16\" height=\"30\" />\n",
       "            </g>\n",
       "\n",
       "            <g transform=\"translate(450 152)\">\n",
       "                <polyline points=\"-15,-20 -35,-20 -35,40 25,40 25,20\" />\n",
       "                <rect x=\"-15\" y=\"-40\" width=\"60\" height=\"60\" />\n",
       "            </g>\n",
       "\n",
       "            <g transform=\"translate(50 352)\">\n",
       "                <polygon points=\"-35,-5 0,-40 35,-5\" />\n",
       "                <polygon points=\"-35,10 0,45 35,10\" />\n",
       "            </g>\n",
       "\n",
       "            <g transform=\"translate(75 250)\">\n",
       "                <polyline points=\"-30,30 -60,0 -30,-30\" />\n",
       "                <polyline points=\"0,30 -30,0 0,-30\" />\n",
       "            </g>\n",
       "\n",
       "            <g transform=\"translate(425 250) rotate(180)\">\n",
       "                <polyline points=\"-30,30 -60,0 -30,-30\" />\n",
       "                <polyline points=\"0,30 -30,0 0,-30\" />\n",
       "            </g>\n",
       "        </g>\n",
       "    </g>\n",
       "</svg>\n",
       "</a>\n",
       "</div>\n",
       "<div>\n",
       "Loading ITables v2.1.4 from the internet...\n",
       "(need <a href=https://mwouts.github.io/itables/troubleshooting.html>help</a>?)</td>\n",
       "</div>\n",
       "</tr></tbody>\n",
       "\n",
       "</table>\n",
       "<link href=\"https://www.unpkg.com/dt_for_itables@2.0.11/dt_bundle.css\" rel=\"stylesheet\">\n",
       "<script type=\"module\">\n",
       "    import {DataTable, jQuery as $} from 'https://www.unpkg.com/dt_for_itables@2.0.11/dt_bundle.js';\n",
       "\n",
       "    document.querySelectorAll(\"#itables_bf575169_f084_4040_a59f_83bbf1196e6b:not(.dataTable)\").forEach(table => {\n",
       "        // Define the table data\n",
       "        const data = [[\"avocado\", 0.5], [\"banana\", 0.15], [\"bread\", 1.0], [\"milk\", 0.8], [\"toilet paper\", 3.0]];\n",
       "\n",
       "        // Define the dt_args\n",
       "        let dt_args = {\"layout\": {\"topStart\": null, \"topEnd\": null, \"bottomStart\": null, \"bottomEnd\": null}, \"order\": []};\n",
       "        dt_args[\"data\"] = data;\n",
       "\n",
       "        \n",
       "        new DataTable(table, dt_args);\n",
       "    });\n",
       "</script>\n"
      ],
      "text/plain": [
       "<IPython.core.display.HTML object>"
      ]
     },
     "metadata": {},
     "output_type": "display_data"
    }
   ],
   "source": [
    "file1 = 'https://joannabieri.com/introdatascience/data/purchases.csv'\n",
    "DF_purchases = pd.read_csv(file1)\n",
    "file2 = 'https://joannabieri.com/introdatascience/data/prices.csv'\n",
    "DF_prices = pd.read_csv(file2)\n",
    "show(DF_purchases)\n",
    "show(DF_prices)"
   ]
  },
  {
   "cell_type": "markdown",
   "id": "59cc40ab-4b37-4c68-8da7-fdb713a184e5",
   "metadata": {},
   "source": [
    "## Calculate the total revenue\n",
    "\n",
    "**Q8** Given the data above find the total revenue.\n",
    "\n",
    "We will have to join the data frames so that we can see the price of what was sold. So first we look for a common column. In this case both data frames have **item** as a column.\n",
    "\n",
    "Now, think about how to calculate revenue... we need to add up the total money we made, so we need to know the price of each thing sold.\n",
    "\n",
    "**PAUSE - see if you can write some of the code for this before looking at the cells below**"
   ]
  },
  {
   "cell_type": "code",
   "execution_count": 1293,
   "id": "0e354cf0-ce17-492c-b23f-129f01826d3f",
   "metadata": {},
   "outputs": [
    {
     "data": {
      "text/html": [
       "<div>\n",
       "<style scoped>\n",
       "    .dataframe tbody tr th:only-of-type {\n",
       "        vertical-align: middle;\n",
       "    }\n",
       "\n",
       "    .dataframe tbody tr th {\n",
       "        vertical-align: top;\n",
       "    }\n",
       "\n",
       "    .dataframe thead th {\n",
       "        text-align: right;\n",
       "    }\n",
       "</style>\n",
       "<table border=\"1\" class=\"dataframe\">\n",
       "  <thead>\n",
       "    <tr style=\"text-align: right;\">\n",
       "      <th></th>\n",
       "      <th>customer_id</th>\n",
       "      <th>item</th>\n",
       "      <th>price</th>\n",
       "    </tr>\n",
       "  </thead>\n",
       "  <tbody>\n",
       "    <tr>\n",
       "      <th>0</th>\n",
       "      <td>NaN</td>\n",
       "      <td>avocado</td>\n",
       "      <td>0.50</td>\n",
       "    </tr>\n",
       "    <tr>\n",
       "      <th>1</th>\n",
       "      <td>1.0</td>\n",
       "      <td>banana</td>\n",
       "      <td>0.15</td>\n",
       "    </tr>\n",
       "    <tr>\n",
       "      <th>2</th>\n",
       "      <td>1.0</td>\n",
       "      <td>bread</td>\n",
       "      <td>1.00</td>\n",
       "    </tr>\n",
       "    <tr>\n",
       "      <th>3</th>\n",
       "      <td>1.0</td>\n",
       "      <td>milk</td>\n",
       "      <td>0.80</td>\n",
       "    </tr>\n",
       "    <tr>\n",
       "      <th>4</th>\n",
       "      <td>2.0</td>\n",
       "      <td>milk</td>\n",
       "      <td>0.80</td>\n",
       "    </tr>\n",
       "    <tr>\n",
       "      <th>5</th>\n",
       "      <td>2.0</td>\n",
       "      <td>toilet paper</td>\n",
       "      <td>3.00</td>\n",
       "    </tr>\n",
       "  </tbody>\n",
       "</table>\n",
       "</div>"
      ],
      "text/plain": [
       "   customer_id          item  price\n",
       "0          NaN       avocado   0.50\n",
       "1          1.0        banana   0.15\n",
       "2          1.0         bread   1.00\n",
       "3          1.0          milk   0.80\n",
       "4          2.0          milk   0.80\n",
       "5          2.0  toilet paper   3.00"
      ]
     },
     "execution_count": 1293,
     "metadata": {},
     "output_type": "execute_result"
    }
   ],
   "source": [
    "# \"how=outer\"\n",
    "DF_total = pd.merge(DF_purchases, DF_prices,on='item',how='outer')\n",
    "DF_total"
   ]
  },
  {
   "cell_type": "markdown",
   "id": "7786347a-ef7b-4b39-8c05-c4a3d37bc67a",
   "metadata": {},
   "source": [
    "##### Combining the \"purchases\" and \"prices\" data frames by 'outer' merged all of the variables into one data frame."
   ]
  },
  {
   "cell_type": "code",
   "execution_count": 1294,
   "id": "d83267c8-fe75-4a94-85b8-e9e8e52fccc5",
   "metadata": {},
   "outputs": [
    {
     "data": {
      "text/html": [
       "<div>\n",
       "<style scoped>\n",
       "    .dataframe tbody tr th:only-of-type {\n",
       "        vertical-align: middle;\n",
       "    }\n",
       "\n",
       "    .dataframe tbody tr th {\n",
       "        vertical-align: top;\n",
       "    }\n",
       "\n",
       "    .dataframe thead th {\n",
       "        text-align: right;\n",
       "    }\n",
       "</style>\n",
       "<table border=\"1\" class=\"dataframe\">\n",
       "  <thead>\n",
       "    <tr style=\"text-align: right;\">\n",
       "      <th></th>\n",
       "      <th>customer_id</th>\n",
       "      <th>item</th>\n",
       "      <th>price</th>\n",
       "    </tr>\n",
       "  </thead>\n",
       "  <tbody>\n",
       "    <tr>\n",
       "      <th>0</th>\n",
       "      <td>1</td>\n",
       "      <td>bread</td>\n",
       "      <td>1.00</td>\n",
       "    </tr>\n",
       "    <tr>\n",
       "      <th>1</th>\n",
       "      <td>1</td>\n",
       "      <td>milk</td>\n",
       "      <td>0.80</td>\n",
       "    </tr>\n",
       "    <tr>\n",
       "      <th>2</th>\n",
       "      <td>1</td>\n",
       "      <td>banana</td>\n",
       "      <td>0.15</td>\n",
       "    </tr>\n",
       "    <tr>\n",
       "      <th>3</th>\n",
       "      <td>2</td>\n",
       "      <td>milk</td>\n",
       "      <td>0.80</td>\n",
       "    </tr>\n",
       "    <tr>\n",
       "      <th>4</th>\n",
       "      <td>2</td>\n",
       "      <td>toilet paper</td>\n",
       "      <td>3.00</td>\n",
       "    </tr>\n",
       "  </tbody>\n",
       "</table>\n",
       "</div>"
      ],
      "text/plain": [
       "   customer_id          item  price\n",
       "0            1         bread   1.00\n",
       "1            1          milk   0.80\n",
       "2            1        banana   0.15\n",
       "3            2          milk   0.80\n",
       "4            2  toilet paper   3.00"
      ]
     },
     "execution_count": 1294,
     "metadata": {},
     "output_type": "execute_result"
    }
   ],
   "source": [
    "# \"how=inner\"/customer id together\n",
    "DF_some = pd.merge(DF_purchases,DF_prices,on='item',how='inner')\n",
    "DF_some"
   ]
  },
  {
   "cell_type": "markdown",
   "id": "06f670aa-825f-4c40-a7ab-dd703f1daa9f",
   "metadata": {},
   "source": [
    "##### Combining the \"purchases\" and \"prices\" data frames by 'inner' cut down on the 'customer_id'."
   ]
  },
  {
   "cell_type": "code",
   "execution_count": 1295,
   "id": "a6e9ef48-206c-45fd-96c4-751cba05b9b5",
   "metadata": {},
   "outputs": [
    {
     "data": {
      "text/html": [
       "<div>\n",
       "<style scoped>\n",
       "    .dataframe tbody tr th:only-of-type {\n",
       "        vertical-align: middle;\n",
       "    }\n",
       "\n",
       "    .dataframe tbody tr th {\n",
       "        vertical-align: top;\n",
       "    }\n",
       "\n",
       "    .dataframe thead th {\n",
       "        text-align: right;\n",
       "    }\n",
       "</style>\n",
       "<table border=\"1\" class=\"dataframe\">\n",
       "  <thead>\n",
       "    <tr style=\"text-align: right;\">\n",
       "      <th></th>\n",
       "      <th>customer_id</th>\n",
       "      <th>item</th>\n",
       "      <th>price</th>\n",
       "    </tr>\n",
       "  </thead>\n",
       "  <tbody>\n",
       "    <tr>\n",
       "      <th>0</th>\n",
       "      <td>NaN</td>\n",
       "      <td>avocado</td>\n",
       "      <td>0.50</td>\n",
       "    </tr>\n",
       "    <tr>\n",
       "      <th>1</th>\n",
       "      <td>1.0</td>\n",
       "      <td>banana</td>\n",
       "      <td>0.15</td>\n",
       "    </tr>\n",
       "    <tr>\n",
       "      <th>2</th>\n",
       "      <td>1.0</td>\n",
       "      <td>bread</td>\n",
       "      <td>1.00</td>\n",
       "    </tr>\n",
       "    <tr>\n",
       "      <th>3</th>\n",
       "      <td>1.0</td>\n",
       "      <td>milk</td>\n",
       "      <td>0.80</td>\n",
       "    </tr>\n",
       "    <tr>\n",
       "      <th>4</th>\n",
       "      <td>2.0</td>\n",
       "      <td>milk</td>\n",
       "      <td>0.80</td>\n",
       "    </tr>\n",
       "    <tr>\n",
       "      <th>5</th>\n",
       "      <td>2.0</td>\n",
       "      <td>toilet paper</td>\n",
       "      <td>3.00</td>\n",
       "    </tr>\n",
       "  </tbody>\n",
       "</table>\n",
       "</div>"
      ],
      "text/plain": [
       "   customer_id          item  price\n",
       "0          NaN       avocado   0.50\n",
       "1          1.0        banana   0.15\n",
       "2          1.0         bread   1.00\n",
       "3          1.0          milk   0.80\n",
       "4          2.0          milk   0.80\n",
       "5          2.0  toilet paper   3.00"
      ]
     },
     "execution_count": 1295,
     "metadata": {},
     "output_type": "execute_result"
    }
   ],
   "source": [
    "# \"how=right\"/total\n",
    "DF_right = pd.merge(DF_purchases,DF_prices,on='item',how='right')\n",
    "DF_right"
   ]
  },
  {
   "cell_type": "markdown",
   "id": "4a9e4059-88c6-404f-b80f-d24ddbdbe225",
   "metadata": {},
   "source": [
    "##### Combining the \"purchases\" and \"prices\" data frames by 'right' merged all of the previous variables into one data frame (same as 'outer')."
   ]
  },
  {
   "cell_type": "code",
   "execution_count": 1296,
   "id": "c42954be-51ba-48ba-a6de-e91b12964874",
   "metadata": {},
   "outputs": [
    {
     "data": {
      "text/html": [
       "<div>\n",
       "<style scoped>\n",
       "    .dataframe tbody tr th:only-of-type {\n",
       "        vertical-align: middle;\n",
       "    }\n",
       "\n",
       "    .dataframe tbody tr th {\n",
       "        vertical-align: top;\n",
       "    }\n",
       "\n",
       "    .dataframe thead th {\n",
       "        text-align: right;\n",
       "    }\n",
       "</style>\n",
       "<table border=\"1\" class=\"dataframe\">\n",
       "  <thead>\n",
       "    <tr style=\"text-align: right;\">\n",
       "      <th></th>\n",
       "      <th>customer_id</th>\n",
       "      <th>item</th>\n",
       "      <th>price</th>\n",
       "    </tr>\n",
       "  </thead>\n",
       "  <tbody>\n",
       "    <tr>\n",
       "      <th>0</th>\n",
       "      <td>1</td>\n",
       "      <td>bread</td>\n",
       "      <td>1.00</td>\n",
       "    </tr>\n",
       "    <tr>\n",
       "      <th>1</th>\n",
       "      <td>1</td>\n",
       "      <td>milk</td>\n",
       "      <td>0.80</td>\n",
       "    </tr>\n",
       "    <tr>\n",
       "      <th>2</th>\n",
       "      <td>1</td>\n",
       "      <td>banana</td>\n",
       "      <td>0.15</td>\n",
       "    </tr>\n",
       "    <tr>\n",
       "      <th>3</th>\n",
       "      <td>2</td>\n",
       "      <td>milk</td>\n",
       "      <td>0.80</td>\n",
       "    </tr>\n",
       "    <tr>\n",
       "      <th>4</th>\n",
       "      <td>2</td>\n",
       "      <td>toilet paper</td>\n",
       "      <td>3.00</td>\n",
       "    </tr>\n",
       "  </tbody>\n",
       "</table>\n",
       "</div>"
      ],
      "text/plain": [
       "   customer_id          item  price\n",
       "0            1         bread   1.00\n",
       "1            1          milk   0.80\n",
       "2            1        banana   0.15\n",
       "3            2          milk   0.80\n",
       "4            2  toilet paper   3.00"
      ]
     },
     "execution_count": 1296,
     "metadata": {},
     "output_type": "execute_result"
    }
   ],
   "source": [
    "# \"how=left\"/customer id together\n",
    "DF_left = pd.merge(DF_purchases,DF_prices,on='item',how='left')\n",
    "DF_left"
   ]
  },
  {
   "cell_type": "markdown",
   "id": "3bba5e91-a65e-4b2d-a254-48f1e8a6aa61",
   "metadata": {},
   "source": [
    "##### Combining the \"purchases\" and \"prices\" data frames by 'left' cut down on 'customer_id' (same as 'inner')."
   ]
  },
  {
   "cell_type": "code",
   "execution_count": 1297,
   "id": "66231fd5-7ab2-4a9f-ba6f-ddd099516e24",
   "metadata": {},
   "outputs": [
    {
     "data": {
      "text/plain": [
       "6.25"
      ]
     },
     "execution_count": 1297,
     "metadata": {},
     "output_type": "execute_result"
    }
   ],
   "source": [
    "# total revenue (price)\n",
    "DF_total['price'].sum()"
   ]
  },
  {
   "cell_type": "markdown",
   "id": "d8e49616-3cc2-4c32-84a1-0aff1cd73758",
   "metadata": {},
   "source": [
    "#### Q8\n",
    "##### The total revenue (price) of the data was $6.25."
   ]
  },
  {
   "cell_type": "markdown",
   "id": "e437831b-9e27-40c1-b7e1-893785439543",
   "metadata": {},
   "source": [
    "**See the lecture notes if you need heelp figuring this out!**\n",
    "\n",
    "**Q9** Calculate the revenue per customer? Hint - group by the customer id and then apply the sum()."
   ]
  },
  {
   "cell_type": "code",
   "execution_count": 1299,
   "id": "0863ba4f-65d0-4465-bd70-4557c581a15d",
   "metadata": {},
   "outputs": [
    {
     "data": {
      "text/plain": [
       "7.0"
      ]
     },
     "execution_count": 1299,
     "metadata": {},
     "output_type": "execute_result"
    }
   ],
   "source": [
    "# Your code here\n",
    "DF_total['customer_id'].sum()"
   ]
  },
  {
   "cell_type": "markdown",
   "id": "3c657faf-2736-4cf7-a525-36dc381b90ff",
   "metadata": {},
   "source": [
    "#### Q9\n",
    "##### The revenue per customer was $7."
   ]
  },
  {
   "cell_type": "markdown",
   "id": "0b3b6bfe-df90-4521-9d96-404916911e2b",
   "metadata": {},
   "source": [
    "# Practice Exam - EDA - College Majors\n",
    "\n",
    "Your solutions should include code written to answer the questions AND words describing the results. For each problem:\n",
    "\n",
    "1. Write code to get the answers. It is okay to copy and paste from our lecture notes or your homework assignments.\n",
    "2. Describe what the code output is telling you.\n",
    "3. Explain any interesting aspects of your results.\n",
    "\n",
    "------------------------\n",
    "-------------------------"
   ]
  },
  {
   "cell_type": "markdown",
   "id": "1c634098-c93e-41c2-bc4a-523f4c27a333",
   "metadata": {},
   "source": [
    "The first step in the process of turning information into knowledge process is to summarize and describe the raw information - the data.\n",
    "In this assignment we explore data on college majors and earnings, specifically the data begin the FiveThirtyEight story [\"The Economic Guide To Picking A College Major\"](https://fivethirtyeight.com/features/the-economic-guide-to-picking-a-college-major/).\n",
    "\n",
    "These data originally come from the American Community Survey (ACS) 2010-2012 Public Use Microdata Series.\n",
    "While this is outside the scope of this assignment, if you are curious about how raw data from the ACS were cleaned and prepared, see [the code](https://github.com/fivethirtyeight/data/blob/master/college-majors/college-majors-rscript.R) FiveThirtyEight authors used.\n",
    "\n",
    "We should also note that there are many considerations that go into picking a major.\n",
    "Earnings potential and employment prospects are two of them, and they are important, but they don't tell the whole story.\n",
    "Keep this in mind as you analyze the data."
   ]
  },
  {
   "cell_type": "code",
   "execution_count": 1302,
   "id": "20e25679-7c2a-4244-be1b-dc01e35f8126",
   "metadata": {},
   "outputs": [],
   "source": [
    "file_location = 'https://joannabieri.com/introdatascience/data/recent-grads.csv'\n",
    "DF_raw = pd.read_csv(file_location)"
   ]
  },
  {
   "cell_type": "code",
   "execution_count": 1303,
   "id": "763b02f4-00ce-4b9a-ac1d-792c794109f1",
   "metadata": {},
   "outputs": [
    {
     "data": {
      "text/html": [
       "<div>\n",
       "<style scoped>\n",
       "    .dataframe tbody tr th:only-of-type {\n",
       "        vertical-align: middle;\n",
       "    }\n",
       "\n",
       "    .dataframe tbody tr th {\n",
       "        vertical-align: top;\n",
       "    }\n",
       "\n",
       "    .dataframe thead th {\n",
       "        text-align: right;\n",
       "    }\n",
       "</style>\n",
       "<table border=\"1\" class=\"dataframe\">\n",
       "  <thead>\n",
       "    <tr style=\"text-align: right;\">\n",
       "      <th></th>\n",
       "      <th>Rank</th>\n",
       "      <th>Major_code</th>\n",
       "      <th>Major</th>\n",
       "      <th>Total</th>\n",
       "      <th>Men</th>\n",
       "      <th>Women</th>\n",
       "      <th>Major_category</th>\n",
       "      <th>ShareWomen</th>\n",
       "      <th>Sample_size</th>\n",
       "      <th>Employed</th>\n",
       "      <th>...</th>\n",
       "      <th>Part_time</th>\n",
       "      <th>Full_time_year_round</th>\n",
       "      <th>Unemployed</th>\n",
       "      <th>Unemployment_rate</th>\n",
       "      <th>Median</th>\n",
       "      <th>P25th</th>\n",
       "      <th>P75th</th>\n",
       "      <th>College_jobs</th>\n",
       "      <th>Non_college_jobs</th>\n",
       "      <th>Low_wage_jobs</th>\n",
       "    </tr>\n",
       "  </thead>\n",
       "  <tbody>\n",
       "    <tr>\n",
       "      <th>0</th>\n",
       "      <td>1</td>\n",
       "      <td>2419</td>\n",
       "      <td>PETROLEUM ENGINEERING</td>\n",
       "      <td>2339.0</td>\n",
       "      <td>2057.0</td>\n",
       "      <td>282.0</td>\n",
       "      <td>Engineering</td>\n",
       "      <td>0.120564</td>\n",
       "      <td>36</td>\n",
       "      <td>1976</td>\n",
       "      <td>...</td>\n",
       "      <td>270</td>\n",
       "      <td>1207</td>\n",
       "      <td>37</td>\n",
       "      <td>0.018381</td>\n",
       "      <td>110000</td>\n",
       "      <td>95000</td>\n",
       "      <td>125000</td>\n",
       "      <td>1534</td>\n",
       "      <td>364</td>\n",
       "      <td>193</td>\n",
       "    </tr>\n",
       "    <tr>\n",
       "      <th>1</th>\n",
       "      <td>2</td>\n",
       "      <td>2416</td>\n",
       "      <td>MINING AND MINERAL ENGINEERING</td>\n",
       "      <td>756.0</td>\n",
       "      <td>679.0</td>\n",
       "      <td>77.0</td>\n",
       "      <td>Engineering</td>\n",
       "      <td>0.101852</td>\n",
       "      <td>7</td>\n",
       "      <td>640</td>\n",
       "      <td>...</td>\n",
       "      <td>170</td>\n",
       "      <td>388</td>\n",
       "      <td>85</td>\n",
       "      <td>0.117241</td>\n",
       "      <td>75000</td>\n",
       "      <td>55000</td>\n",
       "      <td>90000</td>\n",
       "      <td>350</td>\n",
       "      <td>257</td>\n",
       "      <td>50</td>\n",
       "    </tr>\n",
       "    <tr>\n",
       "      <th>2</th>\n",
       "      <td>3</td>\n",
       "      <td>2415</td>\n",
       "      <td>METALLURGICAL ENGINEERING</td>\n",
       "      <td>856.0</td>\n",
       "      <td>725.0</td>\n",
       "      <td>131.0</td>\n",
       "      <td>Engineering</td>\n",
       "      <td>0.153037</td>\n",
       "      <td>3</td>\n",
       "      <td>648</td>\n",
       "      <td>...</td>\n",
       "      <td>133</td>\n",
       "      <td>340</td>\n",
       "      <td>16</td>\n",
       "      <td>0.024096</td>\n",
       "      <td>73000</td>\n",
       "      <td>50000</td>\n",
       "      <td>105000</td>\n",
       "      <td>456</td>\n",
       "      <td>176</td>\n",
       "      <td>0</td>\n",
       "    </tr>\n",
       "    <tr>\n",
       "      <th>3</th>\n",
       "      <td>4</td>\n",
       "      <td>2417</td>\n",
       "      <td>NAVAL ARCHITECTURE AND MARINE ENGINEERING</td>\n",
       "      <td>1258.0</td>\n",
       "      <td>1123.0</td>\n",
       "      <td>135.0</td>\n",
       "      <td>Engineering</td>\n",
       "      <td>0.107313</td>\n",
       "      <td>16</td>\n",
       "      <td>758</td>\n",
       "      <td>...</td>\n",
       "      <td>150</td>\n",
       "      <td>692</td>\n",
       "      <td>40</td>\n",
       "      <td>0.050125</td>\n",
       "      <td>70000</td>\n",
       "      <td>43000</td>\n",
       "      <td>80000</td>\n",
       "      <td>529</td>\n",
       "      <td>102</td>\n",
       "      <td>0</td>\n",
       "    </tr>\n",
       "    <tr>\n",
       "      <th>4</th>\n",
       "      <td>5</td>\n",
       "      <td>2405</td>\n",
       "      <td>CHEMICAL ENGINEERING</td>\n",
       "      <td>32260.0</td>\n",
       "      <td>21239.0</td>\n",
       "      <td>11021.0</td>\n",
       "      <td>Engineering</td>\n",
       "      <td>0.341631</td>\n",
       "      <td>289</td>\n",
       "      <td>25694</td>\n",
       "      <td>...</td>\n",
       "      <td>5180</td>\n",
       "      <td>16697</td>\n",
       "      <td>1672</td>\n",
       "      <td>0.061098</td>\n",
       "      <td>65000</td>\n",
       "      <td>50000</td>\n",
       "      <td>75000</td>\n",
       "      <td>18314</td>\n",
       "      <td>4440</td>\n",
       "      <td>972</td>\n",
       "    </tr>\n",
       "    <tr>\n",
       "      <th>...</th>\n",
       "      <td>...</td>\n",
       "      <td>...</td>\n",
       "      <td>...</td>\n",
       "      <td>...</td>\n",
       "      <td>...</td>\n",
       "      <td>...</td>\n",
       "      <td>...</td>\n",
       "      <td>...</td>\n",
       "      <td>...</td>\n",
       "      <td>...</td>\n",
       "      <td>...</td>\n",
       "      <td>...</td>\n",
       "      <td>...</td>\n",
       "      <td>...</td>\n",
       "      <td>...</td>\n",
       "      <td>...</td>\n",
       "      <td>...</td>\n",
       "      <td>...</td>\n",
       "      <td>...</td>\n",
       "      <td>...</td>\n",
       "      <td>...</td>\n",
       "    </tr>\n",
       "    <tr>\n",
       "      <th>168</th>\n",
       "      <td>169</td>\n",
       "      <td>3609</td>\n",
       "      <td>ZOOLOGY</td>\n",
       "      <td>8409.0</td>\n",
       "      <td>3050.0</td>\n",
       "      <td>5359.0</td>\n",
       "      <td>Biology &amp; Life Science</td>\n",
       "      <td>0.637293</td>\n",
       "      <td>47</td>\n",
       "      <td>6259</td>\n",
       "      <td>...</td>\n",
       "      <td>2190</td>\n",
       "      <td>3602</td>\n",
       "      <td>304</td>\n",
       "      <td>0.046320</td>\n",
       "      <td>26000</td>\n",
       "      <td>20000</td>\n",
       "      <td>39000</td>\n",
       "      <td>2771</td>\n",
       "      <td>2947</td>\n",
       "      <td>743</td>\n",
       "    </tr>\n",
       "    <tr>\n",
       "      <th>169</th>\n",
       "      <td>170</td>\n",
       "      <td>5201</td>\n",
       "      <td>EDUCATIONAL PSYCHOLOGY</td>\n",
       "      <td>2854.0</td>\n",
       "      <td>522.0</td>\n",
       "      <td>2332.0</td>\n",
       "      <td>Psychology &amp; Social Work</td>\n",
       "      <td>0.817099</td>\n",
       "      <td>7</td>\n",
       "      <td>2125</td>\n",
       "      <td>...</td>\n",
       "      <td>572</td>\n",
       "      <td>1211</td>\n",
       "      <td>148</td>\n",
       "      <td>0.065112</td>\n",
       "      <td>25000</td>\n",
       "      <td>24000</td>\n",
       "      <td>34000</td>\n",
       "      <td>1488</td>\n",
       "      <td>615</td>\n",
       "      <td>82</td>\n",
       "    </tr>\n",
       "    <tr>\n",
       "      <th>170</th>\n",
       "      <td>171</td>\n",
       "      <td>5202</td>\n",
       "      <td>CLINICAL PSYCHOLOGY</td>\n",
       "      <td>2838.0</td>\n",
       "      <td>568.0</td>\n",
       "      <td>2270.0</td>\n",
       "      <td>Psychology &amp; Social Work</td>\n",
       "      <td>0.799859</td>\n",
       "      <td>13</td>\n",
       "      <td>2101</td>\n",
       "      <td>...</td>\n",
       "      <td>648</td>\n",
       "      <td>1293</td>\n",
       "      <td>368</td>\n",
       "      <td>0.149048</td>\n",
       "      <td>25000</td>\n",
       "      <td>25000</td>\n",
       "      <td>40000</td>\n",
       "      <td>986</td>\n",
       "      <td>870</td>\n",
       "      <td>622</td>\n",
       "    </tr>\n",
       "    <tr>\n",
       "      <th>171</th>\n",
       "      <td>172</td>\n",
       "      <td>5203</td>\n",
       "      <td>COUNSELING PSYCHOLOGY</td>\n",
       "      <td>4626.0</td>\n",
       "      <td>931.0</td>\n",
       "      <td>3695.0</td>\n",
       "      <td>Psychology &amp; Social Work</td>\n",
       "      <td>0.798746</td>\n",
       "      <td>21</td>\n",
       "      <td>3777</td>\n",
       "      <td>...</td>\n",
       "      <td>965</td>\n",
       "      <td>2738</td>\n",
       "      <td>214</td>\n",
       "      <td>0.053621</td>\n",
       "      <td>23400</td>\n",
       "      <td>19200</td>\n",
       "      <td>26000</td>\n",
       "      <td>2403</td>\n",
       "      <td>1245</td>\n",
       "      <td>308</td>\n",
       "    </tr>\n",
       "    <tr>\n",
       "      <th>172</th>\n",
       "      <td>173</td>\n",
       "      <td>3501</td>\n",
       "      <td>LIBRARY SCIENCE</td>\n",
       "      <td>1098.0</td>\n",
       "      <td>134.0</td>\n",
       "      <td>964.0</td>\n",
       "      <td>Education</td>\n",
       "      <td>0.877960</td>\n",
       "      <td>2</td>\n",
       "      <td>742</td>\n",
       "      <td>...</td>\n",
       "      <td>237</td>\n",
       "      <td>410</td>\n",
       "      <td>87</td>\n",
       "      <td>0.104946</td>\n",
       "      <td>22000</td>\n",
       "      <td>20000</td>\n",
       "      <td>22000</td>\n",
       "      <td>288</td>\n",
       "      <td>338</td>\n",
       "      <td>192</td>\n",
       "    </tr>\n",
       "  </tbody>\n",
       "</table>\n",
       "<p>173 rows × 21 columns</p>\n",
       "</div>"
      ],
      "text/plain": [
       "     Rank  Major_code                                      Major    Total  \\\n",
       "0       1        2419                      PETROLEUM ENGINEERING   2339.0   \n",
       "1       2        2416             MINING AND MINERAL ENGINEERING    756.0   \n",
       "2       3        2415                  METALLURGICAL ENGINEERING    856.0   \n",
       "3       4        2417  NAVAL ARCHITECTURE AND MARINE ENGINEERING   1258.0   \n",
       "4       5        2405                       CHEMICAL ENGINEERING  32260.0   \n",
       "..    ...         ...                                        ...      ...   \n",
       "168   169        3609                                    ZOOLOGY   8409.0   \n",
       "169   170        5201                     EDUCATIONAL PSYCHOLOGY   2854.0   \n",
       "170   171        5202                        CLINICAL PSYCHOLOGY   2838.0   \n",
       "171   172        5203                      COUNSELING PSYCHOLOGY   4626.0   \n",
       "172   173        3501                            LIBRARY SCIENCE   1098.0   \n",
       "\n",
       "         Men    Women            Major_category  ShareWomen  Sample_size  \\\n",
       "0     2057.0    282.0               Engineering    0.120564           36   \n",
       "1      679.0     77.0               Engineering    0.101852            7   \n",
       "2      725.0    131.0               Engineering    0.153037            3   \n",
       "3     1123.0    135.0               Engineering    0.107313           16   \n",
       "4    21239.0  11021.0               Engineering    0.341631          289   \n",
       "..       ...      ...                       ...         ...          ...   \n",
       "168   3050.0   5359.0    Biology & Life Science    0.637293           47   \n",
       "169    522.0   2332.0  Psychology & Social Work    0.817099            7   \n",
       "170    568.0   2270.0  Psychology & Social Work    0.799859           13   \n",
       "171    931.0   3695.0  Psychology & Social Work    0.798746           21   \n",
       "172    134.0    964.0                 Education    0.877960            2   \n",
       "\n",
       "     Employed  ...  Part_time  Full_time_year_round  Unemployed  \\\n",
       "0        1976  ...        270                  1207          37   \n",
       "1         640  ...        170                   388          85   \n",
       "2         648  ...        133                   340          16   \n",
       "3         758  ...        150                   692          40   \n",
       "4       25694  ...       5180                 16697        1672   \n",
       "..        ...  ...        ...                   ...         ...   \n",
       "168      6259  ...       2190                  3602         304   \n",
       "169      2125  ...        572                  1211         148   \n",
       "170      2101  ...        648                  1293         368   \n",
       "171      3777  ...        965                  2738         214   \n",
       "172       742  ...        237                   410          87   \n",
       "\n",
       "     Unemployment_rate  Median  P25th   P75th  College_jobs  Non_college_jobs  \\\n",
       "0             0.018381  110000  95000  125000          1534               364   \n",
       "1             0.117241   75000  55000   90000           350               257   \n",
       "2             0.024096   73000  50000  105000           456               176   \n",
       "3             0.050125   70000  43000   80000           529               102   \n",
       "4             0.061098   65000  50000   75000         18314              4440   \n",
       "..                 ...     ...    ...     ...           ...               ...   \n",
       "168           0.046320   26000  20000   39000          2771              2947   \n",
       "169           0.065112   25000  24000   34000          1488               615   \n",
       "170           0.149048   25000  25000   40000           986               870   \n",
       "171           0.053621   23400  19200   26000          2403              1245   \n",
       "172           0.104946   22000  20000   22000           288               338   \n",
       "\n",
       "     Low_wage_jobs  \n",
       "0              193  \n",
       "1               50  \n",
       "2                0  \n",
       "3                0  \n",
       "4              972  \n",
       "..             ...  \n",
       "168            743  \n",
       "169             82  \n",
       "170            622  \n",
       "171            308  \n",
       "172            192  \n",
       "\n",
       "[173 rows x 21 columns]"
      ]
     },
     "execution_count": 1303,
     "metadata": {},
     "output_type": "execute_result"
    }
   ],
   "source": [
    "DF_raw"
   ]
  },
  {
   "cell_type": "markdown",
   "id": "d2c98753-1b02-4889-81b3-d97627d70824",
   "metadata": {},
   "source": [
    "### 1. Describe the data that you see here.\n",
    "\n",
    "* How many variables?\n",
    "* How man observations?\n",
    "* Are the variables categorical or numerical?\n",
    "* Are there any variables that you don't know what they mean? If so [CLICK HERE - to see the Git Repo for the data where the variables are defined](https://github.com/fivethirtyeight/data/tree/master/college-majors)\n"
   ]
  },
  {
   "cell_type": "code",
   "execution_count": 1305,
   "id": "0011fbe4-e81b-446f-8277-a249f36c3880",
   "metadata": {},
   "outputs": [
    {
     "name": "stdout",
     "output_type": "stream",
     "text": [
      "21\n"
     ]
    }
   ],
   "source": [
    "#variable\n",
    "print(len(DF_raw.columns))"
   ]
  },
  {
   "cell_type": "code",
   "execution_count": 1306,
   "id": "b09fe27b-bcac-46c2-af97-6ca873f5e81d",
   "metadata": {},
   "outputs": [
    {
     "name": "stdout",
     "output_type": "stream",
     "text": [
      "173\n"
     ]
    }
   ],
   "source": [
    "#observation\n",
    "print(len(DF_raw))"
   ]
  },
  {
   "cell_type": "markdown",
   "id": "fabf354d-7938-42e1-8ff7-93003b016c9e",
   "metadata": {},
   "source": [
    "#### Q1 (Practice Exam)\n",
    "##### 1) There are 21 variables in the data frame.\n",
    "##### 2) There are 173 observations in the data frame.\n",
    "##### 3) The variables are both numerical and categorical data since some of the data are numbers while some of the other data are words.\n",
    "##### This data set has 21 variables and 173 observations with numerical and categorical data alike."
   ]
  },
  {
   "cell_type": "code",
   "execution_count": 1309,
   "id": "1609a2d2-a099-47e1-a94d-17c56bfbdda7",
   "metadata": {},
   "outputs": [
    {
     "data": {
      "text/plain": [
       "Index(['Rank', 'Major_code', 'Major', 'Total', 'Men', 'Women',\n",
       "       'Major_category', 'ShareWomen', 'Sample_size', 'Employed', 'Full_time',\n",
       "       'Part_time', 'Full_time_year_round', 'Unemployed', 'Unemployment_rate',\n",
       "       'Median', 'P25th', 'P75th', 'College_jobs', 'Non_college_jobs',\n",
       "       'Low_wage_jobs'],\n",
       "      dtype='object')"
      ]
     },
     "execution_count": 1309,
     "metadata": {},
     "output_type": "execute_result"
    }
   ],
   "source": [
    "DF_raw.keys()"
   ]
  },
  {
   "cell_type": "markdown",
   "id": "e6081090-f75b-43f2-aaee-e9e90afbb058",
   "metadata": {},
   "source": [
    "### 2. Answer some questions about the data\n",
    "\n",
    "* Which major has the lowest unemployment rate? Show a data frame that answers this question, but only show columns that are useful to the answer.\n",
    "* Which major has the highest percentage of women? Show a data frame that answers this question, but only show columns that are useful to the answer.\n",
    "* How do the distributions of median income compare across major categories?\n",
    "    * First get a value count on what major categories are in the data. What categories are most or least represented?\n",
    "    * Do some summary statistics using the .group_by() command to see the statistics for each major category.\n",
    "    * Make a histogram that explores median income for each of the major categories (facet_col). How did you choose your number of bins?\n",
    "    * Why do we often choose the median, rather than the mean, to describe the typical income of a group of people? Look this up online if you don't know the answer!\n",
    "    * Answer the question: Which major category has the highest typical (you'll need to decide what this means) median income?"
   ]
  },
  {
   "cell_type": "code",
   "execution_count": 1311,
   "id": "07018bba-b647-4455-8629-49473f87bc35",
   "metadata": {},
   "outputs": [
    {
     "data": {
      "text/html": [
       "<div>\n",
       "<style scoped>\n",
       "    .dataframe tbody tr th:only-of-type {\n",
       "        vertical-align: middle;\n",
       "    }\n",
       "\n",
       "    .dataframe tbody tr th {\n",
       "        vertical-align: top;\n",
       "    }\n",
       "\n",
       "    .dataframe thead th {\n",
       "        text-align: right;\n",
       "    }\n",
       "</style>\n",
       "<table border=\"1\" class=\"dataframe\">\n",
       "  <thead>\n",
       "    <tr style=\"text-align: right;\">\n",
       "      <th></th>\n",
       "      <th>Unemployment_rate</th>\n",
       "      <th>Major</th>\n",
       "    </tr>\n",
       "  </thead>\n",
       "  <tbody>\n",
       "    <tr>\n",
       "      <th>14</th>\n",
       "      <td>0.006334</td>\n",
       "      <td>ENGINEERING MECHANICS PHYSICS AND SCIENCE</td>\n",
       "    </tr>\n",
       "    <tr>\n",
       "      <th>19</th>\n",
       "      <td>0.011690</td>\n",
       "      <td>COURT REPORTING</td>\n",
       "    </tr>\n",
       "    <tr>\n",
       "      <th>119</th>\n",
       "      <td>0.016203</td>\n",
       "      <td>MATHEMATICS TEACHER EDUCATION</td>\n",
       "    </tr>\n",
       "    <tr>\n",
       "      <th>0</th>\n",
       "      <td>0.018381</td>\n",
       "      <td>PETROLEUM ENGINEERING</td>\n",
       "    </tr>\n",
       "    <tr>\n",
       "      <th>64</th>\n",
       "      <td>0.019642</td>\n",
       "      <td>GENERAL AGRICULTURE</td>\n",
       "    </tr>\n",
       "    <tr>\n",
       "      <th>...</th>\n",
       "      <td>...</td>\n",
       "      <td>...</td>\n",
       "    </tr>\n",
       "    <tr>\n",
       "      <th>29</th>\n",
       "      <td>0.128426</td>\n",
       "      <td>PUBLIC POLICY</td>\n",
       "    </tr>\n",
       "    <tr>\n",
       "      <th>170</th>\n",
       "      <td>0.149048</td>\n",
       "      <td>CLINICAL PSYCHOLOGY</td>\n",
       "    </tr>\n",
       "    <tr>\n",
       "      <th>84</th>\n",
       "      <td>0.151850</td>\n",
       "      <td>COMPUTER NETWORKING AND TELECOMMUNICATIONS</td>\n",
       "    </tr>\n",
       "    <tr>\n",
       "      <th>89</th>\n",
       "      <td>0.159491</td>\n",
       "      <td>PUBLIC ADMINISTRATION</td>\n",
       "    </tr>\n",
       "    <tr>\n",
       "      <th>5</th>\n",
       "      <td>0.177226</td>\n",
       "      <td>NUCLEAR ENGINEERING</td>\n",
       "    </tr>\n",
       "  </tbody>\n",
       "</table>\n",
       "<p>168 rows × 2 columns</p>\n",
       "</div>"
      ],
      "text/plain": [
       "     Unemployment_rate                                       Major\n",
       "14            0.006334   ENGINEERING MECHANICS PHYSICS AND SCIENCE\n",
       "19            0.011690                             COURT REPORTING\n",
       "119           0.016203               MATHEMATICS TEACHER EDUCATION\n",
       "0             0.018381                       PETROLEUM ENGINEERING\n",
       "64            0.019642                         GENERAL AGRICULTURE\n",
       "..                 ...                                         ...\n",
       "29            0.128426                               PUBLIC POLICY\n",
       "170           0.149048                         CLINICAL PSYCHOLOGY\n",
       "84            0.151850  COMPUTER NETWORKING AND TELECOMMUNICATIONS\n",
       "89            0.159491                       PUBLIC ADMINISTRATION\n",
       "5             0.177226                         NUCLEAR ENGINEERING\n",
       "\n",
       "[168 rows x 2 columns]"
      ]
     },
     "execution_count": 1311,
     "metadata": {},
     "output_type": "execute_result"
    }
   ],
   "source": [
    "#major with the lowest unemployment rate\n",
    "my_columns = ['Unemployment_rate','Major']\n",
    "DF_raw[my_columns].sort_values('Unemployment_rate')\n",
    "\n",
    "mask = DF_raw['Unemployment_rate'] >0\n",
    "DF_new = DF_raw[mask]\n",
    "DF_new[my_columns].sort_values('Unemployment_rate')"
   ]
  },
  {
   "cell_type": "markdown",
   "id": "57ededf6-e111-4057-a09c-28cc74ce9097",
   "metadata": {},
   "source": [
    "#### Q2: Part 1 (Practice Exam)\n",
    "##### A major in 'Engineering Machanics Physics and Science' has the lowest unemployment rate."
   ]
  },
  {
   "cell_type": "code",
   "execution_count": 1313,
   "id": "4051b1d2-7153-4136-9207-d29f202bac80",
   "metadata": {},
   "outputs": [
    {
     "data": {
      "text/html": [
       "<div>\n",
       "<style scoped>\n",
       "    .dataframe tbody tr th:only-of-type {\n",
       "        vertical-align: middle;\n",
       "    }\n",
       "\n",
       "    .dataframe tbody tr th {\n",
       "        vertical-align: top;\n",
       "    }\n",
       "\n",
       "    .dataframe thead th {\n",
       "        text-align: right;\n",
       "    }\n",
       "</style>\n",
       "<table border=\"1\" class=\"dataframe\">\n",
       "  <thead>\n",
       "    <tr style=\"text-align: right;\">\n",
       "      <th></th>\n",
       "      <th>Major</th>\n",
       "      <th>Women</th>\n",
       "      <th>Employed</th>\n",
       "    </tr>\n",
       "  </thead>\n",
       "  <tbody>\n",
       "    <tr>\n",
       "      <th>145</th>\n",
       "      <td>PSYCHOLOGY</td>\n",
       "      <td>307087.0</td>\n",
       "      <td>307933</td>\n",
       "    </tr>\n",
       "    <tr>\n",
       "      <th>34</th>\n",
       "      <td>NURSING</td>\n",
       "      <td>187621.0</td>\n",
       "      <td>180903</td>\n",
       "    </tr>\n",
       "    <tr>\n",
       "      <th>123</th>\n",
       "      <td>BIOLOGY</td>\n",
       "      <td>168947.0</td>\n",
       "      <td>182295</td>\n",
       "    </tr>\n",
       "    <tr>\n",
       "      <th>138</th>\n",
       "      <td>ELEMENTARY EDUCATION</td>\n",
       "      <td>157833.0</td>\n",
       "      <td>149339</td>\n",
       "    </tr>\n",
       "    <tr>\n",
       "      <th>76</th>\n",
       "      <td>BUSINESS MANAGEMENT AND ADMINISTRATION</td>\n",
       "      <td>156118.0</td>\n",
       "      <td>276234</td>\n",
       "    </tr>\n",
       "    <tr>\n",
       "      <th>...</th>\n",
       "      <td>...</td>\n",
       "      <td>...</td>\n",
       "      <td>...</td>\n",
       "    </tr>\n",
       "    <tr>\n",
       "      <th>2</th>\n",
       "      <td>METALLURGICAL ENGINEERING</td>\n",
       "      <td>131.0</td>\n",
       "      <td>648</td>\n",
       "    </tr>\n",
       "    <tr>\n",
       "      <th>52</th>\n",
       "      <td>MATHEMATICS AND COMPUTER SCIENCE</td>\n",
       "      <td>109.0</td>\n",
       "      <td>559</td>\n",
       "    </tr>\n",
       "    <tr>\n",
       "      <th>1</th>\n",
       "      <td>MINING AND MINERAL ENGINEERING</td>\n",
       "      <td>77.0</td>\n",
       "      <td>640</td>\n",
       "    </tr>\n",
       "    <tr>\n",
       "      <th>73</th>\n",
       "      <td>MILITARY TECHNOLOGIES</td>\n",
       "      <td>0.0</td>\n",
       "      <td>0</td>\n",
       "    </tr>\n",
       "    <tr>\n",
       "      <th>21</th>\n",
       "      <td>FOOD SCIENCE</td>\n",
       "      <td>NaN</td>\n",
       "      <td>3149</td>\n",
       "    </tr>\n",
       "  </tbody>\n",
       "</table>\n",
       "<p>173 rows × 3 columns</p>\n",
       "</div>"
      ],
      "text/plain": [
       "                                      Major     Women  Employed\n",
       "145                              PSYCHOLOGY  307087.0    307933\n",
       "34                                  NURSING  187621.0    180903\n",
       "123                                 BIOLOGY  168947.0    182295\n",
       "138                    ELEMENTARY EDUCATION  157833.0    149339\n",
       "76   BUSINESS MANAGEMENT AND ADMINISTRATION  156118.0    276234\n",
       "..                                      ...       ...       ...\n",
       "2                 METALLURGICAL ENGINEERING     131.0       648\n",
       "52         MATHEMATICS AND COMPUTER SCIENCE     109.0       559\n",
       "1            MINING AND MINERAL ENGINEERING      77.0       640\n",
       "73                    MILITARY TECHNOLOGIES       0.0         0\n",
       "21                             FOOD SCIENCE       NaN      3149\n",
       "\n",
       "[173 rows x 3 columns]"
      ]
     },
     "execution_count": 1313,
     "metadata": {},
     "output_type": "execute_result"
    }
   ],
   "source": [
    "#major with the highest percentage of women\n",
    "my_columns = ['Major','Women','Employed']\n",
    "DF_raw[my_columns].sort_values('Women',ascending=False)"
   ]
  },
  {
   "cell_type": "markdown",
   "id": "0abc47a9-e22a-4d37-9fc2-5c977a0ac4f7",
   "metadata": {},
   "source": [
    "#### Q2: Part 2 (Practice Exam)\n",
    "##### The major with the highest percentage of women is 'Psychology'."
   ]
  },
  {
   "cell_type": "code",
   "execution_count": 1315,
   "id": "a595e3c3-8b12-4917-905a-486a305b6baa",
   "metadata": {},
   "outputs": [
    {
     "data": {
      "text/plain": [
       "Major_category\n",
       "Engineering                            29\n",
       "Education                              16\n",
       "Humanities & Liberal Arts              15\n",
       "Biology & Life Science                 14\n",
       "Business                               13\n",
       "Health                                 12\n",
       "Computers & Mathematics                11\n",
       "Physical Sciences                      10\n",
       "Agriculture & Natural Resources        10\n",
       "Social Science                          9\n",
       "Psychology & Social Work                9\n",
       "Arts                                    8\n",
       "Industrial Arts & Consumer Services     7\n",
       "Law & Public Policy                     5\n",
       "Communications & Journalism             4\n",
       "Interdisciplinary                       1\n",
       "Name: count, dtype: int64"
      ]
     },
     "execution_count": 1315,
     "metadata": {},
     "output_type": "execute_result"
    }
   ],
   "source": [
    "# Distributions of medican income compare across major categories\n",
    "# 1. value count on what major categories are in the data, what categories are most or least represented\n",
    "DF_raw['Major_category'].value_counts()"
   ]
  },
  {
   "cell_type": "markdown",
   "id": "29784d67-f38a-4564-ba04-bf857dfbaf9e",
   "metadata": {},
   "source": [
    "#### Q2: Part 3; value count (Practice Exam)\n",
    "##### The major category that is the most represented is 'Engineering' and the major category that is the least represented is 'Interdisciplinary'."
   ]
  },
  {
   "cell_type": "code",
   "execution_count": 1316,
   "id": "f05f9e13-dbd9-4f3f-b42b-97650616382f",
   "metadata": {},
   "outputs": [
    {
     "data": {
      "text/html": [
       "<div>\n",
       "<style scoped>\n",
       "    .dataframe tbody tr th:only-of-type {\n",
       "        vertical-align: middle;\n",
       "    }\n",
       "\n",
       "    .dataframe tbody tr th {\n",
       "        vertical-align: top;\n",
       "    }\n",
       "\n",
       "    .dataframe thead tr th {\n",
       "        text-align: left;\n",
       "    }\n",
       "\n",
       "    .dataframe thead tr:last-of-type th {\n",
       "        text-align: right;\n",
       "    }\n",
       "</style>\n",
       "<table border=\"1\" class=\"dataframe\">\n",
       "  <thead>\n",
       "    <tr>\n",
       "      <th></th>\n",
       "      <th colspan=\"8\" halign=\"left\">Rank</th>\n",
       "      <th colspan=\"8\" halign=\"left\">Total</th>\n",
       "    </tr>\n",
       "    <tr>\n",
       "      <th></th>\n",
       "      <th>count</th>\n",
       "      <th>mean</th>\n",
       "      <th>std</th>\n",
       "      <th>min</th>\n",
       "      <th>25%</th>\n",
       "      <th>50%</th>\n",
       "      <th>75%</th>\n",
       "      <th>max</th>\n",
       "      <th>count</th>\n",
       "      <th>mean</th>\n",
       "      <th>std</th>\n",
       "      <th>min</th>\n",
       "      <th>25%</th>\n",
       "      <th>50%</th>\n",
       "      <th>75%</th>\n",
       "      <th>max</th>\n",
       "    </tr>\n",
       "    <tr>\n",
       "      <th>Major_category</th>\n",
       "      <th></th>\n",
       "      <th></th>\n",
       "      <th></th>\n",
       "      <th></th>\n",
       "      <th></th>\n",
       "      <th></th>\n",
       "      <th></th>\n",
       "      <th></th>\n",
       "      <th></th>\n",
       "      <th></th>\n",
       "      <th></th>\n",
       "      <th></th>\n",
       "      <th></th>\n",
       "      <th></th>\n",
       "      <th></th>\n",
       "      <th></th>\n",
       "    </tr>\n",
       "  </thead>\n",
       "  <tbody>\n",
       "    <tr>\n",
       "      <th>Agriculture &amp; Natural Resources</th>\n",
       "      <td>10.0</td>\n",
       "      <td>101.500000</td>\n",
       "      <td>45.132521</td>\n",
       "      <td>22.0</td>\n",
       "      <td>66.75</td>\n",
       "      <td>110.0</td>\n",
       "      <td>136.25</td>\n",
       "      <td>162.0</td>\n",
       "      <td>9.0</td>\n",
       "      <td>8402.222222</td>\n",
       "      <td>7135.038626</td>\n",
       "      <td>685.0</td>\n",
       "      <td>2439.00</td>\n",
       "      <td>7416.0</td>\n",
       "      <td>13773.00</td>\n",
       "      <td>21573.0</td>\n",
       "    </tr>\n",
       "    <tr>\n",
       "      <th>Arts</th>\n",
       "      <td>8.0</td>\n",
       "      <td>131.125000</td>\n",
       "      <td>45.091772</td>\n",
       "      <td>33.0</td>\n",
       "      <td>130.50</td>\n",
       "      <td>148.5</td>\n",
       "      <td>155.50</td>\n",
       "      <td>167.0</td>\n",
       "      <td>8.0</td>\n",
       "      <td>44641.250000</td>\n",
       "      <td>33635.404025</td>\n",
       "      <td>3340.0</td>\n",
       "      <td>16795.25</td>\n",
       "      <td>41005.0</td>\n",
       "      <td>64084.75</td>\n",
       "      <td>103480.0</td>\n",
       "    </tr>\n",
       "    <tr>\n",
       "      <th>Biology &amp; Life Science</th>\n",
       "      <td>14.0</td>\n",
       "      <td>95.357143</td>\n",
       "      <td>33.726518</td>\n",
       "      <td>49.0</td>\n",
       "      <td>71.25</td>\n",
       "      <td>88.5</td>\n",
       "      <td>119.50</td>\n",
       "      <td>169.0</td>\n",
       "      <td>14.0</td>\n",
       "      <td>32418.714286</td>\n",
       "      <td>72233.366437</td>\n",
       "      <td>1329.0</td>\n",
       "      <td>4975.50</td>\n",
       "      <td>12184.5</td>\n",
       "      <td>21120.00</td>\n",
       "      <td>280709.0</td>\n",
       "    </tr>\n",
       "    <tr>\n",
       "      <th>Business</th>\n",
       "      <td>13.0</td>\n",
       "      <td>55.846154</td>\n",
       "      <td>31.929209</td>\n",
       "      <td>7.0</td>\n",
       "      <td>36.00</td>\n",
       "      <td>58.0</td>\n",
       "      <td>77.00</td>\n",
       "      <td>128.0</td>\n",
       "      <td>13.0</td>\n",
       "      <td>100182.769231</td>\n",
       "      <td>111655.873560</td>\n",
       "      <td>3777.0</td>\n",
       "      <td>17947.00</td>\n",
       "      <td>25894.0</td>\n",
       "      <td>198633.00</td>\n",
       "      <td>329927.0</td>\n",
       "    </tr>\n",
       "    <tr>\n",
       "      <th>Communications &amp; Journalism</th>\n",
       "      <td>4.0</td>\n",
       "      <td>104.000000</td>\n",
       "      <td>14.809907</td>\n",
       "      <td>94.0</td>\n",
       "      <td>96.25</td>\n",
       "      <td>98.0</td>\n",
       "      <td>105.75</td>\n",
       "      <td>126.0</td>\n",
       "      <td>4.0</td>\n",
       "      <td>98150.250000</td>\n",
       "      <td>77782.804648</td>\n",
       "      <td>52824.0</td>\n",
       "      <td>53077.50</td>\n",
       "      <td>62890.5</td>\n",
       "      <td>107963.25</td>\n",
       "      <td>213996.0</td>\n",
       "    </tr>\n",
       "    <tr>\n",
       "      <th>Computers &amp; Mathematics</th>\n",
       "      <td>11.0</td>\n",
       "      <td>57.000000</td>\n",
       "      <td>24.195041</td>\n",
       "      <td>21.0</td>\n",
       "      <td>44.50</td>\n",
       "      <td>48.0</td>\n",
       "      <td>68.00</td>\n",
       "      <td>106.0</td>\n",
       "      <td>11.0</td>\n",
       "      <td>27182.545455</td>\n",
       "      <td>39493.602987</td>\n",
       "      <td>609.0</td>\n",
       "      <td>5595.00</td>\n",
       "      <td>8066.0</td>\n",
       "      <td>27366.50</td>\n",
       "      <td>128319.0</td>\n",
       "    </tr>\n",
       "    <tr>\n",
       "      <th>Education</th>\n",
       "      <td>16.0</td>\n",
       "      <td>130.375000</td>\n",
       "      <td>27.436897</td>\n",
       "      <td>56.0</td>\n",
       "      <td>119.50</td>\n",
       "      <td>132.5</td>\n",
       "      <td>145.75</td>\n",
       "      <td>173.0</td>\n",
       "      <td>16.0</td>\n",
       "      <td>34945.562500</td>\n",
       "      <td>49464.706843</td>\n",
       "      <td>804.0</td>\n",
       "      <td>9233.25</td>\n",
       "      <td>18661.5</td>\n",
       "      <td>31398.50</td>\n",
       "      <td>170862.0</td>\n",
       "    </tr>\n",
       "    <tr>\n",
       "      <th>Engineering</th>\n",
       "      <td>29.0</td>\n",
       "      <td>22.620690</td>\n",
       "      <td>18.640229</td>\n",
       "      <td>1.0</td>\n",
       "      <td>10.00</td>\n",
       "      <td>17.0</td>\n",
       "      <td>31.00</td>\n",
       "      <td>67.0</td>\n",
       "      <td>29.0</td>\n",
       "      <td>18537.344828</td>\n",
       "      <td>25231.657274</td>\n",
       "      <td>720.0</td>\n",
       "      <td>2906.00</td>\n",
       "      <td>4790.0</td>\n",
       "      <td>18968.00</td>\n",
       "      <td>91227.0</td>\n",
       "    </tr>\n",
       "    <tr>\n",
       "      <th>Health</th>\n",
       "      <td>12.0</td>\n",
       "      <td>96.500000</td>\n",
       "      <td>40.435133</td>\n",
       "      <td>35.0</td>\n",
       "      <td>58.75</td>\n",
       "      <td>104.5</td>\n",
       "      <td>123.25</td>\n",
       "      <td>164.0</td>\n",
       "      <td>12.0</td>\n",
       "      <td>38602.500000</td>\n",
       "      <td>54985.649362</td>\n",
       "      <td>11123.0</td>\n",
       "      <td>15282.00</td>\n",
       "      <td>19322.0</td>\n",
       "      <td>34769.00</td>\n",
       "      <td>209394.0</td>\n",
       "    </tr>\n",
       "    <tr>\n",
       "      <th>Humanities &amp; Liberal Arts</th>\n",
       "      <td>15.0</td>\n",
       "      <td>135.066667</td>\n",
       "      <td>27.698547</td>\n",
       "      <td>70.0</td>\n",
       "      <td>116.50</td>\n",
       "      <td>138.0</td>\n",
       "      <td>158.50</td>\n",
       "      <td>168.0</td>\n",
       "      <td>15.0</td>\n",
       "      <td>47564.533333</td>\n",
       "      <td>53315.821235</td>\n",
       "      <td>3079.0</td>\n",
       "      <td>17777.00</td>\n",
       "      <td>30207.0</td>\n",
       "      <td>51530.00</td>\n",
       "      <td>194673.0</td>\n",
       "    </tr>\n",
       "    <tr>\n",
       "      <th>Industrial Arts &amp; Consumer Services</th>\n",
       "      <td>7.0</td>\n",
       "      <td>105.142857</td>\n",
       "      <td>48.933385</td>\n",
       "      <td>27.0</td>\n",
       "      <td>75.00</td>\n",
       "      <td>107.0</td>\n",
       "      <td>145.50</td>\n",
       "      <td>161.0</td>\n",
       "      <td>7.0</td>\n",
       "      <td>32827.428571</td>\n",
       "      <td>45004.155763</td>\n",
       "      <td>124.0</td>\n",
       "      <td>6472.50</td>\n",
       "      <td>15150.0</td>\n",
       "      <td>38249.50</td>\n",
       "      <td>125074.0</td>\n",
       "    </tr>\n",
       "    <tr>\n",
       "      <th>Interdisciplinary</th>\n",
       "      <td>1.0</td>\n",
       "      <td>110.000000</td>\n",
       "      <td>NaN</td>\n",
       "      <td>110.0</td>\n",
       "      <td>110.00</td>\n",
       "      <td>110.0</td>\n",
       "      <td>110.00</td>\n",
       "      <td>110.0</td>\n",
       "      <td>1.0</td>\n",
       "      <td>12296.000000</td>\n",
       "      <td>NaN</td>\n",
       "      <td>12296.0</td>\n",
       "      <td>12296.00</td>\n",
       "      <td>12296.0</td>\n",
       "      <td>12296.00</td>\n",
       "      <td>12296.0</td>\n",
       "    </tr>\n",
       "    <tr>\n",
       "      <th>Law &amp; Public Policy</th>\n",
       "      <td>5.0</td>\n",
       "      <td>64.600000</td>\n",
       "      <td>36.411537</td>\n",
       "      <td>20.0</td>\n",
       "      <td>30.00</td>\n",
       "      <td>88.0</td>\n",
       "      <td>90.00</td>\n",
       "      <td>95.0</td>\n",
       "      <td>5.0</td>\n",
       "      <td>35821.400000</td>\n",
       "      <td>65557.338070</td>\n",
       "      <td>1148.0</td>\n",
       "      <td>5629.00</td>\n",
       "      <td>5978.0</td>\n",
       "      <td>13528.00</td>\n",
       "      <td>152824.0</td>\n",
       "    </tr>\n",
       "    <tr>\n",
       "      <th>Physical Sciences</th>\n",
       "      <td>10.0</td>\n",
       "      <td>67.600000</td>\n",
       "      <td>31.549608</td>\n",
       "      <td>8.0</td>\n",
       "      <td>45.50</td>\n",
       "      <td>74.0</td>\n",
       "      <td>89.75</td>\n",
       "      <td>111.0</td>\n",
       "      <td>10.0</td>\n",
       "      <td>18547.900000</td>\n",
       "      <td>25875.330338</td>\n",
       "      <td>1436.0</td>\n",
       "      <td>2012.50</td>\n",
       "      <td>3230.5</td>\n",
       "      <td>26849.50</td>\n",
       "      <td>66530.0</td>\n",
       "    </tr>\n",
       "    <tr>\n",
       "      <th>Psychology &amp; Social Work</th>\n",
       "      <td>9.0</td>\n",
       "      <td>143.000000</td>\n",
       "      <td>36.390246</td>\n",
       "      <td>71.0</td>\n",
       "      <td>146.00</td>\n",
       "      <td>156.0</td>\n",
       "      <td>170.00</td>\n",
       "      <td>172.0</td>\n",
       "      <td>9.0</td>\n",
       "      <td>53445.222222</td>\n",
       "      <td>128654.924027</td>\n",
       "      <td>1386.0</td>\n",
       "      <td>2854.00</td>\n",
       "      <td>4626.0</td>\n",
       "      <td>9628.00</td>\n",
       "      <td>393735.0</td>\n",
       "    </tr>\n",
       "    <tr>\n",
       "      <th>Social Science</th>\n",
       "      <td>9.0</td>\n",
       "      <td>91.666667</td>\n",
       "      <td>36.231892</td>\n",
       "      <td>37.0</td>\n",
       "      <td>69.00</td>\n",
       "      <td>80.0</td>\n",
       "      <td>125.00</td>\n",
       "      <td>143.0</td>\n",
       "      <td>9.0</td>\n",
       "      <td>58885.111111</td>\n",
       "      <td>67698.828368</td>\n",
       "      <td>3283.0</td>\n",
       "      <td>12920.00</td>\n",
       "      <td>19879.0</td>\n",
       "      <td>115433.00</td>\n",
       "      <td>182621.0</td>\n",
       "    </tr>\n",
       "  </tbody>\n",
       "</table>\n",
       "</div>"
      ],
      "text/plain": [
       "                                     Rank                                \\\n",
       "                                    count        mean        std    min   \n",
       "Major_category                                                            \n",
       "Agriculture & Natural Resources      10.0  101.500000  45.132521   22.0   \n",
       "Arts                                  8.0  131.125000  45.091772   33.0   \n",
       "Biology & Life Science               14.0   95.357143  33.726518   49.0   \n",
       "Business                             13.0   55.846154  31.929209    7.0   \n",
       "Communications & Journalism           4.0  104.000000  14.809907   94.0   \n",
       "Computers & Mathematics              11.0   57.000000  24.195041   21.0   \n",
       "Education                            16.0  130.375000  27.436897   56.0   \n",
       "Engineering                          29.0   22.620690  18.640229    1.0   \n",
       "Health                               12.0   96.500000  40.435133   35.0   \n",
       "Humanities & Liberal Arts            15.0  135.066667  27.698547   70.0   \n",
       "Industrial Arts & Consumer Services   7.0  105.142857  48.933385   27.0   \n",
       "Interdisciplinary                     1.0  110.000000        NaN  110.0   \n",
       "Law & Public Policy                   5.0   64.600000  36.411537   20.0   \n",
       "Physical Sciences                    10.0   67.600000  31.549608    8.0   \n",
       "Psychology & Social Work              9.0  143.000000  36.390246   71.0   \n",
       "Social Science                        9.0   91.666667  36.231892   37.0   \n",
       "\n",
       "                                                                  Total  \\\n",
       "                                        25%    50%     75%    max count   \n",
       "Major_category                                                            \n",
       "Agriculture & Natural Resources       66.75  110.0  136.25  162.0   9.0   \n",
       "Arts                                 130.50  148.5  155.50  167.0   8.0   \n",
       "Biology & Life Science                71.25   88.5  119.50  169.0  14.0   \n",
       "Business                              36.00   58.0   77.00  128.0  13.0   \n",
       "Communications & Journalism           96.25   98.0  105.75  126.0   4.0   \n",
       "Computers & Mathematics               44.50   48.0   68.00  106.0  11.0   \n",
       "Education                            119.50  132.5  145.75  173.0  16.0   \n",
       "Engineering                           10.00   17.0   31.00   67.0  29.0   \n",
       "Health                                58.75  104.5  123.25  164.0  12.0   \n",
       "Humanities & Liberal Arts            116.50  138.0  158.50  168.0  15.0   \n",
       "Industrial Arts & Consumer Services   75.00  107.0  145.50  161.0   7.0   \n",
       "Interdisciplinary                    110.00  110.0  110.00  110.0   1.0   \n",
       "Law & Public Policy                   30.00   88.0   90.00   95.0   5.0   \n",
       "Physical Sciences                     45.50   74.0   89.75  111.0  10.0   \n",
       "Psychology & Social Work             146.00  156.0  170.00  172.0   9.0   \n",
       "Social Science                        69.00   80.0  125.00  143.0   9.0   \n",
       "\n",
       "                                                                            \\\n",
       "                                              mean            std      min   \n",
       "Major_category                                                               \n",
       "Agriculture & Natural Resources        8402.222222    7135.038626    685.0   \n",
       "Arts                                  44641.250000   33635.404025   3340.0   \n",
       "Biology & Life Science                32418.714286   72233.366437   1329.0   \n",
       "Business                             100182.769231  111655.873560   3777.0   \n",
       "Communications & Journalism           98150.250000   77782.804648  52824.0   \n",
       "Computers & Mathematics               27182.545455   39493.602987    609.0   \n",
       "Education                             34945.562500   49464.706843    804.0   \n",
       "Engineering                           18537.344828   25231.657274    720.0   \n",
       "Health                                38602.500000   54985.649362  11123.0   \n",
       "Humanities & Liberal Arts             47564.533333   53315.821235   3079.0   \n",
       "Industrial Arts & Consumer Services   32827.428571   45004.155763    124.0   \n",
       "Interdisciplinary                     12296.000000            NaN  12296.0   \n",
       "Law & Public Policy                   35821.400000   65557.338070   1148.0   \n",
       "Physical Sciences                     18547.900000   25875.330338   1436.0   \n",
       "Psychology & Social Work              53445.222222  128654.924027   1386.0   \n",
       "Social Science                        58885.111111   67698.828368   3283.0   \n",
       "\n",
       "                                                                             \n",
       "                                          25%      50%        75%       max  \n",
       "Major_category                                                               \n",
       "Agriculture & Natural Resources       2439.00   7416.0   13773.00   21573.0  \n",
       "Arts                                 16795.25  41005.0   64084.75  103480.0  \n",
       "Biology & Life Science                4975.50  12184.5   21120.00  280709.0  \n",
       "Business                             17947.00  25894.0  198633.00  329927.0  \n",
       "Communications & Journalism          53077.50  62890.5  107963.25  213996.0  \n",
       "Computers & Mathematics               5595.00   8066.0   27366.50  128319.0  \n",
       "Education                             9233.25  18661.5   31398.50  170862.0  \n",
       "Engineering                           2906.00   4790.0   18968.00   91227.0  \n",
       "Health                               15282.00  19322.0   34769.00  209394.0  \n",
       "Humanities & Liberal Arts            17777.00  30207.0   51530.00  194673.0  \n",
       "Industrial Arts & Consumer Services   6472.50  15150.0   38249.50  125074.0  \n",
       "Interdisciplinary                    12296.00  12296.0   12296.00   12296.0  \n",
       "Law & Public Policy                   5629.00   5978.0   13528.00  152824.0  \n",
       "Physical Sciences                     2012.50   3230.5   26849.50   66530.0  \n",
       "Psychology & Social Work              2854.00   4626.0    9628.00  393735.0  \n",
       "Social Science                       12920.00  19879.0  115433.00  182621.0  "
      ]
     },
     "execution_count": 1316,
     "metadata": {},
     "output_type": "execute_result"
    }
   ],
   "source": [
    "# 2. summary stats for each major category\n",
    "some_cols = ['Rank','Total','Major_category']\n",
    "DF_raw[some_cols].groupby('Major_category').describe()"
   ]
  },
  {
   "cell_type": "code",
   "execution_count": 1317,
   "id": "00e44db6-7d29-4942-a057-d749538f201b",
   "metadata": {},
   "outputs": [
    {
     "data": {
      "application/vnd.plotly.v1+json": {
       "config": {
        "plotlyServerURL": "https://plot.ly"
       },
       "data": [
        {
         "alignmentgroup": "True",
         "bingroup": "x",
         "hovertemplate": "Major_category=Engineering<br>Median=%{x}<br>count=%{y}<extra></extra>",
         "legendgroup": "",
         "marker": {
          "color": "#636efa",
          "pattern": {
           "shape": ""
          }
         },
         "name": "",
         "nbinsx": 10,
         "offsetgroup": "",
         "orientation": "v",
         "showlegend": false,
         "type": "histogram",
         "x": [
          110000,
          75000,
          73000,
          70000,
          65000,
          65000,
          60000,
          60000,
          60000,
          60000,
          60000,
          60000,
          58000,
          57100,
          57000,
          56000,
          54000,
          52000,
          52000,
          50000,
          50000,
          50000,
          50000,
          50000,
          46000,
          44000,
          40000,
          40000,
          40000
         ],
         "xaxis": "x16",
         "yaxis": "y16"
        },
        {
         "alignmentgroup": "True",
         "bingroup": "x",
         "hovertemplate": "Major_category=Business<br>Median=%{x}<br>count=%{y}<extra></extra>",
         "legendgroup": "",
         "marker": {
          "color": "#636efa",
          "pattern": {
           "shape": ""
          }
         },
         "name": "",
         "nbinsx": 10,
         "offsetgroup": "",
         "orientation": "v",
         "showlegend": false,
         "type": "histogram",
         "x": [
          62000,
          51000,
          50000,
          47000,
          46000,
          45000,
          40000,
          40000,
          40000,
          38000,
          38000,
          36000,
          33000
         ],
         "xaxis": "x17",
         "yaxis": "y17"
        },
        {
         "alignmentgroup": "True",
         "bingroup": "x",
         "hovertemplate": "Major_category=Physical Sciences<br>Median=%{x}<br>count=%{y}<extra></extra>",
         "legendgroup": "",
         "marker": {
          "color": "#636efa",
          "pattern": {
           "shape": ""
          }
         },
         "name": "",
         "nbinsx": 10,
         "offsetgroup": "",
         "orientation": "v",
         "showlegend": false,
         "type": "histogram",
         "x": [
          62000,
          46000,
          45000,
          44700,
          40000,
          39000,
          36200,
          36000,
          35000,
          35000
         ],
         "xaxis": "x18",
         "yaxis": "y18"
        },
        {
         "alignmentgroup": "True",
         "bingroup": "x",
         "hovertemplate": "Major_category=Law & Public Policy<br>Median=%{x}<br>count=%{y}<extra></extra>",
         "legendgroup": "",
         "marker": {
          "color": "#636efa",
          "pattern": {
           "shape": ""
          }
         },
         "name": "",
         "nbinsx": 10,
         "offsetgroup": "",
         "orientation": "v",
         "showlegend": false,
         "type": "histogram",
         "x": [
          54000,
          50000,
          36000,
          36000,
          35000
         ],
         "xaxis": "x13",
         "yaxis": "y13"
        },
        {
         "alignmentgroup": "True",
         "bingroup": "x",
         "hovertemplate": "Major_category=Computers & Mathematics<br>Median=%{x}<br>count=%{y}<extra></extra>",
         "legendgroup": "",
         "marker": {
          "color": "#636efa",
          "pattern": {
           "shape": ""
          }
         },
         "name": "",
         "nbinsx": 10,
         "offsetgroup": "",
         "orientation": "v",
         "showlegend": false,
         "type": "histogram",
         "x": [
          53000,
          45000,
          45000,
          45000,
          45000,
          45000,
          42000,
          41300,
          37500,
          36400,
          35000
         ],
         "xaxis": "x14",
         "yaxis": "y14"
        },
        {
         "alignmentgroup": "True",
         "bingroup": "x",
         "hovertemplate": "Major_category=Agriculture & Natural Resources<br>Median=%{x}<br>count=%{y}<extra></extra>",
         "legendgroup": "",
         "marker": {
          "color": "#636efa",
          "pattern": {
           "shape": ""
          }
         },
         "name": "",
         "nbinsx": 10,
         "offsetgroup": "",
         "orientation": "v",
         "showlegend": false,
         "type": "histogram",
         "x": [
          53000,
          40000,
          40000,
          40000,
          35000,
          35000,
          35000,
          32000,
          30000,
          29000
         ],
         "xaxis": "x15",
         "yaxis": "y15"
        },
        {
         "alignmentgroup": "True",
         "bingroup": "x",
         "hovertemplate": "Major_category=Industrial Arts & Consumer Services<br>Median=%{x}<br>count=%{y}<extra></extra>",
         "legendgroup": "",
         "marker": {
          "color": "#636efa",
          "pattern": {
           "shape": ""
          }
         },
         "name": "",
         "nbinsx": 10,
         "offsetgroup": "",
         "orientation": "v",
         "showlegend": false,
         "type": "histogram",
         "x": [
          50000,
          40000,
          38400,
          35000,
          32000,
          30000,
          29000
         ],
         "xaxis": "x10",
         "yaxis": "y10"
        },
        {
         "alignmentgroup": "True",
         "bingroup": "x",
         "hovertemplate": "Major_category=Arts<br>Median=%{x}<br>count=%{y}<extra></extra>",
         "legendgroup": "",
         "marker": {
          "color": "#636efa",
          "pattern": {
           "shape": ""
          }
         },
         "name": "",
         "nbinsx": 10,
         "offsetgroup": "",
         "orientation": "v",
         "showlegend": false,
         "type": "histogram",
         "x": [
          50000,
          35000,
          32000,
          31000,
          30500,
          30000,
          29000,
          27000
         ],
         "xaxis": "x11",
         "yaxis": "y11"
        },
        {
         "alignmentgroup": "True",
         "bingroup": "x",
         "hovertemplate": "Major_category=Health<br>Median=%{x}<br>count=%{y}<extra></extra>",
         "legendgroup": "",
         "marker": {
          "color": "#636efa",
          "pattern": {
           "shape": ""
          }
         },
         "name": "",
         "nbinsx": 10,
         "offsetgroup": "",
         "orientation": "v",
         "showlegend": false,
         "type": "histogram",
         "x": [
          48000,
          45000,
          42000,
          40000,
          36000,
          35000,
          35000,
          34000,
          33500,
          33000,
          32400,
          28000
         ],
         "xaxis": "x12",
         "yaxis": "y12"
        },
        {
         "alignmentgroup": "True",
         "bingroup": "x",
         "hovertemplate": "Major_category=Social Science<br>Median=%{x}<br>count=%{y}<extra></extra>",
         "legendgroup": "",
         "marker": {
          "color": "#636efa",
          "pattern": {
           "shape": ""
          }
         },
         "name": "",
         "nbinsx": 10,
         "offsetgroup": "",
         "orientation": "v",
         "showlegend": false,
         "type": "histogram",
         "x": [
          47000,
          40100,
          40000,
          38000,
          38000,
          35000,
          33000,
          33000,
          32000
         ],
         "xaxis": "x7",
         "yaxis": "y7"
        },
        {
         "alignmentgroup": "True",
         "bingroup": "x",
         "hovertemplate": "Major_category=Biology & Life Science<br>Median=%{x}<br>count=%{y}<extra></extra>",
         "legendgroup": "",
         "marker": {
          "color": "#636efa",
          "pattern": {
           "shape": ""
          }
         },
         "name": "",
         "nbinsx": 10,
         "offsetgroup": "",
         "orientation": "v",
         "showlegend": false,
         "type": "histogram",
         "x": [
          45000,
          41000,
          40000,
          40000,
          38000,
          37400,
          37000,
          35600,
          35000,
          35000,
          33500,
          33400,
          33000,
          26000
         ],
         "xaxis": "x8",
         "yaxis": "y8"
        },
        {
         "alignmentgroup": "True",
         "bingroup": "x",
         "hovertemplate": "Major_category=Education<br>Median=%{x}<br>count=%{y}<extra></extra>",
         "legendgroup": "",
         "marker": {
          "color": "#636efa",
          "pattern": {
           "shape": ""
          }
         },
         "name": "",
         "nbinsx": 10,
         "offsetgroup": "",
         "orientation": "v",
         "showlegend": false,
         "type": "histogram",
         "x": [
          41000,
          35000,
          34000,
          34000,
          34000,
          34000,
          33000,
          33000,
          32500,
          32100,
          32000,
          32000,
          31000,
          30000,
          28000,
          22000
         ],
         "xaxis": "x9",
         "yaxis": "y9"
        },
        {
         "alignmentgroup": "True",
         "bingroup": "x",
         "hovertemplate": "Major_category=Humanities & Liberal Arts<br>Median=%{x}<br>count=%{y}<extra></extra>",
         "legendgroup": "",
         "marker": {
          "color": "#636efa",
          "pattern": {
           "shape": ""
          }
         },
         "name": "",
         "nbinsx": 10,
         "offsetgroup": "",
         "orientation": "v",
         "showlegend": false,
         "type": "histogram",
         "x": [
          40000,
          35000,
          34000,
          34000,
          34000,
          33000,
          32200,
          32000,
          32000,
          31000,
          30000,
          29000,
          28000,
          27500,
          27000
         ],
         "xaxis": "x4",
         "yaxis": "y4"
        },
        {
         "alignmentgroup": "True",
         "bingroup": "x",
         "hovertemplate": "Major_category=Psychology & Social Work<br>Median=%{x}<br>count=%{y}<extra></extra>",
         "legendgroup": "",
         "marker": {
          "color": "#636efa",
          "pattern": {
           "shape": ""
          }
         },
         "name": "",
         "nbinsx": 10,
         "offsetgroup": "",
         "orientation": "v",
         "showlegend": false,
         "type": "histogram",
         "x": [
          40000,
          36000,
          31500,
          30000,
          30000,
          30000,
          25000,
          25000,
          23400
         ],
         "xaxis": "x5",
         "yaxis": "y5"
        },
        {
         "alignmentgroup": "True",
         "bingroup": "x",
         "hovertemplate": "Major_category=Communications & Journalism<br>Median=%{x}<br>count=%{y}<extra></extra>",
         "legendgroup": "",
         "marker": {
          "color": "#636efa",
          "pattern": {
           "shape": ""
          }
         },
         "name": "",
         "nbinsx": 10,
         "offsetgroup": "",
         "orientation": "v",
         "showlegend": false,
         "type": "histogram",
         "x": [
          35000,
          35000,
          35000,
          33000
         ],
         "xaxis": "x6",
         "yaxis": "y6"
        },
        {
         "alignmentgroup": "True",
         "bingroup": "x",
         "hovertemplate": "Major_category=Interdisciplinary<br>Median=%{x}<br>count=%{y}<extra></extra>",
         "legendgroup": "",
         "marker": {
          "color": "#636efa",
          "pattern": {
           "shape": ""
          }
         },
         "name": "",
         "nbinsx": 10,
         "offsetgroup": "",
         "orientation": "v",
         "showlegend": false,
         "type": "histogram",
         "x": [
          35000
         ],
         "xaxis": "x",
         "yaxis": "y"
        }
       ],
       "layout": {
        "annotations": [
         {
          "font": {},
          "showarrow": false,
          "text": "Major_category=Interdisciplinary",
          "x": 0.15999999999999998,
          "xanchor": "center",
          "xref": "paper",
          "y": 0.10833333333333331,
          "yanchor": "bottom",
          "yref": "paper"
         },
         {
          "font": {},
          "showarrow": false,
          "text": "Major_category=Humanities & Liberal Arts",
          "x": 0.15999999999999998,
          "xanchor": "center",
          "xref": "paper",
          "y": 0.2866666666666666,
          "yanchor": "bottom",
          "yref": "paper"
         },
         {
          "font": {},
          "showarrow": false,
          "text": "Major_category=Psychology & Social Work",
          "x": 0.49999999999999994,
          "xanchor": "center",
          "xref": "paper",
          "y": 0.2866666666666666,
          "yanchor": "bottom",
          "yref": "paper"
         },
         {
          "font": {},
          "showarrow": false,
          "text": "Major_category=Communications & Journalism",
          "x": 0.8399999999999999,
          "xanchor": "center",
          "xref": "paper",
          "y": 0.2866666666666666,
          "yanchor": "bottom",
          "yref": "paper"
         },
         {
          "font": {},
          "showarrow": false,
          "text": "Major_category=Social Science",
          "x": 0.15999999999999998,
          "xanchor": "center",
          "xref": "paper",
          "y": 0.46499999999999997,
          "yanchor": "bottom",
          "yref": "paper"
         },
         {
          "font": {},
          "showarrow": false,
          "text": "Major_category=Biology & Life Science",
          "x": 0.49999999999999994,
          "xanchor": "center",
          "xref": "paper",
          "y": 0.46499999999999997,
          "yanchor": "bottom",
          "yref": "paper"
         },
         {
          "font": {},
          "showarrow": false,
          "text": "Major_category=Education",
          "x": 0.8399999999999999,
          "xanchor": "center",
          "xref": "paper",
          "y": 0.46499999999999997,
          "yanchor": "bottom",
          "yref": "paper"
         },
         {
          "font": {},
          "showarrow": false,
          "text": "Major_category=Industrial Arts & Consumer Services",
          "x": 0.15999999999999998,
          "xanchor": "center",
          "xref": "paper",
          "y": 0.6433333333333332,
          "yanchor": "bottom",
          "yref": "paper"
         },
         {
          "font": {},
          "showarrow": false,
          "text": "Major_category=Arts",
          "x": 0.49999999999999994,
          "xanchor": "center",
          "xref": "paper",
          "y": 0.6433333333333332,
          "yanchor": "bottom",
          "yref": "paper"
         },
         {
          "font": {},
          "showarrow": false,
          "text": "Major_category=Health",
          "x": 0.8399999999999999,
          "xanchor": "center",
          "xref": "paper",
          "y": 0.6433333333333332,
          "yanchor": "bottom",
          "yref": "paper"
         },
         {
          "font": {},
          "showarrow": false,
          "text": "Major_category=Law & Public Policy",
          "x": 0.15999999999999998,
          "xanchor": "center",
          "xref": "paper",
          "y": 0.8216666666666665,
          "yanchor": "bottom",
          "yref": "paper"
         },
         {
          "font": {},
          "showarrow": false,
          "text": "Major_category=Computers & Mathematics",
          "x": 0.49999999999999994,
          "xanchor": "center",
          "xref": "paper",
          "y": 0.8216666666666665,
          "yanchor": "bottom",
          "yref": "paper"
         },
         {
          "font": {},
          "showarrow": false,
          "text": "Major_category=Agriculture & Natural Resources",
          "x": 0.8399999999999999,
          "xanchor": "center",
          "xref": "paper",
          "y": 0.8216666666666665,
          "yanchor": "bottom",
          "yref": "paper"
         },
         {
          "font": {},
          "showarrow": false,
          "text": "Major_category=Engineering",
          "x": 0.15999999999999998,
          "xanchor": "center",
          "xref": "paper",
          "y": 0.9999999999999999,
          "yanchor": "bottom",
          "yref": "paper"
         },
         {
          "font": {},
          "showarrow": false,
          "text": "Major_category=Business",
          "x": 0.49999999999999994,
          "xanchor": "center",
          "xref": "paper",
          "y": 0.9999999999999999,
          "yanchor": "bottom",
          "yref": "paper"
         },
         {
          "font": {},
          "showarrow": false,
          "text": "Major_category=Physical Sciences",
          "x": 0.8399999999999999,
          "xanchor": "center",
          "xref": "paper",
          "y": 0.9999999999999999,
          "yanchor": "bottom",
          "yref": "paper"
         }
        ],
        "autosize": false,
        "barmode": "relative",
        "height": 1600,
        "legend": {
         "tracegroupgap": 0
        },
        "margin": {
         "t": 60
        },
        "template": {
         "data": {
          "bar": [
           {
            "error_x": {
             "color": "#2a3f5f"
            },
            "error_y": {
             "color": "#2a3f5f"
            },
            "marker": {
             "line": {
              "color": "#E5ECF6",
              "width": 0.5
             },
             "pattern": {
              "fillmode": "overlay",
              "size": 10,
              "solidity": 0.2
             }
            },
            "type": "bar"
           }
          ],
          "barpolar": [
           {
            "marker": {
             "line": {
              "color": "#E5ECF6",
              "width": 0.5
             },
             "pattern": {
              "fillmode": "overlay",
              "size": 10,
              "solidity": 0.2
             }
            },
            "type": "barpolar"
           }
          ],
          "carpet": [
           {
            "aaxis": {
             "endlinecolor": "#2a3f5f",
             "gridcolor": "white",
             "linecolor": "white",
             "minorgridcolor": "white",
             "startlinecolor": "#2a3f5f"
            },
            "baxis": {
             "endlinecolor": "#2a3f5f",
             "gridcolor": "white",
             "linecolor": "white",
             "minorgridcolor": "white",
             "startlinecolor": "#2a3f5f"
            },
            "type": "carpet"
           }
          ],
          "choropleth": [
           {
            "colorbar": {
             "outlinewidth": 0,
             "ticks": ""
            },
            "type": "choropleth"
           }
          ],
          "contour": [
           {
            "colorbar": {
             "outlinewidth": 0,
             "ticks": ""
            },
            "colorscale": [
             [
              0,
              "#0d0887"
             ],
             [
              0.1111111111111111,
              "#46039f"
             ],
             [
              0.2222222222222222,
              "#7201a8"
             ],
             [
              0.3333333333333333,
              "#9c179e"
             ],
             [
              0.4444444444444444,
              "#bd3786"
             ],
             [
              0.5555555555555556,
              "#d8576b"
             ],
             [
              0.6666666666666666,
              "#ed7953"
             ],
             [
              0.7777777777777778,
              "#fb9f3a"
             ],
             [
              0.8888888888888888,
              "#fdca26"
             ],
             [
              1,
              "#f0f921"
             ]
            ],
            "type": "contour"
           }
          ],
          "contourcarpet": [
           {
            "colorbar": {
             "outlinewidth": 0,
             "ticks": ""
            },
            "type": "contourcarpet"
           }
          ],
          "heatmap": [
           {
            "colorbar": {
             "outlinewidth": 0,
             "ticks": ""
            },
            "colorscale": [
             [
              0,
              "#0d0887"
             ],
             [
              0.1111111111111111,
              "#46039f"
             ],
             [
              0.2222222222222222,
              "#7201a8"
             ],
             [
              0.3333333333333333,
              "#9c179e"
             ],
             [
              0.4444444444444444,
              "#bd3786"
             ],
             [
              0.5555555555555556,
              "#d8576b"
             ],
             [
              0.6666666666666666,
              "#ed7953"
             ],
             [
              0.7777777777777778,
              "#fb9f3a"
             ],
             [
              0.8888888888888888,
              "#fdca26"
             ],
             [
              1,
              "#f0f921"
             ]
            ],
            "type": "heatmap"
           }
          ],
          "heatmapgl": [
           {
            "colorbar": {
             "outlinewidth": 0,
             "ticks": ""
            },
            "colorscale": [
             [
              0,
              "#0d0887"
             ],
             [
              0.1111111111111111,
              "#46039f"
             ],
             [
              0.2222222222222222,
              "#7201a8"
             ],
             [
              0.3333333333333333,
              "#9c179e"
             ],
             [
              0.4444444444444444,
              "#bd3786"
             ],
             [
              0.5555555555555556,
              "#d8576b"
             ],
             [
              0.6666666666666666,
              "#ed7953"
             ],
             [
              0.7777777777777778,
              "#fb9f3a"
             ],
             [
              0.8888888888888888,
              "#fdca26"
             ],
             [
              1,
              "#f0f921"
             ]
            ],
            "type": "heatmapgl"
           }
          ],
          "histogram": [
           {
            "marker": {
             "pattern": {
              "fillmode": "overlay",
              "size": 10,
              "solidity": 0.2
             }
            },
            "type": "histogram"
           }
          ],
          "histogram2d": [
           {
            "colorbar": {
             "outlinewidth": 0,
             "ticks": ""
            },
            "colorscale": [
             [
              0,
              "#0d0887"
             ],
             [
              0.1111111111111111,
              "#46039f"
             ],
             [
              0.2222222222222222,
              "#7201a8"
             ],
             [
              0.3333333333333333,
              "#9c179e"
             ],
             [
              0.4444444444444444,
              "#bd3786"
             ],
             [
              0.5555555555555556,
              "#d8576b"
             ],
             [
              0.6666666666666666,
              "#ed7953"
             ],
             [
              0.7777777777777778,
              "#fb9f3a"
             ],
             [
              0.8888888888888888,
              "#fdca26"
             ],
             [
              1,
              "#f0f921"
             ]
            ],
            "type": "histogram2d"
           }
          ],
          "histogram2dcontour": [
           {
            "colorbar": {
             "outlinewidth": 0,
             "ticks": ""
            },
            "colorscale": [
             [
              0,
              "#0d0887"
             ],
             [
              0.1111111111111111,
              "#46039f"
             ],
             [
              0.2222222222222222,
              "#7201a8"
             ],
             [
              0.3333333333333333,
              "#9c179e"
             ],
             [
              0.4444444444444444,
              "#bd3786"
             ],
             [
              0.5555555555555556,
              "#d8576b"
             ],
             [
              0.6666666666666666,
              "#ed7953"
             ],
             [
              0.7777777777777778,
              "#fb9f3a"
             ],
             [
              0.8888888888888888,
              "#fdca26"
             ],
             [
              1,
              "#f0f921"
             ]
            ],
            "type": "histogram2dcontour"
           }
          ],
          "mesh3d": [
           {
            "colorbar": {
             "outlinewidth": 0,
             "ticks": ""
            },
            "type": "mesh3d"
           }
          ],
          "parcoords": [
           {
            "line": {
             "colorbar": {
              "outlinewidth": 0,
              "ticks": ""
             }
            },
            "type": "parcoords"
           }
          ],
          "pie": [
           {
            "automargin": true,
            "type": "pie"
           }
          ],
          "scatter": [
           {
            "fillpattern": {
             "fillmode": "overlay",
             "size": 10,
             "solidity": 0.2
            },
            "type": "scatter"
           }
          ],
          "scatter3d": [
           {
            "line": {
             "colorbar": {
              "outlinewidth": 0,
              "ticks": ""
             }
            },
            "marker": {
             "colorbar": {
              "outlinewidth": 0,
              "ticks": ""
             }
            },
            "type": "scatter3d"
           }
          ],
          "scattercarpet": [
           {
            "marker": {
             "colorbar": {
              "outlinewidth": 0,
              "ticks": ""
             }
            },
            "type": "scattercarpet"
           }
          ],
          "scattergeo": [
           {
            "marker": {
             "colorbar": {
              "outlinewidth": 0,
              "ticks": ""
             }
            },
            "type": "scattergeo"
           }
          ],
          "scattergl": [
           {
            "marker": {
             "colorbar": {
              "outlinewidth": 0,
              "ticks": ""
             }
            },
            "type": "scattergl"
           }
          ],
          "scattermapbox": [
           {
            "marker": {
             "colorbar": {
              "outlinewidth": 0,
              "ticks": ""
             }
            },
            "type": "scattermapbox"
           }
          ],
          "scatterpolar": [
           {
            "marker": {
             "colorbar": {
              "outlinewidth": 0,
              "ticks": ""
             }
            },
            "type": "scatterpolar"
           }
          ],
          "scatterpolargl": [
           {
            "marker": {
             "colorbar": {
              "outlinewidth": 0,
              "ticks": ""
             }
            },
            "type": "scatterpolargl"
           }
          ],
          "scatterternary": [
           {
            "marker": {
             "colorbar": {
              "outlinewidth": 0,
              "ticks": ""
             }
            },
            "type": "scatterternary"
           }
          ],
          "surface": [
           {
            "colorbar": {
             "outlinewidth": 0,
             "ticks": ""
            },
            "colorscale": [
             [
              0,
              "#0d0887"
             ],
             [
              0.1111111111111111,
              "#46039f"
             ],
             [
              0.2222222222222222,
              "#7201a8"
             ],
             [
              0.3333333333333333,
              "#9c179e"
             ],
             [
              0.4444444444444444,
              "#bd3786"
             ],
             [
              0.5555555555555556,
              "#d8576b"
             ],
             [
              0.6666666666666666,
              "#ed7953"
             ],
             [
              0.7777777777777778,
              "#fb9f3a"
             ],
             [
              0.8888888888888888,
              "#fdca26"
             ],
             [
              1,
              "#f0f921"
             ]
            ],
            "type": "surface"
           }
          ],
          "table": [
           {
            "cells": {
             "fill": {
              "color": "#EBF0F8"
             },
             "line": {
              "color": "white"
             }
            },
            "header": {
             "fill": {
              "color": "#C8D4E3"
             },
             "line": {
              "color": "white"
             }
            },
            "type": "table"
           }
          ]
         },
         "layout": {
          "annotationdefaults": {
           "arrowcolor": "#2a3f5f",
           "arrowhead": 0,
           "arrowwidth": 1
          },
          "autotypenumbers": "strict",
          "coloraxis": {
           "colorbar": {
            "outlinewidth": 0,
            "ticks": ""
           }
          },
          "colorscale": {
           "diverging": [
            [
             0,
             "#8e0152"
            ],
            [
             0.1,
             "#c51b7d"
            ],
            [
             0.2,
             "#de77ae"
            ],
            [
             0.3,
             "#f1b6da"
            ],
            [
             0.4,
             "#fde0ef"
            ],
            [
             0.5,
             "#f7f7f7"
            ],
            [
             0.6,
             "#e6f5d0"
            ],
            [
             0.7,
             "#b8e186"
            ],
            [
             0.8,
             "#7fbc41"
            ],
            [
             0.9,
             "#4d9221"
            ],
            [
             1,
             "#276419"
            ]
           ],
           "sequential": [
            [
             0,
             "#0d0887"
            ],
            [
             0.1111111111111111,
             "#46039f"
            ],
            [
             0.2222222222222222,
             "#7201a8"
            ],
            [
             0.3333333333333333,
             "#9c179e"
            ],
            [
             0.4444444444444444,
             "#bd3786"
            ],
            [
             0.5555555555555556,
             "#d8576b"
            ],
            [
             0.6666666666666666,
             "#ed7953"
            ],
            [
             0.7777777777777778,
             "#fb9f3a"
            ],
            [
             0.8888888888888888,
             "#fdca26"
            ],
            [
             1,
             "#f0f921"
            ]
           ],
           "sequentialminus": [
            [
             0,
             "#0d0887"
            ],
            [
             0.1111111111111111,
             "#46039f"
            ],
            [
             0.2222222222222222,
             "#7201a8"
            ],
            [
             0.3333333333333333,
             "#9c179e"
            ],
            [
             0.4444444444444444,
             "#bd3786"
            ],
            [
             0.5555555555555556,
             "#d8576b"
            ],
            [
             0.6666666666666666,
             "#ed7953"
            ],
            [
             0.7777777777777778,
             "#fb9f3a"
            ],
            [
             0.8888888888888888,
             "#fdca26"
            ],
            [
             1,
             "#f0f921"
            ]
           ]
          },
          "colorway": [
           "#636efa",
           "#EF553B",
           "#00cc96",
           "#ab63fa",
           "#FFA15A",
           "#19d3f3",
           "#FF6692",
           "#B6E880",
           "#FF97FF",
           "#FECB52"
          ],
          "font": {
           "color": "#2a3f5f"
          },
          "geo": {
           "bgcolor": "white",
           "lakecolor": "white",
           "landcolor": "#E5ECF6",
           "showlakes": true,
           "showland": true,
           "subunitcolor": "white"
          },
          "hoverlabel": {
           "align": "left"
          },
          "hovermode": "closest",
          "mapbox": {
           "style": "light"
          },
          "paper_bgcolor": "white",
          "plot_bgcolor": "#E5ECF6",
          "polar": {
           "angularaxis": {
            "gridcolor": "white",
            "linecolor": "white",
            "ticks": ""
           },
           "bgcolor": "#E5ECF6",
           "radialaxis": {
            "gridcolor": "white",
            "linecolor": "white",
            "ticks": ""
           }
          },
          "scene": {
           "xaxis": {
            "backgroundcolor": "#E5ECF6",
            "gridcolor": "white",
            "gridwidth": 2,
            "linecolor": "white",
            "showbackground": true,
            "ticks": "",
            "zerolinecolor": "white"
           },
           "yaxis": {
            "backgroundcolor": "#E5ECF6",
            "gridcolor": "white",
            "gridwidth": 2,
            "linecolor": "white",
            "showbackground": true,
            "ticks": "",
            "zerolinecolor": "white"
           },
           "zaxis": {
            "backgroundcolor": "#E5ECF6",
            "gridcolor": "white",
            "gridwidth": 2,
            "linecolor": "white",
            "showbackground": true,
            "ticks": "",
            "zerolinecolor": "white"
           }
          },
          "shapedefaults": {
           "line": {
            "color": "#2a3f5f"
           }
          },
          "ternary": {
           "aaxis": {
            "gridcolor": "white",
            "linecolor": "white",
            "ticks": ""
           },
           "baxis": {
            "gridcolor": "white",
            "linecolor": "white",
            "ticks": ""
           },
           "bgcolor": "#E5ECF6",
           "caxis": {
            "gridcolor": "white",
            "linecolor": "white",
            "ticks": ""
           }
          },
          "title": {
           "x": 0.05
          },
          "xaxis": {
           "automargin": true,
           "gridcolor": "white",
           "linecolor": "white",
           "ticks": "",
           "title": {
            "standoff": 15
           },
           "zerolinecolor": "white",
           "zerolinewidth": 2
          },
          "yaxis": {
           "automargin": true,
           "gridcolor": "white",
           "linecolor": "white",
           "ticks": "",
           "title": {
            "standoff": 15
           },
           "zerolinecolor": "white",
           "zerolinewidth": 2
          }
         }
        },
        "width": 900,
        "xaxis": {
         "anchor": "y",
         "autorange": true,
         "domain": [
          0,
          0.31999999999999995
         ],
         "range": [
          19999.5,
          119999.5
         ],
         "title": {
          "text": "Median"
         },
         "type": "linear"
        },
        "xaxis10": {
         "anchor": "y10",
         "autorange": true,
         "domain": [
          0,
          0.31999999999999995
         ],
         "matches": "x",
         "range": [
          19999.5,
          119999.5
         ],
         "showticklabels": false,
         "type": "linear"
        },
        "xaxis11": {
         "anchor": "y11",
         "autorange": true,
         "domain": [
          0.33999999999999997,
          0.6599999999999999
         ],
         "matches": "x",
         "range": [
          19999.5,
          119999.5
         ],
         "showticklabels": false,
         "type": "linear"
        },
        "xaxis12": {
         "anchor": "y12",
         "autorange": true,
         "domain": [
          0.6799999999999999,
          0.9999999999999999
         ],
         "matches": "x",
         "range": [
          19999.5,
          119999.5
         ],
         "showticklabels": false,
         "type": "linear"
        },
        "xaxis13": {
         "anchor": "y13",
         "autorange": true,
         "domain": [
          0,
          0.31999999999999995
         ],
         "matches": "x",
         "range": [
          19999.5,
          119999.5
         ],
         "showticklabels": false,
         "type": "linear"
        },
        "xaxis14": {
         "anchor": "y14",
         "autorange": true,
         "domain": [
          0.33999999999999997,
          0.6599999999999999
         ],
         "matches": "x",
         "range": [
          19999.5,
          119999.5
         ],
         "showticklabels": false,
         "type": "linear"
        },
        "xaxis15": {
         "anchor": "y15",
         "autorange": true,
         "domain": [
          0.6799999999999999,
          0.9999999999999999
         ],
         "matches": "x",
         "range": [
          19999.5,
          119999.5
         ],
         "showticklabels": false,
         "type": "linear"
        },
        "xaxis16": {
         "anchor": "y16",
         "autorange": true,
         "domain": [
          0,
          0.31999999999999995
         ],
         "matches": "x",
         "range": [
          19999.5,
          119999.5
         ],
         "showticklabels": false,
         "type": "linear"
        },
        "xaxis17": {
         "anchor": "y17",
         "autorange": true,
         "domain": [
          0.33999999999999997,
          0.6599999999999999
         ],
         "matches": "x",
         "range": [
          19999.5,
          119999.5
         ],
         "showticklabels": false,
         "type": "linear"
        },
        "xaxis18": {
         "anchor": "y18",
         "autorange": true,
         "domain": [
          0.6799999999999999,
          0.9999999999999999
         ],
         "matches": "x",
         "range": [
          19999.5,
          119999.5
         ],
         "showticklabels": false,
         "type": "linear"
        },
        "xaxis2": {
         "anchor": "y2",
         "domain": [
          0.33999999999999997,
          0.6599999999999999
         ],
         "matches": "x",
         "title": {
          "text": "Median"
         }
        },
        "xaxis3": {
         "anchor": "y3",
         "domain": [
          0.6799999999999999,
          0.9999999999999999
         ],
         "matches": "x",
         "title": {
          "text": "Median"
         }
        },
        "xaxis4": {
         "anchor": "y4",
         "autorange": true,
         "domain": [
          0,
          0.31999999999999995
         ],
         "matches": "x",
         "range": [
          19999.5,
          119999.5
         ],
         "showticklabels": false,
         "type": "linear"
        },
        "xaxis5": {
         "anchor": "y5",
         "autorange": true,
         "domain": [
          0.33999999999999997,
          0.6599999999999999
         ],
         "matches": "x",
         "range": [
          19999.5,
          119999.5
         ],
         "showticklabels": false,
         "type": "linear"
        },
        "xaxis6": {
         "anchor": "y6",
         "autorange": true,
         "domain": [
          0.6799999999999999,
          0.9999999999999999
         ],
         "matches": "x",
         "range": [
          19999.5,
          119999.5
         ],
         "showticklabels": false,
         "type": "linear"
        },
        "xaxis7": {
         "anchor": "y7",
         "autorange": true,
         "domain": [
          0,
          0.31999999999999995
         ],
         "matches": "x",
         "range": [
          19999.5,
          119999.5
         ],
         "showticklabels": false,
         "type": "linear"
        },
        "xaxis8": {
         "anchor": "y8",
         "autorange": true,
         "domain": [
          0.33999999999999997,
          0.6599999999999999
         ],
         "matches": "x",
         "range": [
          19999.5,
          119999.5
         ],
         "showticklabels": false,
         "type": "linear"
        },
        "xaxis9": {
         "anchor": "y9",
         "autorange": true,
         "domain": [
          0.6799999999999999,
          0.9999999999999999
         ],
         "matches": "x",
         "range": [
          19999.5,
          119999.5
         ],
         "showticklabels": false,
         "type": "linear"
        },
        "yaxis": {
         "anchor": "x",
         "autorange": true,
         "domain": [
          0,
          0.10833333333333331
         ],
         "range": [
          0,
          13.68421052631579
         ],
         "title": {
          "text": "count"
         }
        },
        "yaxis10": {
         "anchor": "x10",
         "autorange": true,
         "domain": [
          0.5349999999999999,
          0.6433333333333332
         ],
         "matches": "y",
         "range": [
          0,
          13.68421052631579
         ],
         "title": {
          "text": "count"
         }
        },
        "yaxis11": {
         "anchor": "x11",
         "autorange": true,
         "domain": [
          0.5349999999999999,
          0.6433333333333332
         ],
         "matches": "y",
         "range": [
          0,
          13.68421052631579
         ],
         "showticklabels": false
        },
        "yaxis12": {
         "anchor": "x12",
         "autorange": true,
         "domain": [
          0.5349999999999999,
          0.6433333333333332
         ],
         "matches": "y",
         "range": [
          0,
          13.68421052631579
         ],
         "showticklabels": false
        },
        "yaxis13": {
         "anchor": "x13",
         "autorange": true,
         "domain": [
          0.7133333333333333,
          0.8216666666666665
         ],
         "matches": "y",
         "range": [
          0,
          13.68421052631579
         ],
         "title": {
          "text": "count"
         }
        },
        "yaxis14": {
         "anchor": "x14",
         "autorange": true,
         "domain": [
          0.7133333333333333,
          0.8216666666666665
         ],
         "matches": "y",
         "range": [
          0,
          13.68421052631579
         ],
         "showticklabels": false
        },
        "yaxis15": {
         "anchor": "x15",
         "autorange": true,
         "domain": [
          0.7133333333333333,
          0.8216666666666665
         ],
         "matches": "y",
         "range": [
          0,
          13.68421052631579
         ],
         "showticklabels": false
        },
        "yaxis16": {
         "anchor": "x16",
         "autorange": true,
         "domain": [
          0.8916666666666666,
          0.9999999999999999
         ],
         "matches": "y",
         "range": [
          0,
          13.68421052631579
         ],
         "title": {
          "text": "count"
         }
        },
        "yaxis17": {
         "anchor": "x17",
         "autorange": true,
         "domain": [
          0.8916666666666666,
          0.9999999999999999
         ],
         "matches": "y",
         "range": [
          0,
          13.68421052631579
         ],
         "showticklabels": false
        },
        "yaxis18": {
         "anchor": "x18",
         "autorange": true,
         "domain": [
          0.8916666666666666,
          0.9999999999999999
         ],
         "matches": "y",
         "range": [
          0,
          13.68421052631579
         ],
         "showticklabels": false
        },
        "yaxis2": {
         "anchor": "x2",
         "domain": [
          0,
          0.10833333333333331
         ],
         "matches": "y",
         "showticklabels": false
        },
        "yaxis3": {
         "anchor": "x3",
         "domain": [
          0,
          0.10833333333333331
         ],
         "matches": "y",
         "showticklabels": false
        },
        "yaxis4": {
         "anchor": "x4",
         "autorange": true,
         "domain": [
          0.17833333333333332,
          0.2866666666666666
         ],
         "matches": "y",
         "range": [
          0,
          13.68421052631579
         ],
         "title": {
          "text": "count"
         }
        },
        "yaxis5": {
         "anchor": "x5",
         "autorange": true,
         "domain": [
          0.17833333333333332,
          0.2866666666666666
         ],
         "matches": "y",
         "range": [
          0,
          13.68421052631579
         ],
         "showticklabels": false
        },
        "yaxis6": {
         "anchor": "x6",
         "autorange": true,
         "domain": [
          0.17833333333333332,
          0.2866666666666666
         ],
         "matches": "y",
         "range": [
          0,
          13.68421052631579
         ],
         "showticklabels": false
        },
        "yaxis7": {
         "anchor": "x7",
         "autorange": true,
         "domain": [
          0.35666666666666663,
          0.46499999999999997
         ],
         "matches": "y",
         "range": [
          0,
          13.68421052631579
         ],
         "title": {
          "text": "count"
         }
        },
        "yaxis8": {
         "anchor": "x8",
         "autorange": true,
         "domain": [
          0.35666666666666663,
          0.46499999999999997
         ],
         "matches": "y",
         "range": [
          0,
          13.68421052631579
         ],
         "showticklabels": false
        },
        "yaxis9": {
         "anchor": "x9",
         "autorange": true,
         "domain": [
          0.35666666666666663,
          0.46499999999999997
         ],
         "matches": "y",
         "range": [
          0,
          13.68421052631579
         ],
         "showticklabels": false
        }
       }
      },
      "image/png": "[encoded data removed]",
      "text/html": [
       "<div>                            <div id=\"03410fdc-2e9e-4672-bf94-62a1dd870cfe\" class=\"plotly-graph-div\" style=\"height:1600px; width:900px;\"></div>            <script type=\"text/javascript\">                require([\"plotly\"], function(Plotly) {                    window.PLOTLYENV=window.PLOTLYENV || {};                                    if (document.getElementById(\"03410fdc-2e9e-4672-bf94-62a1dd870cfe\")) {                    Plotly.newPlot(                        \"03410fdc-2e9e-4672-bf94-62a1dd870cfe\",                        [{\"alignmentgroup\":\"True\",\"bingroup\":\"x\",\"hovertemplate\":\"Major_category=Engineering\\u003cbr\\u003eMedian=%{x}\\u003cbr\\u003ecount=%{y}\\u003cextra\\u003e\\u003c\\u002fextra\\u003e\",\"legendgroup\":\"\",\"marker\":{\"color\":\"#636efa\",\"pattern\":{\"shape\":\"\"}},\"name\":\"\",\"nbinsx\":10,\"offsetgroup\":\"\",\"orientation\":\"v\",\"showlegend\":false,\"x\":[110000,75000,73000,70000,65000,65000,60000,60000,60000,60000,60000,60000,58000,57100,57000,56000,54000,52000,52000,50000,50000,50000,50000,50000,46000,44000,40000,40000,40000],\"xaxis\":\"x16\",\"yaxis\":\"y16\",\"type\":\"histogram\"},{\"alignmentgroup\":\"True\",\"bingroup\":\"x\",\"hovertemplate\":\"Major_category=Business\\u003cbr\\u003eMedian=%{x}\\u003cbr\\u003ecount=%{y}\\u003cextra\\u003e\\u003c\\u002fextra\\u003e\",\"legendgroup\":\"\",\"marker\":{\"color\":\"#636efa\",\"pattern\":{\"shape\":\"\"}},\"name\":\"\",\"nbinsx\":10,\"offsetgroup\":\"\",\"orientation\":\"v\",\"showlegend\":false,\"x\":[62000,51000,50000,47000,46000,45000,40000,40000,40000,38000,38000,36000,33000],\"xaxis\":\"x17\",\"yaxis\":\"y17\",\"type\":\"histogram\"},{\"alignmentgroup\":\"True\",\"bingroup\":\"x\",\"hovertemplate\":\"Major_category=Physical Sciences\\u003cbr\\u003eMedian=%{x}\\u003cbr\\u003ecount=%{y}\\u003cextra\\u003e\\u003c\\u002fextra\\u003e\",\"legendgroup\":\"\",\"marker\":{\"color\":\"#636efa\",\"pattern\":{\"shape\":\"\"}},\"name\":\"\",\"nbinsx\":10,\"offsetgroup\":\"\",\"orientation\":\"v\",\"showlegend\":false,\"x\":[62000,46000,45000,44700,40000,39000,36200,36000,35000,35000],\"xaxis\":\"x18\",\"yaxis\":\"y18\",\"type\":\"histogram\"},{\"alignmentgroup\":\"True\",\"bingroup\":\"x\",\"hovertemplate\":\"Major_category=Law & Public Policy\\u003cbr\\u003eMedian=%{x}\\u003cbr\\u003ecount=%{y}\\u003cextra\\u003e\\u003c\\u002fextra\\u003e\",\"legendgroup\":\"\",\"marker\":{\"color\":\"#636efa\",\"pattern\":{\"shape\":\"\"}},\"name\":\"\",\"nbinsx\":10,\"offsetgroup\":\"\",\"orientation\":\"v\",\"showlegend\":false,\"x\":[54000,50000,36000,36000,35000],\"xaxis\":\"x13\",\"yaxis\":\"y13\",\"type\":\"histogram\"},{\"alignmentgroup\":\"True\",\"bingroup\":\"x\",\"hovertemplate\":\"Major_category=Computers & Mathematics\\u003cbr\\u003eMedian=%{x}\\u003cbr\\u003ecount=%{y}\\u003cextra\\u003e\\u003c\\u002fextra\\u003e\",\"legendgroup\":\"\",\"marker\":{\"color\":\"#636efa\",\"pattern\":{\"shape\":\"\"}},\"name\":\"\",\"nbinsx\":10,\"offsetgroup\":\"\",\"orientation\":\"v\",\"showlegend\":false,\"x\":[53000,45000,45000,45000,45000,45000,42000,41300,37500,36400,35000],\"xaxis\":\"x14\",\"yaxis\":\"y14\",\"type\":\"histogram\"},{\"alignmentgroup\":\"True\",\"bingroup\":\"x\",\"hovertemplate\":\"Major_category=Agriculture & Natural Resources\\u003cbr\\u003eMedian=%{x}\\u003cbr\\u003ecount=%{y}\\u003cextra\\u003e\\u003c\\u002fextra\\u003e\",\"legendgroup\":\"\",\"marker\":{\"color\":\"#636efa\",\"pattern\":{\"shape\":\"\"}},\"name\":\"\",\"nbinsx\":10,\"offsetgroup\":\"\",\"orientation\":\"v\",\"showlegend\":false,\"x\":[53000,40000,40000,40000,35000,35000,35000,32000,30000,29000],\"xaxis\":\"x15\",\"yaxis\":\"y15\",\"type\":\"histogram\"},{\"alignmentgroup\":\"True\",\"bingroup\":\"x\",\"hovertemplate\":\"Major_category=Industrial Arts & Consumer Services\\u003cbr\\u003eMedian=%{x}\\u003cbr\\u003ecount=%{y}\\u003cextra\\u003e\\u003c\\u002fextra\\u003e\",\"legendgroup\":\"\",\"marker\":{\"color\":\"#636efa\",\"pattern\":{\"shape\":\"\"}},\"name\":\"\",\"nbinsx\":10,\"offsetgroup\":\"\",\"orientation\":\"v\",\"showlegend\":false,\"x\":[50000,40000,38400,35000,32000,30000,29000],\"xaxis\":\"x10\",\"yaxis\":\"y10\",\"type\":\"histogram\"},{\"alignmentgroup\":\"True\",\"bingroup\":\"x\",\"hovertemplate\":\"Major_category=Arts\\u003cbr\\u003eMedian=%{x}\\u003cbr\\u003ecount=%{y}\\u003cextra\\u003e\\u003c\\u002fextra\\u003e\",\"legendgroup\":\"\",\"marker\":{\"color\":\"#636efa\",\"pattern\":{\"shape\":\"\"}},\"name\":\"\",\"nbinsx\":10,\"offsetgroup\":\"\",\"orientation\":\"v\",\"showlegend\":false,\"x\":[50000,35000,32000,31000,30500,30000,29000,27000],\"xaxis\":\"x11\",\"yaxis\":\"y11\",\"type\":\"histogram\"},{\"alignmentgroup\":\"True\",\"bingroup\":\"x\",\"hovertemplate\":\"Major_category=Health\\u003cbr\\u003eMedian=%{x}\\u003cbr\\u003ecount=%{y}\\u003cextra\\u003e\\u003c\\u002fextra\\u003e\",\"legendgroup\":\"\",\"marker\":{\"color\":\"#636efa\",\"pattern\":{\"shape\":\"\"}},\"name\":\"\",\"nbinsx\":10,\"offsetgroup\":\"\",\"orientation\":\"v\",\"showlegend\":false,\"x\":[48000,45000,42000,40000,36000,35000,35000,34000,33500,33000,32400,28000],\"xaxis\":\"x12\",\"yaxis\":\"y12\",\"type\":\"histogram\"},{\"alignmentgroup\":\"True\",\"bingroup\":\"x\",\"hovertemplate\":\"Major_category=Social Science\\u003cbr\\u003eMedian=%{x}\\u003cbr\\u003ecount=%{y}\\u003cextra\\u003e\\u003c\\u002fextra\\u003e\",\"legendgroup\":\"\",\"marker\":{\"color\":\"#636efa\",\"pattern\":{\"shape\":\"\"}},\"name\":\"\",\"nbinsx\":10,\"offsetgroup\":\"\",\"orientation\":\"v\",\"showlegend\":false,\"x\":[47000,40100,40000,38000,38000,35000,33000,33000,32000],\"xaxis\":\"x7\",\"yaxis\":\"y7\",\"type\":\"histogram\"},{\"alignmentgroup\":\"True\",\"bingroup\":\"x\",\"hovertemplate\":\"Major_category=Biology & Life Science\\u003cbr\\u003eMedian=%{x}\\u003cbr\\u003ecount=%{y}\\u003cextra\\u003e\\u003c\\u002fextra\\u003e\",\"legendgroup\":\"\",\"marker\":{\"color\":\"#636efa\",\"pattern\":{\"shape\":\"\"}},\"name\":\"\",\"nbinsx\":10,\"offsetgroup\":\"\",\"orientation\":\"v\",\"showlegend\":false,\"x\":[45000,41000,40000,40000,38000,37400,37000,35600,35000,35000,33500,33400,33000,26000],\"xaxis\":\"x8\",\"yaxis\":\"y8\",\"type\":\"histogram\"},{\"alignmentgroup\":\"True\",\"bingroup\":\"x\",\"hovertemplate\":\"Major_category=Education\\u003cbr\\u003eMedian=%{x}\\u003cbr\\u003ecount=%{y}\\u003cextra\\u003e\\u003c\\u002fextra\\u003e\",\"legendgroup\":\"\",\"marker\":{\"color\":\"#636efa\",\"pattern\":{\"shape\":\"\"}},\"name\":\"\",\"nbinsx\":10,\"offsetgroup\":\"\",\"orientation\":\"v\",\"showlegend\":false,\"x\":[41000,35000,34000,34000,34000,34000,33000,33000,32500,32100,32000,32000,31000,30000,28000,22000],\"xaxis\":\"x9\",\"yaxis\":\"y9\",\"type\":\"histogram\"},{\"alignmentgroup\":\"True\",\"bingroup\":\"x\",\"hovertemplate\":\"Major_category=Humanities & Liberal Arts\\u003cbr\\u003eMedian=%{x}\\u003cbr\\u003ecount=%{y}\\u003cextra\\u003e\\u003c\\u002fextra\\u003e\",\"legendgroup\":\"\",\"marker\":{\"color\":\"#636efa\",\"pattern\":{\"shape\":\"\"}},\"name\":\"\",\"nbinsx\":10,\"offsetgroup\":\"\",\"orientation\":\"v\",\"showlegend\":false,\"x\":[40000,35000,34000,34000,34000,33000,32200,32000,32000,31000,30000,29000,28000,27500,27000],\"xaxis\":\"x4\",\"yaxis\":\"y4\",\"type\":\"histogram\"},{\"alignmentgroup\":\"True\",\"bingroup\":\"x\",\"hovertemplate\":\"Major_category=Psychology & Social Work\\u003cbr\\u003eMedian=%{x}\\u003cbr\\u003ecount=%{y}\\u003cextra\\u003e\\u003c\\u002fextra\\u003e\",\"legendgroup\":\"\",\"marker\":{\"color\":\"#636efa\",\"pattern\":{\"shape\":\"\"}},\"name\":\"\",\"nbinsx\":10,\"offsetgroup\":\"\",\"orientation\":\"v\",\"showlegend\":false,\"x\":[40000,36000,31500,30000,30000,30000,25000,25000,23400],\"xaxis\":\"x5\",\"yaxis\":\"y5\",\"type\":\"histogram\"},{\"alignmentgroup\":\"True\",\"bingroup\":\"x\",\"hovertemplate\":\"Major_category=Communications & Journalism\\u003cbr\\u003eMedian=%{x}\\u003cbr\\u003ecount=%{y}\\u003cextra\\u003e\\u003c\\u002fextra\\u003e\",\"legendgroup\":\"\",\"marker\":{\"color\":\"#636efa\",\"pattern\":{\"shape\":\"\"}},\"name\":\"\",\"nbinsx\":10,\"offsetgroup\":\"\",\"orientation\":\"v\",\"showlegend\":false,\"x\":[35000,35000,35000,33000],\"xaxis\":\"x6\",\"yaxis\":\"y6\",\"type\":\"histogram\"},{\"alignmentgroup\":\"True\",\"bingroup\":\"x\",\"hovertemplate\":\"Major_category=Interdisciplinary\\u003cbr\\u003eMedian=%{x}\\u003cbr\\u003ecount=%{y}\\u003cextra\\u003e\\u003c\\u002fextra\\u003e\",\"legendgroup\":\"\",\"marker\":{\"color\":\"#636efa\",\"pattern\":{\"shape\":\"\"}},\"name\":\"\",\"nbinsx\":10,\"offsetgroup\":\"\",\"orientation\":\"v\",\"showlegend\":false,\"x\":[35000],\"xaxis\":\"x\",\"yaxis\":\"y\",\"type\":\"histogram\"}],                        {\"template\":{\"data\":{\"histogram2dcontour\":[{\"type\":\"histogram2dcontour\",\"colorbar\":{\"outlinewidth\":0,\"ticks\":\"\"},\"colorscale\":[[0.0,\"#0d0887\"],[0.1111111111111111,\"#46039f\"],[0.2222222222222222,\"#7201a8\"],[0.3333333333333333,\"#9c179e\"],[0.4444444444444444,\"#bd3786\"],[0.5555555555555556,\"#d8576b\"],[0.6666666666666666,\"#ed7953\"],[0.7777777777777778,\"#fb9f3a\"],[0.8888888888888888,\"#fdca26\"],[1.0,\"#f0f921\"]]}],\"choropleth\":[{\"type\":\"choropleth\",\"colorbar\":{\"outlinewidth\":0,\"ticks\":\"\"}}],\"histogram2d\":[{\"type\":\"histogram2d\",\"colorbar\":{\"outlinewidth\":0,\"ticks\":\"\"},\"colorscale\":[[0.0,\"#0d0887\"],[0.1111111111111111,\"#46039f\"],[0.2222222222222222,\"#7201a8\"],[0.3333333333333333,\"#9c179e\"],[0.4444444444444444,\"#bd3786\"],[0.5555555555555556,\"#d8576b\"],[0.6666666666666666,\"#ed7953\"],[0.7777777777777778,\"#fb9f3a\"],[0.8888888888888888,\"#fdca26\"],[1.0,\"#f0f921\"]]}],\"heatmap\":[{\"type\":\"heatmap\",\"colorbar\":{\"outlinewidth\":0,\"ticks\":\"\"},\"colorscale\":[[0.0,\"#0d0887\"],[0.1111111111111111,\"#46039f\"],[0.2222222222222222,\"#7201a8\"],[0.3333333333333333,\"#9c179e\"],[0.4444444444444444,\"#bd3786\"],[0.5555555555555556,\"#d8576b\"],[0.6666666666666666,\"#ed7953\"],[0.7777777777777778,\"#fb9f3a\"],[0.8888888888888888,\"#fdca26\"],[1.0,\"#f0f921\"]]}],\"heatmapgl\":[{\"type\":\"heatmapgl\",\"colorbar\":{\"outlinewidth\":0,\"ticks\":\"\"},\"colorscale\":[[0.0,\"#0d0887\"],[0.1111111111111111,\"#46039f\"],[0.2222222222222222,\"#7201a8\"],[0.3333333333333333,\"#9c179e\"],[0.4444444444444444,\"#bd3786\"],[0.5555555555555556,\"#d8576b\"],[0.6666666666666666,\"#ed7953\"],[0.7777777777777778,\"#fb9f3a\"],[0.8888888888888888,\"#fdca26\"],[1.0,\"#f0f921\"]]}],\"contourcarpet\":[{\"type\":\"contourcarpet\",\"colorbar\":{\"outlinewidth\":0,\"ticks\":\"\"}}],\"contour\":[{\"type\":\"contour\",\"colorbar\":{\"outlinewidth\":0,\"ticks\":\"\"},\"colorscale\":[[0.0,\"#0d0887\"],[0.1111111111111111,\"#46039f\"],[0.2222222222222222,\"#7201a8\"],[0.3333333333333333,\"#9c179e\"],[0.4444444444444444,\"#bd3786\"],[0.5555555555555556,\"#d8576b\"],[0.6666666666666666,\"#ed7953\"],[0.7777777777777778,\"#fb9f3a\"],[0.8888888888888888,\"#fdca26\"],[1.0,\"#f0f921\"]]}],\"surface\":[{\"type\":\"surface\",\"colorbar\":{\"outlinewidth\":0,\"ticks\":\"\"},\"colorscale\":[[0.0,\"#0d0887\"],[0.1111111111111111,\"#46039f\"],[0.2222222222222222,\"#7201a8\"],[0.3333333333333333,\"#9c179e\"],[0.4444444444444444,\"#bd3786\"],[0.5555555555555556,\"#d8576b\"],[0.6666666666666666,\"#ed7953\"],[0.7777777777777778,\"#fb9f3a\"],[0.8888888888888888,\"#fdca26\"],[1.0,\"#f0f921\"]]}],\"mesh3d\":[{\"type\":\"mesh3d\",\"colorbar\":{\"outlinewidth\":0,\"ticks\":\"\"}}],\"scatter\":[{\"fillpattern\":{\"fillmode\":\"overlay\",\"size\":10,\"solidity\":0.2},\"type\":\"scatter\"}],\"parcoords\":[{\"type\":\"parcoords\",\"line\":{\"colorbar\":{\"outlinewidth\":0,\"ticks\":\"\"}}}],\"scatterpolargl\":[{\"type\":\"scatterpolargl\",\"marker\":{\"colorbar\":{\"outlinewidth\":0,\"ticks\":\"\"}}}],\"bar\":[{\"error_x\":{\"color\":\"#2a3f5f\"},\"error_y\":{\"color\":\"#2a3f5f\"},\"marker\":{\"line\":{\"color\":\"#E5ECF6\",\"width\":0.5},\"pattern\":{\"fillmode\":\"overlay\",\"size\":10,\"solidity\":0.2}},\"type\":\"bar\"}],\"scattergeo\":[{\"type\":\"scattergeo\",\"marker\":{\"colorbar\":{\"outlinewidth\":0,\"ticks\":\"\"}}}],\"scatterpolar\":[{\"type\":\"scatterpolar\",\"marker\":{\"colorbar\":{\"outlinewidth\":0,\"ticks\":\"\"}}}],\"histogram\":[{\"marker\":{\"pattern\":{\"fillmode\":\"overlay\",\"size\":10,\"solidity\":0.2}},\"type\":\"histogram\"}],\"scattergl\":[{\"type\":\"scattergl\",\"marker\":{\"colorbar\":{\"outlinewidth\":0,\"ticks\":\"\"}}}],\"scatter3d\":[{\"type\":\"scatter3d\",\"line\":{\"colorbar\":{\"outlinewidth\":0,\"ticks\":\"\"}},\"marker\":{\"colorbar\":{\"outlinewidth\":0,\"ticks\":\"\"}}}],\"scattermapbox\":[{\"type\":\"scattermapbox\",\"marker\":{\"colorbar\":{\"outlinewidth\":0,\"ticks\":\"\"}}}],\"scatterternary\":[{\"type\":\"scatterternary\",\"marker\":{\"colorbar\":{\"outlinewidth\":0,\"ticks\":\"\"}}}],\"scattercarpet\":[{\"type\":\"scattercarpet\",\"marker\":{\"colorbar\":{\"outlinewidth\":0,\"ticks\":\"\"}}}],\"carpet\":[{\"aaxis\":{\"endlinecolor\":\"#2a3f5f\",\"gridcolor\":\"white\",\"linecolor\":\"white\",\"minorgridcolor\":\"white\",\"startlinecolor\":\"#2a3f5f\"},\"baxis\":{\"endlinecolor\":\"#2a3f5f\",\"gridcolor\":\"white\",\"linecolor\":\"white\",\"minorgridcolor\":\"white\",\"startlinecolor\":\"#2a3f5f\"},\"type\":\"carpet\"}],\"table\":[{\"cells\":{\"fill\":{\"color\":\"#EBF0F8\"},\"line\":{\"color\":\"white\"}},\"header\":{\"fill\":{\"color\":\"#C8D4E3\"},\"line\":{\"color\":\"white\"}},\"type\":\"table\"}],\"barpolar\":[{\"marker\":{\"line\":{\"color\":\"#E5ECF6\",\"width\":0.5},\"pattern\":{\"fillmode\":\"overlay\",\"size\":10,\"solidity\":0.2}},\"type\":\"barpolar\"}],\"pie\":[{\"automargin\":true,\"type\":\"pie\"}]},\"layout\":{\"autotypenumbers\":\"strict\",\"colorway\":[\"#636efa\",\"#EF553B\",\"#00cc96\",\"#ab63fa\",\"#FFA15A\",\"#19d3f3\",\"#FF6692\",\"#B6E880\",\"#FF97FF\",\"#FECB52\"],\"font\":{\"color\":\"#2a3f5f\"},\"hovermode\":\"closest\",\"hoverlabel\":{\"align\":\"left\"},\"paper_bgcolor\":\"white\",\"plot_bgcolor\":\"#E5ECF6\",\"polar\":{\"bgcolor\":\"#E5ECF6\",\"angularaxis\":{\"gridcolor\":\"white\",\"linecolor\":\"white\",\"ticks\":\"\"},\"radialaxis\":{\"gridcolor\":\"white\",\"linecolor\":\"white\",\"ticks\":\"\"}},\"ternary\":{\"bgcolor\":\"#E5ECF6\",\"aaxis\":{\"gridcolor\":\"white\",\"linecolor\":\"white\",\"ticks\":\"\"},\"baxis\":{\"gridcolor\":\"white\",\"linecolor\":\"white\",\"ticks\":\"\"},\"caxis\":{\"gridcolor\":\"white\",\"linecolor\":\"white\",\"ticks\":\"\"}},\"coloraxis\":{\"colorbar\":{\"outlinewidth\":0,\"ticks\":\"\"}},\"colorscale\":{\"sequential\":[[0.0,\"#0d0887\"],[0.1111111111111111,\"#46039f\"],[0.2222222222222222,\"#7201a8\"],[0.3333333333333333,\"#9c179e\"],[0.4444444444444444,\"#bd3786\"],[0.5555555555555556,\"#d8576b\"],[0.6666666666666666,\"#ed7953\"],[0.7777777777777778,\"#fb9f3a\"],[0.8888888888888888,\"#fdca26\"],[1.0,\"#f0f921\"]],\"sequentialminus\":[[0.0,\"#0d0887\"],[0.1111111111111111,\"#46039f\"],[0.2222222222222222,\"#7201a8\"],[0.3333333333333333,\"#9c179e\"],[0.4444444444444444,\"#bd3786\"],[0.5555555555555556,\"#d8576b\"],[0.6666666666666666,\"#ed7953\"],[0.7777777777777778,\"#fb9f3a\"],[0.8888888888888888,\"#fdca26\"],[1.0,\"#f0f921\"]],\"diverging\":[[0,\"#8e0152\"],[0.1,\"#c51b7d\"],[0.2,\"#de77ae\"],[0.3,\"#f1b6da\"],[0.4,\"#fde0ef\"],[0.5,\"#f7f7f7\"],[0.6,\"#e6f5d0\"],[0.7,\"#b8e186\"],[0.8,\"#7fbc41\"],[0.9,\"#4d9221\"],[1,\"#276419\"]]},\"xaxis\":{\"gridcolor\":\"white\",\"linecolor\":\"white\",\"ticks\":\"\",\"title\":{\"standoff\":15},\"zerolinecolor\":\"white\",\"automargin\":true,\"zerolinewidth\":2},\"yaxis\":{\"gridcolor\":\"white\",\"linecolor\":\"white\",\"ticks\":\"\",\"title\":{\"standoff\":15},\"zerolinecolor\":\"white\",\"automargin\":true,\"zerolinewidth\":2},\"scene\":{\"xaxis\":{\"backgroundcolor\":\"#E5ECF6\",\"gridcolor\":\"white\",\"linecolor\":\"white\",\"showbackground\":true,\"ticks\":\"\",\"zerolinecolor\":\"white\",\"gridwidth\":2},\"yaxis\":{\"backgroundcolor\":\"#E5ECF6\",\"gridcolor\":\"white\",\"linecolor\":\"white\",\"showbackground\":true,\"ticks\":\"\",\"zerolinecolor\":\"white\",\"gridwidth\":2},\"zaxis\":{\"backgroundcolor\":\"#E5ECF6\",\"gridcolor\":\"white\",\"linecolor\":\"white\",\"showbackground\":true,\"ticks\":\"\",\"zerolinecolor\":\"white\",\"gridwidth\":2}},\"shapedefaults\":{\"line\":{\"color\":\"#2a3f5f\"}},\"annotationdefaults\":{\"arrowcolor\":\"#2a3f5f\",\"arrowhead\":0,\"arrowwidth\":1},\"geo\":{\"bgcolor\":\"white\",\"landcolor\":\"#E5ECF6\",\"subunitcolor\":\"white\",\"showland\":true,\"showlakes\":true,\"lakecolor\":\"white\"},\"title\":{\"x\":0.05},\"mapbox\":{\"style\":\"light\"}}},\"xaxis\":{\"anchor\":\"y\",\"domain\":[0.0,0.31999999999999995],\"title\":{\"text\":\"Median\"}},\"yaxis\":{\"anchor\":\"x\",\"domain\":[0.0,0.10833333333333331],\"title\":{\"text\":\"count\"}},\"xaxis2\":{\"anchor\":\"y2\",\"domain\":[0.33999999999999997,0.6599999999999999],\"matches\":\"x\",\"title\":{\"text\":\"Median\"}},\"yaxis2\":{\"anchor\":\"x2\",\"domain\":[0.0,0.10833333333333331],\"matches\":\"y\",\"showticklabels\":false},\"xaxis3\":{\"anchor\":\"y3\",\"domain\":[0.6799999999999999,0.9999999999999999],\"matches\":\"x\",\"title\":{\"text\":\"Median\"}},\"yaxis3\":{\"anchor\":\"x3\",\"domain\":[0.0,0.10833333333333331],\"matches\":\"y\",\"showticklabels\":false},\"xaxis4\":{\"anchor\":\"y4\",\"domain\":[0.0,0.31999999999999995],\"matches\":\"x\",\"showticklabels\":false},\"yaxis4\":{\"anchor\":\"x4\",\"domain\":[0.17833333333333332,0.2866666666666666],\"matches\":\"y\",\"title\":{\"text\":\"count\"}},\"xaxis5\":{\"anchor\":\"y5\",\"domain\":[0.33999999999999997,0.6599999999999999],\"matches\":\"x\",\"showticklabels\":false},\"yaxis5\":{\"anchor\":\"x5\",\"domain\":[0.17833333333333332,0.2866666666666666],\"matches\":\"y\",\"showticklabels\":false},\"xaxis6\":{\"anchor\":\"y6\",\"domain\":[0.6799999999999999,0.9999999999999999],\"matches\":\"x\",\"showticklabels\":false},\"yaxis6\":{\"anchor\":\"x6\",\"domain\":[0.17833333333333332,0.2866666666666666],\"matches\":\"y\",\"showticklabels\":false},\"xaxis7\":{\"anchor\":\"y7\",\"domain\":[0.0,0.31999999999999995],\"matches\":\"x\",\"showticklabels\":false},\"yaxis7\":{\"anchor\":\"x7\",\"domain\":[0.35666666666666663,0.46499999999999997],\"matches\":\"y\",\"title\":{\"text\":\"count\"}},\"xaxis8\":{\"anchor\":\"y8\",\"domain\":[0.33999999999999997,0.6599999999999999],\"matches\":\"x\",\"showticklabels\":false},\"yaxis8\":{\"anchor\":\"x8\",\"domain\":[0.35666666666666663,0.46499999999999997],\"matches\":\"y\",\"showticklabels\":false},\"xaxis9\":{\"anchor\":\"y9\",\"domain\":[0.6799999999999999,0.9999999999999999],\"matches\":\"x\",\"showticklabels\":false},\"yaxis9\":{\"anchor\":\"x9\",\"domain\":[0.35666666666666663,0.46499999999999997],\"matches\":\"y\",\"showticklabels\":false},\"xaxis10\":{\"anchor\":\"y10\",\"domain\":[0.0,0.31999999999999995],\"matches\":\"x\",\"showticklabels\":false},\"yaxis10\":{\"anchor\":\"x10\",\"domain\":[0.5349999999999999,0.6433333333333332],\"matches\":\"y\",\"title\":{\"text\":\"count\"}},\"xaxis11\":{\"anchor\":\"y11\",\"domain\":[0.33999999999999997,0.6599999999999999],\"matches\":\"x\",\"showticklabels\":false},\"yaxis11\":{\"anchor\":\"x11\",\"domain\":[0.5349999999999999,0.6433333333333332],\"matches\":\"y\",\"showticklabels\":false},\"xaxis12\":{\"anchor\":\"y12\",\"domain\":[0.6799999999999999,0.9999999999999999],\"matches\":\"x\",\"showticklabels\":false},\"yaxis12\":{\"anchor\":\"x12\",\"domain\":[0.5349999999999999,0.6433333333333332],\"matches\":\"y\",\"showticklabels\":false},\"xaxis13\":{\"anchor\":\"y13\",\"domain\":[0.0,0.31999999999999995],\"matches\":\"x\",\"showticklabels\":false},\"yaxis13\":{\"anchor\":\"x13\",\"domain\":[0.7133333333333333,0.8216666666666665],\"matches\":\"y\",\"title\":{\"text\":\"count\"}},\"xaxis14\":{\"anchor\":\"y14\",\"domain\":[0.33999999999999997,0.6599999999999999],\"matches\":\"x\",\"showticklabels\":false},\"yaxis14\":{\"anchor\":\"x14\",\"domain\":[0.7133333333333333,0.8216666666666665],\"matches\":\"y\",\"showticklabels\":false},\"xaxis15\":{\"anchor\":\"y15\",\"domain\":[0.6799999999999999,0.9999999999999999],\"matches\":\"x\",\"showticklabels\":false},\"yaxis15\":{\"anchor\":\"x15\",\"domain\":[0.7133333333333333,0.8216666666666665],\"matches\":\"y\",\"showticklabels\":false},\"xaxis16\":{\"anchor\":\"y16\",\"domain\":[0.0,0.31999999999999995],\"matches\":\"x\",\"showticklabels\":false},\"yaxis16\":{\"anchor\":\"x16\",\"domain\":[0.8916666666666666,0.9999999999999999],\"matches\":\"y\",\"title\":{\"text\":\"count\"}},\"xaxis17\":{\"anchor\":\"y17\",\"domain\":[0.33999999999999997,0.6599999999999999],\"matches\":\"x\",\"showticklabels\":false},\"yaxis17\":{\"anchor\":\"x17\",\"domain\":[0.8916666666666666,0.9999999999999999],\"matches\":\"y\",\"showticklabels\":false},\"xaxis18\":{\"anchor\":\"y18\",\"domain\":[0.6799999999999999,0.9999999999999999],\"matches\":\"x\",\"showticklabels\":false},\"yaxis18\":{\"anchor\":\"x18\",\"domain\":[0.8916666666666666,0.9999999999999999],\"matches\":\"y\",\"showticklabels\":false},\"annotations\":[{\"font\":{},\"showarrow\":false,\"text\":\"Major_category=Interdisciplinary\",\"x\":0.15999999999999998,\"xanchor\":\"center\",\"xref\":\"paper\",\"y\":0.10833333333333331,\"yanchor\":\"bottom\",\"yref\":\"paper\"},{\"font\":{},\"showarrow\":false,\"text\":\"Major_category=Humanities & Liberal Arts\",\"x\":0.15999999999999998,\"xanchor\":\"center\",\"xref\":\"paper\",\"y\":0.2866666666666666,\"yanchor\":\"bottom\",\"yref\":\"paper\"},{\"font\":{},\"showarrow\":false,\"text\":\"Major_category=Psychology & Social Work\",\"x\":0.49999999999999994,\"xanchor\":\"center\",\"xref\":\"paper\",\"y\":0.2866666666666666,\"yanchor\":\"bottom\",\"yref\":\"paper\"},{\"font\":{},\"showarrow\":false,\"text\":\"Major_category=Communications & Journalism\",\"x\":0.8399999999999999,\"xanchor\":\"center\",\"xref\":\"paper\",\"y\":0.2866666666666666,\"yanchor\":\"bottom\",\"yref\":\"paper\"},{\"font\":{},\"showarrow\":false,\"text\":\"Major_category=Social Science\",\"x\":0.15999999999999998,\"xanchor\":\"center\",\"xref\":\"paper\",\"y\":0.46499999999999997,\"yanchor\":\"bottom\",\"yref\":\"paper\"},{\"font\":{},\"showarrow\":false,\"text\":\"Major_category=Biology & Life Science\",\"x\":0.49999999999999994,\"xanchor\":\"center\",\"xref\":\"paper\",\"y\":0.46499999999999997,\"yanchor\":\"bottom\",\"yref\":\"paper\"},{\"font\":{},\"showarrow\":false,\"text\":\"Major_category=Education\",\"x\":0.8399999999999999,\"xanchor\":\"center\",\"xref\":\"paper\",\"y\":0.46499999999999997,\"yanchor\":\"bottom\",\"yref\":\"paper\"},{\"font\":{},\"showarrow\":false,\"text\":\"Major_category=Industrial Arts & Consumer Services\",\"x\":0.15999999999999998,\"xanchor\":\"center\",\"xref\":\"paper\",\"y\":0.6433333333333332,\"yanchor\":\"bottom\",\"yref\":\"paper\"},{\"font\":{},\"showarrow\":false,\"text\":\"Major_category=Arts\",\"x\":0.49999999999999994,\"xanchor\":\"center\",\"xref\":\"paper\",\"y\":0.6433333333333332,\"yanchor\":\"bottom\",\"yref\":\"paper\"},{\"font\":{},\"showarrow\":false,\"text\":\"Major_category=Health\",\"x\":0.8399999999999999,\"xanchor\":\"center\",\"xref\":\"paper\",\"y\":0.6433333333333332,\"yanchor\":\"bottom\",\"yref\":\"paper\"},{\"font\":{},\"showarrow\":false,\"text\":\"Major_category=Law & Public Policy\",\"x\":0.15999999999999998,\"xanchor\":\"center\",\"xref\":\"paper\",\"y\":0.8216666666666665,\"yanchor\":\"bottom\",\"yref\":\"paper\"},{\"font\":{},\"showarrow\":false,\"text\":\"Major_category=Computers & Mathematics\",\"x\":0.49999999999999994,\"xanchor\":\"center\",\"xref\":\"paper\",\"y\":0.8216666666666665,\"yanchor\":\"bottom\",\"yref\":\"paper\"},{\"font\":{},\"showarrow\":false,\"text\":\"Major_category=Agriculture & Natural Resources\",\"x\":0.8399999999999999,\"xanchor\":\"center\",\"xref\":\"paper\",\"y\":0.8216666666666665,\"yanchor\":\"bottom\",\"yref\":\"paper\"},{\"font\":{},\"showarrow\":false,\"text\":\"Major_category=Engineering\",\"x\":0.15999999999999998,\"xanchor\":\"center\",\"xref\":\"paper\",\"y\":0.9999999999999999,\"yanchor\":\"bottom\",\"yref\":\"paper\"},{\"font\":{},\"showarrow\":false,\"text\":\"Major_category=Business\",\"x\":0.49999999999999994,\"xanchor\":\"center\",\"xref\":\"paper\",\"y\":0.9999999999999999,\"yanchor\":\"bottom\",\"yref\":\"paper\"},{\"font\":{},\"showarrow\":false,\"text\":\"Major_category=Physical Sciences\",\"x\":0.8399999999999999,\"xanchor\":\"center\",\"xref\":\"paper\",\"y\":0.9999999999999999,\"yanchor\":\"bottom\",\"yref\":\"paper\"}],\"legend\":{\"tracegroupgap\":0},\"margin\":{\"t\":60},\"barmode\":\"relative\",\"autosize\":false,\"width\":900,\"height\":1600},                        {\"responsive\": true}                    ).then(function(){\n",
       "                            \n",
       "var gd = document.getElementById('03410fdc-2e9e-4672-bf94-62a1dd870cfe');\n",
       "var x = new MutationObserver(function (mutations, observer) {{\n",
       "        var display = window.getComputedStyle(gd).display;\n",
       "        if (!display || display === 'none') {{\n",
       "            console.log([gd, 'removed!']);\n",
       "            Plotly.purge(gd);\n",
       "            observer.disconnect();\n",
       "        }}\n",
       "}});\n",
       "\n",
       "// Listen for the removal of the full notebook cells\n",
       "var notebookContainer = gd.closest('#notebook-container');\n",
       "if (notebookContainer) {{\n",
       "    x.observe(notebookContainer, {childList: true});\n",
       "}}\n",
       "\n",
       "// Listen for the clearing of the current output cell\n",
       "var outputEl = gd.closest('.output');\n",
       "if (outputEl) {{\n",
       "    x.observe(outputEl, {childList: true});\n",
       "}}\n",
       "\n",
       "                        })                };                });            </script>        </div>"
      ]
     },
     "metadata": {},
     "output_type": "display_data"
    }
   ],
   "source": [
    "# 3. histagram on median income for each major category\n",
    "fig = px.histogram (DF_raw,\n",
    "                   x='Median',\n",
    "                    nbins=10,#go smoother\n",
    "                   facet_col='Major_category',\n",
    "                   facet_col_wrap=3)\n",
    "\n",
    "fig.update_layout(autosize=False,\n",
    "                 width=900,\n",
    "                 height=1600)\n",
    "fig.show()"
   ]
  },
  {
   "cell_type": "markdown",
   "id": "e8fe2939-ec20-4e1a-b703-8ac93764795a",
   "metadata": {},
   "source": [
    "#### Q2: Part 3; histogram (Practice Exam)\n",
    "##### I chose 10 nbins for this histogram because the graph would appear smoother (clear relationship). Additionally, these histograms show the median income of each major category."
   ]
  },
  {
   "cell_type": "markdown",
   "id": "420d8a0b-be32-4ec4-a8dc-9a8ad5b7b026",
   "metadata": {},
   "source": [
    "#### Q2: Part 3; median rather than mean (Practice Exam)\n",
    "##### We choose the median, rather than the mean, to describe the typcial income of a group of people because a possible outlier can ruin the data. In other words, the data would be less reliable."
   ]
  },
  {
   "cell_type": "code",
   "execution_count": 1320,
   "id": "88da1820-588a-4c87-99bd-d71beefc5909",
   "metadata": {},
   "outputs": [
    {
     "data": {
      "text/html": [
       "<div>\n",
       "<style scoped>\n",
       "    .dataframe tbody tr th:only-of-type {\n",
       "        vertical-align: middle;\n",
       "    }\n",
       "\n",
       "    .dataframe tbody tr th {\n",
       "        vertical-align: top;\n",
       "    }\n",
       "\n",
       "    .dataframe thead th {\n",
       "        text-align: right;\n",
       "    }\n",
       "</style>\n",
       "<table border=\"1\" class=\"dataframe\">\n",
       "  <thead>\n",
       "    <tr style=\"text-align: right;\">\n",
       "      <th></th>\n",
       "      <th>Median</th>\n",
       "    </tr>\n",
       "    <tr>\n",
       "      <th>Major_category</th>\n",
       "      <th></th>\n",
       "    </tr>\n",
       "  </thead>\n",
       "  <tbody>\n",
       "    <tr>\n",
       "      <th>Agriculture &amp; Natural Resources</th>\n",
       "      <td>36900.000000</td>\n",
       "    </tr>\n",
       "    <tr>\n",
       "      <th>Arts</th>\n",
       "      <td>33062.500000</td>\n",
       "    </tr>\n",
       "    <tr>\n",
       "      <th>Biology &amp; Life Science</th>\n",
       "      <td>36421.428571</td>\n",
       "    </tr>\n",
       "    <tr>\n",
       "      <th>Business</th>\n",
       "      <td>43538.461538</td>\n",
       "    </tr>\n",
       "    <tr>\n",
       "      <th>Communications &amp; Journalism</th>\n",
       "      <td>34500.000000</td>\n",
       "    </tr>\n",
       "    <tr>\n",
       "      <th>Computers &amp; Mathematics</th>\n",
       "      <td>42745.454545</td>\n",
       "    </tr>\n",
       "    <tr>\n",
       "      <th>Education</th>\n",
       "      <td>32350.000000</td>\n",
       "    </tr>\n",
       "    <tr>\n",
       "      <th>Engineering</th>\n",
       "      <td>57382.758621</td>\n",
       "    </tr>\n",
       "    <tr>\n",
       "      <th>Health</th>\n",
       "      <td>36825.000000</td>\n",
       "    </tr>\n",
       "    <tr>\n",
       "      <th>Humanities &amp; Liberal Arts</th>\n",
       "      <td>31913.333333</td>\n",
       "    </tr>\n",
       "    <tr>\n",
       "      <th>Industrial Arts &amp; Consumer Services</th>\n",
       "      <td>36342.857143</td>\n",
       "    </tr>\n",
       "    <tr>\n",
       "      <th>Interdisciplinary</th>\n",
       "      <td>35000.000000</td>\n",
       "    </tr>\n",
       "    <tr>\n",
       "      <th>Law &amp; Public Policy</th>\n",
       "      <td>42200.000000</td>\n",
       "    </tr>\n",
       "    <tr>\n",
       "      <th>Physical Sciences</th>\n",
       "      <td>41890.000000</td>\n",
       "    </tr>\n",
       "    <tr>\n",
       "      <th>Psychology &amp; Social Work</th>\n",
       "      <td>30100.000000</td>\n",
       "    </tr>\n",
       "    <tr>\n",
       "      <th>Social Science</th>\n",
       "      <td>37344.444444</td>\n",
       "    </tr>\n",
       "  </tbody>\n",
       "</table>\n",
       "</div>"
      ],
      "text/plain": [
       "                                           Median\n",
       "Major_category                                   \n",
       "Agriculture & Natural Resources      36900.000000\n",
       "Arts                                 33062.500000\n",
       "Biology & Life Science               36421.428571\n",
       "Business                             43538.461538\n",
       "Communications & Journalism          34500.000000\n",
       "Computers & Mathematics              42745.454545\n",
       "Education                            32350.000000\n",
       "Engineering                          57382.758621\n",
       "Health                               36825.000000\n",
       "Humanities & Liberal Arts            31913.333333\n",
       "Industrial Arts & Consumer Services  36342.857143\n",
       "Interdisciplinary                    35000.000000\n",
       "Law & Public Policy                  42200.000000\n",
       "Physical Sciences                    41890.000000\n",
       "Psychology & Social Work             30100.000000\n",
       "Social Science                       37344.444444"
      ]
     },
     "execution_count": 1320,
     "metadata": {},
     "output_type": "execute_result"
    }
   ],
   "source": [
    "#4. Which major category has the highest typical (you'll need to decide what this means) median income?\n",
    "my_columns = ['Major_category','Median']\n",
    "DF_raw[my_columns].groupby('Major_category').mean()"
   ]
  },
  {
   "cell_type": "markdown",
   "id": "04306ea4-b398-411c-b91e-86a68d24a8d6",
   "metadata": {},
   "source": [
    "#### Q2: Part 3; highest typical median income (Practice Exam)\n",
    "##### I would argue that the \"Engineering\" major has the highest typical median income because it's significantly higher than any other major."
   ]
  },
  {
   "cell_type": "markdown",
   "id": "eab9b8b9-e83b-4d23-b416-9f22c2f07759",
   "metadata": {},
   "source": [
    "#### Q2: Part 3 (Practice Exam)\n",
    "##### The distributions of median income across major categories isn't necessarily large. For example, the major with the lowest median income is 'Psychology & Social Work' with 30k, and the major with the highest median income is \"Engineering' with 57k. So, every other major category that was listed (14) earned a median income in between those two quantities. Therefore, the median income is balanced across major categories."
   ]
  },
  {
   "cell_type": "markdown",
   "id": "39d4118e-26d8-4f81-8d65-569c4b6d97d1",
   "metadata": {},
   "source": [
    "### 3. More complicated questions\n",
    "\n",
    "* Are all STEM fields the same in terms job opportunities?\n",
    "    * Assume the following are STEM major categories\n",
    "    \n",
    "  ``` [\"Biology & Life Science\", \"Computers & Mathematics\", \"Engineering\",\"Physical Sciences\"]```\n",
    "  \n",
    "    * Create a DataFrame (using a mask) so you only look at STEM majors.\n",
    "    * Which STEM majors have median salaries equal to or less than the median for all majors' median earnings?\n",
    "* What types of majors do women tend to major in?\n",
    "    * Create a scatterplot of median income vs. proportion of women in that major, coloured by whether the major is in a STEM field or not."
   ]
  },
  {
   "cell_type": "markdown",
   "id": "4eae1a51-774d-4296-91ee-5fefb6ed00cf",
   "metadata": {},
   "source": [
    "#### Q3: Part 1 (Practice Exam)\n",
    "##### All STEM fields are not the same in terms of job opportunities since the employment data is different in every major category."
   ]
  },
  {
   "cell_type": "code",
   "execution_count": 1324,
   "id": "1639bd96-4f56-4ccb-b28c-51b09b961ae4",
   "metadata": {},
   "outputs": [
    {
     "data": {
      "text/html": [
       "<table id=\"itables_9a2ab776_d9b8_4275_9a28_0251904eff6f\" class=\"display nowrap\" data-quarto-disable-processing=\"true\" style=\"table-layout:auto;width:auto;margin:auto;caption-side:bottom\">\n",
       "<thead>\n",
       "    <tr style=\"text-align: right;\">\n",
       "      \n",
       "      <th>Major_category</th>\n",
       "      <th>Median</th>\n",
       "      <th>Women</th>\n",
       "      <th>Employed</th>\n",
       "    </tr>\n",
       "  </thead><tbody><tr>\n",
       "<td style=\"vertical-align:middle; text-align:left\">\n",
       "<div style=\"float:left; margin-right: 10px;\">\n",
       "<a href=https://mwouts.github.io/itables/><svg class=\"main-svg\" xmlns=\"http://www.w3.org/2000/svg\" xmlns:xlink=\"http://www.w3.org/1999/xlink\"\n",
       "width=\"64\" viewBox=\"0 0 500 400\" style=\"font-family: 'Droid Sans', sans-serif;\">\n",
       "    <g style=\"fill:#d9d7fc\">\n",
       "        <path d=\"M100,400H500V357H100Z\" />\n",
       "        <path d=\"M100,300H400V257H100Z\" />\n",
       "        <path d=\"M0,200H400V157H0Z\" />\n",
       "        <path d=\"M100,100H500V57H100Z\" />\n",
       "        <path d=\"M100,350H500V307H100Z\" />\n",
       "        <path d=\"M100,250H400V207H100Z\" />\n",
       "        <path d=\"M0,150H400V107H0Z\" />\n",
       "        <path d=\"M100,50H500V7H100Z\" />\n",
       "    </g>\n",
       "    <g style=\"fill:#1a1366;stroke:#1a1366;\">\n",
       "   <rect x=\"100\" y=\"7\" width=\"400\" height=\"43\">\n",
       "    <animate\n",
       "      attributeName=\"width\"\n",
       "      values=\"0;400;0\"\n",
       "      dur=\"5s\"\n",
       "      repeatCount=\"indefinite\" />\n",
       "      <animate\n",
       "      attributeName=\"x\"\n",
       "      values=\"100;100;500\"\n",
       "      dur=\"5s\"\n",
       "      repeatCount=\"indefinite\" />\n",
       "  </rect>\n",
       "        <rect x=\"0\" y=\"107\" width=\"400\" height=\"43\">\n",
       "    <animate\n",
       "      attributeName=\"width\"\n",
       "      values=\"0;400;0\"\n",
       "      dur=\"3.5s\"\n",
       "      repeatCount=\"indefinite\" />\n",
       "    <animate\n",
       "      attributeName=\"x\"\n",
       "      values=\"0;0;400\"\n",
       "      dur=\"3.5s\"\n",
       "      repeatCount=\"indefinite\" />\n",
       "  </rect>\n",
       "        <rect x=\"100\" y=\"207\" width=\"300\" height=\"43\">\n",
       "    <animate\n",
       "      attributeName=\"width\"\n",
       "      values=\"0;300;0\"\n",
       "      dur=\"3s\"\n",
       "      repeatCount=\"indefinite\" />\n",
       "    <animate\n",
       "      attributeName=\"x\"\n",
       "      values=\"100;100;400\"\n",
       "      dur=\"3s\"\n",
       "      repeatCount=\"indefinite\" />\n",
       "  </rect>\n",
       "        <rect x=\"100\" y=\"307\" width=\"400\" height=\"43\">\n",
       "    <animate\n",
       "      attributeName=\"width\"\n",
       "      values=\"0;400;0\"\n",
       "      dur=\"4s\"\n",
       "      repeatCount=\"indefinite\" />\n",
       "      <animate\n",
       "      attributeName=\"x\"\n",
       "      values=\"100;100;500\"\n",
       "      dur=\"4s\"\n",
       "      repeatCount=\"indefinite\" />\n",
       "  </rect>\n",
       "        <g style=\"fill:transparent;stroke-width:8; stroke-linejoin:round\" rx=\"5\">\n",
       "            <g transform=\"translate(45 50) rotate(-45)\">\n",
       "                <circle r=\"33\" cx=\"0\" cy=\"0\" />\n",
       "                <rect x=\"-8\" y=\"32\" width=\"16\" height=\"30\" />\n",
       "            </g>\n",
       "\n",
       "            <g transform=\"translate(450 152)\">\n",
       "                <polyline points=\"-15,-20 -35,-20 -35,40 25,40 25,20\" />\n",
       "                <rect x=\"-15\" y=\"-40\" width=\"60\" height=\"60\" />\n",
       "            </g>\n",
       "\n",
       "            <g transform=\"translate(50 352)\">\n",
       "                <polygon points=\"-35,-5 0,-40 35,-5\" />\n",
       "                <polygon points=\"-35,10 0,45 35,10\" />\n",
       "            </g>\n",
       "\n",
       "            <g transform=\"translate(75 250)\">\n",
       "                <polyline points=\"-30,30 -60,0 -30,-30\" />\n",
       "                <polyline points=\"0,30 -30,0 0,-30\" />\n",
       "            </g>\n",
       "\n",
       "            <g transform=\"translate(425 250) rotate(180)\">\n",
       "                <polyline points=\"-30,30 -60,0 -30,-30\" />\n",
       "                <polyline points=\"0,30 -30,0 0,-30\" />\n",
       "            </g>\n",
       "        </g>\n",
       "    </g>\n",
       "</svg>\n",
       "</a>\n",
       "</div>\n",
       "<div>\n",
       "Loading ITables v2.1.4 from the internet...\n",
       "(need <a href=https://mwouts.github.io/itables/troubleshooting.html>help</a>?)</td>\n",
       "</div>\n",
       "</tr></tbody>\n",
       "\n",
       "</table>\n",
       "<link href=\"https://www.unpkg.com/dt_for_itables@2.0.11/dt_bundle.css\" rel=\"stylesheet\">\n",
       "<script type=\"module\">\n",
       "    import {DataTable, jQuery as $} from 'https://www.unpkg.com/dt_for_itables@2.0.11/dt_bundle.js';\n",
       "\n",
       "    document.querySelectorAll(\"#itables_9a2ab776_d9b8_4275_9a28_0251904eff6f:not(.dataTable)\").forEach(table => {\n",
       "        // Define the table data\n",
       "        const data = [[\"Engineering\", 110000, 282.0, 1976], [\"Engineering\", 75000, 77.0, 640], [\"Engineering\", 73000, 131.0, 648], [\"Engineering\", 70000, 135.0, 758], [\"Engineering\", 65000, 11021.0, 25694], [\"Engineering\", 65000, 373.0, 1857], [\"Business\", 62000, 1667.0, 2912], [\"Physical Sciences\", 62000, 960.0, 1526], [\"Engineering\", 60000, 10907.0, 76442], [\"Engineering\", 60000, 16016.0, 61928], [\"Engineering\", 60000, 8284.0, 32506], [\"Engineering\", 60000, 2105.0, 11391], [\"Engineering\", 60000, 6548.0, 10047], [\"Engineering\", 60000, 1330.0, 3307], [\"Engineering\", 58000, 795.0, 3608], [\"Engineering\", 57100, 2863.0, 6170], [\"Engineering\", 57000, 6515.0, 15604], [\"Engineering\", 56000, 15469.0, 44931], [\"Engineering\", 54000, 990.0, 2575], [\"Law & Public Policy\", 54000, 271.0, 930], [\"Computers & Mathematics\", 53000, 28576.0, 102087], [\"Agriculture & Natural Resources\", 53000, NaN, 3149], [\"Engineering\", 52000, 3384.0, 8587], [\"Engineering\", 52000, 973.0, 2449], [\"Business\", 51000, 5217.0, 16413], [\"Engineering\", 50000, 12072.0, 43041], [\"Industrial Arts & Consumer Services\", 50000, 1678.0, 16318], [\"Business\", 50000, 3811.0, 10027], [\"Engineering\", 50000, 1735.0, 7428], [\"Law & Public Policy\", 50000, 3339.0, 4547], [\"Engineering\", 50000, 1385.0, 2983], [\"Engineering\", 50000, 905.0, 2799], [\"Arts\", 50000, 1370.0, 2914], [\"Engineering\", 50000, 232.0, 604], [\"Health\", 48000, 187621.0, 180903], [\"Business\", 47000, 59476.0, 145696], [\"Social Science\", 47000, 49498.0, 104117], [\"Business\", 46000, 5727.0, 10914], [\"Engineering\", 46000, 1154.0, 4428], [\"Physical Sciences\", 46000, 1588.0, 1778], [\"Business\", 45000, 104114.0, 165527], [\"Computers & Mathematics\", 45000, 32441.0, 58118], [\"Computers & Mathematics\", 45000, 9306.0, 28459], [\"Physical Sciences\", 45000, 9062.0, 25302], [\"Health\", 45000, 11998.0, 13150], [\"Computers & Mathematics\", 45000, 2908.0, 9881], [\"Computers & Mathematics\", 45000, 3291.0, 4247], [\"Computers & Mathematics\", 45000, 2145.0, 3854], [\"Biology & Life Science\", 45000, 1247.0, 1144], [\"Physical Sciences\", 44700, 1666.0, 1638], [\"Engineering\", 44000, 506.0, 2125], [\"Health\", 42000, 10320.0, 9168], [\"Computers & Mathematics\", 42000, 109.0, 559], [\"Computers & Mathematics\", 41300, 1122.0, 3257], [\"Biology & Life Science\", 41000, 2164.0, 2741], [\"Education\", 41000, 699.0, 730], [\"Social Science\", 40100, 17842.0, 21190], [\"Business\", 40000, 102352.0, 190183], [\"Engineering\", 40000, 20957.0, 34158], [\"Business\", 40000, 15270.0, 19660], [\"Health\", 40000, 14854.0, 16620], [\"Biology & Life Science\", 40000, 10874.0, 11581], [\"Business\", 40000, 7662.0, 14826], [\"Agriculture & Natural Resources\", 40000, 4582.0, 12323], [\"Agriculture & Natural Resources\", 40000, 4346.0, 8884], [\"Engineering\", 40000, 1761.0, 7502], [\"Engineering\", 40000, 371.0, 4186], [\"Biology & Life Science\", 40000, 1874.0, 2463], [\"Social Science\", 40000, 1784.0, 2727], [\"Humanities & Liberal Arts\", 40000, 1323.0, 2787], [\"Psychology & Social Work\", 40000, 1939.0, 2343], [\"Agriculture & Natural Resources\", 40000, 690.0, 2174], [\"Physical Sciences\", 40000, 542.0, 1146], [\"Industrial Arts & Consumer Services\", 40000, 0.0, 0], [\"Physical Sciences\", 39000, 33607.0, 48535], [\"Industrial Arts & Consumer Services\", 38400, 566.0, 2107], [\"Business\", 38000, 156118.0, 276234], [\"Business\", 38000, 126354.0, 178862], [\"Social Science\", 38000, 88741.0, 133454], [\"Social Science\", 38000, 7076.0, 14057], [\"Biology & Life Science\", 38000, 8849.0, 9685], [\"Computers & Mathematics\", 37500, 1459.0, 6509], [\"Biology & Life Science\", 37400, 20156.0, 25678], [\"Biology & Life Science\", 37000, 703.0, 1010], [\"Computers & Mathematics\", 36400, 2322.0, 6144], [\"Physical Sciences\", 36200, 5159.0, 8296], [\"Business\", 36000, 18313.0, 20760], [\"Law & Public Policy\", 36000, 9093.0, 9762], [\"Health\", 36000, 11797.0, 10076], [\"Law & Public Policy\", 36000, 2682.0, 4158], [\"Physical Sciences\", 36000, 1169.0, 1441], [\"Psychology & Social Work\", 36000, 973.0, 1080], [\"Biology & Life Science\", 35600, 15178.0, 20859], [\"Communications & Journalism\", 35000, 143377.0, 179633], [\"Law & Public Policy\", 35000, 72593.0, 125393], [\"Arts\", 35000, 71439.0, 83483], [\"Communications & Journalism\", 35000, 48883.0, 61022], [\"Physical Sciences\", 35000, 35037.0, 46138], [\"Communications & Journalism\", 35000, 40300.0, 45326], [\"Humanities & Liberal Arts\", 35000, 22456.0, 24629], [\"Education\", 35000, 26057.0, 24639], [\"Biology & Life Science\", 35000, 13638.0, 14643], [\"Social Science\", 35000, 9848.0, 16181], [\"Health\", 35000, 16346.0, 13217], [\"Health\", 35000, 13843.0, 15419], [\"Computers & Mathematics\", 35000, 6604.0, 14779], [\"Industrial Arts & Consumer Services\", 35000, 1893.0, 12266], [\"Agriculture & Natural Resources\", 35000, 5156.0, 11797], [\"Biology & Life Science\", 35000, 8719.0, 9087], [\"Interdisciplinary\", 35000, 9479.0, 9821], [\"Physical Sciences\", 35000, 1299.0, 3431], [\"Agriculture & Natural Resources\", 35000, 451.0, 3007], [\"Agriculture & Natural Resources\", 35000, 209.0, 613], [\"Education\", 34000, 116825.0, 118241], [\"Humanities & Liberal Arts\", 34000, 63698.0, 105646], [\"Humanities & Liberal Arts\", 34000, 35411.0, 38315], [\"Humanities & Liberal Arts\", 34000, 16075.0, 18824], [\"Education\", 34000, 10248.0, 17700], [\"Health\", 34000, 15632.0, 14512], [\"Education\", 34000, 10365.0, 13115], [\"Education\", 34000, 524.0, 703], [\"Health\", 33500, 7219.0, 7052], [\"Biology & Life Science\", 33500, 5959.0, 7767], [\"Biology & Life Science\", 33400, 168947.0, 182295], [\"Social Science\", 33000, 82923.0, 92721], [\"Communications & Journalism\", 33000, 28120.0, 44679], [\"Health\", 33000, 35004.0, 37861], [\"Business\", 33000, 28443.0, 36728], [\"Education\", 33000, 26730.0, 26033], [\"Humanities & Liberal Arts\", 33000, 12185.0, 11165], [\"Education\", 33000, 6496.0, 8691], [\"Social Science\", 33000, 7579.0, 7444], [\"Biology & Life Science\", 33000, 5276.0, 7585], [\"Education\", 32500, 10305.0, 15116], [\"Health\", 32400, 26025.0, 24406], [\"Humanities & Liberal Arts\", 32200, 22847.0, 40157], [\"Education\", 32100, 23449.0, 30007], [\"Humanities & Liberal Arts\", 32000, 136446.0, 149180], [\"Education\", 32000, 157833.0, 149339], [\"Industrial Arts & Consumer Services\", 32000, 62893.0, 103078], [\"Humanities & Liberal Arts\", 32000, 49030.0, 54844], [\"Arts\", 32000, 16404.0, 31433], [\"Social Science\", 32000, 7841.0, 9602], [\"Agriculture & Natural Resources\", 32000, 2519.0, 6594], [\"Education\", 32000, 4434.0, 5362], [\"Psychology & Social Work\", 31500, 307087.0, 307933], [\"Arts\", 31000, 30724.0, 47662], [\"Education\", 31000, 12543.0, 23794], [\"Humanities & Liberal Arts\", 31000, 17790.0, 17579], [\"Arts\", 30500, 49654.0, 59679], [\"Industrial Arts & Consumer Services\", 30000, 52835.0, 46624], [\"Psychology & Social Work\", 30000, 48415.0, 45038], [\"Agriculture & Natural Resources\", 30000, 16226.0, 17112], [\"Arts\", 30000, 12117.0, 12870], [\"Education\", 30000, 11709.0, 13076], [\"Psychology & Social Work\", 30000, 7692.0, 7653], [\"Psychology & Social Work\", 30000, 8489.0, 8294], [\"Humanities & Liberal Arts\", 30000, 4639.0, 5052], [\"Humanities & Liberal Arts\", 29000, 11591.0, 24202], [\"Arts\", 29000, 12223.0, 13908], [\"Industrial Arts & Consumer Services\", 29000, 6146.0, 8650], [\"Agriculture & Natural Resources\", 29000, 1084.0, 1290], [\"Humanities & Liberal Arts\", 28000, 27468.0, 29633], [\"Health\", 28000, 37054.0, 29763], [\"Education\", 28000, 36422.0, 32551], [\"Humanities & Liberal Arts\", 27500, 7732.0, 7052], [\"Arts\", 27000, 28809.0, 36165], [\"Humanities & Liberal Arts\", 27000, 11931.0, 15053], [\"Biology & Life Science\", 26000, 5359.0, 6259], [\"Psychology & Social Work\", 25000, 2332.0, 2125], [\"Psychology & Social Work\", 25000, 2270.0, 2101], [\"Psychology & Social Work\", 23400, 3695.0, 3777], [\"Education\", 22000, 964.0, 742]];\n",
       "\n",
       "        // Define the dt_args\n",
       "        let dt_args = {\"layout\": {\"topStart\": \"pageLength\", \"topEnd\": \"search\", \"bottomStart\": \"info\", \"bottomEnd\": \"paging\"}, \"order\": []};\n",
       "        dt_args[\"data\"] = data;\n",
       "\n",
       "        \n",
       "        new DataTable(table, dt_args);\n",
       "    });\n",
       "</script>\n"
      ],
      "text/plain": [
       "<IPython.core.display.HTML object>"
      ]
     },
     "metadata": {},
     "output_type": "display_data"
    },
    {
     "data": {
      "text/html": [
       "<table id=\"itables_cf66e42e_4cb9_4b5d_b81b_7b1a59b1663f\" class=\"display nowrap\" data-quarto-disable-processing=\"true\" style=\"table-layout:auto;width:auto;margin:auto;caption-side:bottom\">\n",
       "<thead>\n",
       "    <tr style=\"text-align: right;\">\n",
       "      <th></th>\n",
       "      <th>Major_category</th>\n",
       "      <th>Median</th>\n",
       "      <th>Women</th>\n",
       "      <th>Employed</th>\n",
       "    </tr>\n",
       "  </thead><tbody><tr>\n",
       "<td style=\"vertical-align:middle; text-align:left\">\n",
       "<div style=\"float:left; margin-right: 10px;\">\n",
       "<a href=https://mwouts.github.io/itables/><svg class=\"main-svg\" xmlns=\"http://www.w3.org/2000/svg\" xmlns:xlink=\"http://www.w3.org/1999/xlink\"\n",
       "width=\"64\" viewBox=\"0 0 500 400\" style=\"font-family: 'Droid Sans', sans-serif;\">\n",
       "    <g style=\"fill:#d9d7fc\">\n",
       "        <path d=\"M100,400H500V357H100Z\" />\n",
       "        <path d=\"M100,300H400V257H100Z\" />\n",
       "        <path d=\"M0,200H400V157H0Z\" />\n",
       "        <path d=\"M100,100H500V57H100Z\" />\n",
       "        <path d=\"M100,350H500V307H100Z\" />\n",
       "        <path d=\"M100,250H400V207H100Z\" />\n",
       "        <path d=\"M0,150H400V107H0Z\" />\n",
       "        <path d=\"M100,50H500V7H100Z\" />\n",
       "    </g>\n",
       "    <g style=\"fill:#1a1366;stroke:#1a1366;\">\n",
       "   <rect x=\"100\" y=\"7\" width=\"400\" height=\"43\">\n",
       "    <animate\n",
       "      attributeName=\"width\"\n",
       "      values=\"0;400;0\"\n",
       "      dur=\"5s\"\n",
       "      repeatCount=\"indefinite\" />\n",
       "      <animate\n",
       "      attributeName=\"x\"\n",
       "      values=\"100;100;500\"\n",
       "      dur=\"5s\"\n",
       "      repeatCount=\"indefinite\" />\n",
       "  </rect>\n",
       "        <rect x=\"0\" y=\"107\" width=\"400\" height=\"43\">\n",
       "    <animate\n",
       "      attributeName=\"width\"\n",
       "      values=\"0;400;0\"\n",
       "      dur=\"3.5s\"\n",
       "      repeatCount=\"indefinite\" />\n",
       "    <animate\n",
       "      attributeName=\"x\"\n",
       "      values=\"0;0;400\"\n",
       "      dur=\"3.5s\"\n",
       "      repeatCount=\"indefinite\" />\n",
       "  </rect>\n",
       "        <rect x=\"100\" y=\"207\" width=\"300\" height=\"43\">\n",
       "    <animate\n",
       "      attributeName=\"width\"\n",
       "      values=\"0;300;0\"\n",
       "      dur=\"3s\"\n",
       "      repeatCount=\"indefinite\" />\n",
       "    <animate\n",
       "      attributeName=\"x\"\n",
       "      values=\"100;100;400\"\n",
       "      dur=\"3s\"\n",
       "      repeatCount=\"indefinite\" />\n",
       "  </rect>\n",
       "        <rect x=\"100\" y=\"307\" width=\"400\" height=\"43\">\n",
       "    <animate\n",
       "      attributeName=\"width\"\n",
       "      values=\"0;400;0\"\n",
       "      dur=\"4s\"\n",
       "      repeatCount=\"indefinite\" />\n",
       "      <animate\n",
       "      attributeName=\"x\"\n",
       "      values=\"100;100;500\"\n",
       "      dur=\"4s\"\n",
       "      repeatCount=\"indefinite\" />\n",
       "  </rect>\n",
       "        <g style=\"fill:transparent;stroke-width:8; stroke-linejoin:round\" rx=\"5\">\n",
       "            <g transform=\"translate(45 50) rotate(-45)\">\n",
       "                <circle r=\"33\" cx=\"0\" cy=\"0\" />\n",
       "                <rect x=\"-8\" y=\"32\" width=\"16\" height=\"30\" />\n",
       "            </g>\n",
       "\n",
       "            <g transform=\"translate(450 152)\">\n",
       "                <polyline points=\"-15,-20 -35,-20 -35,40 25,40 25,20\" />\n",
       "                <rect x=\"-15\" y=\"-40\" width=\"60\" height=\"60\" />\n",
       "            </g>\n",
       "\n",
       "            <g transform=\"translate(50 352)\">\n",
       "                <polygon points=\"-35,-5 0,-40 35,-5\" />\n",
       "                <polygon points=\"-35,10 0,45 35,10\" />\n",
       "            </g>\n",
       "\n",
       "            <g transform=\"translate(75 250)\">\n",
       "                <polyline points=\"-30,30 -60,0 -30,-30\" />\n",
       "                <polyline points=\"0,30 -30,0 0,-30\" />\n",
       "            </g>\n",
       "\n",
       "            <g transform=\"translate(425 250) rotate(180)\">\n",
       "                <polyline points=\"-30,30 -60,0 -30,-30\" />\n",
       "                <polyline points=\"0,30 -30,0 0,-30\" />\n",
       "            </g>\n",
       "        </g>\n",
       "    </g>\n",
       "</svg>\n",
       "</a>\n",
       "</div>\n",
       "<div>\n",
       "Loading ITables v2.1.4 from the internet...\n",
       "(need <a href=https://mwouts.github.io/itables/troubleshooting.html>help</a>?)</td>\n",
       "</div>\n",
       "</tr></tbody>\n",
       "\n",
       "</table>\n",
       "<link href=\"https://www.unpkg.com/dt_for_itables@2.0.11/dt_bundle.css\" rel=\"stylesheet\">\n",
       "<script type=\"module\">\n",
       "    import {DataTable, jQuery as $} from 'https://www.unpkg.com/dt_for_itables@2.0.11/dt_bundle.js';\n",
       "\n",
       "    document.querySelectorAll(\"#itables_cf66e42e_4cb9_4b5d_b81b_7b1a59b1663f:not(.dataTable)\").forEach(table => {\n",
       "        // Define the table data\n",
       "        const data = [[0, \"Engineering\", 110000, 282.0, 1976], [1, \"Engineering\", 75000, 77.0, 640], [2, \"Engineering\", 73000, 131.0, 648], [3, \"Engineering\", 70000, 135.0, 758], [4, \"Engineering\", 65000, 11021.0, 25694], [5, \"Engineering\", 65000, 373.0, 1857], [7, \"Physical Sciences\", 62000, 960.0, 1526], [8, \"Engineering\", 60000, 10907.0, 76442], [9, \"Engineering\", 60000, 16016.0, 61928], [10, \"Engineering\", 60000, 8284.0, 32506], [11, \"Engineering\", 60000, 2105.0, 11391], [12, \"Engineering\", 60000, 6548.0, 10047], [13, \"Engineering\", 60000, 1330.0, 3307], [14, \"Engineering\", 58000, 795.0, 3608], [15, \"Engineering\", 57100, 2863.0, 6170], [16, \"Engineering\", 57000, 6515.0, 15604], [17, \"Engineering\", 56000, 15469.0, 44931], [18, \"Engineering\", 54000, 990.0, 2575], [20, \"Computers & Mathematics\", 53000, 28576.0, 102087], [22, \"Engineering\", 52000, 3384.0, 8587], [23, \"Engineering\", 52000, 973.0, 2449], [25, \"Engineering\", 50000, 12072.0, 43041], [28, \"Engineering\", 50000, 1735.0, 7428], [30, \"Engineering\", 50000, 1385.0, 2983], [31, \"Engineering\", 50000, 905.0, 2799], [33, \"Engineering\", 50000, 232.0, 604], [38, \"Engineering\", 46000, 1154.0, 4428], [39, \"Physical Sciences\", 46000, 1588.0, 1778], [41, \"Computers & Mathematics\", 45000, 32441.0, 58118], [42, \"Computers & Mathematics\", 45000, 9306.0, 28459], [43, \"Physical Sciences\", 45000, 9062.0, 25302], [45, \"Computers & Mathematics\", 45000, 2908.0, 9881], [46, \"Computers & Mathematics\", 45000, 3291.0, 4247], [47, \"Computers & Mathematics\", 45000, 2145.0, 3854], [48, \"Biology & Life Science\", 45000, 1247.0, 1144], [49, \"Physical Sciences\", 44700, 1666.0, 1638], [50, \"Engineering\", 44000, 506.0, 2125], [52, \"Computers & Mathematics\", 42000, 109.0, 559], [53, \"Computers & Mathematics\", 41300, 1122.0, 3257], [54, \"Biology & Life Science\", 41000, 2164.0, 2741], [58, \"Engineering\", 40000, 20957.0, 34158], [61, \"Biology & Life Science\", 40000, 10874.0, 11581], [65, \"Engineering\", 40000, 1761.0, 7502], [66, \"Engineering\", 40000, 371.0, 4186], [67, \"Biology & Life Science\", 40000, 1874.0, 2463], [72, \"Physical Sciences\", 40000, 542.0, 1146], [74, \"Physical Sciences\", 39000, 33607.0, 48535], [80, \"Biology & Life Science\", 38000, 8849.0, 9685], [81, \"Computers & Mathematics\", 37500, 1459.0, 6509], [82, \"Biology & Life Science\", 37400, 20156.0, 25678], [83, \"Biology & Life Science\", 37000, 703.0, 1010], [84, \"Computers & Mathematics\", 36400, 2322.0, 6144], [85, \"Physical Sciences\", 36200, 5159.0, 8296], [90, \"Physical Sciences\", 36000, 1169.0, 1441], [92, \"Biology & Life Science\", 35600, 15178.0, 20859], [97, \"Physical Sciences\", 35000, 35037.0, 46138], [101, \"Biology & Life Science\", 35000, 13638.0, 14643], [105, \"Computers & Mathematics\", 35000, 6604.0, 14779], [108, \"Biology & Life Science\", 35000, 8719.0, 9087], [110, \"Physical Sciences\", 35000, 1299.0, 3431], [122, \"Biology & Life Science\", 33500, 5959.0, 7767], [123, \"Biology & Life Science\", 33400, 168947.0, 182295], [132, \"Biology & Life Science\", 33000, 5276.0, 7585], [168, \"Biology & Life Science\", 26000, 5359.0, 6259]];\n",
       "\n",
       "        // Define the dt_args\n",
       "        let dt_args = {\"layout\": {\"topStart\": \"pageLength\", \"topEnd\": \"search\", \"bottomStart\": \"info\", \"bottomEnd\": \"paging\"}, \"order\": []};\n",
       "        dt_args[\"data\"] = data;\n",
       "\n",
       "        \n",
       "        new DataTable(table, dt_args);\n",
       "    });\n",
       "</script>\n"
      ],
      "text/plain": [
       "<IPython.core.display.HTML object>"
      ]
     },
     "metadata": {},
     "output_type": "display_data"
    }
   ],
   "source": [
    "#Create DataFrame using mask for only STEM majors\n",
    "some_stem = ['Major_category','Median','Women','Employed']\n",
    "DF_stem = DF_raw[some_stem]\n",
    "show(DF_stem)\n",
    "\n",
    "mask = (DF_raw['Major_category']=='Biology & Life Science') | (DF_raw['Major_category']=='Computers & Mathematics') | (DF_raw['Major_category']=='Engineering') | (DF_raw['Major_category']=='Physical Sciences')\n",
    "DF_STEM = DF_stem[mask]\n",
    "show(DF_STEM)"
   ]
  },
  {
   "cell_type": "markdown",
   "id": "2c7313e2-3c92-421e-bdb9-705fa0e6e2a2",
   "metadata": {},
   "source": [
    "##### I created a Data Frame for only STEM majors by creating created a data frame with only the 'Major_category', 'Median', 'Women', and 'Employed' columns. Then, I created a mask that would make the 'Major_category' column exactly equal to the prevously stated STEM majors. Finally, I created a new data frame with the mask."
   ]
  },
  {
   "cell_type": "code",
   "execution_count": 1325,
   "id": "67ae6f15-0e15-4e03-b0eb-7823bd389771",
   "metadata": {},
   "outputs": [
    {
     "data": {
      "text/html": [
       "<table id=\"itables_bf7f2ce7_a13d_43e9_913e_9ff7bcd8cfe1\" class=\"display nowrap\" data-quarto-disable-processing=\"true\" style=\"table-layout:auto;width:auto;margin:auto;caption-side:bottom\">\n",
       "<thead>\n",
       "    <tr style=\"text-align: right;\">\n",
       "      <th></th>\n",
       "      <th>Major_category</th>\n",
       "      <th>Median</th>\n",
       "      <th>Women</th>\n",
       "      <th>Employed</th>\n",
       "    </tr>\n",
       "  </thead><tbody><tr>\n",
       "<td style=\"vertical-align:middle; text-align:left\">\n",
       "<div style=\"float:left; margin-right: 10px;\">\n",
       "<a href=https://mwouts.github.io/itables/><svg class=\"main-svg\" xmlns=\"http://www.w3.org/2000/svg\" xmlns:xlink=\"http://www.w3.org/1999/xlink\"\n",
       "width=\"64\" viewBox=\"0 0 500 400\" style=\"font-family: 'Droid Sans', sans-serif;\">\n",
       "    <g style=\"fill:#d9d7fc\">\n",
       "        <path d=\"M100,400H500V357H100Z\" />\n",
       "        <path d=\"M100,300H400V257H100Z\" />\n",
       "        <path d=\"M0,200H400V157H0Z\" />\n",
       "        <path d=\"M100,100H500V57H100Z\" />\n",
       "        <path d=\"M100,350H500V307H100Z\" />\n",
       "        <path d=\"M100,250H400V207H100Z\" />\n",
       "        <path d=\"M0,150H400V107H0Z\" />\n",
       "        <path d=\"M100,50H500V7H100Z\" />\n",
       "    </g>\n",
       "    <g style=\"fill:#1a1366;stroke:#1a1366;\">\n",
       "   <rect x=\"100\" y=\"7\" width=\"400\" height=\"43\">\n",
       "    <animate\n",
       "      attributeName=\"width\"\n",
       "      values=\"0;400;0\"\n",
       "      dur=\"5s\"\n",
       "      repeatCount=\"indefinite\" />\n",
       "      <animate\n",
       "      attributeName=\"x\"\n",
       "      values=\"100;100;500\"\n",
       "      dur=\"5s\"\n",
       "      repeatCount=\"indefinite\" />\n",
       "  </rect>\n",
       "        <rect x=\"0\" y=\"107\" width=\"400\" height=\"43\">\n",
       "    <animate\n",
       "      attributeName=\"width\"\n",
       "      values=\"0;400;0\"\n",
       "      dur=\"3.5s\"\n",
       "      repeatCount=\"indefinite\" />\n",
       "    <animate\n",
       "      attributeName=\"x\"\n",
       "      values=\"0;0;400\"\n",
       "      dur=\"3.5s\"\n",
       "      repeatCount=\"indefinite\" />\n",
       "  </rect>\n",
       "        <rect x=\"100\" y=\"207\" width=\"300\" height=\"43\">\n",
       "    <animate\n",
       "      attributeName=\"width\"\n",
       "      values=\"0;300;0\"\n",
       "      dur=\"3s\"\n",
       "      repeatCount=\"indefinite\" />\n",
       "    <animate\n",
       "      attributeName=\"x\"\n",
       "      values=\"100;100;400\"\n",
       "      dur=\"3s\"\n",
       "      repeatCount=\"indefinite\" />\n",
       "  </rect>\n",
       "        <rect x=\"100\" y=\"307\" width=\"400\" height=\"43\">\n",
       "    <animate\n",
       "      attributeName=\"width\"\n",
       "      values=\"0;400;0\"\n",
       "      dur=\"4s\"\n",
       "      repeatCount=\"indefinite\" />\n",
       "      <animate\n",
       "      attributeName=\"x\"\n",
       "      values=\"100;100;500\"\n",
       "      dur=\"4s\"\n",
       "      repeatCount=\"indefinite\" />\n",
       "  </rect>\n",
       "        <g style=\"fill:transparent;stroke-width:8; stroke-linejoin:round\" rx=\"5\">\n",
       "            <g transform=\"translate(45 50) rotate(-45)\">\n",
       "                <circle r=\"33\" cx=\"0\" cy=\"0\" />\n",
       "                <rect x=\"-8\" y=\"32\" width=\"16\" height=\"30\" />\n",
       "            </g>\n",
       "\n",
       "            <g transform=\"translate(450 152)\">\n",
       "                <polyline points=\"-15,-20 -35,-20 -35,40 25,40 25,20\" />\n",
       "                <rect x=\"-15\" y=\"-40\" width=\"60\" height=\"60\" />\n",
       "            </g>\n",
       "\n",
       "            <g transform=\"translate(50 352)\">\n",
       "                <polygon points=\"-35,-5 0,-40 35,-5\" />\n",
       "                <polygon points=\"-35,10 0,45 35,10\" />\n",
       "            </g>\n",
       "\n",
       "            <g transform=\"translate(75 250)\">\n",
       "                <polyline points=\"-30,30 -60,0 -30,-30\" />\n",
       "                <polyline points=\"0,30 -30,0 0,-30\" />\n",
       "            </g>\n",
       "\n",
       "            <g transform=\"translate(425 250) rotate(180)\">\n",
       "                <polyline points=\"-30,30 -60,0 -30,-30\" />\n",
       "                <polyline points=\"0,30 -30,0 0,-30\" />\n",
       "            </g>\n",
       "        </g>\n",
       "    </g>\n",
       "</svg>\n",
       "</a>\n",
       "</div>\n",
       "<div>\n",
       "Loading ITables v2.1.4 from the internet...\n",
       "(need <a href=https://mwouts.github.io/itables/troubleshooting.html>help</a>?)</td>\n",
       "</div>\n",
       "</tr></tbody>\n",
       "\n",
       "</table>\n",
       "<link href=\"https://www.unpkg.com/dt_for_itables@2.0.11/dt_bundle.css\" rel=\"stylesheet\">\n",
       "<script type=\"module\">\n",
       "    import {DataTable, jQuery as $} from 'https://www.unpkg.com/dt_for_itables@2.0.11/dt_bundle.js';\n",
       "\n",
       "    document.querySelectorAll(\"#itables_bf7f2ce7_a13d_43e9_913e_9ff7bcd8cfe1:not(.dataTable)\").forEach(table => {\n",
       "        // Define the table data\n",
       "        const data = [[6, \"Business\", 62000, 1667.0, 2912], [19, \"Law & Public Policy\", 54000, 271.0, 930], [21, \"Agriculture & Natural Resources\", 53000, NaN, 3149], [24, \"Business\", 51000, 5217.0, 16413], [26, \"Industrial Arts & Consumer Services\", 50000, 1678.0, 16318], [27, \"Business\", 50000, 3811.0, 10027], [29, \"Law & Public Policy\", 50000, 3339.0, 4547], [32, \"Arts\", 50000, 1370.0, 2914], [34, \"Health\", 48000, 187621.0, 180903], [35, \"Business\", 47000, 59476.0, 145696], [36, \"Social Science\", 47000, 49498.0, 104117], [37, \"Business\", 46000, 5727.0, 10914], [40, \"Business\", 45000, 104114.0, 165527], [44, \"Health\", 45000, 11998.0, 13150], [51, \"Health\", 42000, 10320.0, 9168], [55, \"Education\", 41000, 699.0, 730], [56, \"Social Science\", 40100, 17842.0, 21190], [57, \"Business\", 40000, 102352.0, 190183], [59, \"Business\", 40000, 15270.0, 19660], [60, \"Health\", 40000, 14854.0, 16620], [62, \"Business\", 40000, 7662.0, 14826], [63, \"Agriculture & Natural Resources\", 40000, 4582.0, 12323], [64, \"Agriculture & Natural Resources\", 40000, 4346.0, 8884], [68, \"Social Science\", 40000, 1784.0, 2727], [69, \"Humanities & Liberal Arts\", 40000, 1323.0, 2787], [70, \"Psychology & Social Work\", 40000, 1939.0, 2343], [71, \"Agriculture & Natural Resources\", 40000, 690.0, 2174], [73, \"Industrial Arts & Consumer Services\", 40000, 0.0, 0], [75, \"Industrial Arts & Consumer Services\", 38400, 566.0, 2107], [76, \"Business\", 38000, 156118.0, 276234], [77, \"Business\", 38000, 126354.0, 178862], [78, \"Social Science\", 38000, 88741.0, 133454], [79, \"Social Science\", 38000, 7076.0, 14057], [86, \"Business\", 36000, 18313.0, 20760], [87, \"Law & Public Policy\", 36000, 9093.0, 9762], [88, \"Health\", 36000, 11797.0, 10076], [89, \"Law & Public Policy\", 36000, 2682.0, 4158], [91, \"Psychology & Social Work\", 36000, 973.0, 1080], [93, \"Communications & Journalism\", 35000, 143377.0, 179633], [94, \"Law & Public Policy\", 35000, 72593.0, 125393], [95, \"Arts\", 35000, 71439.0, 83483], [96, \"Communications & Journalism\", 35000, 48883.0, 61022], [98, \"Communications & Journalism\", 35000, 40300.0, 45326], [99, \"Humanities & Liberal Arts\", 35000, 22456.0, 24629], [100, \"Education\", 35000, 26057.0, 24639], [102, \"Social Science\", 35000, 9848.0, 16181], [103, \"Health\", 35000, 16346.0, 13217], [104, \"Health\", 35000, 13843.0, 15419], [106, \"Industrial Arts & Consumer Services\", 35000, 1893.0, 12266], [107, \"Agriculture & Natural Resources\", 35000, 5156.0, 11797], [109, \"Interdisciplinary\", 35000, 9479.0, 9821], [111, \"Agriculture & Natural Resources\", 35000, 451.0, 3007], [112, \"Agriculture & Natural Resources\", 35000, 209.0, 613], [113, \"Education\", 34000, 116825.0, 118241], [114, \"Humanities & Liberal Arts\", 34000, 63698.0, 105646], [115, \"Humanities & Liberal Arts\", 34000, 35411.0, 38315], [116, \"Humanities & Liberal Arts\", 34000, 16075.0, 18824], [117, \"Education\", 34000, 10248.0, 17700], [118, \"Health\", 34000, 15632.0, 14512], [119, \"Education\", 34000, 10365.0, 13115], [120, \"Education\", 34000, 524.0, 703], [121, \"Health\", 33500, 7219.0, 7052], [124, \"Social Science\", 33000, 82923.0, 92721], [125, \"Communications & Journalism\", 33000, 28120.0, 44679], [126, \"Health\", 33000, 35004.0, 37861], [127, \"Business\", 33000, 28443.0, 36728], [128, \"Education\", 33000, 26730.0, 26033], [129, \"Humanities & Liberal Arts\", 33000, 12185.0, 11165], [130, \"Education\", 33000, 6496.0, 8691], [131, \"Social Science\", 33000, 7579.0, 7444], [133, \"Education\", 32500, 10305.0, 15116], [134, \"Health\", 32400, 26025.0, 24406], [135, \"Humanities & Liberal Arts\", 32200, 22847.0, 40157], [136, \"Education\", 32100, 23449.0, 30007], [137, \"Humanities & Liberal Arts\", 32000, 136446.0, 149180], [138, \"Education\", 32000, 157833.0, 149339], [139, \"Industrial Arts & Consumer Services\", 32000, 62893.0, 103078], [140, \"Humanities & Liberal Arts\", 32000, 49030.0, 54844], [141, \"Arts\", 32000, 16404.0, 31433], [142, \"Social Science\", 32000, 7841.0, 9602], [143, \"Agriculture & Natural Resources\", 32000, 2519.0, 6594], [144, \"Education\", 32000, 4434.0, 5362], [145, \"Psychology & Social Work\", 31500, 307087.0, 307933], [146, \"Arts\", 31000, 30724.0, 47662], [147, \"Education\", 31000, 12543.0, 23794], [148, \"Humanities & Liberal Arts\", 31000, 17790.0, 17579], [149, \"Arts\", 30500, 49654.0, 59679], [150, \"Industrial Arts & Consumer Services\", 30000, 52835.0, 46624], [151, \"Psychology & Social Work\", 30000, 48415.0, 45038], [152, \"Agriculture & Natural Resources\", 30000, 16226.0, 17112], [153, \"Arts\", 30000, 12117.0, 12870], [154, \"Education\", 30000, 11709.0, 13076], [155, \"Psychology & Social Work\", 30000, 7692.0, 7653], [156, \"Psychology & Social Work\", 30000, 8489.0, 8294], [157, \"Humanities & Liberal Arts\", 30000, 4639.0, 5052], [158, \"Humanities & Liberal Arts\", 29000, 11591.0, 24202], [159, \"Arts\", 29000, 12223.0, 13908], [160, \"Industrial Arts & Consumer Services\", 29000, 6146.0, 8650], [161, \"Agriculture & Natural Resources\", 29000, 1084.0, 1290], [162, \"Humanities & Liberal Arts\", 28000, 27468.0, 29633], [163, \"Health\", 28000, 37054.0, 29763], [164, \"Education\", 28000, 36422.0, 32551], [165, \"Humanities & Liberal Arts\", 27500, 7732.0, 7052], [166, \"Arts\", 27000, 28809.0, 36165], [167, \"Humanities & Liberal Arts\", 27000, 11931.0, 15053], [169, \"Psychology & Social Work\", 25000, 2332.0, 2125], [170, \"Psychology & Social Work\", 25000, 2270.0, 2101], [171, \"Psychology & Social Work\", 23400, 3695.0, 3777], [172, \"Education\", 22000, 964.0, 742]];\n",
       "\n",
       "        // Define the dt_args\n",
       "        let dt_args = {\"layout\": {\"topStart\": \"pageLength\", \"topEnd\": \"search\", \"bottomStart\": \"info\", \"bottomEnd\": \"paging\"}, \"order\": []};\n",
       "        dt_args[\"data\"] = data;\n",
       "\n",
       "        \n",
       "        new DataTable(table, dt_args);\n",
       "    });\n",
       "</script>\n"
      ],
      "text/plain": [
       "<IPython.core.display.HTML object>"
      ]
     },
     "metadata": {},
     "output_type": "display_data"
    }
   ],
   "source": [
    "mask = (DF_raw['Major_category']=='Agriculture & Natural Resources') | (DF_raw['Major_category']=='Arts') | (DF_raw['Major_category']=='Business') | (DF_raw['Major_category']=='Communications & Journalism') | (DF_raw['Major_category']=='Education') | (DF_raw['Major_category']=='Health') | (DF_raw['Major_category']=='Humanities & Liberal Arts') | (DF_raw['Major_category']=='Industrial Arts & Consumer Services') | (DF_raw['Major_category']=='Interdisciplinary') | (DF_raw['Major_category']=='Law & Public Policy') | (DF_raw['Major_category']=='Psychology & Social Work') | (DF_raw['Major_category']=='Social Science')\n",
    "DF_others = DF_stem[mask]\n",
    "show(DF_others)"
   ]
  },
  {
   "cell_type": "markdown",
   "id": "10f7584b-d4a7-4d9a-a05e-34f5996255c4",
   "metadata": {},
   "source": [
    "##### I created a data frame for every major that wasn't categorized as 'STEM' so I could complete the next question (this process was the same as the process for creating a data frame specifically for STEM majors)."
   ]
  },
  {
   "cell_type": "code",
   "execution_count": 1326,
   "id": "bd039933-8f9d-4913-8e42-84a86691ca77",
   "metadata": {},
   "outputs": [
    {
     "data": {
      "text/html": [
       "<div>\n",
       "<style scoped>\n",
       "    .dataframe tbody tr th:only-of-type {\n",
       "        vertical-align: middle;\n",
       "    }\n",
       "\n",
       "    .dataframe tbody tr th {\n",
       "        vertical-align: top;\n",
       "    }\n",
       "\n",
       "    .dataframe thead th {\n",
       "        text-align: right;\n",
       "    }\n",
       "</style>\n",
       "<table border=\"1\" class=\"dataframe\">\n",
       "  <thead>\n",
       "    <tr style=\"text-align: right;\">\n",
       "      <th></th>\n",
       "      <th>Median</th>\n",
       "    </tr>\n",
       "    <tr>\n",
       "      <th>Major_category</th>\n",
       "      <th></th>\n",
       "    </tr>\n",
       "  </thead>\n",
       "  <tbody>\n",
       "    <tr>\n",
       "      <th>Biology &amp; Life Science</th>\n",
       "      <td>36300.0</td>\n",
       "    </tr>\n",
       "    <tr>\n",
       "      <th>Computers &amp; Mathematics</th>\n",
       "      <td>45000.0</td>\n",
       "    </tr>\n",
       "    <tr>\n",
       "      <th>Engineering</th>\n",
       "      <td>57000.0</td>\n",
       "    </tr>\n",
       "    <tr>\n",
       "      <th>Physical Sciences</th>\n",
       "      <td>39500.0</td>\n",
       "    </tr>\n",
       "  </tbody>\n",
       "</table>\n",
       "</div>"
      ],
      "text/plain": [
       "                          Median\n",
       "Major_category                  \n",
       "Biology & Life Science   36300.0\n",
       "Computers & Mathematics  45000.0\n",
       "Engineering              57000.0\n",
       "Physical Sciences        39500.0"
      ]
     },
     "execution_count": 1326,
     "metadata": {},
     "output_type": "execute_result"
    }
   ],
   "source": [
    "my_columns = ['Median','Major_category']\n",
    "DF_STEM[my_columns].groupby('Major_category').median()"
   ]
  },
  {
   "cell_type": "code",
   "execution_count": 1327,
   "id": "ac200980-aaea-486e-b552-e6dc611de139",
   "metadata": {},
   "outputs": [
    {
     "data": {
      "text/html": [
       "<div>\n",
       "<style scoped>\n",
       "    .dataframe tbody tr th:only-of-type {\n",
       "        vertical-align: middle;\n",
       "    }\n",
       "\n",
       "    .dataframe tbody tr th {\n",
       "        vertical-align: top;\n",
       "    }\n",
       "\n",
       "    .dataframe thead th {\n",
       "        text-align: right;\n",
       "    }\n",
       "</style>\n",
       "<table border=\"1\" class=\"dataframe\">\n",
       "  <thead>\n",
       "    <tr style=\"text-align: right;\">\n",
       "      <th></th>\n",
       "      <th>Median</th>\n",
       "    </tr>\n",
       "    <tr>\n",
       "      <th>Major_category</th>\n",
       "      <th></th>\n",
       "    </tr>\n",
       "  </thead>\n",
       "  <tbody>\n",
       "    <tr>\n",
       "      <th>Agriculture &amp; Natural Resources</th>\n",
       "      <td>35000.0</td>\n",
       "    </tr>\n",
       "    <tr>\n",
       "      <th>Arts</th>\n",
       "      <td>30750.0</td>\n",
       "    </tr>\n",
       "    <tr>\n",
       "      <th>Business</th>\n",
       "      <td>40000.0</td>\n",
       "    </tr>\n",
       "    <tr>\n",
       "      <th>Communications &amp; Journalism</th>\n",
       "      <td>35000.0</td>\n",
       "    </tr>\n",
       "    <tr>\n",
       "      <th>Education</th>\n",
       "      <td>32750.0</td>\n",
       "    </tr>\n",
       "    <tr>\n",
       "      <th>Health</th>\n",
       "      <td>35000.0</td>\n",
       "    </tr>\n",
       "    <tr>\n",
       "      <th>Humanities &amp; Liberal Arts</th>\n",
       "      <td>32000.0</td>\n",
       "    </tr>\n",
       "    <tr>\n",
       "      <th>Industrial Arts &amp; Consumer Services</th>\n",
       "      <td>35000.0</td>\n",
       "    </tr>\n",
       "    <tr>\n",
       "      <th>Interdisciplinary</th>\n",
       "      <td>35000.0</td>\n",
       "    </tr>\n",
       "    <tr>\n",
       "      <th>Law &amp; Public Policy</th>\n",
       "      <td>36000.0</td>\n",
       "    </tr>\n",
       "    <tr>\n",
       "      <th>Psychology &amp; Social Work</th>\n",
       "      <td>30000.0</td>\n",
       "    </tr>\n",
       "    <tr>\n",
       "      <th>Social Science</th>\n",
       "      <td>38000.0</td>\n",
       "    </tr>\n",
       "  </tbody>\n",
       "</table>\n",
       "</div>"
      ],
      "text/plain": [
       "                                      Median\n",
       "Major_category                              \n",
       "Agriculture & Natural Resources      35000.0\n",
       "Arts                                 30750.0\n",
       "Business                             40000.0\n",
       "Communications & Journalism          35000.0\n",
       "Education                            32750.0\n",
       "Health                               35000.0\n",
       "Humanities & Liberal Arts            32000.0\n",
       "Industrial Arts & Consumer Services  35000.0\n",
       "Interdisciplinary                    35000.0\n",
       "Law & Public Policy                  36000.0\n",
       "Psychology & Social Work             30000.0\n",
       "Social Science                       38000.0"
      ]
     },
     "execution_count": 1327,
     "metadata": {},
     "output_type": "execute_result"
    }
   ],
   "source": [
    "my_columns = ['Median','Major_category']\n",
    "DF_others[my_columns].groupby('Major_category').median()"
   ]
  },
  {
   "cell_type": "markdown",
   "id": "240318f3-fc75-4aa9-bcb2-3ffc555a1cdb",
   "metadata": {},
   "source": [
    "#### Q3: Part 1; STEM majors income compared to other majors (Practice Exam)\n",
    "##### The total median for all (other) majors' median eanrings was $34541.67. Therefore, not one of the four STEM majors have median salaries equal to or less than the total median for all (other) majors' median earnings. "
   ]
  },
  {
   "cell_type": "code",
   "execution_count": 1329,
   "id": "4e0a96d0-07ee-4693-8972-829ab3518125",
   "metadata": {},
   "outputs": [
    {
     "data": {
      "text/html": [
       "<div>\n",
       "<style scoped>\n",
       "    .dataframe tbody tr th:only-of-type {\n",
       "        vertical-align: middle;\n",
       "    }\n",
       "\n",
       "    .dataframe tbody tr th {\n",
       "        vertical-align: top;\n",
       "    }\n",
       "\n",
       "    .dataframe thead th {\n",
       "        text-align: right;\n",
       "    }\n",
       "</style>\n",
       "<table border=\"1\" class=\"dataframe\">\n",
       "  <thead>\n",
       "    <tr style=\"text-align: right;\">\n",
       "      <th></th>\n",
       "      <th>Women</th>\n",
       "      <th>Major</th>\n",
       "      <th>Major_category</th>\n",
       "      <th>Employed</th>\n",
       "    </tr>\n",
       "  </thead>\n",
       "  <tbody>\n",
       "    <tr>\n",
       "      <th>145</th>\n",
       "      <td>307087.0</td>\n",
       "      <td>PSYCHOLOGY</td>\n",
       "      <td>Psychology &amp; Social Work</td>\n",
       "      <td>307933</td>\n",
       "    </tr>\n",
       "    <tr>\n",
       "      <th>34</th>\n",
       "      <td>187621.0</td>\n",
       "      <td>NURSING</td>\n",
       "      <td>Health</td>\n",
       "      <td>180903</td>\n",
       "    </tr>\n",
       "    <tr>\n",
       "      <th>123</th>\n",
       "      <td>168947.0</td>\n",
       "      <td>BIOLOGY</td>\n",
       "      <td>Biology &amp; Life Science</td>\n",
       "      <td>182295</td>\n",
       "    </tr>\n",
       "    <tr>\n",
       "      <th>138</th>\n",
       "      <td>157833.0</td>\n",
       "      <td>ELEMENTARY EDUCATION</td>\n",
       "      <td>Education</td>\n",
       "      <td>149339</td>\n",
       "    </tr>\n",
       "    <tr>\n",
       "      <th>76</th>\n",
       "      <td>156118.0</td>\n",
       "      <td>BUSINESS MANAGEMENT AND ADMINISTRATION</td>\n",
       "      <td>Business</td>\n",
       "      <td>276234</td>\n",
       "    </tr>\n",
       "    <tr>\n",
       "      <th>...</th>\n",
       "      <td>...</td>\n",
       "      <td>...</td>\n",
       "      <td>...</td>\n",
       "      <td>...</td>\n",
       "    </tr>\n",
       "    <tr>\n",
       "      <th>2</th>\n",
       "      <td>131.0</td>\n",
       "      <td>METALLURGICAL ENGINEERING</td>\n",
       "      <td>Engineering</td>\n",
       "      <td>648</td>\n",
       "    </tr>\n",
       "    <tr>\n",
       "      <th>52</th>\n",
       "      <td>109.0</td>\n",
       "      <td>MATHEMATICS AND COMPUTER SCIENCE</td>\n",
       "      <td>Computers &amp; Mathematics</td>\n",
       "      <td>559</td>\n",
       "    </tr>\n",
       "    <tr>\n",
       "      <th>1</th>\n",
       "      <td>77.0</td>\n",
       "      <td>MINING AND MINERAL ENGINEERING</td>\n",
       "      <td>Engineering</td>\n",
       "      <td>640</td>\n",
       "    </tr>\n",
       "    <tr>\n",
       "      <th>73</th>\n",
       "      <td>0.0</td>\n",
       "      <td>MILITARY TECHNOLOGIES</td>\n",
       "      <td>Industrial Arts &amp; Consumer Services</td>\n",
       "      <td>0</td>\n",
       "    </tr>\n",
       "    <tr>\n",
       "      <th>21</th>\n",
       "      <td>NaN</td>\n",
       "      <td>FOOD SCIENCE</td>\n",
       "      <td>Agriculture &amp; Natural Resources</td>\n",
       "      <td>3149</td>\n",
       "    </tr>\n",
       "  </tbody>\n",
       "</table>\n",
       "<p>173 rows × 4 columns</p>\n",
       "</div>"
      ],
      "text/plain": [
       "        Women                                   Major  \\\n",
       "145  307087.0                              PSYCHOLOGY   \n",
       "34   187621.0                                 NURSING   \n",
       "123  168947.0                                 BIOLOGY   \n",
       "138  157833.0                    ELEMENTARY EDUCATION   \n",
       "76   156118.0  BUSINESS MANAGEMENT AND ADMINISTRATION   \n",
       "..        ...                                     ...   \n",
       "2       131.0               METALLURGICAL ENGINEERING   \n",
       "52      109.0        MATHEMATICS AND COMPUTER SCIENCE   \n",
       "1        77.0          MINING AND MINERAL ENGINEERING   \n",
       "73        0.0                   MILITARY TECHNOLOGIES   \n",
       "21        NaN                            FOOD SCIENCE   \n",
       "\n",
       "                          Major_category  Employed  \n",
       "145             Psychology & Social Work    307933  \n",
       "34                                Health    180903  \n",
       "123               Biology & Life Science    182295  \n",
       "138                            Education    149339  \n",
       "76                              Business    276234  \n",
       "..                                   ...       ...  \n",
       "2                            Engineering       648  \n",
       "52               Computers & Mathematics       559  \n",
       "1                            Engineering       640  \n",
       "73   Industrial Arts & Consumer Services         0  \n",
       "21       Agriculture & Natural Resources      3149  \n",
       "\n",
       "[173 rows x 4 columns]"
      ]
     },
     "execution_count": 1329,
     "metadata": {},
     "output_type": "execute_result"
    }
   ],
   "source": [
    "#what types of majors do women tend to major in?\n",
    "variables = ['Women','Major','Major_category','Employed']\n",
    "DF_raw[variables].sort_values('Women',ascending=False)"
   ]
  },
  {
   "cell_type": "markdown",
   "id": "5bf4446d-3148-40f2-90ca-cd75619f06bf",
   "metadata": {},
   "source": [
    "#### Q3: Part 2\n",
    "##### Women tend to major in 'Psychology', 'Nursing', and 'Biology'."
   ]
  },
  {
   "cell_type": "code",
   "execution_count": 1331,
   "id": "98b16727-069a-4ea4-9667-a61edef19c04",
   "metadata": {},
   "outputs": [
    {
     "data": {
      "text/html": [
       "<div>\n",
       "<style scoped>\n",
       "    .dataframe tbody tr th:only-of-type {\n",
       "        vertical-align: middle;\n",
       "    }\n",
       "\n",
       "    .dataframe tbody tr th {\n",
       "        vertical-align: top;\n",
       "    }\n",
       "\n",
       "    .dataframe thead th {\n",
       "        text-align: right;\n",
       "    }\n",
       "</style>\n",
       "<table border=\"1\" class=\"dataframe\">\n",
       "  <thead>\n",
       "    <tr style=\"text-align: right;\">\n",
       "      <th></th>\n",
       "      <th>Women</th>\n",
       "      <th>Major_category</th>\n",
       "    </tr>\n",
       "  </thead>\n",
       "  <tbody>\n",
       "    <tr>\n",
       "      <th>123</th>\n",
       "      <td>168947.0</td>\n",
       "      <td>Biology &amp; Life Science</td>\n",
       "    </tr>\n",
       "    <tr>\n",
       "      <th>97</th>\n",
       "      <td>35037.0</td>\n",
       "      <td>Physical Sciences</td>\n",
       "    </tr>\n",
       "    <tr>\n",
       "      <th>74</th>\n",
       "      <td>33607.0</td>\n",
       "      <td>Physical Sciences</td>\n",
       "    </tr>\n",
       "    <tr>\n",
       "      <th>41</th>\n",
       "      <td>32441.0</td>\n",
       "      <td>Computers &amp; Mathematics</td>\n",
       "    </tr>\n",
       "    <tr>\n",
       "      <th>20</th>\n",
       "      <td>28576.0</td>\n",
       "      <td>Computers &amp; Mathematics</td>\n",
       "    </tr>\n",
       "    <tr>\n",
       "      <th>...</th>\n",
       "      <td>...</td>\n",
       "      <td>...</td>\n",
       "    </tr>\n",
       "    <tr>\n",
       "      <th>33</th>\n",
       "      <td>232.0</td>\n",
       "      <td>Engineering</td>\n",
       "    </tr>\n",
       "    <tr>\n",
       "      <th>3</th>\n",
       "      <td>135.0</td>\n",
       "      <td>Engineering</td>\n",
       "    </tr>\n",
       "    <tr>\n",
       "      <th>2</th>\n",
       "      <td>131.0</td>\n",
       "      <td>Engineering</td>\n",
       "    </tr>\n",
       "    <tr>\n",
       "      <th>52</th>\n",
       "      <td>109.0</td>\n",
       "      <td>Computers &amp; Mathematics</td>\n",
       "    </tr>\n",
       "    <tr>\n",
       "      <th>1</th>\n",
       "      <td>77.0</td>\n",
       "      <td>Engineering</td>\n",
       "    </tr>\n",
       "  </tbody>\n",
       "</table>\n",
       "<p>64 rows × 2 columns</p>\n",
       "</div>"
      ],
      "text/plain": [
       "        Women           Major_category\n",
       "123  168947.0   Biology & Life Science\n",
       "97    35037.0        Physical Sciences\n",
       "74    33607.0        Physical Sciences\n",
       "41    32441.0  Computers & Mathematics\n",
       "20    28576.0  Computers & Mathematics\n",
       "..        ...                      ...\n",
       "33      232.0              Engineering\n",
       "3       135.0              Engineering\n",
       "2       131.0              Engineering\n",
       "52      109.0  Computers & Mathematics\n",
       "1        77.0              Engineering\n",
       "\n",
       "[64 rows x 2 columns]"
      ]
     },
     "execution_count": 1331,
     "metadata": {},
     "output_type": "execute_result"
    }
   ],
   "source": [
    "#women in STEM majors\n",
    "variables = ['Women','Major_category']\n",
    "DF_STEM[variables].sort_values('Women',ascending=False)"
   ]
  },
  {
   "cell_type": "code",
   "execution_count": 1332,
   "id": "5dcd2f67-4070-4a8e-a6f1-4ae9e2b614dd",
   "metadata": {},
   "outputs": [],
   "source": [
    "# Create a scatterplot of median income vs. proportion of women in that major, coloured by whether the major is in a STEM field or not."
   ]
  },
  {
   "cell_type": "code",
   "execution_count": 1333,
   "id": "be654ff2-e684-4eda-8843-4ac9f07a74ae",
   "metadata": {},
   "outputs": [
    {
     "data": {
      "application/vnd.plotly.v1+json": {
       "config": {
        "plotlyServerURL": "https://plot.ly"
       },
       "data": [
        {
         "customdata": [
          [
           "Engineering"
          ],
          [
           "Engineering"
          ],
          [
           "Engineering"
          ],
          [
           "Engineering"
          ],
          [
           "Engineering"
          ],
          [
           "Engineering"
          ],
          [
           "Engineering"
          ],
          [
           "Engineering"
          ],
          [
           "Engineering"
          ],
          [
           "Engineering"
          ],
          [
           "Engineering"
          ],
          [
           "Engineering"
          ],
          [
           "Engineering"
          ],
          [
           "Engineering"
          ],
          [
           "Engineering"
          ],
          [
           "Engineering"
          ],
          [
           "Engineering"
          ],
          [
           "Engineering"
          ],
          [
           "Engineering"
          ],
          [
           "Engineering"
          ],
          [
           "Engineering"
          ],
          [
           "Engineering"
          ],
          [
           "Engineering"
          ],
          [
           "Engineering"
          ],
          [
           "Engineering"
          ],
          [
           "Engineering"
          ],
          [
           "Engineering"
          ],
          [
           "Engineering"
          ],
          [
           "Engineering"
          ]
         ],
         "hovertemplate": "Major_category=%{customdata[0]}<br>Median=%{x}<br>Women=%{y}<extra></extra>",
         "legendgroup": "Engineering",
         "marker": {
          "color": "crimson",
          "symbol": "circle"
         },
         "mode": "markers",
         "name": "Engineering",
         "orientation": "v",
         "showlegend": true,
         "type": "scatter",
         "x": [
          110000,
          75000,
          73000,
          70000,
          65000,
          65000,
          60000,
          60000,
          60000,
          60000,
          60000,
          60000,
          58000,
          57100,
          57000,
          56000,
          54000,
          52000,
          52000,
          50000,
          50000,
          50000,
          50000,
          50000,
          46000,
          44000,
          40000,
          40000,
          40000
         ],
         "xaxis": "x",
         "y": [
          282,
          77,
          131,
          135,
          11021,
          373,
          10907,
          16016,
          8284,
          2105,
          6548,
          1330,
          795,
          2863,
          6515,
          15469,
          990,
          3384,
          973,
          12072,
          1735,
          1385,
          905,
          232,
          1154,
          506,
          20957,
          1761,
          371
         ],
         "yaxis": "y"
        },
        {
         "customdata": [
          [
           "Business"
          ],
          [
           "Business"
          ],
          [
           "Business"
          ],
          [
           "Business"
          ],
          [
           "Business"
          ],
          [
           "Business"
          ],
          [
           "Business"
          ],
          [
           "Business"
          ],
          [
           "Business"
          ],
          [
           "Business"
          ],
          [
           "Business"
          ],
          [
           "Business"
          ],
          [
           "Business"
          ]
         ],
         "hovertemplate": "Major_category=%{customdata[0]}<br>Median=%{x}<br>Women=%{y}<extra></extra>",
         "legendgroup": "Business",
         "marker": {
          "color": "darkslategrey",
          "symbol": "circle"
         },
         "mode": "markers",
         "name": "Business",
         "orientation": "v",
         "showlegend": true,
         "type": "scatter",
         "x": [
          62000,
          51000,
          50000,
          47000,
          46000,
          45000,
          40000,
          40000,
          40000,
          38000,
          38000,
          36000,
          33000
         ],
         "xaxis": "x",
         "y": [
          1667,
          5217,
          3811,
          59476,
          5727,
          104114,
          102352,
          15270,
          7662,
          156118,
          126354,
          18313,
          28443
         ],
         "yaxis": "y"
        },
        {
         "customdata": [
          [
           "Physical Sciences"
          ],
          [
           "Physical Sciences"
          ],
          [
           "Physical Sciences"
          ],
          [
           "Physical Sciences"
          ],
          [
           "Physical Sciences"
          ],
          [
           "Physical Sciences"
          ],
          [
           "Physical Sciences"
          ],
          [
           "Physical Sciences"
          ],
          [
           "Physical Sciences"
          ],
          [
           "Physical Sciences"
          ]
         ],
         "hovertemplate": "Major_category=%{customdata[0]}<br>Median=%{x}<br>Women=%{y}<extra></extra>",
         "legendgroup": "Physical Sciences",
         "marker": {
          "color": "crimson",
          "symbol": "circle"
         },
         "mode": "markers",
         "name": "Physical Sciences",
         "orientation": "v",
         "showlegend": true,
         "type": "scatter",
         "x": [
          62000,
          46000,
          45000,
          44700,
          40000,
          39000,
          36200,
          36000,
          35000,
          35000
         ],
         "xaxis": "x",
         "y": [
          960,
          1588,
          9062,
          1666,
          542,
          33607,
          5159,
          1169,
          35037,
          1299
         ],
         "yaxis": "y"
        },
        {
         "customdata": [
          [
           "Law & Public Policy"
          ],
          [
           "Law & Public Policy"
          ],
          [
           "Law & Public Policy"
          ],
          [
           "Law & Public Policy"
          ],
          [
           "Law & Public Policy"
          ]
         ],
         "hovertemplate": "Major_category=%{customdata[0]}<br>Median=%{x}<br>Women=%{y}<extra></extra>",
         "legendgroup": "Law & Public Policy",
         "marker": {
          "color": "darkslategrey",
          "symbol": "circle"
         },
         "mode": "markers",
         "name": "Law & Public Policy",
         "orientation": "v",
         "showlegend": true,
         "type": "scatter",
         "x": [
          54000,
          50000,
          36000,
          36000,
          35000
         ],
         "xaxis": "x",
         "y": [
          271,
          3339,
          9093,
          2682,
          72593
         ],
         "yaxis": "y"
        },
        {
         "customdata": [
          [
           "Computers & Mathematics"
          ],
          [
           "Computers & Mathematics"
          ],
          [
           "Computers & Mathematics"
          ],
          [
           "Computers & Mathematics"
          ],
          [
           "Computers & Mathematics"
          ],
          [
           "Computers & Mathematics"
          ],
          [
           "Computers & Mathematics"
          ],
          [
           "Computers & Mathematics"
          ],
          [
           "Computers & Mathematics"
          ],
          [
           "Computers & Mathematics"
          ],
          [
           "Computers & Mathematics"
          ]
         ],
         "hovertemplate": "Major_category=%{customdata[0]}<br>Median=%{x}<br>Women=%{y}<extra></extra>",
         "legendgroup": "Computers & Mathematics",
         "marker": {
          "color": "crimson",
          "symbol": "circle"
         },
         "mode": "markers",
         "name": "Computers & Mathematics",
         "orientation": "v",
         "showlegend": true,
         "type": "scatter",
         "x": [
          53000,
          45000,
          45000,
          45000,
          45000,
          45000,
          42000,
          41300,
          37500,
          36400,
          35000
         ],
         "xaxis": "x",
         "y": [
          28576,
          32441,
          9306,
          2908,
          3291,
          2145,
          109,
          1122,
          1459,
          2322,
          6604
         ],
         "yaxis": "y"
        },
        {
         "customdata": [
          [
           "Agriculture & Natural Resources"
          ],
          [
           "Agriculture & Natural Resources"
          ],
          [
           "Agriculture & Natural Resources"
          ],
          [
           "Agriculture & Natural Resources"
          ],
          [
           "Agriculture & Natural Resources"
          ],
          [
           "Agriculture & Natural Resources"
          ],
          [
           "Agriculture & Natural Resources"
          ],
          [
           "Agriculture & Natural Resources"
          ],
          [
           "Agriculture & Natural Resources"
          ],
          [
           "Agriculture & Natural Resources"
          ]
         ],
         "hovertemplate": "Major_category=%{customdata[0]}<br>Median=%{x}<br>Women=%{y}<extra></extra>",
         "legendgroup": "Agriculture & Natural Resources",
         "marker": {
          "color": "darkslategrey",
          "symbol": "circle"
         },
         "mode": "markers",
         "name": "Agriculture & Natural Resources",
         "orientation": "v",
         "showlegend": true,
         "type": "scatter",
         "x": [
          53000,
          40000,
          40000,
          40000,
          35000,
          35000,
          35000,
          32000,
          30000,
          29000
         ],
         "xaxis": "x",
         "y": [
          null,
          4582,
          4346,
          690,
          5156,
          451,
          209,
          2519,
          16226,
          1084
         ],
         "yaxis": "y"
        },
        {
         "customdata": [
          [
           "Industrial Arts & Consumer Services"
          ],
          [
           "Industrial Arts & Consumer Services"
          ],
          [
           "Industrial Arts & Consumer Services"
          ],
          [
           "Industrial Arts & Consumer Services"
          ],
          [
           "Industrial Arts & Consumer Services"
          ],
          [
           "Industrial Arts & Consumer Services"
          ],
          [
           "Industrial Arts & Consumer Services"
          ]
         ],
         "hovertemplate": "Major_category=%{customdata[0]}<br>Median=%{x}<br>Women=%{y}<extra></extra>",
         "legendgroup": "Industrial Arts & Consumer Services",
         "marker": {
          "color": "darkslategrey",
          "symbol": "circle"
         },
         "mode": "markers",
         "name": "Industrial Arts & Consumer Services",
         "orientation": "v",
         "showlegend": true,
         "type": "scatter",
         "x": [
          50000,
          40000,
          38400,
          35000,
          32000,
          30000,
          29000
         ],
         "xaxis": "x",
         "y": [
          1678,
          0,
          566,
          1893,
          62893,
          52835,
          6146
         ],
         "yaxis": "y"
        },
        {
         "customdata": [
          [
           "Arts"
          ],
          [
           "Arts"
          ],
          [
           "Arts"
          ],
          [
           "Arts"
          ],
          [
           "Arts"
          ],
          [
           "Arts"
          ],
          [
           "Arts"
          ],
          [
           "Arts"
          ]
         ],
         "hovertemplate": "Major_category=%{customdata[0]}<br>Median=%{x}<br>Women=%{y}<extra></extra>",
         "legendgroup": "Arts",
         "marker": {
          "color": "darkslategrey",
          "symbol": "circle"
         },
         "mode": "markers",
         "name": "Arts",
         "orientation": "v",
         "showlegend": true,
         "type": "scatter",
         "x": [
          50000,
          35000,
          32000,
          31000,
          30500,
          30000,
          29000,
          27000
         ],
         "xaxis": "x",
         "y": [
          1370,
          71439,
          16404,
          30724,
          49654,
          12117,
          12223,
          28809
         ],
         "yaxis": "y"
        },
        {
         "customdata": [
          [
           "Health"
          ],
          [
           "Health"
          ],
          [
           "Health"
          ],
          [
           "Health"
          ],
          [
           "Health"
          ],
          [
           "Health"
          ],
          [
           "Health"
          ],
          [
           "Health"
          ],
          [
           "Health"
          ],
          [
           "Health"
          ],
          [
           "Health"
          ],
          [
           "Health"
          ]
         ],
         "hovertemplate": "Major_category=%{customdata[0]}<br>Median=%{x}<br>Women=%{y}<extra></extra>",
         "legendgroup": "Health",
         "marker": {
          "color": "darkslategrey",
          "symbol": "circle"
         },
         "mode": "markers",
         "name": "Health",
         "orientation": "v",
         "showlegend": true,
         "type": "scatter",
         "x": [
          48000,
          45000,
          42000,
          40000,
          36000,
          35000,
          35000,
          34000,
          33500,
          33000,
          32400,
          28000
         ],
         "xaxis": "x",
         "y": [
          187621,
          11998,
          10320,
          14854,
          11797,
          16346,
          13843,
          15632,
          7219,
          35004,
          26025,
          37054
         ],
         "yaxis": "y"
        },
        {
         "customdata": [
          [
           "Social Science"
          ],
          [
           "Social Science"
          ],
          [
           "Social Science"
          ],
          [
           "Social Science"
          ],
          [
           "Social Science"
          ],
          [
           "Social Science"
          ],
          [
           "Social Science"
          ],
          [
           "Social Science"
          ],
          [
           "Social Science"
          ]
         ],
         "hovertemplate": "Major_category=%{customdata[0]}<br>Median=%{x}<br>Women=%{y}<extra></extra>",
         "legendgroup": "Social Science",
         "marker": {
          "color": "darkslategrey",
          "symbol": "circle"
         },
         "mode": "markers",
         "name": "Social Science",
         "orientation": "v",
         "showlegend": true,
         "type": "scatter",
         "x": [
          47000,
          40100,
          40000,
          38000,
          38000,
          35000,
          33000,
          33000,
          32000
         ],
         "xaxis": "x",
         "y": [
          49498,
          17842,
          1784,
          88741,
          7076,
          9848,
          82923,
          7579,
          7841
         ],
         "yaxis": "y"
        },
        {
         "customdata": [
          [
           "Biology & Life Science"
          ],
          [
           "Biology & Life Science"
          ],
          [
           "Biology & Life Science"
          ],
          [
           "Biology & Life Science"
          ],
          [
           "Biology & Life Science"
          ],
          [
           "Biology & Life Science"
          ],
          [
           "Biology & Life Science"
          ],
          [
           "Biology & Life Science"
          ],
          [
           "Biology & Life Science"
          ],
          [
           "Biology & Life Science"
          ],
          [
           "Biology & Life Science"
          ],
          [
           "Biology & Life Science"
          ],
          [
           "Biology & Life Science"
          ],
          [
           "Biology & Life Science"
          ]
         ],
         "hovertemplate": "Major_category=%{customdata[0]}<br>Median=%{x}<br>Women=%{y}<extra></extra>",
         "legendgroup": "Biology & Life Science",
         "marker": {
          "color": "crimson",
          "symbol": "circle"
         },
         "mode": "markers",
         "name": "Biology & Life Science",
         "orientation": "v",
         "showlegend": true,
         "type": "scatter",
         "x": [
          45000,
          41000,
          40000,
          40000,
          38000,
          37400,
          37000,
          35600,
          35000,
          35000,
          33500,
          33400,
          33000,
          26000
         ],
         "xaxis": "x",
         "y": [
          1247,
          2164,
          10874,
          1874,
          8849,
          20156,
          703,
          15178,
          13638,
          8719,
          5959,
          168947,
          5276,
          5359
         ],
         "yaxis": "y"
        },
        {
         "customdata": [
          [
           "Education"
          ],
          [
           "Education"
          ],
          [
           "Education"
          ],
          [
           "Education"
          ],
          [
           "Education"
          ],
          [
           "Education"
          ],
          [
           "Education"
          ],
          [
           "Education"
          ],
          [
           "Education"
          ],
          [
           "Education"
          ],
          [
           "Education"
          ],
          [
           "Education"
          ],
          [
           "Education"
          ],
          [
           "Education"
          ],
          [
           "Education"
          ],
          [
           "Education"
          ]
         ],
         "hovertemplate": "Major_category=%{customdata[0]}<br>Median=%{x}<br>Women=%{y}<extra></extra>",
         "legendgroup": "Education",
         "marker": {
          "color": "darkslategrey",
          "symbol": "circle"
         },
         "mode": "markers",
         "name": "Education",
         "orientation": "v",
         "showlegend": true,
         "type": "scatter",
         "x": [
          41000,
          35000,
          34000,
          34000,
          34000,
          34000,
          33000,
          33000,
          32500,
          32100,
          32000,
          32000,
          31000,
          30000,
          28000,
          22000
         ],
         "xaxis": "x",
         "y": [
          699,
          26057,
          116825,
          10248,
          10365,
          524,
          26730,
          6496,
          10305,
          23449,
          157833,
          4434,
          12543,
          11709,
          36422,
          964
         ],
         "yaxis": "y"
        },
        {
         "customdata": [
          [
           "Humanities & Liberal Arts"
          ],
          [
           "Humanities & Liberal Arts"
          ],
          [
           "Humanities & Liberal Arts"
          ],
          [
           "Humanities & Liberal Arts"
          ],
          [
           "Humanities & Liberal Arts"
          ],
          [
           "Humanities & Liberal Arts"
          ],
          [
           "Humanities & Liberal Arts"
          ],
          [
           "Humanities & Liberal Arts"
          ],
          [
           "Humanities & Liberal Arts"
          ],
          [
           "Humanities & Liberal Arts"
          ],
          [
           "Humanities & Liberal Arts"
          ],
          [
           "Humanities & Liberal Arts"
          ],
          [
           "Humanities & Liberal Arts"
          ],
          [
           "Humanities & Liberal Arts"
          ],
          [
           "Humanities & Liberal Arts"
          ]
         ],
         "hovertemplate": "Major_category=%{customdata[0]}<br>Median=%{x}<br>Women=%{y}<extra></extra>",
         "legendgroup": "Humanities & Liberal Arts",
         "marker": {
          "color": "darkslategrey",
          "symbol": "circle"
         },
         "mode": "markers",
         "name": "Humanities & Liberal Arts",
         "orientation": "v",
         "showlegend": true,
         "type": "scatter",
         "x": [
          40000,
          35000,
          34000,
          34000,
          34000,
          33000,
          32200,
          32000,
          32000,
          31000,
          30000,
          29000,
          28000,
          27500,
          27000
         ],
         "xaxis": "x",
         "y": [
          1323,
          22456,
          63698,
          35411,
          16075,
          12185,
          22847,
          136446,
          49030,
          17790,
          4639,
          11591,
          27468,
          7732,
          11931
         ],
         "yaxis": "y"
        },
        {
         "customdata": [
          [
           "Psychology & Social Work"
          ],
          [
           "Psychology & Social Work"
          ],
          [
           "Psychology & Social Work"
          ],
          [
           "Psychology & Social Work"
          ],
          [
           "Psychology & Social Work"
          ],
          [
           "Psychology & Social Work"
          ],
          [
           "Psychology & Social Work"
          ],
          [
           "Psychology & Social Work"
          ],
          [
           "Psychology & Social Work"
          ]
         ],
         "hovertemplate": "Major_category=%{customdata[0]}<br>Median=%{x}<br>Women=%{y}<extra></extra>",
         "legendgroup": "Psychology & Social Work",
         "marker": {
          "color": "darkslategrey",
          "symbol": "circle"
         },
         "mode": "markers",
         "name": "Psychology & Social Work",
         "orientation": "v",
         "showlegend": true,
         "type": "scatter",
         "x": [
          40000,
          36000,
          31500,
          30000,
          30000,
          30000,
          25000,
          25000,
          23400
         ],
         "xaxis": "x",
         "y": [
          1939,
          973,
          307087,
          48415,
          7692,
          8489,
          2332,
          2270,
          3695
         ],
         "yaxis": "y"
        },
        {
         "customdata": [
          [
           "Communications & Journalism"
          ],
          [
           "Communications & Journalism"
          ],
          [
           "Communications & Journalism"
          ],
          [
           "Communications & Journalism"
          ]
         ],
         "hovertemplate": "Major_category=%{customdata[0]}<br>Median=%{x}<br>Women=%{y}<extra></extra>",
         "legendgroup": "Communications & Journalism",
         "marker": {
          "color": "darkslategrey",
          "symbol": "circle"
         },
         "mode": "markers",
         "name": "Communications & Journalism",
         "orientation": "v",
         "showlegend": true,
         "type": "scatter",
         "x": [
          35000,
          35000,
          35000,
          33000
         ],
         "xaxis": "x",
         "y": [
          143377,
          48883,
          40300,
          28120
         ],
         "yaxis": "y"
        },
        {
         "customdata": [
          [
           "Interdisciplinary"
          ]
         ],
         "hovertemplate": "Major_category=%{customdata[0]}<br>Median=%{x}<br>Women=%{y}<extra></extra>",
         "legendgroup": "Interdisciplinary",
         "marker": {
          "color": "darkslategrey",
          "symbol": "circle"
         },
         "mode": "markers",
         "name": "Interdisciplinary",
         "orientation": "v",
         "showlegend": true,
         "type": "scatter",
         "x": [
          35000
         ],
         "xaxis": "x",
         "y": [
          9479
         ],
         "yaxis": "y"
        }
       ],
       "layout": {
        "autosize": true,
        "legend": {
         "title": {
          "text": "Major_category"
         },
         "tracegroupgap": 0
        },
        "template": {
         "data": {
          "bar": [
           {
            "error_x": {
             "color": "#2a3f5f"
            },
            "error_y": {
             "color": "#2a3f5f"
            },
            "marker": {
             "line": {
              "color": "#E5ECF6",
              "width": 0.5
             },
             "pattern": {
              "fillmode": "overlay",
              "size": 10,
              "solidity": 0.2
             }
            },
            "type": "bar"
           }
          ],
          "barpolar": [
           {
            "marker": {
             "line": {
              "color": "#E5ECF6",
              "width": 0.5
             },
             "pattern": {
              "fillmode": "overlay",
              "size": 10,
              "solidity": 0.2
             }
            },
            "type": "barpolar"
           }
          ],
          "carpet": [
           {
            "aaxis": {
             "endlinecolor": "#2a3f5f",
             "gridcolor": "white",
             "linecolor": "white",
             "minorgridcolor": "white",
             "startlinecolor": "#2a3f5f"
            },
            "baxis": {
             "endlinecolor": "#2a3f5f",
             "gridcolor": "white",
             "linecolor": "white",
             "minorgridcolor": "white",
             "startlinecolor": "#2a3f5f"
            },
            "type": "carpet"
           }
          ],
          "choropleth": [
           {
            "colorbar": {
             "outlinewidth": 0,
             "ticks": ""
            },
            "type": "choropleth"
           }
          ],
          "contour": [
           {
            "colorbar": {
             "outlinewidth": 0,
             "ticks": ""
            },
            "colorscale": [
             [
              0,
              "#0d0887"
             ],
             [
              0.1111111111111111,
              "#46039f"
             ],
             [
              0.2222222222222222,
              "#7201a8"
             ],
             [
              0.3333333333333333,
              "#9c179e"
             ],
             [
              0.4444444444444444,
              "#bd3786"
             ],
             [
              0.5555555555555556,
              "#d8576b"
             ],
             [
              0.6666666666666666,
              "#ed7953"
             ],
             [
              0.7777777777777778,
              "#fb9f3a"
             ],
             [
              0.8888888888888888,
              "#fdca26"
             ],
             [
              1,
              "#f0f921"
             ]
            ],
            "type": "contour"
           }
          ],
          "contourcarpet": [
           {
            "colorbar": {
             "outlinewidth": 0,
             "ticks": ""
            },
            "type": "contourcarpet"
           }
          ],
          "heatmap": [
           {
            "colorbar": {
             "outlinewidth": 0,
             "ticks": ""
            },
            "colorscale": [
             [
              0,
              "#0d0887"
             ],
             [
              0.1111111111111111,
              "#46039f"
             ],
             [
              0.2222222222222222,
              "#7201a8"
             ],
             [
              0.3333333333333333,
              "#9c179e"
             ],
             [
              0.4444444444444444,
              "#bd3786"
             ],
             [
              0.5555555555555556,
              "#d8576b"
             ],
             [
              0.6666666666666666,
              "#ed7953"
             ],
             [
              0.7777777777777778,
              "#fb9f3a"
             ],
             [
              0.8888888888888888,
              "#fdca26"
             ],
             [
              1,
              "#f0f921"
             ]
            ],
            "type": "heatmap"
           }
          ],
          "heatmapgl": [
           {
            "colorbar": {
             "outlinewidth": 0,
             "ticks": ""
            },
            "colorscale": [
             [
              0,
              "#0d0887"
             ],
             [
              0.1111111111111111,
              "#46039f"
             ],
             [
              0.2222222222222222,
              "#7201a8"
             ],
             [
              0.3333333333333333,
              "#9c179e"
             ],
             [
              0.4444444444444444,
              "#bd3786"
             ],
             [
              0.5555555555555556,
              "#d8576b"
             ],
             [
              0.6666666666666666,
              "#ed7953"
             ],
             [
              0.7777777777777778,
              "#fb9f3a"
             ],
             [
              0.8888888888888888,
              "#fdca26"
             ],
             [
              1,
              "#f0f921"
             ]
            ],
            "type": "heatmapgl"
           }
          ],
          "histogram": [
           {
            "marker": {
             "pattern": {
              "fillmode": "overlay",
              "size": 10,
              "solidity": 0.2
             }
            },
            "type": "histogram"
           }
          ],
          "histogram2d": [
           {
            "colorbar": {
             "outlinewidth": 0,
             "ticks": ""
            },
            "colorscale": [
             [
              0,
              "#0d0887"
             ],
             [
              0.1111111111111111,
              "#46039f"
             ],
             [
              0.2222222222222222,
              "#7201a8"
             ],
             [
              0.3333333333333333,
              "#9c179e"
             ],
             [
              0.4444444444444444,
              "#bd3786"
             ],
             [
              0.5555555555555556,
              "#d8576b"
             ],
             [
              0.6666666666666666,
              "#ed7953"
             ],
             [
              0.7777777777777778,
              "#fb9f3a"
             ],
             [
              0.8888888888888888,
              "#fdca26"
             ],
             [
              1,
              "#f0f921"
             ]
            ],
            "type": "histogram2d"
           }
          ],
          "histogram2dcontour": [
           {
            "colorbar": {
             "outlinewidth": 0,
             "ticks": ""
            },
            "colorscale": [
             [
              0,
              "#0d0887"
             ],
             [
              0.1111111111111111,
              "#46039f"
             ],
             [
              0.2222222222222222,
              "#7201a8"
             ],
             [
              0.3333333333333333,
              "#9c179e"
             ],
             [
              0.4444444444444444,
              "#bd3786"
             ],
             [
              0.5555555555555556,
              "#d8576b"
             ],
             [
              0.6666666666666666,
              "#ed7953"
             ],
             [
              0.7777777777777778,
              "#fb9f3a"
             ],
             [
              0.8888888888888888,
              "#fdca26"
             ],
             [
              1,
              "#f0f921"
             ]
            ],
            "type": "histogram2dcontour"
           }
          ],
          "mesh3d": [
           {
            "colorbar": {
             "outlinewidth": 0,
             "ticks": ""
            },
            "type": "mesh3d"
           }
          ],
          "parcoords": [
           {
            "line": {
             "colorbar": {
              "outlinewidth": 0,
              "ticks": ""
             }
            },
            "type": "parcoords"
           }
          ],
          "pie": [
           {
            "automargin": true,
            "type": "pie"
           }
          ],
          "scatter": [
           {
            "fillpattern": {
             "fillmode": "overlay",
             "size": 10,
             "solidity": 0.2
            },
            "type": "scatter"
           }
          ],
          "scatter3d": [
           {
            "line": {
             "colorbar": {
              "outlinewidth": 0,
              "ticks": ""
             }
            },
            "marker": {
             "colorbar": {
              "outlinewidth": 0,
              "ticks": ""
             }
            },
            "type": "scatter3d"
           }
          ],
          "scattercarpet": [
           {
            "marker": {
             "colorbar": {
              "outlinewidth": 0,
              "ticks": ""
             }
            },
            "type": "scattercarpet"
           }
          ],
          "scattergeo": [
           {
            "marker": {
             "colorbar": {
              "outlinewidth": 0,
              "ticks": ""
             }
            },
            "type": "scattergeo"
           }
          ],
          "scattergl": [
           {
            "marker": {
             "colorbar": {
              "outlinewidth": 0,
              "ticks": ""
             }
            },
            "type": "scattergl"
           }
          ],
          "scattermapbox": [
           {
            "marker": {
             "colorbar": {
              "outlinewidth": 0,
              "ticks": ""
             }
            },
            "type": "scattermapbox"
           }
          ],
          "scatterpolar": [
           {
            "marker": {
             "colorbar": {
              "outlinewidth": 0,
              "ticks": ""
             }
            },
            "type": "scatterpolar"
           }
          ],
          "scatterpolargl": [
           {
            "marker": {
             "colorbar": {
              "outlinewidth": 0,
              "ticks": ""
             }
            },
            "type": "scatterpolargl"
           }
          ],
          "scatterternary": [
           {
            "marker": {
             "colorbar": {
              "outlinewidth": 0,
              "ticks": ""
             }
            },
            "type": "scatterternary"
           }
          ],
          "surface": [
           {
            "colorbar": {
             "outlinewidth": 0,
             "ticks": ""
            },
            "colorscale": [
             [
              0,
              "#0d0887"
             ],
             [
              0.1111111111111111,
              "#46039f"
             ],
             [
              0.2222222222222222,
              "#7201a8"
             ],
             [
              0.3333333333333333,
              "#9c179e"
             ],
             [
              0.4444444444444444,
              "#bd3786"
             ],
             [
              0.5555555555555556,
              "#d8576b"
             ],
             [
              0.6666666666666666,
              "#ed7953"
             ],
             [
              0.7777777777777778,
              "#fb9f3a"
             ],
             [
              0.8888888888888888,
              "#fdca26"
             ],
             [
              1,
              "#f0f921"
             ]
            ],
            "type": "surface"
           }
          ],
          "table": [
           {
            "cells": {
             "fill": {
              "color": "#EBF0F8"
             },
             "line": {
              "color": "white"
             }
            },
            "header": {
             "fill": {
              "color": "#C8D4E3"
             },
             "line": {
              "color": "white"
             }
            },
            "type": "table"
           }
          ]
         },
         "layout": {
          "annotationdefaults": {
           "arrowcolor": "#2a3f5f",
           "arrowhead": 0,
           "arrowwidth": 1
          },
          "autotypenumbers": "strict",
          "coloraxis": {
           "colorbar": {
            "outlinewidth": 0,
            "ticks": ""
           }
          },
          "colorscale": {
           "diverging": [
            [
             0,
             "#8e0152"
            ],
            [
             0.1,
             "#c51b7d"
            ],
            [
             0.2,
             "#de77ae"
            ],
            [
             0.3,
             "#f1b6da"
            ],
            [
             0.4,
             "#fde0ef"
            ],
            [
             0.5,
             "#f7f7f7"
            ],
            [
             0.6,
             "#e6f5d0"
            ],
            [
             0.7,
             "#b8e186"
            ],
            [
             0.8,
             "#7fbc41"
            ],
            [
             0.9,
             "#4d9221"
            ],
            [
             1,
             "#276419"
            ]
           ],
           "sequential": [
            [
             0,
             "#0d0887"
            ],
            [
             0.1111111111111111,
             "#46039f"
            ],
            [
             0.2222222222222222,
             "#7201a8"
            ],
            [
             0.3333333333333333,
             "#9c179e"
            ],
            [
             0.4444444444444444,
             "#bd3786"
            ],
            [
             0.5555555555555556,
             "#d8576b"
            ],
            [
             0.6666666666666666,
             "#ed7953"
            ],
            [
             0.7777777777777778,
             "#fb9f3a"
            ],
            [
             0.8888888888888888,
             "#fdca26"
            ],
            [
             1,
             "#f0f921"
            ]
           ],
           "sequentialminus": [
            [
             0,
             "#0d0887"
            ],
            [
             0.1111111111111111,
             "#46039f"
            ],
            [
             0.2222222222222222,
             "#7201a8"
            ],
            [
             0.3333333333333333,
             "#9c179e"
            ],
            [
             0.4444444444444444,
             "#bd3786"
            ],
            [
             0.5555555555555556,
             "#d8576b"
            ],
            [
             0.6666666666666666,
             "#ed7953"
            ],
            [
             0.7777777777777778,
             "#fb9f3a"
            ],
            [
             0.8888888888888888,
             "#fdca26"
            ],
            [
             1,
             "#f0f921"
            ]
           ]
          },
          "colorway": [
           "#636efa",
           "#EF553B",
           "#00cc96",
           "#ab63fa",
           "#FFA15A",
           "#19d3f3",
           "#FF6692",
           "#B6E880",
           "#FF97FF",
           "#FECB52"
          ],
          "font": {
           "color": "#2a3f5f"
          },
          "geo": {
           "bgcolor": "white",
           "lakecolor": "white",
           "landcolor": "#E5ECF6",
           "showlakes": true,
           "showland": true,
           "subunitcolor": "white"
          },
          "hoverlabel": {
           "align": "left"
          },
          "hovermode": "closest",
          "mapbox": {
           "style": "light"
          },
          "paper_bgcolor": "white",
          "plot_bgcolor": "#E5ECF6",
          "polar": {
           "angularaxis": {
            "gridcolor": "white",
            "linecolor": "white",
            "ticks": ""
           },
           "bgcolor": "#E5ECF6",
           "radialaxis": {
            "gridcolor": "white",
            "linecolor": "white",
            "ticks": ""
           }
          },
          "scene": {
           "xaxis": {
            "backgroundcolor": "#E5ECF6",
            "gridcolor": "white",
            "gridwidth": 2,
            "linecolor": "white",
            "showbackground": true,
            "ticks": "",
            "zerolinecolor": "white"
           },
           "yaxis": {
            "backgroundcolor": "#E5ECF6",
            "gridcolor": "white",
            "gridwidth": 2,
            "linecolor": "white",
            "showbackground": true,
            "ticks": "",
            "zerolinecolor": "white"
           },
           "zaxis": {
            "backgroundcolor": "#E5ECF6",
            "gridcolor": "white",
            "gridwidth": 2,
            "linecolor": "white",
            "showbackground": true,
            "ticks": "",
            "zerolinecolor": "white"
           }
          },
          "shapedefaults": {
           "line": {
            "color": "#2a3f5f"
           }
          },
          "ternary": {
           "aaxis": {
            "gridcolor": "white",
            "linecolor": "white",
            "ticks": ""
           },
           "baxis": {
            "gridcolor": "white",
            "linecolor": "white",
            "ticks": ""
           },
           "bgcolor": "#E5ECF6",
           "caxis": {
            "gridcolor": "white",
            "linecolor": "white",
            "ticks": ""
           }
          },
          "title": {
           "x": 0.05
          },
          "xaxis": {
           "automargin": true,
           "gridcolor": "white",
           "linecolor": "white",
           "ticks": "",
           "title": {
            "standoff": 15
           },
           "zerolinecolor": "white",
           "zerolinewidth": 2
          },
          "yaxis": {
           "automargin": true,
           "gridcolor": "white",
           "linecolor": "white",
           "ticks": "",
           "title": {
            "standoff": 15
           },
           "zerolinecolor": "white",
           "zerolinewidth": 2
          }
         }
        },
        "title": {
         "text": "Median Income vs. Proportion of Women in a given Major"
        },
        "xaxis": {
         "anchor": "y",
         "autorange": true,
         "domain": [
          0,
          1
         ],
         "range": [
          16000,
          116000
         ],
         "title": {
          "text": "Median"
         },
         "type": "linear"
        },
        "yaxis": {
         "anchor": "x",
         "autorange": true,
         "domain": [
          0,
          1
         ],
         "range": [
          -25342.131067961163,
          332429.13106796116
         ],
         "title": {
          "text": "Women"
         },
         "type": "linear"
        }
       }
      },
      "image/png": "[encoded data removed]",
      "text/html": [
       "<div>                            <div id=\"c10cff0c-1569-4248-9bf1-53f273949791\" class=\"plotly-graph-div\" style=\"height:525px; width:100%;\"></div>            <script type=\"text/javascript\">                require([\"plotly\"], function(Plotly) {                    window.PLOTLYENV=window.PLOTLYENV || {};                                    if (document.getElementById(\"c10cff0c-1569-4248-9bf1-53f273949791\")) {                    Plotly.newPlot(                        \"c10cff0c-1569-4248-9bf1-53f273949791\",                        [{\"customdata\":[[\"Engineering\"],[\"Engineering\"],[\"Engineering\"],[\"Engineering\"],[\"Engineering\"],[\"Engineering\"],[\"Engineering\"],[\"Engineering\"],[\"Engineering\"],[\"Engineering\"],[\"Engineering\"],[\"Engineering\"],[\"Engineering\"],[\"Engineering\"],[\"Engineering\"],[\"Engineering\"],[\"Engineering\"],[\"Engineering\"],[\"Engineering\"],[\"Engineering\"],[\"Engineering\"],[\"Engineering\"],[\"Engineering\"],[\"Engineering\"],[\"Engineering\"],[\"Engineering\"],[\"Engineering\"],[\"Engineering\"],[\"Engineering\"]],\"hovertemplate\":\"Major_category=%{customdata[0]}\\u003cbr\\u003eMedian=%{x}\\u003cbr\\u003eWomen=%{y}\\u003cextra\\u003e\\u003c\\u002fextra\\u003e\",\"legendgroup\":\"Engineering\",\"marker\":{\"color\":\"crimson\",\"symbol\":\"circle\"},\"mode\":\"markers\",\"name\":\"Engineering\",\"orientation\":\"v\",\"showlegend\":true,\"x\":[110000,75000,73000,70000,65000,65000,60000,60000,60000,60000,60000,60000,58000,57100,57000,56000,54000,52000,52000,50000,50000,50000,50000,50000,46000,44000,40000,40000,40000],\"xaxis\":\"x\",\"y\":[282.0,77.0,131.0,135.0,11021.0,373.0,10907.0,16016.0,8284.0,2105.0,6548.0,1330.0,795.0,2863.0,6515.0,15469.0,990.0,3384.0,973.0,12072.0,1735.0,1385.0,905.0,232.0,1154.0,506.0,20957.0,1761.0,371.0],\"yaxis\":\"y\",\"type\":\"scatter\"},{\"customdata\":[[\"Business\"],[\"Business\"],[\"Business\"],[\"Business\"],[\"Business\"],[\"Business\"],[\"Business\"],[\"Business\"],[\"Business\"],[\"Business\"],[\"Business\"],[\"Business\"],[\"Business\"]],\"hovertemplate\":\"Major_category=%{customdata[0]}\\u003cbr\\u003eMedian=%{x}\\u003cbr\\u003eWomen=%{y}\\u003cextra\\u003e\\u003c\\u002fextra\\u003e\",\"legendgroup\":\"Business\",\"marker\":{\"color\":\"darkslategrey\",\"symbol\":\"circle\"},\"mode\":\"markers\",\"name\":\"Business\",\"orientation\":\"v\",\"showlegend\":true,\"x\":[62000,51000,50000,47000,46000,45000,40000,40000,40000,38000,38000,36000,33000],\"xaxis\":\"x\",\"y\":[1667.0,5217.0,3811.0,59476.0,5727.0,104114.0,102352.0,15270.0,7662.0,156118.0,126354.0,18313.0,28443.0],\"yaxis\":\"y\",\"type\":\"scatter\"},{\"customdata\":[[\"Physical Sciences\"],[\"Physical Sciences\"],[\"Physical Sciences\"],[\"Physical Sciences\"],[\"Physical Sciences\"],[\"Physical Sciences\"],[\"Physical Sciences\"],[\"Physical Sciences\"],[\"Physical Sciences\"],[\"Physical Sciences\"]],\"hovertemplate\":\"Major_category=%{customdata[0]}\\u003cbr\\u003eMedian=%{x}\\u003cbr\\u003eWomen=%{y}\\u003cextra\\u003e\\u003c\\u002fextra\\u003e\",\"legendgroup\":\"Physical Sciences\",\"marker\":{\"color\":\"crimson\",\"symbol\":\"circle\"},\"mode\":\"markers\",\"name\":\"Physical Sciences\",\"orientation\":\"v\",\"showlegend\":true,\"x\":[62000,46000,45000,44700,40000,39000,36200,36000,35000,35000],\"xaxis\":\"x\",\"y\":[960.0,1588.0,9062.0,1666.0,542.0,33607.0,5159.0,1169.0,35037.0,1299.0],\"yaxis\":\"y\",\"type\":\"scatter\"},{\"customdata\":[[\"Law & Public Policy\"],[\"Law & Public Policy\"],[\"Law & Public Policy\"],[\"Law & Public Policy\"],[\"Law & Public Policy\"]],\"hovertemplate\":\"Major_category=%{customdata[0]}\\u003cbr\\u003eMedian=%{x}\\u003cbr\\u003eWomen=%{y}\\u003cextra\\u003e\\u003c\\u002fextra\\u003e\",\"legendgroup\":\"Law & Public Policy\",\"marker\":{\"color\":\"darkslategrey\",\"symbol\":\"circle\"},\"mode\":\"markers\",\"name\":\"Law & Public Policy\",\"orientation\":\"v\",\"showlegend\":true,\"x\":[54000,50000,36000,36000,35000],\"xaxis\":\"x\",\"y\":[271.0,3339.0,9093.0,2682.0,72593.0],\"yaxis\":\"y\",\"type\":\"scatter\"},{\"customdata\":[[\"Computers & Mathematics\"],[\"Computers & Mathematics\"],[\"Computers & Mathematics\"],[\"Computers & Mathematics\"],[\"Computers & Mathematics\"],[\"Computers & Mathematics\"],[\"Computers & Mathematics\"],[\"Computers & Mathematics\"],[\"Computers & Mathematics\"],[\"Computers & Mathematics\"],[\"Computers & Mathematics\"]],\"hovertemplate\":\"Major_category=%{customdata[0]}\\u003cbr\\u003eMedian=%{x}\\u003cbr\\u003eWomen=%{y}\\u003cextra\\u003e\\u003c\\u002fextra\\u003e\",\"legendgroup\":\"Computers & Mathematics\",\"marker\":{\"color\":\"crimson\",\"symbol\":\"circle\"},\"mode\":\"markers\",\"name\":\"Computers & Mathematics\",\"orientation\":\"v\",\"showlegend\":true,\"x\":[53000,45000,45000,45000,45000,45000,42000,41300,37500,36400,35000],\"xaxis\":\"x\",\"y\":[28576.0,32441.0,9306.0,2908.0,3291.0,2145.0,109.0,1122.0,1459.0,2322.0,6604.0],\"yaxis\":\"y\",\"type\":\"scatter\"},{\"customdata\":[[\"Agriculture & Natural Resources\"],[\"Agriculture & Natural Resources\"],[\"Agriculture & Natural Resources\"],[\"Agriculture & Natural Resources\"],[\"Agriculture & Natural Resources\"],[\"Agriculture & Natural Resources\"],[\"Agriculture & Natural Resources\"],[\"Agriculture & Natural Resources\"],[\"Agriculture & Natural Resources\"],[\"Agriculture & Natural Resources\"]],\"hovertemplate\":\"Major_category=%{customdata[0]}\\u003cbr\\u003eMedian=%{x}\\u003cbr\\u003eWomen=%{y}\\u003cextra\\u003e\\u003c\\u002fextra\\u003e\",\"legendgroup\":\"Agriculture & Natural Resources\",\"marker\":{\"color\":\"darkslategrey\",\"symbol\":\"circle\"},\"mode\":\"markers\",\"name\":\"Agriculture & Natural Resources\",\"orientation\":\"v\",\"showlegend\":true,\"x\":[53000,40000,40000,40000,35000,35000,35000,32000,30000,29000],\"xaxis\":\"x\",\"y\":[null,4582.0,4346.0,690.0,5156.0,451.0,209.0,2519.0,16226.0,1084.0],\"yaxis\":\"y\",\"type\":\"scatter\"},{\"customdata\":[[\"Industrial Arts & Consumer Services\"],[\"Industrial Arts & Consumer Services\"],[\"Industrial Arts & Consumer Services\"],[\"Industrial Arts & Consumer Services\"],[\"Industrial Arts & Consumer Services\"],[\"Industrial Arts & Consumer Services\"],[\"Industrial Arts & Consumer Services\"]],\"hovertemplate\":\"Major_category=%{customdata[0]}\\u003cbr\\u003eMedian=%{x}\\u003cbr\\u003eWomen=%{y}\\u003cextra\\u003e\\u003c\\u002fextra\\u003e\",\"legendgroup\":\"Industrial Arts & Consumer Services\",\"marker\":{\"color\":\"darkslategrey\",\"symbol\":\"circle\"},\"mode\":\"markers\",\"name\":\"Industrial Arts & Consumer Services\",\"orientation\":\"v\",\"showlegend\":true,\"x\":[50000,40000,38400,35000,32000,30000,29000],\"xaxis\":\"x\",\"y\":[1678.0,0.0,566.0,1893.0,62893.0,52835.0,6146.0],\"yaxis\":\"y\",\"type\":\"scatter\"},{\"customdata\":[[\"Arts\"],[\"Arts\"],[\"Arts\"],[\"Arts\"],[\"Arts\"],[\"Arts\"],[\"Arts\"],[\"Arts\"]],\"hovertemplate\":\"Major_category=%{customdata[0]}\\u003cbr\\u003eMedian=%{x}\\u003cbr\\u003eWomen=%{y}\\u003cextra\\u003e\\u003c\\u002fextra\\u003e\",\"legendgroup\":\"Arts\",\"marker\":{\"color\":\"darkslategrey\",\"symbol\":\"circle\"},\"mode\":\"markers\",\"name\":\"Arts\",\"orientation\":\"v\",\"showlegend\":true,\"x\":[50000,35000,32000,31000,30500,30000,29000,27000],\"xaxis\":\"x\",\"y\":[1370.0,71439.0,16404.0,30724.0,49654.0,12117.0,12223.0,28809.0],\"yaxis\":\"y\",\"type\":\"scatter\"},{\"customdata\":[[\"Health\"],[\"Health\"],[\"Health\"],[\"Health\"],[\"Health\"],[\"Health\"],[\"Health\"],[\"Health\"],[\"Health\"],[\"Health\"],[\"Health\"],[\"Health\"]],\"hovertemplate\":\"Major_category=%{customdata[0]}\\u003cbr\\u003eMedian=%{x}\\u003cbr\\u003eWomen=%{y}\\u003cextra\\u003e\\u003c\\u002fextra\\u003e\",\"legendgroup\":\"Health\",\"marker\":{\"color\":\"darkslategrey\",\"symbol\":\"circle\"},\"mode\":\"markers\",\"name\":\"Health\",\"orientation\":\"v\",\"showlegend\":true,\"x\":[48000,45000,42000,40000,36000,35000,35000,34000,33500,33000,32400,28000],\"xaxis\":\"x\",\"y\":[187621.0,11998.0,10320.0,14854.0,11797.0,16346.0,13843.0,15632.0,7219.0,35004.0,26025.0,37054.0],\"yaxis\":\"y\",\"type\":\"scatter\"},{\"customdata\":[[\"Social Science\"],[\"Social Science\"],[\"Social Science\"],[\"Social Science\"],[\"Social Science\"],[\"Social Science\"],[\"Social Science\"],[\"Social Science\"],[\"Social Science\"]],\"hovertemplate\":\"Major_category=%{customdata[0]}\\u003cbr\\u003eMedian=%{x}\\u003cbr\\u003eWomen=%{y}\\u003cextra\\u003e\\u003c\\u002fextra\\u003e\",\"legendgroup\":\"Social Science\",\"marker\":{\"color\":\"darkslategrey\",\"symbol\":\"circle\"},\"mode\":\"markers\",\"name\":\"Social Science\",\"orientation\":\"v\",\"showlegend\":true,\"x\":[47000,40100,40000,38000,38000,35000,33000,33000,32000],\"xaxis\":\"x\",\"y\":[49498.0,17842.0,1784.0,88741.0,7076.0,9848.0,82923.0,7579.0,7841.0],\"yaxis\":\"y\",\"type\":\"scatter\"},{\"customdata\":[[\"Biology & Life Science\"],[\"Biology & Life Science\"],[\"Biology & Life Science\"],[\"Biology & Life Science\"],[\"Biology & Life Science\"],[\"Biology & Life Science\"],[\"Biology & Life Science\"],[\"Biology & Life Science\"],[\"Biology & Life Science\"],[\"Biology & Life Science\"],[\"Biology & Life Science\"],[\"Biology & Life Science\"],[\"Biology & Life Science\"],[\"Biology & Life Science\"]],\"hovertemplate\":\"Major_category=%{customdata[0]}\\u003cbr\\u003eMedian=%{x}\\u003cbr\\u003eWomen=%{y}\\u003cextra\\u003e\\u003c\\u002fextra\\u003e\",\"legendgroup\":\"Biology & Life Science\",\"marker\":{\"color\":\"crimson\",\"symbol\":\"circle\"},\"mode\":\"markers\",\"name\":\"Biology & Life Science\",\"orientation\":\"v\",\"showlegend\":true,\"x\":[45000,41000,40000,40000,38000,37400,37000,35600,35000,35000,33500,33400,33000,26000],\"xaxis\":\"x\",\"y\":[1247.0,2164.0,10874.0,1874.0,8849.0,20156.0,703.0,15178.0,13638.0,8719.0,5959.0,168947.0,5276.0,5359.0],\"yaxis\":\"y\",\"type\":\"scatter\"},{\"customdata\":[[\"Education\"],[\"Education\"],[\"Education\"],[\"Education\"],[\"Education\"],[\"Education\"],[\"Education\"],[\"Education\"],[\"Education\"],[\"Education\"],[\"Education\"],[\"Education\"],[\"Education\"],[\"Education\"],[\"Education\"],[\"Education\"]],\"hovertemplate\":\"Major_category=%{customdata[0]}\\u003cbr\\u003eMedian=%{x}\\u003cbr\\u003eWomen=%{y}\\u003cextra\\u003e\\u003c\\u002fextra\\u003e\",\"legendgroup\":\"Education\",\"marker\":{\"color\":\"darkslategrey\",\"symbol\":\"circle\"},\"mode\":\"markers\",\"name\":\"Education\",\"orientation\":\"v\",\"showlegend\":true,\"x\":[41000,35000,34000,34000,34000,34000,33000,33000,32500,32100,32000,32000,31000,30000,28000,22000],\"xaxis\":\"x\",\"y\":[699.0,26057.0,116825.0,10248.0,10365.0,524.0,26730.0,6496.0,10305.0,23449.0,157833.0,4434.0,12543.0,11709.0,36422.0,964.0],\"yaxis\":\"y\",\"type\":\"scatter\"},{\"customdata\":[[\"Humanities & Liberal Arts\"],[\"Humanities & Liberal Arts\"],[\"Humanities & Liberal Arts\"],[\"Humanities & Liberal Arts\"],[\"Humanities & Liberal Arts\"],[\"Humanities & Liberal Arts\"],[\"Humanities & Liberal Arts\"],[\"Humanities & Liberal Arts\"],[\"Humanities & Liberal Arts\"],[\"Humanities & Liberal Arts\"],[\"Humanities & Liberal Arts\"],[\"Humanities & Liberal Arts\"],[\"Humanities & Liberal Arts\"],[\"Humanities & Liberal Arts\"],[\"Humanities & Liberal Arts\"]],\"hovertemplate\":\"Major_category=%{customdata[0]}\\u003cbr\\u003eMedian=%{x}\\u003cbr\\u003eWomen=%{y}\\u003cextra\\u003e\\u003c\\u002fextra\\u003e\",\"legendgroup\":\"Humanities & Liberal Arts\",\"marker\":{\"color\":\"darkslategrey\",\"symbol\":\"circle\"},\"mode\":\"markers\",\"name\":\"Humanities & Liberal Arts\",\"orientation\":\"v\",\"showlegend\":true,\"x\":[40000,35000,34000,34000,34000,33000,32200,32000,32000,31000,30000,29000,28000,27500,27000],\"xaxis\":\"x\",\"y\":[1323.0,22456.0,63698.0,35411.0,16075.0,12185.0,22847.0,136446.0,49030.0,17790.0,4639.0,11591.0,27468.0,7732.0,11931.0],\"yaxis\":\"y\",\"type\":\"scatter\"},{\"customdata\":[[\"Psychology & Social Work\"],[\"Psychology & Social Work\"],[\"Psychology & Social Work\"],[\"Psychology & Social Work\"],[\"Psychology & Social Work\"],[\"Psychology & Social Work\"],[\"Psychology & Social Work\"],[\"Psychology & Social Work\"],[\"Psychology & Social Work\"]],\"hovertemplate\":\"Major_category=%{customdata[0]}\\u003cbr\\u003eMedian=%{x}\\u003cbr\\u003eWomen=%{y}\\u003cextra\\u003e\\u003c\\u002fextra\\u003e\",\"legendgroup\":\"Psychology & Social Work\",\"marker\":{\"color\":\"darkslategrey\",\"symbol\":\"circle\"},\"mode\":\"markers\",\"name\":\"Psychology & Social Work\",\"orientation\":\"v\",\"showlegend\":true,\"x\":[40000,36000,31500,30000,30000,30000,25000,25000,23400],\"xaxis\":\"x\",\"y\":[1939.0,973.0,307087.0,48415.0,7692.0,8489.0,2332.0,2270.0,3695.0],\"yaxis\":\"y\",\"type\":\"scatter\"},{\"customdata\":[[\"Communications & Journalism\"],[\"Communications & Journalism\"],[\"Communications & Journalism\"],[\"Communications & Journalism\"]],\"hovertemplate\":\"Major_category=%{customdata[0]}\\u003cbr\\u003eMedian=%{x}\\u003cbr\\u003eWomen=%{y}\\u003cextra\\u003e\\u003c\\u002fextra\\u003e\",\"legendgroup\":\"Communications & Journalism\",\"marker\":{\"color\":\"darkslategrey\",\"symbol\":\"circle\"},\"mode\":\"markers\",\"name\":\"Communications & Journalism\",\"orientation\":\"v\",\"showlegend\":true,\"x\":[35000,35000,35000,33000],\"xaxis\":\"x\",\"y\":[143377.0,48883.0,40300.0,28120.0],\"yaxis\":\"y\",\"type\":\"scatter\"},{\"customdata\":[[\"Interdisciplinary\"]],\"hovertemplate\":\"Major_category=%{customdata[0]}\\u003cbr\\u003eMedian=%{x}\\u003cbr\\u003eWomen=%{y}\\u003cextra\\u003e\\u003c\\u002fextra\\u003e\",\"legendgroup\":\"Interdisciplinary\",\"marker\":{\"color\":\"darkslategrey\",\"symbol\":\"circle\"},\"mode\":\"markers\",\"name\":\"Interdisciplinary\",\"orientation\":\"v\",\"showlegend\":true,\"x\":[35000],\"xaxis\":\"x\",\"y\":[9479.0],\"yaxis\":\"y\",\"type\":\"scatter\"}],                        {\"template\":{\"data\":{\"histogram2dcontour\":[{\"type\":\"histogram2dcontour\",\"colorbar\":{\"outlinewidth\":0,\"ticks\":\"\"},\"colorscale\":[[0.0,\"#0d0887\"],[0.1111111111111111,\"#46039f\"],[0.2222222222222222,\"#7201a8\"],[0.3333333333333333,\"#9c179e\"],[0.4444444444444444,\"#bd3786\"],[0.5555555555555556,\"#d8576b\"],[0.6666666666666666,\"#ed7953\"],[0.7777777777777778,\"#fb9f3a\"],[0.8888888888888888,\"#fdca26\"],[1.0,\"#f0f921\"]]}],\"choropleth\":[{\"type\":\"choropleth\",\"colorbar\":{\"outlinewidth\":0,\"ticks\":\"\"}}],\"histogram2d\":[{\"type\":\"histogram2d\",\"colorbar\":{\"outlinewidth\":0,\"ticks\":\"\"},\"colorscale\":[[0.0,\"#0d0887\"],[0.1111111111111111,\"#46039f\"],[0.2222222222222222,\"#7201a8\"],[0.3333333333333333,\"#9c179e\"],[0.4444444444444444,\"#bd3786\"],[0.5555555555555556,\"#d8576b\"],[0.6666666666666666,\"#ed7953\"],[0.7777777777777778,\"#fb9f3a\"],[0.8888888888888888,\"#fdca26\"],[1.0,\"#f0f921\"]]}],\"heatmap\":[{\"type\":\"heatmap\",\"colorbar\":{\"outlinewidth\":0,\"ticks\":\"\"},\"colorscale\":[[0.0,\"#0d0887\"],[0.1111111111111111,\"#46039f\"],[0.2222222222222222,\"#7201a8\"],[0.3333333333333333,\"#9c179e\"],[0.4444444444444444,\"#bd3786\"],[0.5555555555555556,\"#d8576b\"],[0.6666666666666666,\"#ed7953\"],[0.7777777777777778,\"#fb9f3a\"],[0.8888888888888888,\"#fdca26\"],[1.0,\"#f0f921\"]]}],\"heatmapgl\":[{\"type\":\"heatmapgl\",\"colorbar\":{\"outlinewidth\":0,\"ticks\":\"\"},\"colorscale\":[[0.0,\"#0d0887\"],[0.1111111111111111,\"#46039f\"],[0.2222222222222222,\"#7201a8\"],[0.3333333333333333,\"#9c179e\"],[0.4444444444444444,\"#bd3786\"],[0.5555555555555556,\"#d8576b\"],[0.6666666666666666,\"#ed7953\"],[0.7777777777777778,\"#fb9f3a\"],[0.8888888888888888,\"#fdca26\"],[1.0,\"#f0f921\"]]}],\"contourcarpet\":[{\"type\":\"contourcarpet\",\"colorbar\":{\"outlinewidth\":0,\"ticks\":\"\"}}],\"contour\":[{\"type\":\"contour\",\"colorbar\":{\"outlinewidth\":0,\"ticks\":\"\"},\"colorscale\":[[0.0,\"#0d0887\"],[0.1111111111111111,\"#46039f\"],[0.2222222222222222,\"#7201a8\"],[0.3333333333333333,\"#9c179e\"],[0.4444444444444444,\"#bd3786\"],[0.5555555555555556,\"#d8576b\"],[0.6666666666666666,\"#ed7953\"],[0.7777777777777778,\"#fb9f3a\"],[0.8888888888888888,\"#fdca26\"],[1.0,\"#f0f921\"]]}],\"surface\":[{\"type\":\"surface\",\"colorbar\":{\"outlinewidth\":0,\"ticks\":\"\"},\"colorscale\":[[0.0,\"#0d0887\"],[0.1111111111111111,\"#46039f\"],[0.2222222222222222,\"#7201a8\"],[0.3333333333333333,\"#9c179e\"],[0.4444444444444444,\"#bd3786\"],[0.5555555555555556,\"#d8576b\"],[0.6666666666666666,\"#ed7953\"],[0.7777777777777778,\"#fb9f3a\"],[0.8888888888888888,\"#fdca26\"],[1.0,\"#f0f921\"]]}],\"mesh3d\":[{\"type\":\"mesh3d\",\"colorbar\":{\"outlinewidth\":0,\"ticks\":\"\"}}],\"scatter\":[{\"fillpattern\":{\"fillmode\":\"overlay\",\"size\":10,\"solidity\":0.2},\"type\":\"scatter\"}],\"parcoords\":[{\"type\":\"parcoords\",\"line\":{\"colorbar\":{\"outlinewidth\":0,\"ticks\":\"\"}}}],\"scatterpolargl\":[{\"type\":\"scatterpolargl\",\"marker\":{\"colorbar\":{\"outlinewidth\":0,\"ticks\":\"\"}}}],\"bar\":[{\"error_x\":{\"color\":\"#2a3f5f\"},\"error_y\":{\"color\":\"#2a3f5f\"},\"marker\":{\"line\":{\"color\":\"#E5ECF6\",\"width\":0.5},\"pattern\":{\"fillmode\":\"overlay\",\"size\":10,\"solidity\":0.2}},\"type\":\"bar\"}],\"scattergeo\":[{\"type\":\"scattergeo\",\"marker\":{\"colorbar\":{\"outlinewidth\":0,\"ticks\":\"\"}}}],\"scatterpolar\":[{\"type\":\"scatterpolar\",\"marker\":{\"colorbar\":{\"outlinewidth\":0,\"ticks\":\"\"}}}],\"histogram\":[{\"marker\":{\"pattern\":{\"fillmode\":\"overlay\",\"size\":10,\"solidity\":0.2}},\"type\":\"histogram\"}],\"scattergl\":[{\"type\":\"scattergl\",\"marker\":{\"colorbar\":{\"outlinewidth\":0,\"ticks\":\"\"}}}],\"scatter3d\":[{\"type\":\"scatter3d\",\"line\":{\"colorbar\":{\"outlinewidth\":0,\"ticks\":\"\"}},\"marker\":{\"colorbar\":{\"outlinewidth\":0,\"ticks\":\"\"}}}],\"scattermapbox\":[{\"type\":\"scattermapbox\",\"marker\":{\"colorbar\":{\"outlinewidth\":0,\"ticks\":\"\"}}}],\"scatterternary\":[{\"type\":\"scatterternary\",\"marker\":{\"colorbar\":{\"outlinewidth\":0,\"ticks\":\"\"}}}],\"scattercarpet\":[{\"type\":\"scattercarpet\",\"marker\":{\"colorbar\":{\"outlinewidth\":0,\"ticks\":\"\"}}}],\"carpet\":[{\"aaxis\":{\"endlinecolor\":\"#2a3f5f\",\"gridcolor\":\"white\",\"linecolor\":\"white\",\"minorgridcolor\":\"white\",\"startlinecolor\":\"#2a3f5f\"},\"baxis\":{\"endlinecolor\":\"#2a3f5f\",\"gridcolor\":\"white\",\"linecolor\":\"white\",\"minorgridcolor\":\"white\",\"startlinecolor\":\"#2a3f5f\"},\"type\":\"carpet\"}],\"table\":[{\"cells\":{\"fill\":{\"color\":\"#EBF0F8\"},\"line\":{\"color\":\"white\"}},\"header\":{\"fill\":{\"color\":\"#C8D4E3\"},\"line\":{\"color\":\"white\"}},\"type\":\"table\"}],\"barpolar\":[{\"marker\":{\"line\":{\"color\":\"#E5ECF6\",\"width\":0.5},\"pattern\":{\"fillmode\":\"overlay\",\"size\":10,\"solidity\":0.2}},\"type\":\"barpolar\"}],\"pie\":[{\"automargin\":true,\"type\":\"pie\"}]},\"layout\":{\"autotypenumbers\":\"strict\",\"colorway\":[\"#636efa\",\"#EF553B\",\"#00cc96\",\"#ab63fa\",\"#FFA15A\",\"#19d3f3\",\"#FF6692\",\"#B6E880\",\"#FF97FF\",\"#FECB52\"],\"font\":{\"color\":\"#2a3f5f\"},\"hovermode\":\"closest\",\"hoverlabel\":{\"align\":\"left\"},\"paper_bgcolor\":\"white\",\"plot_bgcolor\":\"#E5ECF6\",\"polar\":{\"bgcolor\":\"#E5ECF6\",\"angularaxis\":{\"gridcolor\":\"white\",\"linecolor\":\"white\",\"ticks\":\"\"},\"radialaxis\":{\"gridcolor\":\"white\",\"linecolor\":\"white\",\"ticks\":\"\"}},\"ternary\":{\"bgcolor\":\"#E5ECF6\",\"aaxis\":{\"gridcolor\":\"white\",\"linecolor\":\"white\",\"ticks\":\"\"},\"baxis\":{\"gridcolor\":\"white\",\"linecolor\":\"white\",\"ticks\":\"\"},\"caxis\":{\"gridcolor\":\"white\",\"linecolor\":\"white\",\"ticks\":\"\"}},\"coloraxis\":{\"colorbar\":{\"outlinewidth\":0,\"ticks\":\"\"}},\"colorscale\":{\"sequential\":[[0.0,\"#0d0887\"],[0.1111111111111111,\"#46039f\"],[0.2222222222222222,\"#7201a8\"],[0.3333333333333333,\"#9c179e\"],[0.4444444444444444,\"#bd3786\"],[0.5555555555555556,\"#d8576b\"],[0.6666666666666666,\"#ed7953\"],[0.7777777777777778,\"#fb9f3a\"],[0.8888888888888888,\"#fdca26\"],[1.0,\"#f0f921\"]],\"sequentialminus\":[[0.0,\"#0d0887\"],[0.1111111111111111,\"#46039f\"],[0.2222222222222222,\"#7201a8\"],[0.3333333333333333,\"#9c179e\"],[0.4444444444444444,\"#bd3786\"],[0.5555555555555556,\"#d8576b\"],[0.6666666666666666,\"#ed7953\"],[0.7777777777777778,\"#fb9f3a\"],[0.8888888888888888,\"#fdca26\"],[1.0,\"#f0f921\"]],\"diverging\":[[0,\"#8e0152\"],[0.1,\"#c51b7d\"],[0.2,\"#de77ae\"],[0.3,\"#f1b6da\"],[0.4,\"#fde0ef\"],[0.5,\"#f7f7f7\"],[0.6,\"#e6f5d0\"],[0.7,\"#b8e186\"],[0.8,\"#7fbc41\"],[0.9,\"#4d9221\"],[1,\"#276419\"]]},\"xaxis\":{\"gridcolor\":\"white\",\"linecolor\":\"white\",\"ticks\":\"\",\"title\":{\"standoff\":15},\"zerolinecolor\":\"white\",\"automargin\":true,\"zerolinewidth\":2},\"yaxis\":{\"gridcolor\":\"white\",\"linecolor\":\"white\",\"ticks\":\"\",\"title\":{\"standoff\":15},\"zerolinecolor\":\"white\",\"automargin\":true,\"zerolinewidth\":2},\"scene\":{\"xaxis\":{\"backgroundcolor\":\"#E5ECF6\",\"gridcolor\":\"white\",\"linecolor\":\"white\",\"showbackground\":true,\"ticks\":\"\",\"zerolinecolor\":\"white\",\"gridwidth\":2},\"yaxis\":{\"backgroundcolor\":\"#E5ECF6\",\"gridcolor\":\"white\",\"linecolor\":\"white\",\"showbackground\":true,\"ticks\":\"\",\"zerolinecolor\":\"white\",\"gridwidth\":2},\"zaxis\":{\"backgroundcolor\":\"#E5ECF6\",\"gridcolor\":\"white\",\"linecolor\":\"white\",\"showbackground\":true,\"ticks\":\"\",\"zerolinecolor\":\"white\",\"gridwidth\":2}},\"shapedefaults\":{\"line\":{\"color\":\"#2a3f5f\"}},\"annotationdefaults\":{\"arrowcolor\":\"#2a3f5f\",\"arrowhead\":0,\"arrowwidth\":1},\"geo\":{\"bgcolor\":\"white\",\"landcolor\":\"#E5ECF6\",\"subunitcolor\":\"white\",\"showland\":true,\"showlakes\":true,\"lakecolor\":\"white\"},\"title\":{\"x\":0.05},\"mapbox\":{\"style\":\"light\"}}},\"xaxis\":{\"anchor\":\"y\",\"domain\":[0.0,1.0],\"title\":{\"text\":\"Median\"}},\"yaxis\":{\"anchor\":\"x\",\"domain\":[0.0,1.0],\"title\":{\"text\":\"Women\"}},\"legend\":{\"title\":{\"text\":\"Major_category\"},\"tracegroupgap\":0},\"title\":{\"text\":\"Median Income vs. Proportion of Women in a given Major\"}},                        {\"responsive\": true}                    ).then(function(){\n",
       "                            \n",
       "var gd = document.getElementById('c10cff0c-1569-4248-9bf1-53f273949791');\n",
       "var x = new MutationObserver(function (mutations, observer) {{\n",
       "        var display = window.getComputedStyle(gd).display;\n",
       "        if (!display || display === 'none') {{\n",
       "            console.log([gd, 'removed!']);\n",
       "            Plotly.purge(gd);\n",
       "            observer.disconnect();\n",
       "        }}\n",
       "}});\n",
       "\n",
       "// Listen for the removal of the full notebook cells\n",
       "var notebookContainer = gd.closest('#notebook-container');\n",
       "if (notebookContainer) {{\n",
       "    x.observe(notebookContainer, {childList: true});\n",
       "}}\n",
       "\n",
       "// Listen for the clearing of the current output cell\n",
       "var outputEl = gd.closest('.output');\n",
       "if (outputEl) {{\n",
       "    x.observe(outputEl, {childList: true});\n",
       "}}\n",
       "\n",
       "                        })                };                });            </script>        </div>"
      ]
     },
     "metadata": {},
     "output_type": "display_data"
    }
   ],
   "source": [
    "fig = px.scatter(DF_raw,\n",
    "                  x='Median',\n",
    "                 y='Women',\n",
    "                title='Median Income vs. Proportion of Women in a given Major',\n",
    "                hover_data='Major_category',\n",
    "                color='Major_category',\n",
    "                 color_discrete_map = {'Biology & Life Science': 'crimson', \n",
    "                                       'Computers & Mathematics': 'crimson',\n",
    "                                      'Engineering': 'crimson',\n",
    "                                      'Physical Sciences': 'crimson',\n",
    "                                      'Business':'darkslategrey',\n",
    "                                      'Law & Public Policy':'darkslategrey',\n",
    "                                      'Agriculture & Natural Resources': 'darkslategrey',\n",
    "                                      'Industrial Arts & Consumer Services': 'darkslategrey',\n",
    "                                      'Arts': 'darkslategrey',\n",
    "                                      'Health': 'darkslategrey',\n",
    "                                      'Social Science': 'darkslategrey',\n",
    "                                      'Education': 'darkslategrey',\n",
    "                                      'Humanities & Liberal Arts': 'darkslategrey',\n",
    "                                      'Psychology & Social Work': 'darkslategrey',\n",
    "                                      'Communications & Journalism': 'darkslategrey',\n",
    "                                      'Interdisciplinary': 'darkslategrey'})\n",
    "DF_scatter=fig\n",
    "DF_scatter.show()"
   ]
  },
  {
   "cell_type": "markdown",
   "id": "b9f65c22-2c17-495a-be1e-66e1dd2e183a",
   "metadata": {},
   "source": [
    "#### Q3: Part 2; scatterplot (Practice Exam)\n",
    "##### All in all, I have found that there are fewer women that study in STEM majors (the STEM majors are colored 'red'). Additionally, I found that people with STEM majors usually have a higher salary."
   ]
  },
  {
   "cell_type": "markdown",
   "id": "b3df8412-b946-4812-ba3b-873fb0eb8d7c",
   "metadata": {},
   "source": [
    "### 4. Ask a question of interest to you."
   ]
  },
  {
   "cell_type": "code",
   "execution_count": 1336,
   "id": "aa9c7a85-c062-494e-a2d7-8be12bf1991e",
   "metadata": {},
   "outputs": [
    {
     "data": {
      "text/html": [
       "<div>\n",
       "<style scoped>\n",
       "    .dataframe tbody tr th:only-of-type {\n",
       "        vertical-align: middle;\n",
       "    }\n",
       "\n",
       "    .dataframe tbody tr th {\n",
       "        vertical-align: top;\n",
       "    }\n",
       "\n",
       "    .dataframe thead th {\n",
       "        text-align: right;\n",
       "    }\n",
       "</style>\n",
       "<table border=\"1\" class=\"dataframe\">\n",
       "  <thead>\n",
       "    <tr style=\"text-align: right;\">\n",
       "      <th></th>\n",
       "      <th>Major</th>\n",
       "      <th>Major_category</th>\n",
       "      <th>Part_time</th>\n",
       "    </tr>\n",
       "  </thead>\n",
       "  <tbody>\n",
       "    <tr>\n",
       "      <th>0</th>\n",
       "      <td>PETROLEUM ENGINEERING</td>\n",
       "      <td>Engineering</td>\n",
       "      <td>270</td>\n",
       "    </tr>\n",
       "    <tr>\n",
       "      <th>1</th>\n",
       "      <td>MINING AND MINERAL ENGINEERING</td>\n",
       "      <td>Engineering</td>\n",
       "      <td>170</td>\n",
       "    </tr>\n",
       "    <tr>\n",
       "      <th>2</th>\n",
       "      <td>METALLURGICAL ENGINEERING</td>\n",
       "      <td>Engineering</td>\n",
       "      <td>133</td>\n",
       "    </tr>\n",
       "    <tr>\n",
       "      <th>3</th>\n",
       "      <td>NAVAL ARCHITECTURE AND MARINE ENGINEERING</td>\n",
       "      <td>Engineering</td>\n",
       "      <td>150</td>\n",
       "    </tr>\n",
       "    <tr>\n",
       "      <th>4</th>\n",
       "      <td>CHEMICAL ENGINEERING</td>\n",
       "      <td>Engineering</td>\n",
       "      <td>5180</td>\n",
       "    </tr>\n",
       "    <tr>\n",
       "      <th>...</th>\n",
       "      <td>...</td>\n",
       "      <td>...</td>\n",
       "      <td>...</td>\n",
       "    </tr>\n",
       "    <tr>\n",
       "      <th>168</th>\n",
       "      <td>ZOOLOGY</td>\n",
       "      <td>Biology &amp; Life Science</td>\n",
       "      <td>2190</td>\n",
       "    </tr>\n",
       "    <tr>\n",
       "      <th>169</th>\n",
       "      <td>EDUCATIONAL PSYCHOLOGY</td>\n",
       "      <td>Psychology &amp; Social Work</td>\n",
       "      <td>572</td>\n",
       "    </tr>\n",
       "    <tr>\n",
       "      <th>170</th>\n",
       "      <td>CLINICAL PSYCHOLOGY</td>\n",
       "      <td>Psychology &amp; Social Work</td>\n",
       "      <td>648</td>\n",
       "    </tr>\n",
       "    <tr>\n",
       "      <th>171</th>\n",
       "      <td>COUNSELING PSYCHOLOGY</td>\n",
       "      <td>Psychology &amp; Social Work</td>\n",
       "      <td>965</td>\n",
       "    </tr>\n",
       "    <tr>\n",
       "      <th>172</th>\n",
       "      <td>LIBRARY SCIENCE</td>\n",
       "      <td>Education</td>\n",
       "      <td>237</td>\n",
       "    </tr>\n",
       "  </tbody>\n",
       "</table>\n",
       "<p>173 rows × 3 columns</p>\n",
       "</div>"
      ],
      "text/plain": [
       "                                         Major            Major_category  \\\n",
       "0                        PETROLEUM ENGINEERING               Engineering   \n",
       "1               MINING AND MINERAL ENGINEERING               Engineering   \n",
       "2                    METALLURGICAL ENGINEERING               Engineering   \n",
       "3    NAVAL ARCHITECTURE AND MARINE ENGINEERING               Engineering   \n",
       "4                         CHEMICAL ENGINEERING               Engineering   \n",
       "..                                         ...                       ...   \n",
       "168                                    ZOOLOGY    Biology & Life Science   \n",
       "169                     EDUCATIONAL PSYCHOLOGY  Psychology & Social Work   \n",
       "170                        CLINICAL PSYCHOLOGY  Psychology & Social Work   \n",
       "171                      COUNSELING PSYCHOLOGY  Psychology & Social Work   \n",
       "172                            LIBRARY SCIENCE                 Education   \n",
       "\n",
       "     Part_time  \n",
       "0          270  \n",
       "1          170  \n",
       "2          133  \n",
       "3          150  \n",
       "4         5180  \n",
       "..         ...  \n",
       "168       2190  \n",
       "169        572  \n",
       "170        648  \n",
       "171        965  \n",
       "172        237  \n",
       "\n",
       "[173 rows x 3 columns]"
      ]
     },
     "execution_count": 1336,
     "metadata": {},
     "output_type": "execute_result"
    }
   ],
   "source": [
    "# How many majors (all) are working a part-time or full-time job?\n",
    "important = ['Major','Major_category','Part_time']\n",
    "DF_raw[important]"
   ]
  },
  {
   "cell_type": "code",
   "execution_count": 1337,
   "id": "412ab661-01a4-426f-be3b-72aebdcfab54",
   "metadata": {},
   "outputs": [
    {
     "data": {
      "application/vnd.plotly.v1+json": {
       "config": {
        "plotlyServerURL": "https://plot.ly"
       },
       "data": [
        {
         "customdata": [
          [
           "PETROLEUM ENGINEERING"
          ],
          [
           "MINING AND MINERAL ENGINEERING"
          ],
          [
           "METALLURGICAL ENGINEERING"
          ],
          [
           "NAVAL ARCHITECTURE AND MARINE ENGINEERING"
          ],
          [
           "CHEMICAL ENGINEERING"
          ],
          [
           "NUCLEAR ENGINEERING"
          ],
          [
           "ACTUARIAL SCIENCE"
          ],
          [
           "ASTRONOMY AND ASTROPHYSICS"
          ],
          [
           "MECHANICAL ENGINEERING"
          ],
          [
           "ELECTRICAL ENGINEERING"
          ],
          [
           "COMPUTER ENGINEERING"
          ],
          [
           "AEROSPACE ENGINEERING"
          ],
          [
           "BIOMEDICAL ENGINEERING"
          ],
          [
           "MATERIALS SCIENCE"
          ],
          [
           "ENGINEERING MECHANICS PHYSICS AND SCIENCE"
          ],
          [
           "BIOLOGICAL ENGINEERING"
          ],
          [
           "INDUSTRIAL AND MANUFACTURING ENGINEERING"
          ],
          [
           "GENERAL ENGINEERING"
          ],
          [
           "ARCHITECTURAL ENGINEERING"
          ],
          [
           "COURT REPORTING"
          ],
          [
           "COMPUTER SCIENCE"
          ],
          [
           "FOOD SCIENCE"
          ],
          [
           "ELECTRICAL ENGINEERING TECHNOLOGY"
          ],
          [
           "MATERIALS ENGINEERING AND MATERIALS SCIENCE"
          ],
          [
           "MANAGEMENT INFORMATION SYSTEMS AND STATISTICS"
          ],
          [
           "CIVIL ENGINEERING"
          ],
          [
           "CONSTRUCTION SERVICES"
          ],
          [
           "OPERATIONS LOGISTICS AND E-COMMERCE"
          ],
          [
           "MISCELLANEOUS ENGINEERING"
          ],
          [
           "PUBLIC POLICY"
          ],
          [
           "ENVIRONMENTAL ENGINEERING"
          ],
          [
           "ENGINEERING TECHNOLOGIES"
          ],
          [
           "MISCELLANEOUS FINE ARTS"
          ],
          [
           "GEOLOGICAL AND GEOPHYSICAL ENGINEERING"
          ],
          [
           "NURSING"
          ],
          [
           "FINANCE"
          ],
          [
           "ECONOMICS"
          ],
          [
           "BUSINESS ECONOMICS"
          ],
          [
           "INDUSTRIAL PRODUCTION TECHNOLOGIES"
          ],
          [
           "NUCLEAR, INDUSTRIAL RADIOLOGY, AND BIOLOGICAL TECHNOLOGIES"
          ],
          [
           "ACCOUNTING"
          ],
          [
           "MATHEMATICS"
          ],
          [
           "COMPUTER AND INFORMATION SYSTEMS"
          ],
          [
           "PHYSICS"
          ],
          [
           "MEDICAL TECHNOLOGIES TECHNICIANS"
          ],
          [
           "INFORMATION SCIENCES"
          ],
          [
           "STATISTICS AND DECISION SCIENCE"
          ],
          [
           "APPLIED MATHEMATICS"
          ],
          [
           "PHARMACOLOGY"
          ],
          [
           "OCEANOGRAPHY"
          ],
          [
           "ENGINEERING AND INDUSTRIAL MANAGEMENT"
          ],
          [
           "MEDICAL ASSISTING SERVICES"
          ],
          [
           "MATHEMATICS AND COMPUTER SCIENCE"
          ],
          [
           "COMPUTER PROGRAMMING AND DATA PROCESSING"
          ],
          [
           "COGNITIVE SCIENCE AND BIOPSYCHOLOGY"
          ],
          [
           "SCHOOL STUDENT COUNSELING"
          ],
          [
           "INTERNATIONAL RELATIONS"
          ],
          [
           "GENERAL BUSINESS"
          ],
          [
           "ARCHITECTURE"
          ],
          [
           "INTERNATIONAL BUSINESS"
          ],
          [
           "PHARMACY PHARMACEUTICAL SCIENCES AND ADMINISTRATION"
          ],
          [
           "MOLECULAR BIOLOGY"
          ],
          [
           "MISCELLANEOUS BUSINESS & MEDICAL ADMINISTRATION"
          ],
          [
           "AGRICULTURE PRODUCTION AND MANAGEMENT"
          ],
          [
           "GENERAL AGRICULTURE"
          ],
          [
           "MISCELLANEOUS ENGINEERING TECHNOLOGIES"
          ],
          [
           "MECHANICAL ENGINEERING RELATED TECHNOLOGIES"
          ],
          [
           "GENETICS"
          ],
          [
           "MISCELLANEOUS SOCIAL SCIENCES"
          ],
          [
           "UNITED STATES HISTORY"
          ],
          [
           "INDUSTRIAL AND ORGANIZATIONAL PSYCHOLOGY"
          ],
          [
           "AGRICULTURAL ECONOMICS"
          ],
          [
           "PHYSICAL SCIENCES"
          ],
          [
           "MILITARY TECHNOLOGIES"
          ],
          [
           "CHEMISTRY"
          ],
          [
           "ELECTRICAL, MECHANICAL, AND PRECISION TECHNOLOGIES AND PRODUCTION"
          ],
          [
           "BUSINESS MANAGEMENT AND ADMINISTRATION"
          ],
          [
           "MARKETING AND MARKETING RESEARCH"
          ],
          [
           "POLITICAL SCIENCE AND GOVERNMENT"
          ],
          [
           "GEOGRAPHY"
          ],
          [
           "MICROBIOLOGY"
          ],
          [
           "COMPUTER ADMINISTRATION MANAGEMENT AND SECURITY"
          ],
          [
           "BIOCHEMICAL SCIENCES"
          ],
          [
           "BOTANY"
          ],
          [
           "COMPUTER NETWORKING AND TELECOMMUNICATIONS"
          ],
          [
           "GEOLOGY AND EARTH SCIENCE"
          ],
          [
           "HUMAN RESOURCES AND PERSONNEL MANAGEMENT"
          ],
          [
           "PRE-LAW AND LEGAL STUDIES"
          ],
          [
           "MISCELLANEOUS HEALTH MEDICAL PROFESSIONS"
          ],
          [
           "PUBLIC ADMINISTRATION"
          ],
          [
           "GEOSCIENCES"
          ],
          [
           "SOCIAL PSYCHOLOGY"
          ],
          [
           "ENVIRONMENTAL SCIENCE"
          ],
          [
           "COMMUNICATIONS"
          ],
          [
           "CRIMINAL JUSTICE AND FIRE PROTECTION"
          ],
          [
           "COMMERCIAL ART AND GRAPHIC DESIGN"
          ],
          [
           "JOURNALISM"
          ],
          [
           "MULTI-DISCIPLINARY OR GENERAL SCIENCE"
          ],
          [
           "ADVERTISING AND PUBLIC RELATIONS"
          ],
          [
           "AREA ETHNIC AND CIVILIZATION STUDIES"
          ],
          [
           "SPECIAL NEEDS EDUCATION"
          ],
          [
           "PHYSIOLOGY"
          ],
          [
           "CRIMINOLOGY"
          ],
          [
           "NUTRITION SCIENCES"
          ],
          [
           "HEALTH AND MEDICAL ADMINISTRATIVE SERVICES"
          ],
          [
           "COMMUNICATION TECHNOLOGIES"
          ],
          [
           "TRANSPORTATION SCIENCES AND TECHNOLOGIES"
          ],
          [
           "NATURAL RESOURCES MANAGEMENT"
          ],
          [
           "NEUROSCIENCE"
          ],
          [
           "MULTI/INTERDISCIPLINARY STUDIES"
          ],
          [
           "ATMOSPHERIC SCIENCES AND METEOROLOGY"
          ],
          [
           "FORESTRY"
          ],
          [
           "SOIL SCIENCE"
          ],
          [
           "GENERAL EDUCATION"
          ],
          [
           "HISTORY"
          ],
          [
           "FRENCH GERMAN LATIN AND OTHER COMMON FOREIGN LANGUAGE STUDIES"
          ],
          [
           "INTERCULTURAL AND INTERNATIONAL STUDIES"
          ],
          [
           "SOCIAL SCIENCE OR HISTORY TEACHER EDUCATION"
          ],
          [
           "COMMUNITY AND PUBLIC HEALTH"
          ],
          [
           "MATHEMATICS TEACHER EDUCATION"
          ],
          [
           "EDUCATIONAL ADMINISTRATION AND SUPERVISION"
          ],
          [
           "HEALTH AND MEDICAL PREPARATORY PROGRAMS"
          ],
          [
           "MISCELLANEOUS BIOLOGY"
          ],
          [
           "BIOLOGY"
          ],
          [
           "SOCIOLOGY"
          ],
          [
           "MASS MEDIA"
          ],
          [
           "TREATMENT THERAPY PROFESSIONS"
          ],
          [
           "HOSPITALITY MANAGEMENT"
          ],
          [
           "LANGUAGE AND DRAMA EDUCATION"
          ],
          [
           "LINGUISTICS AND COMPARATIVE LANGUAGE AND LITERATURE"
          ],
          [
           "MISCELLANEOUS EDUCATION"
          ],
          [
           "INTERDISCIPLINARY SOCIAL SCIENCES"
          ],
          [
           "ECOLOGY"
          ],
          [
           "SECONDARY TEACHER EDUCATION"
          ],
          [
           "GENERAL MEDICAL AND HEALTH SERVICES"
          ],
          [
           "PHILOSOPHY AND RELIGIOUS STUDIES"
          ],
          [
           "ART AND MUSIC EDUCATION"
          ],
          [
           "ENGLISH LANGUAGE AND LITERATURE"
          ],
          [
           "ELEMENTARY EDUCATION"
          ],
          [
           "PHYSICAL FITNESS PARKS RECREATION AND LEISURE"
          ],
          [
           "LIBERAL ARTS"
          ],
          [
           "FILM VIDEO AND PHOTOGRAPHIC ARTS"
          ],
          [
           "GENERAL SOCIAL SCIENCES"
          ],
          [
           "PLANT SCIENCE AND AGRONOMY"
          ],
          [
           "SCIENCE AND COMPUTER TEACHER EDUCATION"
          ],
          [
           "PSYCHOLOGY"
          ],
          [
           "MUSIC"
          ],
          [
           "PHYSICAL AND HEALTH EDUCATION TEACHING"
          ],
          [
           "ART HISTORY AND CRITICISM"
          ],
          [
           "FINE ARTS"
          ],
          [
           "FAMILY AND CONSUMER SCIENCES"
          ],
          [
           "SOCIAL WORK"
          ],
          [
           "ANIMAL SCIENCES"
          ],
          [
           "VISUAL AND PERFORMING ARTS"
          ],
          [
           "TEACHER EDUCATION: MULTIPLE LEVELS"
          ],
          [
           "MISCELLANEOUS PSYCHOLOGY"
          ],
          [
           "HUMAN SERVICES AND COMMUNITY ORGANIZATION"
          ],
          [
           "HUMANITIES"
          ],
          [
           "THEOLOGY AND RELIGIOUS VOCATIONS"
          ],
          [
           "STUDIO ARTS"
          ],
          [
           "COSMETOLOGY SERVICES AND CULINARY ARTS"
          ],
          [
           "MISCELLANEOUS AGRICULTURE"
          ],
          [
           "ANTHROPOLOGY AND ARCHEOLOGY"
          ],
          [
           "COMMUNICATION DISORDERS SCIENCES AND SERVICES"
          ],
          [
           "EARLY CHILDHOOD EDUCATION"
          ],
          [
           "OTHER FOREIGN LANGUAGES"
          ],
          [
           "DRAMA AND THEATER ARTS"
          ],
          [
           "COMPOSITION AND RHETORIC"
          ],
          [
           "ZOOLOGY"
          ],
          [
           "EDUCATIONAL PSYCHOLOGY"
          ],
          [
           "CLINICAL PSYCHOLOGY"
          ],
          [
           "COUNSELING PSYCHOLOGY"
          ],
          [
           "LIBRARY SCIENCE"
          ]
         ],
         "hovertemplate": "Part_time=%{x}<br>Full_time=%{y}<br>Major=%{customdata[0]}<extra></extra>",
         "legendgroup": "",
         "marker": {
          "color": "#636efa",
          "symbol": "circle"
         },
         "mode": "markers",
         "name": "",
         "orientation": "v",
         "showlegend": false,
         "type": "scatter",
         "x": [
          270,
          170,
          133,
          150,
          5180,
          264,
          296,
          553,
          13101,
          12695,
          5146,
          2724,
          2694,
          878,
          811,
          1983,
          2243,
          7199,
          343,
          223,
          18726,
          1121,
          1873,
          1040,
          2420,
          10080,
          1751,
          1183,
          1662,
          1306,
          930,
          689,
          1067,
          126,
          40818,
          21463,
          25325,
          1937,
          597,
          579,
          27693,
          18079,
          4332,
          8721,
          2665,
          1468,
          1840,
          1176,
          532,
          379,
          462,
          4107,
          0,
          482,
          711,
          135,
          5563,
          36241,
          10206,
          4890,
          5346,
          4590,
          3366,
          2196,
          2031,
          1240,
          247,
          847,
          907,
          839,
          1095,
          620,
          437,
          0,
          15066,
          287,
          50357,
          35829,
          43711,
          5651,
          3379,
          1030,
          9948,
          169,
          1447,
          2913,
          3767,
          3595,
          4145,
          847,
          354,
          433,
          7071,
          49889,
          32242,
          24387,
          15902,
          13133,
          10948,
          9541,
          5153,
          6541,
          4543,
          6648,
          3299,
          4690,
          2633,
          2613,
          3078,
          3173,
          1309,
          891,
          185,
          29558,
          40657,
          14569,
          7978,
          5168,
          6377,
          2273,
          0,
          3891,
          2568,
          72371,
          29639,
          13078,
          12346,
          7494,
          7239,
          4831,
          2202,
          2834,
          2741,
          3782,
          11088,
          16659,
          9209,
          57825,
          37965,
          38515,
          19187,
          12818,
          3396,
          1246,
          1227,
          115172,
          24943,
          7230,
          6140,
          23656,
          15872,
          13481,
          5353,
          6253,
          2214,
          3221,
          2405,
          2225,
          8767,
          5673,
          2064,
          335,
          14515,
          13862,
          7001,
          3685,
          15994,
          6612,
          2190,
          572,
          648,
          965,
          237
         ],
         "xaxis": "x",
         "y": [
          1849,
          556,
          558,
          1069,
          23170,
          2038,
          2924,
          1085,
          71298,
          55450,
          30315,
          11106,
          9017,
          2751,
          2999,
          5455,
          14879,
          41235,
          2277,
          808,
          91485,
          2558,
          7530,
          1658,
          15141,
          38302,
          15690,
          9639,
          6811,
          4163,
          2384,
          2257,
          2049,
          524,
          151191,
          137921,
          96567,
          10048,
          3988,
          1392,
          151967,
          46399,
          26348,
          19428,
          11510,
          9105,
          3190,
          3465,
          657,
          1931,
          1992,
          5643,
          584,
          3204,
          2470,
          595,
          18681,
          171385,
          29223,
          17563,
          12537,
          9441,
          13364,
          11119,
          7589,
          7001,
          4175,
          1787,
          2183,
          2103,
          1644,
          1819,
          768,
          111,
          39509,
          2057,
          251540,
          156668,
          117709,
          11367,
          7453,
          6289,
          20643,
          946,
          5495,
          6966,
          18550,
          7851,
          7514,
          4148,
          1264,
          828,
          16987,
          147335,
          109970,
          67448,
          51411,
          37850,
          38815,
          18755,
          21584,
          10732,
          13616,
          9601,
          13534,
          11981,
          11688,
          10722,
          8027,
          8032,
          2659,
          2473,
          488,
          98408,
          84681,
          29340,
          14354,
          14002,
          10099,
          11259,
          733,
          5029,
          6076,
          144512,
          73475,
          35769,
          30020,
          32160,
          21419,
          8462,
          7264,
          5843,
          5603,
          12520,
          18166,
          31086,
          23018,
          114386,
          123177,
          77428,
          43401,
          22457,
          7700,
          5798,
          4764,
          233205,
          29010,
          19420,
          13262,
          42764,
          36747,
          34941,
          14479,
          8447,
          11734,
          5201,
          6455,
          3565,
          18079,
          10451,
          7662,
          1098,
          20147,
          19975,
          27569,
          5197,
          25147,
          10121,
          5043,
          1848,
          1724,
          3154,
          593
         ],
         "yaxis": "y"
        }
       ],
       "layout": {
        "autosize": true,
        "legend": {
         "tracegroupgap": 0
        },
        "margin": {
         "t": 60
        },
        "template": {
         "data": {
          "bar": [
           {
            "error_x": {
             "color": "#2a3f5f"
            },
            "error_y": {
             "color": "#2a3f5f"
            },
            "marker": {
             "line": {
              "color": "#E5ECF6",
              "width": 0.5
             },
             "pattern": {
              "fillmode": "overlay",
              "size": 10,
              "solidity": 0.2
             }
            },
            "type": "bar"
           }
          ],
          "barpolar": [
           {
            "marker": {
             "line": {
              "color": "#E5ECF6",
              "width": 0.5
             },
             "pattern": {
              "fillmode": "overlay",
              "size": 10,
              "solidity": 0.2
             }
            },
            "type": "barpolar"
           }
          ],
          "carpet": [
           {
            "aaxis": {
             "endlinecolor": "#2a3f5f",
             "gridcolor": "white",
             "linecolor": "white",
             "minorgridcolor": "white",
             "startlinecolor": "#2a3f5f"
            },
            "baxis": {
             "endlinecolor": "#2a3f5f",
             "gridcolor": "white",
             "linecolor": "white",
             "minorgridcolor": "white",
             "startlinecolor": "#2a3f5f"
            },
            "type": "carpet"
           }
          ],
          "choropleth": [
           {
            "colorbar": {
             "outlinewidth": 0,
             "ticks": ""
            },
            "type": "choropleth"
           }
          ],
          "contour": [
           {
            "colorbar": {
             "outlinewidth": 0,
             "ticks": ""
            },
            "colorscale": [
             [
              0,
              "#0d0887"
             ],
             [
              0.1111111111111111,
              "#46039f"
             ],
             [
              0.2222222222222222,
              "#7201a8"
             ],
             [
              0.3333333333333333,
              "#9c179e"
             ],
             [
              0.4444444444444444,
              "#bd3786"
             ],
             [
              0.5555555555555556,
              "#d8576b"
             ],
             [
              0.6666666666666666,
              "#ed7953"
             ],
             [
              0.7777777777777778,
              "#fb9f3a"
             ],
             [
              0.8888888888888888,
              "#fdca26"
             ],
             [
              1,
              "#f0f921"
             ]
            ],
            "type": "contour"
           }
          ],
          "contourcarpet": [
           {
            "colorbar": {
             "outlinewidth": 0,
             "ticks": ""
            },
            "type": "contourcarpet"
           }
          ],
          "heatmap": [
           {
            "colorbar": {
             "outlinewidth": 0,
             "ticks": ""
            },
            "colorscale": [
             [
              0,
              "#0d0887"
             ],
             [
              0.1111111111111111,
              "#46039f"
             ],
             [
              0.2222222222222222,
              "#7201a8"
             ],
             [
              0.3333333333333333,
              "#9c179e"
             ],
             [
              0.4444444444444444,
              "#bd3786"
             ],
             [
              0.5555555555555556,
              "#d8576b"
             ],
             [
              0.6666666666666666,
              "#ed7953"
             ],
             [
              0.7777777777777778,
              "#fb9f3a"
             ],
             [
              0.8888888888888888,
              "#fdca26"
             ],
             [
              1,
              "#f0f921"
             ]
            ],
            "type": "heatmap"
           }
          ],
          "heatmapgl": [
           {
            "colorbar": {
             "outlinewidth": 0,
             "ticks": ""
            },
            "colorscale": [
             [
              0,
              "#0d0887"
             ],
             [
              0.1111111111111111,
              "#46039f"
             ],
             [
              0.2222222222222222,
              "#7201a8"
             ],
             [
              0.3333333333333333,
              "#9c179e"
             ],
             [
              0.4444444444444444,
              "#bd3786"
             ],
             [
              0.5555555555555556,
              "#d8576b"
             ],
             [
              0.6666666666666666,
              "#ed7953"
             ],
             [
              0.7777777777777778,
              "#fb9f3a"
             ],
             [
              0.8888888888888888,
              "#fdca26"
             ],
             [
              1,
              "#f0f921"
             ]
            ],
            "type": "heatmapgl"
           }
          ],
          "histogram": [
           {
            "marker": {
             "pattern": {
              "fillmode": "overlay",
              "size": 10,
              "solidity": 0.2
             }
            },
            "type": "histogram"
           }
          ],
          "histogram2d": [
           {
            "colorbar": {
             "outlinewidth": 0,
             "ticks": ""
            },
            "colorscale": [
             [
              0,
              "#0d0887"
             ],
             [
              0.1111111111111111,
              "#46039f"
             ],
             [
              0.2222222222222222,
              "#7201a8"
             ],
             [
              0.3333333333333333,
              "#9c179e"
             ],
             [
              0.4444444444444444,
              "#bd3786"
             ],
             [
              0.5555555555555556,
              "#d8576b"
             ],
             [
              0.6666666666666666,
              "#ed7953"
             ],
             [
              0.7777777777777778,
              "#fb9f3a"
             ],
             [
              0.8888888888888888,
              "#fdca26"
             ],
             [
              1,
              "#f0f921"
             ]
            ],
            "type": "histogram2d"
           }
          ],
          "histogram2dcontour": [
           {
            "colorbar": {
             "outlinewidth": 0,
             "ticks": ""
            },
            "colorscale": [
             [
              0,
              "#0d0887"
             ],
             [
              0.1111111111111111,
              "#46039f"
             ],
             [
              0.2222222222222222,
              "#7201a8"
             ],
             [
              0.3333333333333333,
              "#9c179e"
             ],
             [
              0.4444444444444444,
              "#bd3786"
             ],
             [
              0.5555555555555556,
              "#d8576b"
             ],
             [
              0.6666666666666666,
              "#ed7953"
             ],
             [
              0.7777777777777778,
              "#fb9f3a"
             ],
             [
              0.8888888888888888,
              "#fdca26"
             ],
             [
              1,
              "#f0f921"
             ]
            ],
            "type": "histogram2dcontour"
           }
          ],
          "mesh3d": [
           {
            "colorbar": {
             "outlinewidth": 0,
             "ticks": ""
            },
            "type": "mesh3d"
           }
          ],
          "parcoords": [
           {
            "line": {
             "colorbar": {
              "outlinewidth": 0,
              "ticks": ""
             }
            },
            "type": "parcoords"
           }
          ],
          "pie": [
           {
            "automargin": true,
            "type": "pie"
           }
          ],
          "scatter": [
           {
            "fillpattern": {
             "fillmode": "overlay",
             "size": 10,
             "solidity": 0.2
            },
            "type": "scatter"
           }
          ],
          "scatter3d": [
           {
            "line": {
             "colorbar": {
              "outlinewidth": 0,
              "ticks": ""
             }
            },
            "marker": {
             "colorbar": {
              "outlinewidth": 0,
              "ticks": ""
             }
            },
            "type": "scatter3d"
           }
          ],
          "scattercarpet": [
           {
            "marker": {
             "colorbar": {
              "outlinewidth": 0,
              "ticks": ""
             }
            },
            "type": "scattercarpet"
           }
          ],
          "scattergeo": [
           {
            "marker": {
             "colorbar": {
              "outlinewidth": 0,
              "ticks": ""
             }
            },
            "type": "scattergeo"
           }
          ],
          "scattergl": [
           {
            "marker": {
             "colorbar": {
              "outlinewidth": 0,
              "ticks": ""
             }
            },
            "type": "scattergl"
           }
          ],
          "scattermapbox": [
           {
            "marker": {
             "colorbar": {
              "outlinewidth": 0,
              "ticks": ""
             }
            },
            "type": "scattermapbox"
           }
          ],
          "scatterpolar": [
           {
            "marker": {
             "colorbar": {
              "outlinewidth": 0,
              "ticks": ""
             }
            },
            "type": "scatterpolar"
           }
          ],
          "scatterpolargl": [
           {
            "marker": {
             "colorbar": {
              "outlinewidth": 0,
              "ticks": ""
             }
            },
            "type": "scatterpolargl"
           }
          ],
          "scatterternary": [
           {
            "marker": {
             "colorbar": {
              "outlinewidth": 0,
              "ticks": ""
             }
            },
            "type": "scatterternary"
           }
          ],
          "surface": [
           {
            "colorbar": {
             "outlinewidth": 0,
             "ticks": ""
            },
            "colorscale": [
             [
              0,
              "#0d0887"
             ],
             [
              0.1111111111111111,
              "#46039f"
             ],
             [
              0.2222222222222222,
              "#7201a8"
             ],
             [
              0.3333333333333333,
              "#9c179e"
             ],
             [
              0.4444444444444444,
              "#bd3786"
             ],
             [
              0.5555555555555556,
              "#d8576b"
             ],
             [
              0.6666666666666666,
              "#ed7953"
             ],
             [
              0.7777777777777778,
              "#fb9f3a"
             ],
             [
              0.8888888888888888,
              "#fdca26"
             ],
             [
              1,
              "#f0f921"
             ]
            ],
            "type": "surface"
           }
          ],
          "table": [
           {
            "cells": {
             "fill": {
              "color": "#EBF0F8"
             },
             "line": {
              "color": "white"
             }
            },
            "header": {
             "fill": {
              "color": "#C8D4E3"
             },
             "line": {
              "color": "white"
             }
            },
            "type": "table"
           }
          ]
         },
         "layout": {
          "annotationdefaults": {
           "arrowcolor": "#2a3f5f",
           "arrowhead": 0,
           "arrowwidth": 1
          },
          "autotypenumbers": "strict",
          "coloraxis": {
           "colorbar": {
            "outlinewidth": 0,
            "ticks": ""
           }
          },
          "colorscale": {
           "diverging": [
            [
             0,
             "#8e0152"
            ],
            [
             0.1,
             "#c51b7d"
            ],
            [
             0.2,
             "#de77ae"
            ],
            [
             0.3,
             "#f1b6da"
            ],
            [
             0.4,
             "#fde0ef"
            ],
            [
             0.5,
             "#f7f7f7"
            ],
            [
             0.6,
             "#e6f5d0"
            ],
            [
             0.7,
             "#b8e186"
            ],
            [
             0.8,
             "#7fbc41"
            ],
            [
             0.9,
             "#4d9221"
            ],
            [
             1,
             "#276419"
            ]
           ],
           "sequential": [
            [
             0,
             "#0d0887"
            ],
            [
             0.1111111111111111,
             "#46039f"
            ],
            [
             0.2222222222222222,
             "#7201a8"
            ],
            [
             0.3333333333333333,
             "#9c179e"
            ],
            [
             0.4444444444444444,
             "#bd3786"
            ],
            [
             0.5555555555555556,
             "#d8576b"
            ],
            [
             0.6666666666666666,
             "#ed7953"
            ],
            [
             0.7777777777777778,
             "#fb9f3a"
            ],
            [
             0.8888888888888888,
             "#fdca26"
            ],
            [
             1,
             "#f0f921"
            ]
           ],
           "sequentialminus": [
            [
             0,
             "#0d0887"
            ],
            [
             0.1111111111111111,
             "#46039f"
            ],
            [
             0.2222222222222222,
             "#7201a8"
            ],
            [
             0.3333333333333333,
             "#9c179e"
            ],
            [
             0.4444444444444444,
             "#bd3786"
            ],
            [
             0.5555555555555556,
             "#d8576b"
            ],
            [
             0.6666666666666666,
             "#ed7953"
            ],
            [
             0.7777777777777778,
             "#fb9f3a"
            ],
            [
             0.8888888888888888,
             "#fdca26"
            ],
            [
             1,
             "#f0f921"
            ]
           ]
          },
          "colorway": [
           "#636efa",
           "#EF553B",
           "#00cc96",
           "#ab63fa",
           "#FFA15A",
           "#19d3f3",
           "#FF6692",
           "#B6E880",
           "#FF97FF",
           "#FECB52"
          ],
          "font": {
           "color": "#2a3f5f"
          },
          "geo": {
           "bgcolor": "white",
           "lakecolor": "white",
           "landcolor": "#E5ECF6",
           "showlakes": true,
           "showland": true,
           "subunitcolor": "white"
          },
          "hoverlabel": {
           "align": "left"
          },
          "hovermode": "closest",
          "mapbox": {
           "style": "light"
          },
          "paper_bgcolor": "white",
          "plot_bgcolor": "#E5ECF6",
          "polar": {
           "angularaxis": {
            "gridcolor": "white",
            "linecolor": "white",
            "ticks": ""
           },
           "bgcolor": "#E5ECF6",
           "radialaxis": {
            "gridcolor": "white",
            "linecolor": "white",
            "ticks": ""
           }
          },
          "scene": {
           "xaxis": {
            "backgroundcolor": "#E5ECF6",
            "gridcolor": "white",
            "gridwidth": 2,
            "linecolor": "white",
            "showbackground": true,
            "ticks": "",
            "zerolinecolor": "white"
           },
           "yaxis": {
            "backgroundcolor": "#E5ECF6",
            "gridcolor": "white",
            "gridwidth": 2,
            "linecolor": "white",
            "showbackground": true,
            "ticks": "",
            "zerolinecolor": "white"
           },
           "zaxis": {
            "backgroundcolor": "#E5ECF6",
            "gridcolor": "white",
            "gridwidth": 2,
            "linecolor": "white",
            "showbackground": true,
            "ticks": "",
            "zerolinecolor": "white"
           }
          },
          "shapedefaults": {
           "line": {
            "color": "#2a3f5f"
           }
          },
          "ternary": {
           "aaxis": {
            "gridcolor": "white",
            "linecolor": "white",
            "ticks": ""
           },
           "baxis": {
            "gridcolor": "white",
            "linecolor": "white",
            "ticks": ""
           },
           "bgcolor": "#E5ECF6",
           "caxis": {
            "gridcolor": "white",
            "linecolor": "white",
            "ticks": ""
           }
          },
          "title": {
           "x": 0.05
          },
          "xaxis": {
           "automargin": true,
           "gridcolor": "white",
           "linecolor": "white",
           "ticks": "",
           "title": {
            "standoff": 15
           },
           "zerolinecolor": "white",
           "zerolinewidth": 2
          },
          "yaxis": {
           "automargin": true,
           "gridcolor": "white",
           "linecolor": "white",
           "ticks": "",
           "title": {
            "standoff": 15
           },
           "zerolinecolor": "white",
           "zerolinewidth": 2
          }
         }
        },
        "xaxis": {
         "anchor": "y",
         "autorange": true,
         "domain": [
          0,
          1
         ],
         "range": [
          -7329.533566162202,
          122501.53356616221
         ],
         "title": {
          "text": "Part_time"
         },
         "type": "linear"
        },
        "yaxis": {
         "anchor": "x",
         "autorange": true,
         "domain": [
          0,
          1
         ],
         "range": [
          -19356.599737532808,
          271007.5997375328
         ],
         "title": {
          "text": "Full_time"
         },
         "type": "linear"
        }
       }
      },
      "image/png": "[encoded data removed]",
      "text/html": [
       "<div>                            <div id=\"d0a752c4-1398-47f2-bf1e-fb95c21330ad\" class=\"plotly-graph-div\" style=\"height:525px; width:100%;\"></div>            <script type=\"text/javascript\">                require([\"plotly\"], function(Plotly) {                    window.PLOTLYENV=window.PLOTLYENV || {};                                    if (document.getElementById(\"d0a752c4-1398-47f2-bf1e-fb95c21330ad\")) {                    Plotly.newPlot(                        \"d0a752c4-1398-47f2-bf1e-fb95c21330ad\",                        [{\"customdata\":[[\"PETROLEUM ENGINEERING\"],[\"MINING AND MINERAL ENGINEERING\"],[\"METALLURGICAL ENGINEERING\"],[\"NAVAL ARCHITECTURE AND MARINE ENGINEERING\"],[\"CHEMICAL ENGINEERING\"],[\"NUCLEAR ENGINEERING\"],[\"ACTUARIAL SCIENCE\"],[\"ASTRONOMY AND ASTROPHYSICS\"],[\"MECHANICAL ENGINEERING\"],[\"ELECTRICAL ENGINEERING\"],[\"COMPUTER ENGINEERING\"],[\"AEROSPACE ENGINEERING\"],[\"BIOMEDICAL ENGINEERING\"],[\"MATERIALS SCIENCE\"],[\"ENGINEERING MECHANICS PHYSICS AND SCIENCE\"],[\"BIOLOGICAL ENGINEERING\"],[\"INDUSTRIAL AND MANUFACTURING ENGINEERING\"],[\"GENERAL ENGINEERING\"],[\"ARCHITECTURAL ENGINEERING\"],[\"COURT REPORTING\"],[\"COMPUTER SCIENCE\"],[\"FOOD SCIENCE\"],[\"ELECTRICAL ENGINEERING TECHNOLOGY\"],[\"MATERIALS ENGINEERING AND MATERIALS SCIENCE\"],[\"MANAGEMENT INFORMATION SYSTEMS AND STATISTICS\"],[\"CIVIL ENGINEERING\"],[\"CONSTRUCTION SERVICES\"],[\"OPERATIONS LOGISTICS AND E-COMMERCE\"],[\"MISCELLANEOUS ENGINEERING\"],[\"PUBLIC POLICY\"],[\"ENVIRONMENTAL ENGINEERING\"],[\"ENGINEERING TECHNOLOGIES\"],[\"MISCELLANEOUS FINE ARTS\"],[\"GEOLOGICAL AND GEOPHYSICAL ENGINEERING\"],[\"NURSING\"],[\"FINANCE\"],[\"ECONOMICS\"],[\"BUSINESS ECONOMICS\"],[\"INDUSTRIAL PRODUCTION TECHNOLOGIES\"],[\"NUCLEAR, INDUSTRIAL RADIOLOGY, AND BIOLOGICAL TECHNOLOGIES\"],[\"ACCOUNTING\"],[\"MATHEMATICS\"],[\"COMPUTER AND INFORMATION SYSTEMS\"],[\"PHYSICS\"],[\"MEDICAL TECHNOLOGIES TECHNICIANS\"],[\"INFORMATION SCIENCES\"],[\"STATISTICS AND DECISION SCIENCE\"],[\"APPLIED MATHEMATICS\"],[\"PHARMACOLOGY\"],[\"OCEANOGRAPHY\"],[\"ENGINEERING AND INDUSTRIAL MANAGEMENT\"],[\"MEDICAL ASSISTING SERVICES\"],[\"MATHEMATICS AND COMPUTER SCIENCE\"],[\"COMPUTER PROGRAMMING AND DATA PROCESSING\"],[\"COGNITIVE SCIENCE AND BIOPSYCHOLOGY\"],[\"SCHOOL STUDENT COUNSELING\"],[\"INTERNATIONAL RELATIONS\"],[\"GENERAL BUSINESS\"],[\"ARCHITECTURE\"],[\"INTERNATIONAL BUSINESS\"],[\"PHARMACY PHARMACEUTICAL SCIENCES AND ADMINISTRATION\"],[\"MOLECULAR BIOLOGY\"],[\"MISCELLANEOUS BUSINESS & MEDICAL ADMINISTRATION\"],[\"AGRICULTURE PRODUCTION AND MANAGEMENT\"],[\"GENERAL AGRICULTURE\"],[\"MISCELLANEOUS ENGINEERING TECHNOLOGIES\"],[\"MECHANICAL ENGINEERING RELATED TECHNOLOGIES\"],[\"GENETICS\"],[\"MISCELLANEOUS SOCIAL SCIENCES\"],[\"UNITED STATES HISTORY\"],[\"INDUSTRIAL AND ORGANIZATIONAL PSYCHOLOGY\"],[\"AGRICULTURAL ECONOMICS\"],[\"PHYSICAL SCIENCES\"],[\"MILITARY TECHNOLOGIES\"],[\"CHEMISTRY\"],[\"ELECTRICAL, MECHANICAL, AND PRECISION TECHNOLOGIES AND PRODUCTION\"],[\"BUSINESS MANAGEMENT AND ADMINISTRATION\"],[\"MARKETING AND MARKETING RESEARCH\"],[\"POLITICAL SCIENCE AND GOVERNMENT\"],[\"GEOGRAPHY\"],[\"MICROBIOLOGY\"],[\"COMPUTER ADMINISTRATION MANAGEMENT AND SECURITY\"],[\"BIOCHEMICAL SCIENCES\"],[\"BOTANY\"],[\"COMPUTER NETWORKING AND TELECOMMUNICATIONS\"],[\"GEOLOGY AND EARTH SCIENCE\"],[\"HUMAN RESOURCES AND PERSONNEL MANAGEMENT\"],[\"PRE-LAW AND LEGAL STUDIES\"],[\"MISCELLANEOUS HEALTH MEDICAL PROFESSIONS\"],[\"PUBLIC ADMINISTRATION\"],[\"GEOSCIENCES\"],[\"SOCIAL PSYCHOLOGY\"],[\"ENVIRONMENTAL SCIENCE\"],[\"COMMUNICATIONS\"],[\"CRIMINAL JUSTICE AND FIRE PROTECTION\"],[\"COMMERCIAL ART AND GRAPHIC DESIGN\"],[\"JOURNALISM\"],[\"MULTI-DISCIPLINARY OR GENERAL SCIENCE\"],[\"ADVERTISING AND PUBLIC RELATIONS\"],[\"AREA ETHNIC AND CIVILIZATION STUDIES\"],[\"SPECIAL NEEDS EDUCATION\"],[\"PHYSIOLOGY\"],[\"CRIMINOLOGY\"],[\"NUTRITION SCIENCES\"],[\"HEALTH AND MEDICAL ADMINISTRATIVE SERVICES\"],[\"COMMUNICATION TECHNOLOGIES\"],[\"TRANSPORTATION SCIENCES AND TECHNOLOGIES\"],[\"NATURAL RESOURCES MANAGEMENT\"],[\"NEUROSCIENCE\"],[\"MULTI\\u002fINTERDISCIPLINARY STUDIES\"],[\"ATMOSPHERIC SCIENCES AND METEOROLOGY\"],[\"FORESTRY\"],[\"SOIL SCIENCE\"],[\"GENERAL EDUCATION\"],[\"HISTORY\"],[\"FRENCH GERMAN LATIN AND OTHER COMMON FOREIGN LANGUAGE STUDIES\"],[\"INTERCULTURAL AND INTERNATIONAL STUDIES\"],[\"SOCIAL SCIENCE OR HISTORY TEACHER EDUCATION\"],[\"COMMUNITY AND PUBLIC HEALTH\"],[\"MATHEMATICS TEACHER EDUCATION\"],[\"EDUCATIONAL ADMINISTRATION AND SUPERVISION\"],[\"HEALTH AND MEDICAL PREPARATORY PROGRAMS\"],[\"MISCELLANEOUS BIOLOGY\"],[\"BIOLOGY\"],[\"SOCIOLOGY\"],[\"MASS MEDIA\"],[\"TREATMENT THERAPY PROFESSIONS\"],[\"HOSPITALITY MANAGEMENT\"],[\"LANGUAGE AND DRAMA EDUCATION\"],[\"LINGUISTICS AND COMPARATIVE LANGUAGE AND LITERATURE\"],[\"MISCELLANEOUS EDUCATION\"],[\"INTERDISCIPLINARY SOCIAL SCIENCES\"],[\"ECOLOGY\"],[\"SECONDARY TEACHER EDUCATION\"],[\"GENERAL MEDICAL AND HEALTH SERVICES\"],[\"PHILOSOPHY AND RELIGIOUS STUDIES\"],[\"ART AND MUSIC EDUCATION\"],[\"ENGLISH LANGUAGE AND LITERATURE\"],[\"ELEMENTARY EDUCATION\"],[\"PHYSICAL FITNESS PARKS RECREATION AND LEISURE\"],[\"LIBERAL ARTS\"],[\"FILM VIDEO AND PHOTOGRAPHIC ARTS\"],[\"GENERAL SOCIAL SCIENCES\"],[\"PLANT SCIENCE AND AGRONOMY\"],[\"SCIENCE AND COMPUTER TEACHER EDUCATION\"],[\"PSYCHOLOGY\"],[\"MUSIC\"],[\"PHYSICAL AND HEALTH EDUCATION TEACHING\"],[\"ART HISTORY AND CRITICISM\"],[\"FINE ARTS\"],[\"FAMILY AND CONSUMER SCIENCES\"],[\"SOCIAL WORK\"],[\"ANIMAL SCIENCES\"],[\"VISUAL AND PERFORMING ARTS\"],[\"TEACHER EDUCATION: MULTIPLE LEVELS\"],[\"MISCELLANEOUS PSYCHOLOGY\"],[\"HUMAN SERVICES AND COMMUNITY ORGANIZATION\"],[\"HUMANITIES\"],[\"THEOLOGY AND RELIGIOUS VOCATIONS\"],[\"STUDIO ARTS\"],[\"COSMETOLOGY SERVICES AND CULINARY ARTS\"],[\"MISCELLANEOUS AGRICULTURE\"],[\"ANTHROPOLOGY AND ARCHEOLOGY\"],[\"COMMUNICATION DISORDERS SCIENCES AND SERVICES\"],[\"EARLY CHILDHOOD EDUCATION\"],[\"OTHER FOREIGN LANGUAGES\"],[\"DRAMA AND THEATER ARTS\"],[\"COMPOSITION AND RHETORIC\"],[\"ZOOLOGY\"],[\"EDUCATIONAL PSYCHOLOGY\"],[\"CLINICAL PSYCHOLOGY\"],[\"COUNSELING PSYCHOLOGY\"],[\"LIBRARY SCIENCE\"]],\"hovertemplate\":\"Part_time=%{x}\\u003cbr\\u003eFull_time=%{y}\\u003cbr\\u003eMajor=%{customdata[0]}\\u003cextra\\u003e\\u003c\\u002fextra\\u003e\",\"legendgroup\":\"\",\"marker\":{\"color\":\"#636efa\",\"symbol\":\"circle\"},\"mode\":\"markers\",\"name\":\"\",\"orientation\":\"v\",\"showlegend\":false,\"x\":[270,170,133,150,5180,264,296,553,13101,12695,5146,2724,2694,878,811,1983,2243,7199,343,223,18726,1121,1873,1040,2420,10080,1751,1183,1662,1306,930,689,1067,126,40818,21463,25325,1937,597,579,27693,18079,4332,8721,2665,1468,1840,1176,532,379,462,4107,0,482,711,135,5563,36241,10206,4890,5346,4590,3366,2196,2031,1240,247,847,907,839,1095,620,437,0,15066,287,50357,35829,43711,5651,3379,1030,9948,169,1447,2913,3767,3595,4145,847,354,433,7071,49889,32242,24387,15902,13133,10948,9541,5153,6541,4543,6648,3299,4690,2633,2613,3078,3173,1309,891,185,29558,40657,14569,7978,5168,6377,2273,0,3891,2568,72371,29639,13078,12346,7494,7239,4831,2202,2834,2741,3782,11088,16659,9209,57825,37965,38515,19187,12818,3396,1246,1227,115172,24943,7230,6140,23656,15872,13481,5353,6253,2214,3221,2405,2225,8767,5673,2064,335,14515,13862,7001,3685,15994,6612,2190,572,648,965,237],\"xaxis\":\"x\",\"y\":[1849,556,558,1069,23170,2038,2924,1085,71298,55450,30315,11106,9017,2751,2999,5455,14879,41235,2277,808,91485,2558,7530,1658,15141,38302,15690,9639,6811,4163,2384,2257,2049,524,151191,137921,96567,10048,3988,1392,151967,46399,26348,19428,11510,9105,3190,3465,657,1931,1992,5643,584,3204,2470,595,18681,171385,29223,17563,12537,9441,13364,11119,7589,7001,4175,1787,2183,2103,1644,1819,768,111,39509,2057,251540,156668,117709,11367,7453,6289,20643,946,5495,6966,18550,7851,7514,4148,1264,828,16987,147335,109970,67448,51411,37850,38815,18755,21584,10732,13616,9601,13534,11981,11688,10722,8027,8032,2659,2473,488,98408,84681,29340,14354,14002,10099,11259,733,5029,6076,144512,73475,35769,30020,32160,21419,8462,7264,5843,5603,12520,18166,31086,23018,114386,123177,77428,43401,22457,7700,5798,4764,233205,29010,19420,13262,42764,36747,34941,14479,8447,11734,5201,6455,3565,18079,10451,7662,1098,20147,19975,27569,5197,25147,10121,5043,1848,1724,3154,593],\"yaxis\":\"y\",\"type\":\"scatter\"}],                        {\"template\":{\"data\":{\"histogram2dcontour\":[{\"type\":\"histogram2dcontour\",\"colorbar\":{\"outlinewidth\":0,\"ticks\":\"\"},\"colorscale\":[[0.0,\"#0d0887\"],[0.1111111111111111,\"#46039f\"],[0.2222222222222222,\"#7201a8\"],[0.3333333333333333,\"#9c179e\"],[0.4444444444444444,\"#bd3786\"],[0.5555555555555556,\"#d8576b\"],[0.6666666666666666,\"#ed7953\"],[0.7777777777777778,\"#fb9f3a\"],[0.8888888888888888,\"#fdca26\"],[1.0,\"#f0f921\"]]}],\"choropleth\":[{\"type\":\"choropleth\",\"colorbar\":{\"outlinewidth\":0,\"ticks\":\"\"}}],\"histogram2d\":[{\"type\":\"histogram2d\",\"colorbar\":{\"outlinewidth\":0,\"ticks\":\"\"},\"colorscale\":[[0.0,\"#0d0887\"],[0.1111111111111111,\"#46039f\"],[0.2222222222222222,\"#7201a8\"],[0.3333333333333333,\"#9c179e\"],[0.4444444444444444,\"#bd3786\"],[0.5555555555555556,\"#d8576b\"],[0.6666666666666666,\"#ed7953\"],[0.7777777777777778,\"#fb9f3a\"],[0.8888888888888888,\"#fdca26\"],[1.0,\"#f0f921\"]]}],\"heatmap\":[{\"type\":\"heatmap\",\"colorbar\":{\"outlinewidth\":0,\"ticks\":\"\"},\"colorscale\":[[0.0,\"#0d0887\"],[0.1111111111111111,\"#46039f\"],[0.2222222222222222,\"#7201a8\"],[0.3333333333333333,\"#9c179e\"],[0.4444444444444444,\"#bd3786\"],[0.5555555555555556,\"#d8576b\"],[0.6666666666666666,\"#ed7953\"],[0.7777777777777778,\"#fb9f3a\"],[0.8888888888888888,\"#fdca26\"],[1.0,\"#f0f921\"]]}],\"heatmapgl\":[{\"type\":\"heatmapgl\",\"colorbar\":{\"outlinewidth\":0,\"ticks\":\"\"},\"colorscale\":[[0.0,\"#0d0887\"],[0.1111111111111111,\"#46039f\"],[0.2222222222222222,\"#7201a8\"],[0.3333333333333333,\"#9c179e\"],[0.4444444444444444,\"#bd3786\"],[0.5555555555555556,\"#d8576b\"],[0.6666666666666666,\"#ed7953\"],[0.7777777777777778,\"#fb9f3a\"],[0.8888888888888888,\"#fdca26\"],[1.0,\"#f0f921\"]]}],\"contourcarpet\":[{\"type\":\"contourcarpet\",\"colorbar\":{\"outlinewidth\":0,\"ticks\":\"\"}}],\"contour\":[{\"type\":\"contour\",\"colorbar\":{\"outlinewidth\":0,\"ticks\":\"\"},\"colorscale\":[[0.0,\"#0d0887\"],[0.1111111111111111,\"#46039f\"],[0.2222222222222222,\"#7201a8\"],[0.3333333333333333,\"#9c179e\"],[0.4444444444444444,\"#bd3786\"],[0.5555555555555556,\"#d8576b\"],[0.6666666666666666,\"#ed7953\"],[0.7777777777777778,\"#fb9f3a\"],[0.8888888888888888,\"#fdca26\"],[1.0,\"#f0f921\"]]}],\"surface\":[{\"type\":\"surface\",\"colorbar\":{\"outlinewidth\":0,\"ticks\":\"\"},\"colorscale\":[[0.0,\"#0d0887\"],[0.1111111111111111,\"#46039f\"],[0.2222222222222222,\"#7201a8\"],[0.3333333333333333,\"#9c179e\"],[0.4444444444444444,\"#bd3786\"],[0.5555555555555556,\"#d8576b\"],[0.6666666666666666,\"#ed7953\"],[0.7777777777777778,\"#fb9f3a\"],[0.8888888888888888,\"#fdca26\"],[1.0,\"#f0f921\"]]}],\"mesh3d\":[{\"type\":\"mesh3d\",\"colorbar\":{\"outlinewidth\":0,\"ticks\":\"\"}}],\"scatter\":[{\"fillpattern\":{\"fillmode\":\"overlay\",\"size\":10,\"solidity\":0.2},\"type\":\"scatter\"}],\"parcoords\":[{\"type\":\"parcoords\",\"line\":{\"colorbar\":{\"outlinewidth\":0,\"ticks\":\"\"}}}],\"scatterpolargl\":[{\"type\":\"scatterpolargl\",\"marker\":{\"colorbar\":{\"outlinewidth\":0,\"ticks\":\"\"}}}],\"bar\":[{\"error_x\":{\"color\":\"#2a3f5f\"},\"error_y\":{\"color\":\"#2a3f5f\"},\"marker\":{\"line\":{\"color\":\"#E5ECF6\",\"width\":0.5},\"pattern\":{\"fillmode\":\"overlay\",\"size\":10,\"solidity\":0.2}},\"type\":\"bar\"}],\"scattergeo\":[{\"type\":\"scattergeo\",\"marker\":{\"colorbar\":{\"outlinewidth\":0,\"ticks\":\"\"}}}],\"scatterpolar\":[{\"type\":\"scatterpolar\",\"marker\":{\"colorbar\":{\"outlinewidth\":0,\"ticks\":\"\"}}}],\"histogram\":[{\"marker\":{\"pattern\":{\"fillmode\":\"overlay\",\"size\":10,\"solidity\":0.2}},\"type\":\"histogram\"}],\"scattergl\":[{\"type\":\"scattergl\",\"marker\":{\"colorbar\":{\"outlinewidth\":0,\"ticks\":\"\"}}}],\"scatter3d\":[{\"type\":\"scatter3d\",\"line\":{\"colorbar\":{\"outlinewidth\":0,\"ticks\":\"\"}},\"marker\":{\"colorbar\":{\"outlinewidth\":0,\"ticks\":\"\"}}}],\"scattermapbox\":[{\"type\":\"scattermapbox\",\"marker\":{\"colorbar\":{\"outlinewidth\":0,\"ticks\":\"\"}}}],\"scatterternary\":[{\"type\":\"scatterternary\",\"marker\":{\"colorbar\":{\"outlinewidth\":0,\"ticks\":\"\"}}}],\"scattercarpet\":[{\"type\":\"scattercarpet\",\"marker\":{\"colorbar\":{\"outlinewidth\":0,\"ticks\":\"\"}}}],\"carpet\":[{\"aaxis\":{\"endlinecolor\":\"#2a3f5f\",\"gridcolor\":\"white\",\"linecolor\":\"white\",\"minorgridcolor\":\"white\",\"startlinecolor\":\"#2a3f5f\"},\"baxis\":{\"endlinecolor\":\"#2a3f5f\",\"gridcolor\":\"white\",\"linecolor\":\"white\",\"minorgridcolor\":\"white\",\"startlinecolor\":\"#2a3f5f\"},\"type\":\"carpet\"}],\"table\":[{\"cells\":{\"fill\":{\"color\":\"#EBF0F8\"},\"line\":{\"color\":\"white\"}},\"header\":{\"fill\":{\"color\":\"#C8D4E3\"},\"line\":{\"color\":\"white\"}},\"type\":\"table\"}],\"barpolar\":[{\"marker\":{\"line\":{\"color\":\"#E5ECF6\",\"width\":0.5},\"pattern\":{\"fillmode\":\"overlay\",\"size\":10,\"solidity\":0.2}},\"type\":\"barpolar\"}],\"pie\":[{\"automargin\":true,\"type\":\"pie\"}]},\"layout\":{\"autotypenumbers\":\"strict\",\"colorway\":[\"#636efa\",\"#EF553B\",\"#00cc96\",\"#ab63fa\",\"#FFA15A\",\"#19d3f3\",\"#FF6692\",\"#B6E880\",\"#FF97FF\",\"#FECB52\"],\"font\":{\"color\":\"#2a3f5f\"},\"hovermode\":\"closest\",\"hoverlabel\":{\"align\":\"left\"},\"paper_bgcolor\":\"white\",\"plot_bgcolor\":\"#E5ECF6\",\"polar\":{\"bgcolor\":\"#E5ECF6\",\"angularaxis\":{\"gridcolor\":\"white\",\"linecolor\":\"white\",\"ticks\":\"\"},\"radialaxis\":{\"gridcolor\":\"white\",\"linecolor\":\"white\",\"ticks\":\"\"}},\"ternary\":{\"bgcolor\":\"#E5ECF6\",\"aaxis\":{\"gridcolor\":\"white\",\"linecolor\":\"white\",\"ticks\":\"\"},\"baxis\":{\"gridcolor\":\"white\",\"linecolor\":\"white\",\"ticks\":\"\"},\"caxis\":{\"gridcolor\":\"white\",\"linecolor\":\"white\",\"ticks\":\"\"}},\"coloraxis\":{\"colorbar\":{\"outlinewidth\":0,\"ticks\":\"\"}},\"colorscale\":{\"sequential\":[[0.0,\"#0d0887\"],[0.1111111111111111,\"#46039f\"],[0.2222222222222222,\"#7201a8\"],[0.3333333333333333,\"#9c179e\"],[0.4444444444444444,\"#bd3786\"],[0.5555555555555556,\"#d8576b\"],[0.6666666666666666,\"#ed7953\"],[0.7777777777777778,\"#fb9f3a\"],[0.8888888888888888,\"#fdca26\"],[1.0,\"#f0f921\"]],\"sequentialminus\":[[0.0,\"#0d0887\"],[0.1111111111111111,\"#46039f\"],[0.2222222222222222,\"#7201a8\"],[0.3333333333333333,\"#9c179e\"],[0.4444444444444444,\"#bd3786\"],[0.5555555555555556,\"#d8576b\"],[0.6666666666666666,\"#ed7953\"],[0.7777777777777778,\"#fb9f3a\"],[0.8888888888888888,\"#fdca26\"],[1.0,\"#f0f921\"]],\"diverging\":[[0,\"#8e0152\"],[0.1,\"#c51b7d\"],[0.2,\"#de77ae\"],[0.3,\"#f1b6da\"],[0.4,\"#fde0ef\"],[0.5,\"#f7f7f7\"],[0.6,\"#e6f5d0\"],[0.7,\"#b8e186\"],[0.8,\"#7fbc41\"],[0.9,\"#4d9221\"],[1,\"#276419\"]]},\"xaxis\":{\"gridcolor\":\"white\",\"linecolor\":\"white\",\"ticks\":\"\",\"title\":{\"standoff\":15},\"zerolinecolor\":\"white\",\"automargin\":true,\"zerolinewidth\":2},\"yaxis\":{\"gridcolor\":\"white\",\"linecolor\":\"white\",\"ticks\":\"\",\"title\":{\"standoff\":15},\"zerolinecolor\":\"white\",\"automargin\":true,\"zerolinewidth\":2},\"scene\":{\"xaxis\":{\"backgroundcolor\":\"#E5ECF6\",\"gridcolor\":\"white\",\"linecolor\":\"white\",\"showbackground\":true,\"ticks\":\"\",\"zerolinecolor\":\"white\",\"gridwidth\":2},\"yaxis\":{\"backgroundcolor\":\"#E5ECF6\",\"gridcolor\":\"white\",\"linecolor\":\"white\",\"showbackground\":true,\"ticks\":\"\",\"zerolinecolor\":\"white\",\"gridwidth\":2},\"zaxis\":{\"backgroundcolor\":\"#E5ECF6\",\"gridcolor\":\"white\",\"linecolor\":\"white\",\"showbackground\":true,\"ticks\":\"\",\"zerolinecolor\":\"white\",\"gridwidth\":2}},\"shapedefaults\":{\"line\":{\"color\":\"#2a3f5f\"}},\"annotationdefaults\":{\"arrowcolor\":\"#2a3f5f\",\"arrowhead\":0,\"arrowwidth\":1},\"geo\":{\"bgcolor\":\"white\",\"landcolor\":\"#E5ECF6\",\"subunitcolor\":\"white\",\"showland\":true,\"showlakes\":true,\"lakecolor\":\"white\"},\"title\":{\"x\":0.05},\"mapbox\":{\"style\":\"light\"}}},\"xaxis\":{\"anchor\":\"y\",\"domain\":[0.0,1.0],\"title\":{\"text\":\"Part_time\"}},\"yaxis\":{\"anchor\":\"x\",\"domain\":[0.0,1.0],\"title\":{\"text\":\"Full_time\"}},\"legend\":{\"tracegroupgap\":0},\"margin\":{\"t\":60}},                        {\"responsive\": true}                    ).then(function(){\n",
       "                            \n",
       "var gd = document.getElementById('d0a752c4-1398-47f2-bf1e-fb95c21330ad');\n",
       "var x = new MutationObserver(function (mutations, observer) {{\n",
       "        var display = window.getComputedStyle(gd).display;\n",
       "        if (!display || display === 'none') {{\n",
       "            console.log([gd, 'removed!']);\n",
       "            Plotly.purge(gd);\n",
       "            observer.disconnect();\n",
       "        }}\n",
       "}});\n",
       "\n",
       "// Listen for the removal of the full notebook cells\n",
       "var notebookContainer = gd.closest('#notebook-container');\n",
       "if (notebookContainer) {{\n",
       "    x.observe(notebookContainer, {childList: true});\n",
       "}}\n",
       "\n",
       "// Listen for the clearing of the current output cell\n",
       "var outputEl = gd.closest('.output');\n",
       "if (outputEl) {{\n",
       "    x.observe(outputEl, {childList: true});\n",
       "}}\n",
       "\n",
       "                        })                };                });            </script>        </div>"
      ]
     },
     "metadata": {},
     "output_type": "display_data"
    }
   ],
   "source": [
    "fig = px.scatter(DF_raw,\n",
    "                x='Part_time',\n",
    "                y='Full_time',\n",
    "                hover_data='Major')\n",
    "fig.show()"
   ]
  },
  {
   "cell_type": "markdown",
   "id": "0940ef30-6ee7-42c8-8747-80f4b2bb8e3f",
   "metadata": {},
   "source": [
    "#### Q4 (Practice Exam)\n",
    "##### On average, people with majors tend to work full-time as opposed to part-time."
   ]
  }
 ],
 "metadata": {
  "kernelspec": {
   "display_name": "Python 3 (ipykernel)",
   "language": "python",
   "name": "python3"
  },
  "language_info": {
   "codemirror_mode": {
    "name": "ipython",
    "version": 3
   },
   "file_extension": ".py",
   "mimetype": "text/x-python",
   "name": "python",
   "nbconvert_exporter": "python",
   "pygments_lexer": "ipython3",
   "version": "3.12.2"
  }
 },
 "nbformat": 4,
 "nbformat_minor": 5
}
